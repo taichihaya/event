{
  "nbformat": 4,
  "nbformat_minor": 0,
  "metadata": {
    "colab": {
      "name": "イベントスクリプト_正解率TOP5の算出.ipynb",
      "provenance": [],
      "collapsed_sections": [],
      "include_colab_link": true
    },
    "kernelspec": {
      "name": "python3",
      "display_name": "Python 3"
    },
    "accelerator": "GPU"
  },
  "cells": [
    {
      "cell_type": "markdown",
      "metadata": {
        "id": "view-in-github",
        "colab_type": "text"
      },
      "source": [
        "<a href=\"https://colab.research.google.com/github/taichihaya/event/blob/master/%E3%82%A4%E3%83%99%E3%83%B3%E3%83%88%E3%82%B9%E3%82%AF%E3%83%AA%E3%83%97%E3%83%88_%E6%AD%A3%E8%A7%A3%E7%8E%87TOP5%E3%81%AE%E7%AE%97%E5%87%BA.ipynb\" target=\"_parent\"><img src=\"https://colab.research.google.com/assets/colab-badge.svg\" alt=\"Open In Colab\"/></a>"
      ]
    },
    {
      "cell_type": "code",
      "metadata": {
        "id": "rwFW2wd4AjRz",
        "colab_type": "code",
        "colab": {}
      },
      "source": [
        "import pandas as pd\n",
        "from sklearn.tree import DecisionTreeClassifier\n",
        "import itertools\n",
        "from sklearn.model_selection import train_test_split"
      ],
      "execution_count": 0,
      "outputs": []
    },
    {
      "cell_type": "code",
      "metadata": {
        "id": "KP4ioVPs_88j",
        "colab_type": "code",
        "colab": {}
      },
      "source": [
        "\n",
        "###### データの取り込み ######\n",
        "\n",
        "modeling_data_url = 'https://raw.githubusercontent.com/taichihaya/event/master/modeling_data.csv'\n",
        "modeling_data = pd.read_csv(modeling_data_url, error_bad_lines=False)\n",
        "\n",
        "competition_data_url = 'https://raw.githubusercontent.com/taichihaya/event/master/competition_data.csv'\n",
        "competition_data = pd.read_csv(competition_data_url, error_bad_lines=False)\n",
        "\n",
        "selected_var_list = []\n",
        "train_accuracy_list = []\n",
        "test_accuracy_list = []\n",
        "competition_accuracy_list = []\n",
        "max_depth_list = []\n",
        "\n",
        "var_all = [i for i in modeling_data.columns if i!='ID' and i!='解約']\n",
        "\n",
        "for i in list(itertools.combinations(var_all,5)):\n",
        "  selected_data = modeling_data[list(i)]\n",
        "  competition_selected_data = competition_data[list(i)]\n",
        "  X_train, X_test, y_train, y_test = train_test_split(selected_data,modeling_data['解約'], random_state=11)\n",
        "\n",
        "  for max_depth in range(2,9):\n",
        "    max_depth_list.append(max_depth)\n",
        "\n",
        "    selected_data_str = ','.join(list(i))\n",
        "    selected_var_list.append(selected_data_str)\n",
        "    clf = DecisionTreeClassifier(max_depth=max_depth,random_state=11)\n",
        "    clf.fit(X_train, y_train)\n",
        "\n",
        "    train_accuracy_list.append(clf.score(X_train, y_train))\n",
        "    test_accuracy_list.append(clf.score(X_test, y_test))\n",
        "    competition_accuracy_list.append(clf.score(competition_selected_data, competition_data['解約']))"
      ],
      "execution_count": 0,
      "outputs": []
    },
    {
      "cell_type": "code",
      "metadata": {
        "id": "pHD1OoJjAHNv",
        "colab_type": "code",
        "colab": {}
      },
      "source": [
        " result_all = pd.DataFrame({\"変数の組み合わせ\":selected_var_list,\n",
        "                            '木の深さ':max_depth_list,\n",
        "                            'train正解率':train_accuracy_list,\n",
        "                            'test正解率':test_accuracy_list,\n",
        "                            'コンペ正解率':competition_accuracy_list})"
      ],
      "execution_count": 0,
      "outputs": []
    },
    {
      "cell_type": "code",
      "metadata": {
        "id": "vTh2n8nwEEJO",
        "colab_type": "code",
        "colab": {}
      },
      "source": [
        "result_all.sort_values(by= 'train正解率',ascending=False).head(5).to_csv('train_top5.csv')"
      ],
      "execution_count": 0,
      "outputs": []
    },
    {
      "cell_type": "code",
      "metadata": {
        "id": "NvCGSl2wIyFW",
        "colab_type": "code",
        "colab": {}
      },
      "source": [
        "result_all.sort_values(by= 'test正解率',ascending=False).head(5).to_csv('test_top5.csv')"
      ],
      "execution_count": 0,
      "outputs": []
    },
    {
      "cell_type": "code",
      "metadata": {
        "id": "ntAiLV6JMUX7",
        "colab_type": "code",
        "colab": {}
      },
      "source": [
        "result_all.sort_values(by= 'コンペ正解率',ascending=False).head(5).to_csv('competition_top5.csv')"
      ],
      "execution_count": 0,
      "outputs": []
    },
    {
      "cell_type": "code",
      "metadata": {
        "id": "HAC2ylUfJ7jM",
        "colab_type": "code",
        "colab": {
          "base_uri": "https://localhost:8080/",
          "height": 419
        },
        "outputId": "36b9377f-6c72-485b-b7b0-a987ea1c2fb4"
      },
      "source": [
        "result_all.sort_values(by= 'train正解率',ascending=False).head(7)"
      ],
      "execution_count": 34,
      "outputs": [
        {
          "output_type": "execute_result",
          "data": {
            "text/html": [
              "<div>\n",
              "<style scoped>\n",
              "    .dataframe tbody tr th:only-of-type {\n",
              "        vertical-align: middle;\n",
              "    }\n",
              "\n",
              "    .dataframe tbody tr th {\n",
              "        vertical-align: top;\n",
              "    }\n",
              "\n",
              "    .dataframe thead th {\n",
              "        text-align: right;\n",
              "    }\n",
              "</style>\n",
              "<table border=\"1\" class=\"dataframe\">\n",
              "  <thead>\n",
              "    <tr style=\"text-align: right;\">\n",
              "      <th></th>\n",
              "      <th>変数の組み合わせ</th>\n",
              "      <th>木の深さ</th>\n",
              "      <th>train正解率</th>\n",
              "      <th>test正解率</th>\n",
              "      <th>コンペ正解率</th>\n",
              "    </tr>\n",
              "  </thead>\n",
              "  <tbody>\n",
              "    <tr>\n",
              "      <th>79631</th>\n",
              "      <td>ｾｷｭﾘﾃｨｻｰﾋﾞｽ,請求書,支払方法,月額支払額,通算支払額</td>\n",
              "      <td>8</td>\n",
              "      <td>0.846425</td>\n",
              "      <td>0.767042</td>\n",
              "      <td>0.772</td>\n",
              "    </tr>\n",
              "    <tr>\n",
              "      <th>37127</th>\n",
              "      <td>年齢区分,ﾊﾞｯｸｱｯﾌﾟｻｰﾋﾞｽ,ｽﾄﾘｰﾐﾝｸﾞｻｰﾋﾞｽ(映画),月額支払額,通算支払額</td>\n",
              "      <td>8</td>\n",
              "      <td>0.845322</td>\n",
              "      <td>0.763733</td>\n",
              "      <td>0.780</td>\n",
              "    </tr>\n",
              "    <tr>\n",
              "      <th>25339</th>\n",
              "      <td>年齢区分,婚姻有無,支払方法,月額支払額,通算支払額</td>\n",
              "      <td>8</td>\n",
              "      <td>0.844881</td>\n",
              "      <td>0.761747</td>\n",
              "      <td>0.775</td>\n",
              "    </tr>\n",
              "    <tr>\n",
              "      <th>34614</th>\n",
              "      <td>年齢区分,電話回線数,支払方法,月額支払額,通算支払額</td>\n",
              "      <td>8</td>\n",
              "      <td>0.844881</td>\n",
              "      <td>0.771013</td>\n",
              "      <td>0.780</td>\n",
              "    </tr>\n",
              "    <tr>\n",
              "      <th>78161</th>\n",
              "      <td>ｲﾝﾀｰﾈｯﾄｻｰﾋﾞｽ,請求書,支払方法,月額支払額,通算支払額</td>\n",
              "      <td>8</td>\n",
              "      <td>0.844660</td>\n",
              "      <td>0.769027</td>\n",
              "      <td>0.772</td>\n",
              "    </tr>\n",
              "    <tr>\n",
              "      <th>47354</th>\n",
              "      <td>婚姻有無,電話回線数,支払方法,月額支払額,通算支払額</td>\n",
              "      <td>8</td>\n",
              "      <td>0.844660</td>\n",
              "      <td>0.767042</td>\n",
              "      <td>0.772</td>\n",
              "    </tr>\n",
              "    <tr>\n",
              "      <th>75851</th>\n",
              "      <td>電話回線数,請求書,支払方法,月額支払額,通算支払額</td>\n",
              "      <td>8</td>\n",
              "      <td>0.844660</td>\n",
              "      <td>0.767704</td>\n",
              "      <td>0.773</td>\n",
              "    </tr>\n",
              "  </tbody>\n",
              "</table>\n",
              "</div>"
            ],
            "text/plain": [
              "                                               変数の組み合わせ  木の深さ  ...   test正解率  コンペ正解率\n",
              "79631                  ｾｷｭﾘﾃｨｻｰﾋﾞｽ,請求書,支払方法,月額支払額,通算支払額     8  ...  0.767042   0.772\n",
              "37127  年齢区分,ﾊﾞｯｸｱｯﾌﾟｻｰﾋﾞｽ,ｽﾄﾘｰﾐﾝｸﾞｻｰﾋﾞｽ(映画),月額支払額,通算支払額     8  ...  0.763733   0.780\n",
              "25339                        年齢区分,婚姻有無,支払方法,月額支払額,通算支払額     8  ...  0.761747   0.775\n",
              "34614                       年齢区分,電話回線数,支払方法,月額支払額,通算支払額     8  ...  0.771013   0.780\n",
              "78161                 ｲﾝﾀｰﾈｯﾄｻｰﾋﾞｽ,請求書,支払方法,月額支払額,通算支払額     8  ...  0.769027   0.772\n",
              "47354                       婚姻有無,電話回線数,支払方法,月額支払額,通算支払額     8  ...  0.767042   0.772\n",
              "75851                        電話回線数,請求書,支払方法,月額支払額,通算支払額     8  ...  0.767704   0.773\n",
              "\n",
              "[7 rows x 5 columns]"
            ]
          },
          "metadata": {
            "tags": []
          },
          "execution_count": 34
        }
      ]
    },
    {
      "cell_type": "code",
      "metadata": {
        "id": "1OcwTZunKMd9",
        "colab_type": "code",
        "colab": {
          "base_uri": "https://localhost:8080/",
          "height": 419
        },
        "outputId": "5b1d4c34-e920-4b17-f4a3-9ad43fc12431"
      },
      "source": [
        "result_all.sort_values(by= 'test正解率',ascending=False).head(7)"
      ],
      "execution_count": 35,
      "outputs": [
        {
          "output_type": "execute_result",
          "data": {
            "text/html": [
              "<div>\n",
              "<style scoped>\n",
              "    .dataframe tbody tr th:only-of-type {\n",
              "        vertical-align: middle;\n",
              "    }\n",
              "\n",
              "    .dataframe tbody tr th {\n",
              "        vertical-align: top;\n",
              "    }\n",
              "\n",
              "    .dataframe thead th {\n",
              "        text-align: right;\n",
              "    }\n",
              "</style>\n",
              "<table border=\"1\" class=\"dataframe\">\n",
              "  <thead>\n",
              "    <tr style=\"text-align: right;\">\n",
              "      <th></th>\n",
              "      <th>変数の組み合わせ</th>\n",
              "      <th>木の深さ</th>\n",
              "      <th>train正解率</th>\n",
              "      <th>test正解率</th>\n",
              "      <th>コンペ正解率</th>\n",
              "    </tr>\n",
              "  </thead>\n",
              "  <tbody>\n",
              "    <tr>\n",
              "      <th>76655</th>\n",
              "      <td>ｲﾝﾀｰﾈｯﾄｻｰﾋﾞｽ,ｾｷｭﾘﾃｨｻｰﾋﾞｽ,契約形態,支払方法,通算支払額</td>\n",
              "      <td>7</td>\n",
              "      <td>0.814872</td>\n",
              "      <td>0.800794</td>\n",
              "      <td>0.791</td>\n",
              "    </tr>\n",
              "    <tr>\n",
              "      <th>76653</th>\n",
              "      <td>ｲﾝﾀｰﾈｯﾄｻｰﾋﾞｽ,ｾｷｭﾘﾃｨｻｰﾋﾞｽ,契約形態,支払方法,通算支払額</td>\n",
              "      <td>5</td>\n",
              "      <td>0.801412</td>\n",
              "      <td>0.796161</td>\n",
              "      <td>0.788</td>\n",
              "    </tr>\n",
              "    <tr>\n",
              "      <th>72945</th>\n",
              "      <td>電話回線数,ｲﾝﾀｰﾈｯﾄｻｰﾋﾞｽ,ﾊﾞｯｸｱｯﾌﾟｻｰﾋﾞｽ,支払方法,通算支払額</td>\n",
              "      <td>7</td>\n",
              "      <td>0.816196</td>\n",
              "      <td>0.794176</td>\n",
              "      <td>0.800</td>\n",
              "    </tr>\n",
              "    <tr>\n",
              "      <th>62597</th>\n",
              "      <td>利用月数,電話回線数,ｲﾝﾀｰﾈｯﾄｻｰﾋﾞｽ,ﾃｸﾆｶﾙｻﾎﾟｰﾄ,支払方法</td>\n",
              "      <td>5</td>\n",
              "      <td>0.804281</td>\n",
              "      <td>0.794176</td>\n",
              "      <td>0.791</td>\n",
              "    </tr>\n",
              "    <tr>\n",
              "      <th>76437</th>\n",
              "      <td>ｲﾝﾀｰﾈｯﾄｻｰﾋﾞｽ,ｾｷｭﾘﾃｨｻｰﾋﾞｽ,ﾃｸﾆｶﾙｻﾎﾟｰﾄ,支払方法,通算支払額</td>\n",
              "      <td>6</td>\n",
              "      <td>0.807811</td>\n",
              "      <td>0.794176</td>\n",
              "      <td>0.804</td>\n",
              "    </tr>\n",
              "    <tr>\n",
              "      <th>77881</th>\n",
              "      <td>ｲﾝﾀｰﾈｯﾄｻｰﾋﾞｽ,ﾃｸﾆｶﾙｻﾎﾟｰﾄ,契約形態,支払方法,通算支払額</td>\n",
              "      <td>8</td>\n",
              "      <td>0.827449</td>\n",
              "      <td>0.793514</td>\n",
              "      <td>0.785</td>\n",
              "    </tr>\n",
              "    <tr>\n",
              "      <th>76654</th>\n",
              "      <td>ｲﾝﾀｰﾈｯﾄｻｰﾋﾞｽ,ｾｷｭﾘﾃｨｻｰﾋﾞｽ,契約形態,支払方法,通算支払額</td>\n",
              "      <td>6</td>\n",
              "      <td>0.809135</td>\n",
              "      <td>0.793514</td>\n",
              "      <td>0.782</td>\n",
              "    </tr>\n",
              "  </tbody>\n",
              "</table>\n",
              "</div>"
            ],
            "text/plain": [
              "                                             変数の組み合わせ  木の深さ  ...   test正解率  コンペ正解率\n",
              "76655        ｲﾝﾀｰﾈｯﾄｻｰﾋﾞｽ,ｾｷｭﾘﾃｨｻｰﾋﾞｽ,契約形態,支払方法,通算支払額     7  ...  0.800794   0.791\n",
              "76653        ｲﾝﾀｰﾈｯﾄｻｰﾋﾞｽ,ｾｷｭﾘﾃｨｻｰﾋﾞｽ,契約形態,支払方法,通算支払額     5  ...  0.796161   0.788\n",
              "72945     電話回線数,ｲﾝﾀｰﾈｯﾄｻｰﾋﾞｽ,ﾊﾞｯｸｱｯﾌﾟｻｰﾋﾞｽ,支払方法,通算支払額     7  ...  0.794176   0.800\n",
              "62597         利用月数,電話回線数,ｲﾝﾀｰﾈｯﾄｻｰﾋﾞｽ,ﾃｸﾆｶﾙｻﾎﾟｰﾄ,支払方法     5  ...  0.794176   0.791\n",
              "76437  ｲﾝﾀｰﾈｯﾄｻｰﾋﾞｽ,ｾｷｭﾘﾃｨｻｰﾋﾞｽ,ﾃｸﾆｶﾙｻﾎﾟｰﾄ,支払方法,通算支払額     6  ...  0.794176   0.804\n",
              "77881         ｲﾝﾀｰﾈｯﾄｻｰﾋﾞｽ,ﾃｸﾆｶﾙｻﾎﾟｰﾄ,契約形態,支払方法,通算支払額     8  ...  0.793514   0.785\n",
              "76654        ｲﾝﾀｰﾈｯﾄｻｰﾋﾞｽ,ｾｷｭﾘﾃｨｻｰﾋﾞｽ,契約形態,支払方法,通算支払額     6  ...  0.793514   0.782\n",
              "\n",
              "[7 rows x 5 columns]"
            ]
          },
          "metadata": {
            "tags": []
          },
          "execution_count": 35
        }
      ]
    },
    {
      "cell_type": "code",
      "metadata": {
        "id": "XQ-B6KeIKMJ5",
        "colab_type": "code",
        "colab": {
          "base_uri": "https://localhost:8080/",
          "height": 563
        },
        "outputId": "e1ef0c8d-43a8-40ae-fbc1-7e802c265d58"
      },
      "source": [
        "result_all.sort_values(by= 'コンペ正解率',ascending=False).head(10)"
      ],
      "execution_count": 38,
      "outputs": [
        {
          "output_type": "execute_result",
          "data": {
            "text/html": [
              "<div>\n",
              "<style scoped>\n",
              "    .dataframe tbody tr th:only-of-type {\n",
              "        vertical-align: middle;\n",
              "    }\n",
              "\n",
              "    .dataframe tbody tr th {\n",
              "        vertical-align: top;\n",
              "    }\n",
              "\n",
              "    .dataframe thead th {\n",
              "        text-align: right;\n",
              "    }\n",
              "</style>\n",
              "<table border=\"1\" class=\"dataframe\">\n",
              "  <thead>\n",
              "    <tr style=\"text-align: right;\">\n",
              "      <th></th>\n",
              "      <th>変数の組み合わせ</th>\n",
              "      <th>木の深さ</th>\n",
              "      <th>train正解率</th>\n",
              "      <th>test正解率</th>\n",
              "      <th>コンペ正解率</th>\n",
              "    </tr>\n",
              "  </thead>\n",
              "  <tbody>\n",
              "    <tr>\n",
              "      <th>51419</th>\n",
              "      <td>扶養家族,利用月数,電話回線数,ｲﾝﾀｰﾈｯﾄｻｰﾋﾞｽ,請求書</td>\n",
              "      <td>6</td>\n",
              "      <td>0.809135</td>\n",
              "      <td>0.772336</td>\n",
              "      <td>0.811</td>\n",
              "    </tr>\n",
              "    <tr>\n",
              "      <th>55731</th>\n",
              "      <td>扶養家族,電話回線数,ｲﾝﾀｰﾈｯﾄｻｰﾋﾞｽ,請求書,通算支払額</td>\n",
              "      <td>6</td>\n",
              "      <td>0.808914</td>\n",
              "      <td>0.766380</td>\n",
              "      <td>0.810</td>\n",
              "    </tr>\n",
              "    <tr>\n",
              "      <th>73252</th>\n",
              "      <td>電話回線数,ｲﾝﾀｰﾈｯﾄｻｰﾋﾞｽ,ﾃｸﾆｶﾙｻﾎﾟｰﾄ,契約形態,通算支払額</td>\n",
              "      <td>6</td>\n",
              "      <td>0.806487</td>\n",
              "      <td>0.784249</td>\n",
              "      <td>0.809</td>\n",
              "    </tr>\n",
              "    <tr>\n",
              "      <th>46176</th>\n",
              "      <td>婚姻有無,電話回線数,ｲﾝﾀｰﾈｯﾄｻｰﾋﾞｽ,請求書,通算支払額</td>\n",
              "      <td>6</td>\n",
              "      <td>0.808694</td>\n",
              "      <td>0.768365</td>\n",
              "      <td>0.809</td>\n",
              "    </tr>\n",
              "    <tr>\n",
              "      <th>51490</th>\n",
              "      <td>扶養家族,利用月数,電話回線数,ｾｷｭﾘﾃｨｻｰﾋﾞｽ,請求書</td>\n",
              "      <td>7</td>\n",
              "      <td>0.806487</td>\n",
              "      <td>0.760424</td>\n",
              "      <td>0.808</td>\n",
              "    </tr>\n",
              "    <tr>\n",
              "      <th>5589</th>\n",
              "      <td>性別,婚姻有無,利用月数,電話回線数,ｲﾝﾀｰﾈｯﾄｻｰﾋﾞｽ</td>\n",
              "      <td>5</td>\n",
              "      <td>0.798323</td>\n",
              "      <td>0.786234</td>\n",
              "      <td>0.808</td>\n",
              "    </tr>\n",
              "    <tr>\n",
              "      <th>11868</th>\n",
              "      <td>性別,利用月数,電話ｻｰﾋﾞｽ,電話回線数,ｲﾝﾀｰﾈｯﾄｻｰﾋﾞｽ</td>\n",
              "      <td>5</td>\n",
              "      <td>0.798323</td>\n",
              "      <td>0.786234</td>\n",
              "      <td>0.808</td>\n",
              "    </tr>\n",
              "    <tr>\n",
              "      <th>77753</th>\n",
              "      <td>ｲﾝﾀｰﾈｯﾄｻｰﾋﾞｽ,ﾃｸﾆｶﾙｻﾎﾟｰﾄ,ｽﾄﾘｰﾐﾝｸﾞｻｰﾋﾞｽ(TV),請求書,...</td>\n",
              "      <td>6</td>\n",
              "      <td>0.807149</td>\n",
              "      <td>0.770351</td>\n",
              "      <td>0.808</td>\n",
              "    </tr>\n",
              "    <tr>\n",
              "      <th>41268</th>\n",
              "      <td>婚姻有無,利用月数,電話ｻｰﾋﾞｽ,電話回線数,ｲﾝﾀｰﾈｯﾄｻｰﾋﾞｽ</td>\n",
              "      <td>5</td>\n",
              "      <td>0.798323</td>\n",
              "      <td>0.786234</td>\n",
              "      <td>0.808</td>\n",
              "    </tr>\n",
              "    <tr>\n",
              "      <th>38561</th>\n",
              "      <td>婚姻有無,扶養家族,利用月数,ﾃｸﾆｶﾙｻﾎﾟｰﾄ,月額支払額</td>\n",
              "      <td>7</td>\n",
              "      <td>0.821712</td>\n",
              "      <td>0.776969</td>\n",
              "      <td>0.807</td>\n",
              "    </tr>\n",
              "  </tbody>\n",
              "</table>\n",
              "</div>"
            ],
            "text/plain": [
              "                                                変数の組み合わせ  ...  コンペ正解率\n",
              "51419                   扶養家族,利用月数,電話回線数,ｲﾝﾀｰﾈｯﾄｻｰﾋﾞｽ,請求書  ...   0.811\n",
              "55731                  扶養家族,電話回線数,ｲﾝﾀｰﾈｯﾄｻｰﾋﾞｽ,請求書,通算支払額  ...   0.810\n",
              "73252           電話回線数,ｲﾝﾀｰﾈｯﾄｻｰﾋﾞｽ,ﾃｸﾆｶﾙｻﾎﾟｰﾄ,契約形態,通算支払額  ...   0.809\n",
              "46176                  婚姻有無,電話回線数,ｲﾝﾀｰﾈｯﾄｻｰﾋﾞｽ,請求書,通算支払額  ...   0.809\n",
              "51490                    扶養家族,利用月数,電話回線数,ｾｷｭﾘﾃｨｻｰﾋﾞｽ,請求書  ...   0.808\n",
              "5589                     性別,婚姻有無,利用月数,電話回線数,ｲﾝﾀｰﾈｯﾄｻｰﾋﾞｽ  ...   0.808\n",
              "11868                 性別,利用月数,電話ｻｰﾋﾞｽ,電話回線数,ｲﾝﾀｰﾈｯﾄｻｰﾋﾞｽ  ...   0.808\n",
              "77753  ｲﾝﾀｰﾈｯﾄｻｰﾋﾞｽ,ﾃｸﾆｶﾙｻﾎﾟｰﾄ,ｽﾄﾘｰﾐﾝｸﾞｻｰﾋﾞｽ(TV),請求書,...  ...   0.808\n",
              "41268               婚姻有無,利用月数,電話ｻｰﾋﾞｽ,電話回線数,ｲﾝﾀｰﾈｯﾄｻｰﾋﾞｽ  ...   0.808\n",
              "38561                    婚姻有無,扶養家族,利用月数,ﾃｸﾆｶﾙｻﾎﾟｰﾄ,月額支払額  ...   0.807\n",
              "\n",
              "[10 rows x 5 columns]"
            ]
          },
          "metadata": {
            "tags": []
          },
          "execution_count": 38
        }
      ]
    }
  ]
}