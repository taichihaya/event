{
  "nbformat": 4,
  "nbformat_minor": 0,
  "metadata": {
    "colab": {
      "name": "イベントスクリプト_正解率TOP5の算出.ipynb",
      "provenance": [],
      "collapsed_sections": [],
      "toc_visible": true,
      "include_colab_link": true
    },
    "kernelspec": {
      "name": "python3",
      "display_name": "Python 3"
    },
    "accelerator": "GPU"
  },
  "cells": [
    {
      "cell_type": "markdown",
      "metadata": {
        "id": "view-in-github",
        "colab_type": "text"
      },
      "source": [
        "<a href=\"https://colab.research.google.com/github/taichihaya/event/blob/master/%E3%82%A4%E3%83%99%E3%83%B3%E3%83%88%E3%82%B9%E3%82%AF%E3%83%AA%E3%83%97%E3%83%88_%E6%AD%A3%E8%A7%A3%E7%8E%87TOP5%E3%81%AE%E7%AE%97%E5%87%BA.ipynb\" target=\"_parent\"><img src=\"https://colab.research.google.com/assets/colab-badge.svg\" alt=\"Open In Colab\"/></a>"
      ]
    },
    {
      "cell_type": "code",
      "metadata": {
        "id": "rwFW2wd4AjRz",
        "colab_type": "code",
        "colab": {}
      },
      "source": [
        "import pandas as pd\n",
        "from sklearn.tree import DecisionTreeClassifier\n",
        "import itertools\n",
        "from sklearn.model_selection import train_test_split"
      ],
      "execution_count": 0,
      "outputs": []
    },
    {
      "cell_type": "code",
      "metadata": {
        "id": "KP4ioVPs_88j",
        "colab_type": "code",
        "colab": {}
      },
      "source": [
        "\n",
        "###### データの取り込み ######\n",
        "\n",
        "modeling_data_url = 'https://raw.githubusercontent.com/taichihaya/event/master/modeling_data.csv'\n",
        "modeling_data = pd.read_csv(modeling_data_url, error_bad_lines=False)\n",
        "\n",
        "competition_data_url = 'https://raw.githubusercontent.com/taichihaya/event/master/competition_data.csv'\n",
        "competition_data = pd.read_csv(competition_data_url, error_bad_lines=False)\n",
        "\n",
        "selected_var_list = []\n",
        "train_accuracy_list = []\n",
        "test_accuracy_list = []\n",
        "competition_accuracy_list = []\n",
        "max_depth_list = []\n",
        "\n",
        "var_all = [i for i in modeling_data.columns if i!='ID' and i!='解約']\n",
        "\n",
        "for i in list(itertools.combinations(var_all,5)):\n",
        "  selected_data = modeling_data[list(i)]\n",
        "  competition_selected_data = competition_data[list(i)]\n",
        "  X_train, X_test, y_train, y_test = train_test_split(selected_data,modeling_data['解約'], random_state=123)\n",
        "\n",
        "  for max_depth in range(2,9):\n",
        "    max_depth_list.append(max_depth)\n",
        "\n",
        "    selected_data_str = ','.join(list(i))\n",
        "    selected_var_list.append(selected_data_str)\n",
        "    clf = DecisionTreeClassifier(max_depth=max_depth)\n",
        "    clf.fit(X_train, y_train)\n",
        "\n",
        "    train_accuracy_list.append(clf.score(X_train, y_train))\n",
        "    test_accuracy_list.append(clf.score(X_test, y_test))\n",
        "    competition_accuracy_list.append(clf.score(competition_selected_data, competition_data['解約']))"
      ],
      "execution_count": 0,
      "outputs": []
    },
    {
      "cell_type": "code",
      "metadata": {
        "id": "pHD1OoJjAHNv",
        "colab_type": "code",
        "colab": {}
      },
      "source": [
        " result_all = pd.DataFrame({\"変数の組み合わせ\":selected_var_list,\n",
        "                            '木の深さ':max_depth_list,\n",
        "                            'train正解率':train_accuracy_list,\n",
        "                            'test正解率':test_accuracy_list,\n",
        "                            'コンペ正解率':competition_accuracy_list})"
      ],
      "execution_count": 0,
      "outputs": []
    },
    {
      "cell_type": "code",
      "metadata": {
        "id": "vTh2n8nwEEJO",
        "colab_type": "code",
        "colab": {}
      },
      "source": [
        "result_all.sort_values(by= 'train正解率',ascending=False).head(5).to_csv('train_top5.csv')"
      ],
      "execution_count": 0,
      "outputs": []
    },
    {
      "cell_type": "code",
      "metadata": {
        "id": "NvCGSl2wIyFW",
        "colab_type": "code",
        "colab": {}
      },
      "source": [
        "result_all.sort_values(by= 'test正解率',ascending=False).head(5).to_csv('test_top5.csv')"
      ],
      "execution_count": 0,
      "outputs": []
    },
    {
      "cell_type": "code",
      "metadata": {
        "id": "ntAiLV6JMUX7",
        "colab_type": "code",
        "colab": {}
      },
      "source": [
        "result_all.sort_values(by= 'コンペ正解率',ascending=False).head(5).to_csv('competition_top5.csv')"
      ],
      "execution_count": 0,
      "outputs": []
    }
  ]
}