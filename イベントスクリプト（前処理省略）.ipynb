{
  "nbformat": 4,
  "nbformat_minor": 0,
  "metadata": {
    "colab": {
      "name": "イベントスクリプト（前処理省略）.ipynb",
      "provenance": [],
      "collapsed_sections": [],
      "toc_visible": true,
      "include_colab_link": true
    },
    "kernelspec": {
      "name": "python3",
      "display_name": "Python 3"
    },
    "widgets": {
      "application/vnd.jupyter.widget-state+json": {
        "df570870b851489fbdfd8ba2d5ffad57": {
          "model_module": "@jupyter-widgets/controls",
          "model_name": "VBoxModel",
          "state": {
            "_view_name": "VBoxView",
            "_dom_classes": [],
            "_model_name": "VBoxModel",
            "_view_module": "@jupyter-widgets/controls",
            "_model_module_version": "1.5.0",
            "_view_count": null,
            "_view_module_version": "1.5.0",
            "box_style": "",
            "layout": "IPY_MODEL_7eae4f5e985543f4b1d6187bff77d418",
            "_model_module": "@jupyter-widgets/controls",
            "children": [
              "IPY_MODEL_83bcd3b4ed054df7900ec48144d4ce19",
              "IPY_MODEL_eee214af1bb34e959e9537a037f0eaf6"
            ]
          }
        },
        "7eae4f5e985543f4b1d6187bff77d418": {
          "model_module": "@jupyter-widgets/base",
          "model_name": "LayoutModel",
          "state": {
            "_view_name": "LayoutView",
            "grid_template_rows": null,
            "right": null,
            "justify_content": null,
            "_view_module": "@jupyter-widgets/base",
            "overflow": null,
            "_model_module_version": "1.2.0",
            "_view_count": null,
            "flex_flow": null,
            "width": null,
            "min_width": null,
            "border": null,
            "align_items": null,
            "bottom": null,
            "_model_module": "@jupyter-widgets/base",
            "top": null,
            "grid_column": null,
            "overflow_y": null,
            "overflow_x": null,
            "grid_auto_flow": null,
            "grid_area": null,
            "grid_template_columns": null,
            "flex": null,
            "_model_name": "LayoutModel",
            "justify_items": null,
            "grid_row": null,
            "max_height": null,
            "align_content": null,
            "visibility": null,
            "align_self": null,
            "height": null,
            "min_height": null,
            "padding": null,
            "grid_auto_rows": null,
            "grid_gap": null,
            "max_width": null,
            "order": null,
            "_view_module_version": "1.2.0",
            "grid_template_areas": null,
            "object_position": null,
            "object_fit": null,
            "grid_auto_columns": null,
            "margin": null,
            "display": null,
            "left": null
          }
        },
        "83bcd3b4ed054df7900ec48144d4ce19": {
          "model_module": "@jupyter-widgets/controls",
          "model_name": "VBoxModel",
          "state": {
            "_view_name": "VBoxView",
            "_dom_classes": [],
            "_model_name": "VBoxModel",
            "_view_module": "@jupyter-widgets/controls",
            "_model_module_version": "1.5.0",
            "_view_count": null,
            "_view_module_version": "1.5.0",
            "box_style": "",
            "layout": "IPY_MODEL_07441f11e8ca4c1f8c4125fc4c2983a8",
            "_model_module": "@jupyter-widgets/controls",
            "children": [
              "IPY_MODEL_6049ba4f50a44613ab02db59febe3ed4",
              "IPY_MODEL_68d78ae3cc5b4646b186dd467d4c2202",
              "IPY_MODEL_f921decb6aeb4bbb8a8c57fb8181e51c",
              "IPY_MODEL_d87ff8d9942b4061acad4b06acb98f82",
              "IPY_MODEL_d50bfa0895b741c48e92583ce05a8c94"
            ]
          }
        },
        "eee214af1bb34e959e9537a037f0eaf6": {
          "model_module": "@jupyter-widgets/controls",
          "model_name": "IntSliderModel",
          "state": {
            "_view_name": "IntSliderView",
            "style": "IPY_MODEL_f879e09b27ed44f69c0bfb6bc80c12dc",
            "_dom_classes": [],
            "description": "木の深さ",
            "step": 1,
            "_model_name": "IntSliderModel",
            "orientation": "horizontal",
            "max": 8,
            "_view_module": "@jupyter-widgets/controls",
            "_model_module_version": "1.5.0",
            "value": 4,
            "_view_count": null,
            "disabled": false,
            "_view_module_version": "1.5.0",
            "min": 2,
            "continuous_update": true,
            "readout_format": "d",
            "description_tooltip": null,
            "readout": true,
            "_model_module": "@jupyter-widgets/controls",
            "layout": "IPY_MODEL_36683a71b77444468fa3d4cace0bf9bc"
          }
        },
        "07441f11e8ca4c1f8c4125fc4c2983a8": {
          "model_module": "@jupyter-widgets/base",
          "model_name": "LayoutModel",
          "state": {
            "_view_name": "LayoutView",
            "grid_template_rows": null,
            "right": null,
            "justify_content": null,
            "_view_module": "@jupyter-widgets/base",
            "overflow": null,
            "_model_module_version": "1.2.0",
            "_view_count": null,
            "flex_flow": null,
            "width": null,
            "min_width": null,
            "border": null,
            "align_items": null,
            "bottom": null,
            "_model_module": "@jupyter-widgets/base",
            "top": null,
            "grid_column": null,
            "overflow_y": null,
            "overflow_x": null,
            "grid_auto_flow": null,
            "grid_area": null,
            "grid_template_columns": null,
            "flex": null,
            "_model_name": "LayoutModel",
            "justify_items": null,
            "grid_row": null,
            "max_height": null,
            "align_content": null,
            "visibility": null,
            "align_self": null,
            "height": null,
            "min_height": null,
            "padding": null,
            "grid_auto_rows": null,
            "grid_gap": null,
            "max_width": null,
            "order": null,
            "_view_module_version": "1.2.0",
            "grid_template_areas": null,
            "object_position": null,
            "object_fit": null,
            "grid_auto_columns": null,
            "margin": null,
            "display": null,
            "left": null
          }
        },
        "6049ba4f50a44613ab02db59febe3ed4": {
          "model_module": "@jupyter-widgets/controls",
          "model_name": "DropdownModel",
          "state": {
            "_options_labels": [
              "性別",
              "年齢区分",
              "婚姻有無",
              "扶養家族",
              "利用月数",
              "電話ｻｰﾋﾞｽ",
              "回線数",
              "ｲﾝﾀｰﾈｯﾄｻｰﾋﾞｽ",
              "ｾｷｭﾘﾃｨｻｰﾋﾞｽ",
              "ﾊﾞｯｸｱｯﾌﾟｻｰﾋﾞｽ",
              "機器予防ｻｰﾋﾞｽ",
              "ﾃｸﾆｶﾙｻﾎﾟｰﾄ",
              "ｽﾄﾘｰﾐﾝｸﾞｻｰﾋﾞｽ(TV)",
              "ｽﾄﾘｰﾐﾝｸﾞｻｰﾋﾞｽ(映画)",
              "契約形態",
              "請求書",
              "支払方法",
              "月額支払額",
              "通算支払額"
            ],
            "_view_name": "DropdownView",
            "style": "IPY_MODEL_6afa0ddb7a3849779b30e6196bac4f51",
            "_dom_classes": [],
            "description": "変数1:",
            "_model_name": "DropdownModel",
            "index": 0,
            "_view_module": "@jupyter-widgets/controls",
            "_model_module_version": "1.5.0",
            "_view_count": null,
            "disabled": false,
            "_view_module_version": "1.5.0",
            "description_tooltip": null,
            "_model_module": "@jupyter-widgets/controls",
            "layout": "IPY_MODEL_ae90801dc38d4e479912525049cec5da"
          }
        },
        "68d78ae3cc5b4646b186dd467d4c2202": {
          "model_module": "@jupyter-widgets/controls",
          "model_name": "DropdownModel",
          "state": {
            "_options_labels": [
              "性別",
              "年齢区分",
              "婚姻有無",
              "扶養家族",
              "利用月数",
              "電話ｻｰﾋﾞｽ",
              "回線数",
              "ｲﾝﾀｰﾈｯﾄｻｰﾋﾞｽ",
              "ｾｷｭﾘﾃｨｻｰﾋﾞｽ",
              "ﾊﾞｯｸｱｯﾌﾟｻｰﾋﾞｽ",
              "機器予防ｻｰﾋﾞｽ",
              "ﾃｸﾆｶﾙｻﾎﾟｰﾄ",
              "ｽﾄﾘｰﾐﾝｸﾞｻｰﾋﾞｽ(TV)",
              "ｽﾄﾘｰﾐﾝｸﾞｻｰﾋﾞｽ(映画)",
              "契約形態",
              "請求書",
              "支払方法",
              "月額支払額",
              "通算支払額"
            ],
            "_view_name": "DropdownView",
            "style": "IPY_MODEL_6d9e11c41d5844aab7f147e9edd597f9",
            "_dom_classes": [],
            "description": "変数2:",
            "_model_name": "DropdownModel",
            "index": 10,
            "_view_module": "@jupyter-widgets/controls",
            "_model_module_version": "1.5.0",
            "_view_count": null,
            "disabled": false,
            "_view_module_version": "1.5.0",
            "description_tooltip": null,
            "_model_module": "@jupyter-widgets/controls",
            "layout": "IPY_MODEL_10edc2fccf66446faa344dd5ea57416a"
          }
        },
        "f921decb6aeb4bbb8a8c57fb8181e51c": {
          "model_module": "@jupyter-widgets/controls",
          "model_name": "DropdownModel",
          "state": {
            "_options_labels": [
              "性別",
              "年齢区分",
              "婚姻有無",
              "扶養家族",
              "利用月数",
              "電話ｻｰﾋﾞｽ",
              "回線数",
              "ｲﾝﾀｰﾈｯﾄｻｰﾋﾞｽ",
              "ｾｷｭﾘﾃｨｻｰﾋﾞｽ",
              "ﾊﾞｯｸｱｯﾌﾟｻｰﾋﾞｽ",
              "機器予防ｻｰﾋﾞｽ",
              "ﾃｸﾆｶﾙｻﾎﾟｰﾄ",
              "ｽﾄﾘｰﾐﾝｸﾞｻｰﾋﾞｽ(TV)",
              "ｽﾄﾘｰﾐﾝｸﾞｻｰﾋﾞｽ(映画)",
              "契約形態",
              "請求書",
              "支払方法",
              "月額支払額",
              "通算支払額"
            ],
            "_view_name": "DropdownView",
            "style": "IPY_MODEL_a74f06ee340343748f9beac399765cae",
            "_dom_classes": [],
            "description": "変数3:",
            "_model_name": "DropdownModel",
            "index": 16,
            "_view_module": "@jupyter-widgets/controls",
            "_model_module_version": "1.5.0",
            "_view_count": null,
            "disabled": false,
            "_view_module_version": "1.5.0",
            "description_tooltip": null,
            "_model_module": "@jupyter-widgets/controls",
            "layout": "IPY_MODEL_605099f3775d4750bc4d25087aeea6d8"
          }
        },
        "d87ff8d9942b4061acad4b06acb98f82": {
          "model_module": "@jupyter-widgets/controls",
          "model_name": "DropdownModel",
          "state": {
            "_options_labels": [
              "性別",
              "年齢区分",
              "婚姻有無",
              "扶養家族",
              "利用月数",
              "電話ｻｰﾋﾞｽ",
              "回線数",
              "ｲﾝﾀｰﾈｯﾄｻｰﾋﾞｽ",
              "ｾｷｭﾘﾃｨｻｰﾋﾞｽ",
              "ﾊﾞｯｸｱｯﾌﾟｻｰﾋﾞｽ",
              "機器予防ｻｰﾋﾞｽ",
              "ﾃｸﾆｶﾙｻﾎﾟｰﾄ",
              "ｽﾄﾘｰﾐﾝｸﾞｻｰﾋﾞｽ(TV)",
              "ｽﾄﾘｰﾐﾝｸﾞｻｰﾋﾞｽ(映画)",
              "契約形態",
              "請求書",
              "支払方法",
              "月額支払額",
              "通算支払額"
            ],
            "_view_name": "DropdownView",
            "style": "IPY_MODEL_be4b75c82402400eb50010922dbe3b1d",
            "_dom_classes": [],
            "description": "変数4:",
            "_model_name": "DropdownModel",
            "index": 14,
            "_view_module": "@jupyter-widgets/controls",
            "_model_module_version": "1.5.0",
            "_view_count": null,
            "disabled": false,
            "_view_module_version": "1.5.0",
            "description_tooltip": null,
            "_model_module": "@jupyter-widgets/controls",
            "layout": "IPY_MODEL_91ea63feca77464fa8e9194f7db7141c"
          }
        },
        "d50bfa0895b741c48e92583ce05a8c94": {
          "model_module": "@jupyter-widgets/controls",
          "model_name": "DropdownModel",
          "state": {
            "_options_labels": [
              "性別",
              "年齢区分",
              "婚姻有無",
              "扶養家族",
              "利用月数",
              "電話ｻｰﾋﾞｽ",
              "回線数",
              "ｲﾝﾀｰﾈｯﾄｻｰﾋﾞｽ",
              "ｾｷｭﾘﾃｨｻｰﾋﾞｽ",
              "ﾊﾞｯｸｱｯﾌﾟｻｰﾋﾞｽ",
              "機器予防ｻｰﾋﾞｽ",
              "ﾃｸﾆｶﾙｻﾎﾟｰﾄ",
              "ｽﾄﾘｰﾐﾝｸﾞｻｰﾋﾞｽ(TV)",
              "ｽﾄﾘｰﾐﾝｸﾞｻｰﾋﾞｽ(映画)",
              "契約形態",
              "請求書",
              "支払方法",
              "月額支払額",
              "通算支払額"
            ],
            "_view_name": "DropdownView",
            "style": "IPY_MODEL_b4bf5b34329d4f9587fbf925babf818f",
            "_dom_classes": [],
            "description": "変数5:",
            "_model_name": "DropdownModel",
            "index": 18,
            "_view_module": "@jupyter-widgets/controls",
            "_model_module_version": "1.5.0",
            "_view_count": null,
            "disabled": false,
            "_view_module_version": "1.5.0",
            "description_tooltip": null,
            "_model_module": "@jupyter-widgets/controls",
            "layout": "IPY_MODEL_4ba789968db4408da889acf7a2652b7b"
          }
        },
        "f879e09b27ed44f69c0bfb6bc80c12dc": {
          "model_module": "@jupyter-widgets/controls",
          "model_name": "SliderStyleModel",
          "state": {
            "_view_name": "StyleView",
            "handle_color": null,
            "_model_name": "SliderStyleModel",
            "description_width": "",
            "_view_module": "@jupyter-widgets/base",
            "_model_module_version": "1.5.0",
            "_view_count": null,
            "_view_module_version": "1.2.0",
            "_model_module": "@jupyter-widgets/controls"
          }
        },
        "36683a71b77444468fa3d4cace0bf9bc": {
          "model_module": "@jupyter-widgets/base",
          "model_name": "LayoutModel",
          "state": {
            "_view_name": "LayoutView",
            "grid_template_rows": null,
            "right": null,
            "justify_content": null,
            "_view_module": "@jupyter-widgets/base",
            "overflow": null,
            "_model_module_version": "1.2.0",
            "_view_count": null,
            "flex_flow": null,
            "width": null,
            "min_width": null,
            "border": null,
            "align_items": null,
            "bottom": null,
            "_model_module": "@jupyter-widgets/base",
            "top": null,
            "grid_column": null,
            "overflow_y": null,
            "overflow_x": null,
            "grid_auto_flow": null,
            "grid_area": null,
            "grid_template_columns": null,
            "flex": null,
            "_model_name": "LayoutModel",
            "justify_items": null,
            "grid_row": null,
            "max_height": null,
            "align_content": null,
            "visibility": null,
            "align_self": null,
            "height": null,
            "min_height": null,
            "padding": null,
            "grid_auto_rows": null,
            "grid_gap": null,
            "max_width": null,
            "order": null,
            "_view_module_version": "1.2.0",
            "grid_template_areas": null,
            "object_position": null,
            "object_fit": null,
            "grid_auto_columns": null,
            "margin": null,
            "display": null,
            "left": null
          }
        },
        "6afa0ddb7a3849779b30e6196bac4f51": {
          "model_module": "@jupyter-widgets/controls",
          "model_name": "DescriptionStyleModel",
          "state": {
            "_view_name": "StyleView",
            "_model_name": "DescriptionStyleModel",
            "description_width": "",
            "_view_module": "@jupyter-widgets/base",
            "_model_module_version": "1.5.0",
            "_view_count": null,
            "_view_module_version": "1.2.0",
            "_model_module": "@jupyter-widgets/controls"
          }
        },
        "ae90801dc38d4e479912525049cec5da": {
          "model_module": "@jupyter-widgets/base",
          "model_name": "LayoutModel",
          "state": {
            "_view_name": "LayoutView",
            "grid_template_rows": null,
            "right": null,
            "justify_content": null,
            "_view_module": "@jupyter-widgets/base",
            "overflow": null,
            "_model_module_version": "1.2.0",
            "_view_count": null,
            "flex_flow": null,
            "width": null,
            "min_width": null,
            "border": null,
            "align_items": null,
            "bottom": null,
            "_model_module": "@jupyter-widgets/base",
            "top": null,
            "grid_column": null,
            "overflow_y": null,
            "overflow_x": null,
            "grid_auto_flow": null,
            "grid_area": null,
            "grid_template_columns": null,
            "flex": null,
            "_model_name": "LayoutModel",
            "justify_items": null,
            "grid_row": null,
            "max_height": null,
            "align_content": null,
            "visibility": null,
            "align_self": null,
            "height": null,
            "min_height": null,
            "padding": null,
            "grid_auto_rows": null,
            "grid_gap": null,
            "max_width": null,
            "order": null,
            "_view_module_version": "1.2.0",
            "grid_template_areas": null,
            "object_position": null,
            "object_fit": null,
            "grid_auto_columns": null,
            "margin": null,
            "display": null,
            "left": null
          }
        },
        "6d9e11c41d5844aab7f147e9edd597f9": {
          "model_module": "@jupyter-widgets/controls",
          "model_name": "DescriptionStyleModel",
          "state": {
            "_view_name": "StyleView",
            "_model_name": "DescriptionStyleModel",
            "description_width": "",
            "_view_module": "@jupyter-widgets/base",
            "_model_module_version": "1.5.0",
            "_view_count": null,
            "_view_module_version": "1.2.0",
            "_model_module": "@jupyter-widgets/controls"
          }
        },
        "10edc2fccf66446faa344dd5ea57416a": {
          "model_module": "@jupyter-widgets/base",
          "model_name": "LayoutModel",
          "state": {
            "_view_name": "LayoutView",
            "grid_template_rows": null,
            "right": null,
            "justify_content": null,
            "_view_module": "@jupyter-widgets/base",
            "overflow": null,
            "_model_module_version": "1.2.0",
            "_view_count": null,
            "flex_flow": null,
            "width": null,
            "min_width": null,
            "border": null,
            "align_items": null,
            "bottom": null,
            "_model_module": "@jupyter-widgets/base",
            "top": null,
            "grid_column": null,
            "overflow_y": null,
            "overflow_x": null,
            "grid_auto_flow": null,
            "grid_area": null,
            "grid_template_columns": null,
            "flex": null,
            "_model_name": "LayoutModel",
            "justify_items": null,
            "grid_row": null,
            "max_height": null,
            "align_content": null,
            "visibility": null,
            "align_self": null,
            "height": null,
            "min_height": null,
            "padding": null,
            "grid_auto_rows": null,
            "grid_gap": null,
            "max_width": null,
            "order": null,
            "_view_module_version": "1.2.0",
            "grid_template_areas": null,
            "object_position": null,
            "object_fit": null,
            "grid_auto_columns": null,
            "margin": null,
            "display": null,
            "left": null
          }
        },
        "a74f06ee340343748f9beac399765cae": {
          "model_module": "@jupyter-widgets/controls",
          "model_name": "DescriptionStyleModel",
          "state": {
            "_view_name": "StyleView",
            "_model_name": "DescriptionStyleModel",
            "description_width": "",
            "_view_module": "@jupyter-widgets/base",
            "_model_module_version": "1.5.0",
            "_view_count": null,
            "_view_module_version": "1.2.0",
            "_model_module": "@jupyter-widgets/controls"
          }
        },
        "605099f3775d4750bc4d25087aeea6d8": {
          "model_module": "@jupyter-widgets/base",
          "model_name": "LayoutModel",
          "state": {
            "_view_name": "LayoutView",
            "grid_template_rows": null,
            "right": null,
            "justify_content": null,
            "_view_module": "@jupyter-widgets/base",
            "overflow": null,
            "_model_module_version": "1.2.0",
            "_view_count": null,
            "flex_flow": null,
            "width": null,
            "min_width": null,
            "border": null,
            "align_items": null,
            "bottom": null,
            "_model_module": "@jupyter-widgets/base",
            "top": null,
            "grid_column": null,
            "overflow_y": null,
            "overflow_x": null,
            "grid_auto_flow": null,
            "grid_area": null,
            "grid_template_columns": null,
            "flex": null,
            "_model_name": "LayoutModel",
            "justify_items": null,
            "grid_row": null,
            "max_height": null,
            "align_content": null,
            "visibility": null,
            "align_self": null,
            "height": null,
            "min_height": null,
            "padding": null,
            "grid_auto_rows": null,
            "grid_gap": null,
            "max_width": null,
            "order": null,
            "_view_module_version": "1.2.0",
            "grid_template_areas": null,
            "object_position": null,
            "object_fit": null,
            "grid_auto_columns": null,
            "margin": null,
            "display": null,
            "left": null
          }
        },
        "be4b75c82402400eb50010922dbe3b1d": {
          "model_module": "@jupyter-widgets/controls",
          "model_name": "DescriptionStyleModel",
          "state": {
            "_view_name": "StyleView",
            "_model_name": "DescriptionStyleModel",
            "description_width": "",
            "_view_module": "@jupyter-widgets/base",
            "_model_module_version": "1.5.0",
            "_view_count": null,
            "_view_module_version": "1.2.0",
            "_model_module": "@jupyter-widgets/controls"
          }
        },
        "91ea63feca77464fa8e9194f7db7141c": {
          "model_module": "@jupyter-widgets/base",
          "model_name": "LayoutModel",
          "state": {
            "_view_name": "LayoutView",
            "grid_template_rows": null,
            "right": null,
            "justify_content": null,
            "_view_module": "@jupyter-widgets/base",
            "overflow": null,
            "_model_module_version": "1.2.0",
            "_view_count": null,
            "flex_flow": null,
            "width": null,
            "min_width": null,
            "border": null,
            "align_items": null,
            "bottom": null,
            "_model_module": "@jupyter-widgets/base",
            "top": null,
            "grid_column": null,
            "overflow_y": null,
            "overflow_x": null,
            "grid_auto_flow": null,
            "grid_area": null,
            "grid_template_columns": null,
            "flex": null,
            "_model_name": "LayoutModel",
            "justify_items": null,
            "grid_row": null,
            "max_height": null,
            "align_content": null,
            "visibility": null,
            "align_self": null,
            "height": null,
            "min_height": null,
            "padding": null,
            "grid_auto_rows": null,
            "grid_gap": null,
            "max_width": null,
            "order": null,
            "_view_module_version": "1.2.0",
            "grid_template_areas": null,
            "object_position": null,
            "object_fit": null,
            "grid_auto_columns": null,
            "margin": null,
            "display": null,
            "left": null
          }
        },
        "b4bf5b34329d4f9587fbf925babf818f": {
          "model_module": "@jupyter-widgets/controls",
          "model_name": "DescriptionStyleModel",
          "state": {
            "_view_name": "StyleView",
            "_model_name": "DescriptionStyleModel",
            "description_width": "",
            "_view_module": "@jupyter-widgets/base",
            "_model_module_version": "1.5.0",
            "_view_count": null,
            "_view_module_version": "1.2.0",
            "_model_module": "@jupyter-widgets/controls"
          }
        },
        "4ba789968db4408da889acf7a2652b7b": {
          "model_module": "@jupyter-widgets/base",
          "model_name": "LayoutModel",
          "state": {
            "_view_name": "LayoutView",
            "grid_template_rows": null,
            "right": null,
            "justify_content": null,
            "_view_module": "@jupyter-widgets/base",
            "overflow": null,
            "_model_module_version": "1.2.0",
            "_view_count": null,
            "flex_flow": null,
            "width": null,
            "min_width": null,
            "border": null,
            "align_items": null,
            "bottom": null,
            "_model_module": "@jupyter-widgets/base",
            "top": null,
            "grid_column": null,
            "overflow_y": null,
            "overflow_x": null,
            "grid_auto_flow": null,
            "grid_area": null,
            "grid_template_columns": null,
            "flex": null,
            "_model_name": "LayoutModel",
            "justify_items": null,
            "grid_row": null,
            "max_height": null,
            "align_content": null,
            "visibility": null,
            "align_self": null,
            "height": null,
            "min_height": null,
            "padding": null,
            "grid_auto_rows": null,
            "grid_gap": null,
            "max_width": null,
            "order": null,
            "_view_module_version": "1.2.0",
            "grid_template_areas": null,
            "object_position": null,
            "object_fit": null,
            "grid_auto_columns": null,
            "margin": null,
            "display": null,
            "left": null
          }
        }
      }
    }
  },
  "cells": [
    {
      "cell_type": "markdown",
      "metadata": {
        "id": "view-in-github",
        "colab_type": "text"
      },
      "source": [
        "<a href=\"https://colab.research.google.com/github/taichihaya/event/blob/master/%E3%82%A4%E3%83%99%E3%83%B3%E3%83%88%E3%82%B9%E3%82%AF%E3%83%AA%E3%83%97%E3%83%88%EF%BC%88%E5%89%8D%E5%87%A6%E7%90%86%E7%9C%81%E7%95%A5%EF%BC%89.ipynb\" target=\"_parent\"><img src=\"https://colab.research.google.com/assets/colab-badge.svg\" alt=\"Open In Colab\"/></a>"
      ]
    },
    {
      "cell_type": "markdown",
      "metadata": {
        "id": "Wgwt4m2N-ttD",
        "colab_type": "text"
      },
      "source": [
        "# **使用する言語・ツール**\n",
        "\n",
        "### Python  \n",
        "\n",
        "機械学習や統計分析で使われる言語には大きく分けて「Python」と「R」があります。<br>\n",
        "今回はそのうちのPythonを使用していきます。\n",
        "\n",
        "### jupyter notebook  \n",
        "作成したプログラムを実行、結果を記録しながらデータ分析を進めるためのツールです。 \n",
        "### Google Colaboratory  \n",
        "jupyter notebook を設定不要で、インターネット環境があれば無料で利用できるサービスです。"
      ]
    },
    {
      "cell_type": "markdown",
      "metadata": {
        "id": "Zl7EpbCZQZ_W",
        "colab_type": "text"
      },
      "source": [
        "# **データ取り込み、モデル作成準備**\n",
        "セルにカーソルを合わせて「Shift+Enter」を押してください"
      ]
    },
    {
      "cell_type": "code",
      "metadata": {
        "id": "QyAaTPcNOMC0",
        "colab_type": "code",
        "colab": {}
      },
      "source": [
        "###### 日本語フォントを使用できるようにする ######\n",
        "!apt-get -y install fonts-ipafont-gothic\n",
        "!rm /root/.cache/matplotlib/fontlist-v310.json\n",
        "\n",
        "###### ライブラリのインストール ######\n",
        "!pip install dtreeviz\n",
        "import pandas as pd\n",
        "import ipywidgets as widgets\n",
        "from ipywidgets import HBox, VBox\n",
        "from IPython.display import display\n",
        "%matplotlib inline\n",
        "from sklearn.model_selection import train_test_split\n",
        "from sklearn.tree import DecisionTreeClassifier\n",
        "from dtreeviz.trees import dtreeviz\n",
        "import warnings\n",
        "warnings.filterwarnings(\"ignore\")\n",
        "\n",
        "###### データの取り込み ######\n",
        "modeling_data_url = 'https://raw.githubusercontent.com/taichihaya/event/master/modeling_data.csv'\n",
        "modeling_data = pd.read_csv(modeling_data_url, error_bad_lines=False)\n",
        "competition_data_url = 'https://raw.githubusercontent.com/taichihaya/event/master/competition_data.csv'\n",
        "competition_data = pd.read_csv(competition_data_url, error_bad_lines=False)\n",
        "\n",
        "\n",
        "###### モデルの作成、結果の可視化 ######\n",
        "def display_result():\n",
        "  # データを選択した変数に絞る\n",
        "  selected_data = modeling_data[[dropdown1.value,dropdown2.value,dropdown3.value,dropdown4.value,dropdown5.value]]\n",
        "  # 訓練用、テスト用に分割\n",
        "  X_train, X_test, y_train, y_test = train_test_split(selected_data,modeling_data['解約'], random_state=123)\n",
        "  # 学習\n",
        "  clf = DecisionTreeClassifier(max_depth=parameter.value)\n",
        "  clf.fit(X_train, y_train)\n",
        "\n",
        "  # 正解率の算出\n",
        "  print('訓練データの正解率：{:.2%}'.format(clf.score(X_train, y_train)))\n",
        "  print('テストデータの正解率：{:.2%}'.format(clf.score(X_test, y_test)))\n",
        "\n",
        "  viz = dtreeviz(clf,X_train,y_train,target_name='target',\n",
        "                feature_names=selected_data.columns.to_list(),\n",
        "                class_names=[0,1],fontname='IPAGothic',\n",
        "                scale=1.0,label_fontsize=14,ticks_fontsize=14,fancy=False) \n",
        "  display(viz)\n",
        "\n",
        "###### 変数・パラメータ選択に使用するドロップダウン、スライダーの作成 ######\n",
        "\n",
        "# IDと正解ラベルは変数の選択肢から外す\n",
        "col = [e for e in modeling_data.columns if e != 'ID' and e != '解約']\n",
        "\n",
        "# 変数選択用ドロップダウンの作成\n",
        "dropdown1 = widgets.Dropdown(options=col,description='変数1:')\n",
        "dropdown2 = widgets.Dropdown(options=col,description='変数2:')\n",
        "dropdown3 = widgets.Dropdown(options=col,description='変数3:')\n",
        "dropdown4 = widgets.Dropdown(options=col,description='変数4:')\n",
        "dropdown5 = widgets.Dropdown(options=col,description='変数5:')\n",
        "variables = VBox(children=[dropdown1,dropdown2,dropdown3,dropdown4,dropdown5])\n",
        "\n",
        "# パラメータ設定用スライダーの作成\n",
        "parameter = widgets.IntSlider(min=2,max=8,description='木の深さ')\n",
        "\n",
        "\n",
        "###### コンペ正解率確認用 ######\n",
        "def display_competition_result():\n",
        "  # 選択した変数のデータフレームの作成\n",
        "  selected_data = modeling_data[[dropdown1.value,dropdown2.value,dropdown3.value,dropdown4.value,dropdown5.value]]\n",
        "  # 訓練用、テスト用に分割\n",
        "  X_train, X_test, y_train, y_test = train_test_split(selected_data,modeling_data['解約'], random_state=11)\n",
        "  # 学習\n",
        "  clf = DecisionTreeClassifier(max_depth=parameter.value)\n",
        "  clf.fit(X_train, y_train)\n",
        "\n",
        "  # 選択した変数のデータフレームの作成\n",
        "  competition_X = competition_data[[dropdown1.value,dropdown2.value,dropdown3.value,dropdown4.value,dropdown5.value]]\n",
        "  competition_y = competition_data['解約']\n",
        "\n",
        "  print('最終正解率：{:.2%}'.format(clf.score(competition_X, competition_y)))\n",
        "\n",
        "# 実行結果を削除\n",
        "from IPython.display import clear_output\n",
        "clear_output()"
      ],
      "execution_count": 0,
      "outputs": []
    },
    {
      "cell_type": "markdown",
      "metadata": {
        "id": "azeVGNb9XGIJ",
        "colab_type": "text"
      },
      "source": [
        "# **モデリングの実施**"
      ]
    },
    {
      "cell_type": "markdown",
      "metadata": {
        "id": "LHZcMuGGXRPZ",
        "colab_type": "text"
      },
      "source": [
        "## 変数、パラメータの選択\n",
        "下のセルを「Shift+Enter」で実行した後、使用する変数とパラメータを設定してください  \n",
        "※実行するのは最初の1回のみでOK"
      ]
    },
    {
      "cell_type": "code",
      "metadata": {
        "id": "FVxKePuBN3ey",
        "colab_type": "code",
        "outputId": "0e0959e9-7e35-45fa-9fa0-35def6ae74a1",
        "colab": {
          "base_uri": "https://localhost:8080/",
          "height": 209,
          "referenced_widgets": [
            "df570870b851489fbdfd8ba2d5ffad57",
            "7eae4f5e985543f4b1d6187bff77d418",
            "83bcd3b4ed054df7900ec48144d4ce19",
            "eee214af1bb34e959e9537a037f0eaf6",
            "07441f11e8ca4c1f8c4125fc4c2983a8",
            "6049ba4f50a44613ab02db59febe3ed4",
            "68d78ae3cc5b4646b186dd467d4c2202",
            "f921decb6aeb4bbb8a8c57fb8181e51c",
            "d87ff8d9942b4061acad4b06acb98f82",
            "d50bfa0895b741c48e92583ce05a8c94",
            "f879e09b27ed44f69c0bfb6bc80c12dc",
            "36683a71b77444468fa3d4cace0bf9bc",
            "6afa0ddb7a3849779b30e6196bac4f51",
            "ae90801dc38d4e479912525049cec5da",
            "6d9e11c41d5844aab7f147e9edd597f9",
            "10edc2fccf66446faa344dd5ea57416a",
            "a74f06ee340343748f9beac399765cae",
            "605099f3775d4750bc4d25087aeea6d8",
            "be4b75c82402400eb50010922dbe3b1d",
            "91ea63feca77464fa8e9194f7db7141c",
            "b4bf5b34329d4f9587fbf925babf818f",
            "4ba789968db4408da889acf7a2652b7b"
          ]
        }
      },
      "source": [
        "# 表示\n",
        "VBox(children=[variables,parameter])"
      ],
      "execution_count": 19,
      "outputs": [
        {
          "output_type": "display_data",
          "data": {
            "application/vnd.jupyter.widget-view+json": {
              "model_id": "df570870b851489fbdfd8ba2d5ffad57",
              "version_minor": 0,
              "version_major": 2
            },
            "text/plain": [
              "VBox(children=(VBox(children=(Dropdown(description='変数1:', options=('性別', '年齢区分', '婚姻有無', '扶養家族', '利用月数', '電話ｻ…"
            ]
          },
          "metadata": {
            "tags": []
          }
        }
      ]
    },
    {
      "cell_type": "markdown",
      "metadata": {
        "id": "C_Sda0qeXc8B",
        "colab_type": "text"
      },
      "source": [
        "## 結果の表示\n",
        "変数とパラメータを設定したあと、下記のセルを「Shift+Enter」で実行してください。  \n",
        "作成された決定木と、モデルの正解率が出力されます。  \n",
        "様々な変数・パラメータの組み合わせを試して、正解率の高いモデルを目指しましょう！"
      ]
    },
    {
      "cell_type": "code",
      "metadata": {
        "id": "GSPyB59pTIz_",
        "colab_type": "code",
        "outputId": "7756cc78-3a3c-4df2-f8a7-0e14b103e95e",
        "colab": {
          "base_uri": "https://localhost:8080/",
          "height": 342
        }
      },
      "source": [
        "display_result()"
      ],
      "execution_count": 20,
      "outputs": [
        {
          "output_type": "stream",
          "text": [
            "訓練データの正解率：76.90%\n",
            "テストデータの正解率：77.23%\n"
          ],
          "name": "stdout"
        },
        {
          "output_type": "display_data",
          "data": {
            "text/plain": [
              "<dtreeviz.trees.DTreeViz at 0x7f60f37a28d0>"
            ],
            "image/svg+xml": "<svg xmlns=\"http://www.w3.org/2000/svg\" xmlns:xlink=\"http://www.w3.org/1999/xlink\" height=\"266.0\" viewBox=\"0.0 0.0 1081.5 266.0\" width=\"1082.0\">\n<g class=\"graph\" id=\"graph0\" transform=\"scale(1.0 1.0) rotate(0) translate(4 262)\">\n<title>G</title>\n<polygon fill=\"#ffffff\" points=\"-4,4 -4,-262 1077.5,-262 1077.5,4 -4,4\" stroke=\"transparent\" />\n<g class=\"cluster\" id=\"clust16\">\n<title>cluster_legend</title>\n</g>\n\n<g class=\"node\" id=\"node1\">\n<title>node3</title>\n<text fill=\"#444443\" font-family=\"Helvetica,sans-Serif\" font-size=\"12.00\" text-anchor=\"start\" x=\"46\" y=\"-103.4\">&#27231;&#22120;&#20104;&#38450;&#65403;&#65392;&#65419;&#65438;&#65405;@1.50</text>\n</g>\n\n<g class=\"node\" id=\"node2\">\n<title>node6</title>\n<text fill=\"#444443\" font-family=\"Helvetica,sans-Serif\" font-size=\"12.00\" text-anchor=\"start\" x=\"177\" y=\"-103.4\">&#36890;&#31639;&#25903;&#25173;&#38989;@3054.25</text>\n</g>\n\n\n<g class=\"node\" id=\"node16\">\n<title>leaf4</title>\n<polygon fill=\"none\" points=\"68,-83 0,-83 0,0 68,0 68,-83\" stroke=\"#444443\" stroke-width=\"0\" />\n<svg height=\"75px\" preserveAspectRatio=\"xMinYMin meet\" version=\"1.1\" viewBox=\"0 0 79.113917 100.84893\" width=\"60px\" x=\"4\" y=\"-78.5\">\n <defs>\n  <style type=\"text/css\">\n*{stroke-linecap:butt;stroke-linejoin:round;}\n  </style>\n </defs>\n <g id=\"figure_1\">\n  <g id=\"patch_1\">\n   <path d=\"M -0 100.84893  L 79.113917 100.84893  L 79.113917 0  L -0 0  z \" style=\"fill:#ffffff;\" />\n  </g>\n  <g id=\"axes_1\">\n   <g id=\"patch_2\">\n    <path d=\"M 79.113917 39.659786  C 79.113917 33.931492 77.860223 28.272 75.441064 23.0796  C 73.021905 17.887199 69.495394 13.286622 65.10971 9.601634  C 60.724027 5.916647 55.584524 3.23577 50.052895 1.747671  C 44.521266 0.259573 38.730393 0 33.087809 0.98722  L 39.853917 39.659786  L 79.113917 39.659786  z \" style=\"fill:#fefebb;stroke:#444443;stroke-linejoin:miter;stroke-width:0.5;\" />\n   </g>\n   <g id=\"patch_3\">\n    <path d=\"M 33.087809 0.98722  C 25.724867 2.275432 18.880727 5.640008 13.363877 10.683496  C 7.847027 15.726984 3.883605 22.24265 1.941802 29.460809  C 0 36.678967 0.159413 44.303743 2.40121 51.434434  C 4.643007 58.565124 8.875296 64.909441 14.598124 69.717938  C 20.320952 74.526436 27.299737 77.602013 34.710087 78.581356  C 42.120438 79.5607 49.6586 78.403666 56.434104 75.246933  C 63.209607 72.090201 68.944721 67.063165 72.961965 60.759662  C 76.97921 54.456159 79.113917 47.134571 79.113917 39.659786  L 39.853917 39.659786  L 33.087809 0.98722  z \" style=\"fill:#a1dab4;stroke:#444443;stroke-linejoin:miter;stroke-width:0.5;\" />\n   </g>\n   <g id=\"text_1\">\n    \n    <defs>\n     <path d=\"M 54.890625 33.015625  L 54.890625 0  L 45.90625 0  L 45.90625 32.71875  Q 45.90625 40.484375 42.875 44.328125  Q 39.84375 48.1875 33.796875 48.1875  Q 26.515625 48.1875 22.3125 43.546875  Q 18.109375 38.921875 18.109375 30.90625  L 18.109375 0  L 9.078125 0  L 9.078125 54.6875  L 18.109375 54.6875  L 18.109375 46.1875  Q 21.34375 51.125 25.703125 53.5625  Q 30.078125 56 35.796875 56  Q 45.21875 56 50.046875 50.171875  Q 54.890625 44.34375 54.890625 33.015625  z \" id=\"DejaVuSans-110\" />\n     <path d=\"M 10.59375 45.40625  L 73.1875 45.40625  L 73.1875 37.203125  L 10.59375 37.203125  z M 10.59375 25.484375  L 73.1875 25.484375  L 73.1875 17.1875  L 10.59375 17.1875  z \" id=\"DejaVuSans-61\" />\n     <path d=\"M 19.1875 8.296875  L 53.609375 8.296875  L 53.609375 0  L 7.328125 0  L 7.328125 8.296875  Q 12.9375 14.109375 22.625 23.890625  Q 32.328125 33.6875 34.8125 36.53125  Q 39.546875 41.84375 41.421875 45.53125  Q 43.3125 49.21875 43.3125 52.78125  Q 43.3125 58.59375 39.234375 62.25  Q 35.15625 65.921875 28.609375 65.921875  Q 23.96875 65.921875 18.8125 64.3125  Q 13.671875 62.703125 7.8125 59.421875  L 7.8125 69.390625  Q 13.765625 71.78125 18.9375 73  Q 24.125 74.21875 28.421875 74.21875  Q 39.75 74.21875 46.484375 68.546875  Q 53.21875 62.890625 53.21875 53.421875  Q 53.21875 48.921875 51.53125 44.890625  Q 49.859375 40.875 45.40625 35.40625  Q 44.1875 33.984375 37.640625 27.21875  Q 31.109375 20.453125 19.1875 8.296875  z \" id=\"DejaVuSans-50\" />\n     <path d=\"M 33.015625 40.375  Q 26.375 40.375 22.484375 35.828125  Q 18.609375 31.296875 18.609375 23.390625  Q 18.609375 15.53125 22.484375 10.953125  Q 26.375 6.390625 33.015625 6.390625  Q 39.65625 6.390625 43.53125 10.953125  Q 47.40625 15.53125 47.40625 23.390625  Q 47.40625 31.296875 43.53125 35.828125  Q 39.65625 40.375 33.015625 40.375  z M 52.59375 71.296875  L 52.59375 62.3125  Q 48.875 64.0625 45.09375 64.984375  Q 41.3125 65.921875 37.59375 65.921875  Q 27.828125 65.921875 22.671875 59.328125  Q 17.53125 52.734375 16.796875 39.40625  Q 19.671875 43.65625 24.015625 45.921875  Q 28.375 48.1875 33.59375 48.1875  Q 44.578125 48.1875 50.953125 41.515625  Q 57.328125 34.859375 57.328125 23.390625  Q 57.328125 12.15625 50.6875 5.359375  Q 44.046875 -1.421875 33.015625 -1.421875  Q 20.359375 -1.421875 13.671875 8.265625  Q 6.984375 17.96875 6.984375 36.375  Q 6.984375 53.65625 15.1875 63.9375  Q 23.390625 74.21875 37.203125 74.21875  Q 40.921875 74.21875 44.703125 73.484375  Q 48.484375 72.75 52.59375 71.296875  z \" id=\"DejaVuSans-54\" />\n     <path d=\"M 40.578125 39.3125  Q 47.65625 37.796875 51.625 33  Q 55.609375 28.21875 55.609375 21.1875  Q 55.609375 10.40625 48.1875 4.484375  Q 40.765625 -1.421875 27.09375 -1.421875  Q 22.515625 -1.421875 17.65625 -0.515625  Q 12.796875 0.390625 7.625 2.203125  L 7.625 11.71875  Q 11.71875 9.328125 16.59375 8.109375  Q 21.484375 6.890625 26.8125 6.890625  Q 36.078125 6.890625 40.9375 10.546875  Q 45.796875 14.203125 45.796875 21.1875  Q 45.796875 27.640625 41.28125 31.265625  Q 36.765625 34.90625 28.71875 34.90625  L 20.21875 34.90625  L 20.21875 43.015625  L 29.109375 43.015625  Q 36.375 43.015625 40.234375 45.921875  Q 44.09375 48.828125 44.09375 54.296875  Q 44.09375 59.90625 40.109375 62.90625  Q 36.140625 65.921875 28.71875 65.921875  Q 24.65625 65.921875 20.015625 65.03125  Q 15.375 64.15625 9.8125 62.3125  L 9.8125 71.09375  Q 15.4375 72.65625 20.34375 73.4375  Q 25.25 74.21875 29.59375 74.21875  Q 40.828125 74.21875 47.359375 69.109375  Q 53.90625 64.015625 53.90625 55.328125  Q 53.90625 49.265625 50.4375 45.09375  Q 46.96875 40.921875 40.578125 39.3125  z \" id=\"DejaVuSans-51\" />\n    </defs>\n    <g style=\"fill:#444443;\" transform=\"translate(24.641808 88.89918)scale(0.09 -0.09)\">\n     <use xlink:href=\"#DejaVuSans-110\" />\n     <use x=\"63.378906\" xlink:href=\"#DejaVuSans-61\" />\n     <use x=\"147.167969\" xlink:href=\"#DejaVuSans-50\" />\n     <use x=\"210.791016\" xlink:href=\"#DejaVuSans-54\" />\n     <use x=\"274.414062\" xlink:href=\"#DejaVuSans-51\" />\n    </g>\n    \n    <defs>\n     <path d=\"M 12.40625 8.296875  L 28.515625 8.296875  L 28.515625 63.921875  L 10.984375 60.40625  L 10.984375 69.390625  L 28.421875 72.90625  L 38.28125 72.90625  L 38.28125 8.296875  L 54.390625 8.296875  L 54.390625 0  L 12.40625 0  z \" id=\"DejaVuSans-49\" />\n    </defs>\n    <g style=\"fill:#444443;\" transform=\"translate(36.990792 98.977211)scale(0.09 -0.09)\">\n     <use xlink:href=\"#DejaVuSans-49\" />\n    </g>\n   </g>\n  </g>\n </g>\n</svg></g>\n\n<g class=\"edge\" id=\"edge1\">\n<title>node3-&gt;leaf4</title>\n<path d=\"M95.8757,-99.7887C89.822,-94.086 80.6299,-85.4267 71.1685,-76.5138\" fill=\"none\" stroke=\"#444443\" stroke-width=\".3\" />\n<polygon fill=\"#444443\" points=\"72.0984,-75.4664 68.2268,-73.7426 70.1784,-77.5045 72.0984,-75.4664\" stroke=\"#444443\" stroke-width=\".3\" />\n</g>\n\n<g class=\"node\" id=\"node17\">\n<title>leaf5</title>\n<polygon fill=\"none\" points=\"120,-68 82,-68 82,-15 120,-15 120,-68\" stroke=\"#444443\" stroke-width=\"0\" />\n<svg height=\"45px\" preserveAspectRatio=\"xMinYMin meet\" version=\"1.1\" viewBox=\"0 0 39.569568 59.930776\" width=\"30px\" x=\"86\" y=\"-63.5\">\n <defs>\n  <style type=\"text/css\">\n*{stroke-linecap:butt;stroke-linejoin:round;}\n  </style>\n </defs>\n <g id=\"figure_1\">\n  <g id=\"patch_1\">\n   <path d=\"M 0 59.930776  L 39.569568 59.930776  L 39.569568 0  L 0 0  z \" style=\"fill:#ffffff;\" />\n  </g>\n  <g id=\"axes_1\">\n   <g id=\"patch_2\">\n    <path d=\"M 39.569567 19.942033  C 39.569567 16.217394 38.509486 12.568569 36.513724 9.423752  C 34.517963 6.278936 31.667768 3.766151 28.297614 2.180277  C 24.92746 0.594403 21.174544 0 17.479275 0.466821  C 13.784006 0.933643 10.296816 2.442684 7.426933 4.816859  C 4.55705 7.191033 2.421304 10.333689 1.270327 13.876031  C 0.119351 17.418373 0 21.216195 0.926281 24.823818  C 1.852561 28.43144 3.786765 31.701999 6.50191 34.251689  C 9.217055 36.801379 12.60261 38.526405 16.261276 39.224332  L 19.939567 19.942033  L 39.569567 19.942033  z \" style=\"fill:#fefebb;stroke:#444443;stroke-linejoin:miter;stroke-width:0.5;\" />\n   </g>\n   <g id=\"patch_3\">\n    <path d=\"M 16.261276 39.224332  C 19.099552 39.765762 22.022675 39.673898 24.821353 38.955319  C 27.620032 38.23674 30.225839 36.909015 32.452203 35.067205  C 34.678567 33.225396 36.471054 30.914535 37.701324 28.300077  C 38.931594 25.685618 39.569568 22.831485 39.569567 19.942029  L 19.939567 19.942033  L 16.261276 39.224332  z \" style=\"fill:#a1dab4;stroke:#444443;stroke-linejoin:miter;stroke-width:0.5;\" />\n   </g>\n   <g id=\"text_1\">\n    \n    <defs>\n     <path d=\"M 54.890625 33.015625  L 54.890625 0  L 45.90625 0  L 45.90625 32.71875  Q 45.90625 40.484375 42.875 44.328125  Q 39.84375 48.1875 33.796875 48.1875  Q 26.515625 48.1875 22.3125 43.546875  Q 18.109375 38.921875 18.109375 30.90625  L 18.109375 0  L 9.078125 0  L 9.078125 54.6875  L 18.109375 54.6875  L 18.109375 46.1875  Q 21.34375 51.125 25.703125 53.5625  Q 30.078125 56 35.796875 56  Q 45.21875 56 50.046875 50.171875  Q 54.890625 44.34375 54.890625 33.015625  z \" id=\"DejaVuSans-110\" />\n     <path d=\"M 10.59375 45.40625  L 73.1875 45.40625  L 73.1875 37.203125  L 10.59375 37.203125  z M 10.59375 25.484375  L 73.1875 25.484375  L 73.1875 17.1875  L 10.59375 17.1875  z \" id=\"DejaVuSans-61\" />\n     <path d=\"M 19.1875 8.296875  L 53.609375 8.296875  L 53.609375 0  L 7.328125 0  L 7.328125 8.296875  Q 12.9375 14.109375 22.625 23.890625  Q 32.328125 33.6875 34.8125 36.53125  Q 39.546875 41.84375 41.421875 45.53125  Q 43.3125 49.21875 43.3125 52.78125  Q 43.3125 58.59375 39.234375 62.25  Q 35.15625 65.921875 28.609375 65.921875  Q 23.96875 65.921875 18.8125 64.3125  Q 13.671875 62.703125 7.8125 59.421875  L 7.8125 69.390625  Q 13.765625 71.78125 18.9375 73  Q 24.125 74.21875 28.421875 74.21875  Q 39.75 74.21875 46.484375 68.546875  Q 53.21875 62.890625 53.21875 53.421875  Q 53.21875 48.921875 51.53125 44.890625  Q 49.859375 40.875 45.40625 35.40625  Q 44.1875 33.984375 37.640625 27.21875  Q 31.109375 20.453125 19.1875 8.296875  z \" id=\"DejaVuSans-50\" />\n     <path d=\"M 10.796875 72.90625  L 49.515625 72.90625  L 49.515625 64.59375  L 19.828125 64.59375  L 19.828125 46.734375  Q 21.96875 47.46875 24.109375 47.828125  Q 26.265625 48.1875 28.421875 48.1875  Q 40.625 48.1875 47.75 41.5  Q 54.890625 34.8125 54.890625 23.390625  Q 54.890625 11.625 47.5625 5.09375  Q 40.234375 -1.421875 26.90625 -1.421875  Q 22.3125 -1.421875 17.546875 -0.640625  Q 12.796875 0.140625 7.71875 1.703125  L 7.71875 11.625  Q 12.109375 9.234375 16.796875 8.0625  Q 21.484375 6.890625 26.703125 6.890625  Q 35.15625 6.890625 40.078125 11.328125  Q 45.015625 15.765625 45.015625 23.390625  Q 45.015625 31 40.078125 35.4375  Q 35.15625 39.890625 26.703125 39.890625  Q 22.75 39.890625 18.8125 39.015625  Q 14.890625 38.140625 10.796875 36.28125  z \" id=\"DejaVuSans-53\" />\n    </defs>\n    <g style=\"fill:#444443;\" transform=\"translate(7.590583 47.981026)scale(0.09 -0.09)\">\n     <use xlink:href=\"#DejaVuSans-110\" />\n     <use x=\"63.378906\" xlink:href=\"#DejaVuSans-61\" />\n     <use x=\"147.167969\" xlink:href=\"#DejaVuSans-50\" />\n     <use x=\"210.791016\" xlink:href=\"#DejaVuSans-53\" />\n    </g>\n    \n    <defs>\n     <path d=\"M 31.78125 66.40625  Q 24.171875 66.40625 20.328125 58.90625  Q 16.5 51.421875 16.5 36.375  Q 16.5 21.390625 20.328125 13.890625  Q 24.171875 6.390625 31.78125 6.390625  Q 39.453125 6.390625 43.28125 13.890625  Q 47.125 21.390625 47.125 36.375  Q 47.125 51.421875 43.28125 58.90625  Q 39.453125 66.40625 31.78125 66.40625  z M 31.78125 74.21875  Q 44.046875 74.21875 50.515625 64.515625  Q 56.984375 54.828125 56.984375 36.375  Q 56.984375 17.96875 50.515625 8.265625  Q 44.046875 -1.421875 31.78125 -1.421875  Q 19.53125 -1.421875 13.0625 8.265625  Q 6.59375 17.96875 6.59375 36.375  Q 6.59375 54.828125 13.0625 64.515625  Q 19.53125 74.21875 31.78125 74.21875  z \" id=\"DejaVuSans-48\" />\n    </defs>\n    <g style=\"fill:#444443;\" transform=\"translate(17.076442 58.059058)scale(0.09 -0.09)\">\n     <use xlink:href=\"#DejaVuSans-48\" />\n    </g>\n   </g>\n  </g>\n </g>\n</svg></g>\n\n<g class=\"edge\" id=\"edge2\">\n<title>node3-&gt;leaf5</title>\n<path d=\"M102.786,-99.5439C102.5814,-92.894 102.2581,-82.3898 101.9426,-72.1341\" fill=\"none\" stroke=\"#444443\" stroke-width=\".3\" />\n<polygon fill=\"#444443\" points=\"103.3401,-72.0278 101.8176,-68.0728 100.5414,-72.114 103.3401,-72.0278\" stroke=\"#444443\" stroke-width=\".3\" />\n</g>\n\n<g class=\"node\" id=\"node18\">\n<title>leaf7</title>\n<polygon fill=\"none\" points=\"194.5,-83 127.5,-83 127.5,0 194.5,0 194.5,-83\" stroke=\"#444443\" stroke-width=\"0\" />\n<svg height=\"75px\" preserveAspectRatio=\"xMinYMin meet\" version=\"1.1\" viewBox=\"0 0 78.860877 100.918612\" width=\"59px\" x=\"132\" y=\"-78.5\">\n <defs>\n  <style type=\"text/css\">\n*{stroke-linecap:butt;stroke-linejoin:round;}\n  </style>\n </defs>\n <g id=\"figure_1\">\n  <g id=\"patch_1\">\n   <path d=\"M 0 100.918612  L 78.860877 100.918612  L 78.860877 -0  L 0 -0  z \" style=\"fill:#ffffff;\" />\n  </g>\n  <g id=\"axes_1\">\n   <g id=\"patch_2\">\n    <path d=\"M 78.860876 39.729468  C 78.860876 29.673584 74.997371 19.992281 68.073983 12.699304  C 61.150596 5.406327 51.683117 1.045003 41.640816 0.522501  C 31.598516 0 21.729544 3.355248 14.086681 9.890342  C 6.443818 16.425437 1.596457 25.653513 0.552866 35.655099  L 39.600876 39.729468  L 78.860876 39.729468  z \" style=\"fill:#fefebb;stroke:#444443;stroke-linejoin:miter;stroke-width:0.5;\" />\n   </g>\n   <g id=\"patch_3\">\n    <path d=\"M 0.552866 35.655099  C 0 40.953665 0.531348 46.309741 2.114477 51.396406  C 3.697606 56.483072 6.299638 61.194686 9.761752 65.243665  C 13.223866 69.292644 17.474159 72.594898 22.253207 74.948866  C 27.032255 77.302834 32.240804 78.659629 37.56094 78.936435  C 42.881075 79.213241 48.202307 78.404311 53.199842 76.559018  C 58.197378 74.713725 62.767426 71.870393 66.631044 68.202571  C 70.494663 64.53475 73.571611 60.118613 75.674081 55.223709  C 77.776551 50.328805 78.860877 45.056793 78.860876 39.729461  L 39.600876 39.729468  L 0.552866 35.655099  z \" style=\"fill:#a1dab4;stroke:#444443;stroke-linejoin:miter;stroke-width:0.5;\" />\n   </g>\n   <g id=\"text_1\">\n    \n    <defs>\n     <path d=\"M 54.890625 33.015625  L 54.890625 0  L 45.90625 0  L 45.90625 32.71875  Q 45.90625 40.484375 42.875 44.328125  Q 39.84375 48.1875 33.796875 48.1875  Q 26.515625 48.1875 22.3125 43.546875  Q 18.109375 38.921875 18.109375 30.90625  L 18.109375 0  L 9.078125 0  L 9.078125 54.6875  L 18.109375 54.6875  L 18.109375 46.1875  Q 21.34375 51.125 25.703125 53.5625  Q 30.078125 56 35.796875 56  Q 45.21875 56 50.046875 50.171875  Q 54.890625 44.34375 54.890625 33.015625  z \" id=\"DejaVuSans-110\" />\n     <path d=\"M 10.59375 45.40625  L 73.1875 45.40625  L 73.1875 37.203125  L 10.59375 37.203125  z M 10.59375 25.484375  L 73.1875 25.484375  L 73.1875 17.1875  L 10.59375 17.1875  z \" id=\"DejaVuSans-61\" />\n     <path d=\"M 33.015625 40.375  Q 26.375 40.375 22.484375 35.828125  Q 18.609375 31.296875 18.609375 23.390625  Q 18.609375 15.53125 22.484375 10.953125  Q 26.375 6.390625 33.015625 6.390625  Q 39.65625 6.390625 43.53125 10.953125  Q 47.40625 15.53125 47.40625 23.390625  Q 47.40625 31.296875 43.53125 35.828125  Q 39.65625 40.375 33.015625 40.375  z M 52.59375 71.296875  L 52.59375 62.3125  Q 48.875 64.0625 45.09375 64.984375  Q 41.3125 65.921875 37.59375 65.921875  Q 27.828125 65.921875 22.671875 59.328125  Q 17.53125 52.734375 16.796875 39.40625  Q 19.671875 43.65625 24.015625 45.921875  Q 28.375 48.1875 33.59375 48.1875  Q 44.578125 48.1875 50.953125 41.515625  Q 57.328125 34.859375 57.328125 23.390625  Q 57.328125 12.15625 50.6875 5.359375  Q 44.046875 -1.421875 33.015625 -1.421875  Q 20.359375 -1.421875 13.671875 8.265625  Q 6.984375 17.96875 6.984375 36.375  Q 6.984375 53.65625 15.1875 63.9375  Q 23.390625 74.21875 37.203125 74.21875  Q 40.921875 74.21875 44.703125 73.484375  Q 48.484375 72.75 52.59375 71.296875  z \" id=\"DejaVuSans-54\" />\n     <path d=\"M 10.984375 1.515625  L 10.984375 10.5  Q 14.703125 8.734375 18.5 7.8125  Q 22.3125 6.890625 25.984375 6.890625  Q 35.75 6.890625 40.890625 13.453125  Q 46.046875 20.015625 46.78125 33.40625  Q 43.953125 29.203125 39.59375 26.953125  Q 35.25 24.703125 29.984375 24.703125  Q 19.046875 24.703125 12.671875 31.3125  Q 6.296875 37.9375 6.296875 49.421875  Q 6.296875 60.640625 12.9375 67.421875  Q 19.578125 74.21875 30.609375 74.21875  Q 43.265625 74.21875 49.921875 64.515625  Q 56.59375 54.828125 56.59375 36.375  Q 56.59375 19.140625 48.40625 8.859375  Q 40.234375 -1.421875 26.421875 -1.421875  Q 22.703125 -1.421875 18.890625 -0.6875  Q 15.09375 0.046875 10.984375 1.515625  z M 30.609375 32.421875  Q 37.25 32.421875 41.125 36.953125  Q 45.015625 41.5 45.015625 49.421875  Q 45.015625 57.28125 41.125 61.84375  Q 37.25 66.40625 30.609375 66.40625  Q 23.96875 66.40625 20.09375 61.84375  Q 16.21875 57.28125 16.21875 49.421875  Q 16.21875 41.5 20.09375 36.953125  Q 23.96875 32.421875 30.609375 32.421875  z \" id=\"DejaVuSans-57\" />\n     <path d=\"M 10.796875 72.90625  L 49.515625 72.90625  L 49.515625 64.59375  L 19.828125 64.59375  L 19.828125 46.734375  Q 21.96875 47.46875 24.109375 47.828125  Q 26.265625 48.1875 28.421875 48.1875  Q 40.625 48.1875 47.75 41.5  Q 54.890625 34.8125 54.890625 23.390625  Q 54.890625 11.625 47.5625 5.09375  Q 40.234375 -1.421875 26.90625 -1.421875  Q 22.3125 -1.421875 17.546875 -0.640625  Q 12.796875 0.140625 7.71875 1.703125  L 7.71875 11.625  Q 12.109375 9.234375 16.796875 8.0625  Q 21.484375 6.890625 26.703125 6.890625  Q 35.15625 6.890625 40.078125 11.328125  Q 45.015625 15.765625 45.015625 23.390625  Q 45.015625 31 40.078125 35.4375  Q 35.15625 39.890625 26.703125 39.890625  Q 22.75 39.890625 18.8125 39.015625  Q 14.890625 38.140625 10.796875 36.28125  z \" id=\"DejaVuSans-53\" />\n    </defs>\n    <g style=\"fill:#444443;\" transform=\"translate(24.388767 88.968862)scale(0.09 -0.09)\">\n     <use xlink:href=\"#DejaVuSans-110\" />\n     <use x=\"63.378906\" xlink:href=\"#DejaVuSans-61\" />\n     <use x=\"147.167969\" xlink:href=\"#DejaVuSans-54\" />\n     <use x=\"210.791016\" xlink:href=\"#DejaVuSans-57\" />\n     <use x=\"274.414062\" xlink:href=\"#DejaVuSans-53\" />\n    </g>\n    \n    <defs>\n     <path d=\"M 12.40625 8.296875  L 28.515625 8.296875  L 28.515625 63.921875  L 10.984375 60.40625  L 10.984375 69.390625  L 28.421875 72.90625  L 38.28125 72.90625  L 38.28125 8.296875  L 54.390625 8.296875  L 54.390625 0  L 12.40625 0  z \" id=\"DejaVuSans-49\" />\n    </defs>\n    <g style=\"fill:#444443;\" transform=\"translate(36.737751 99.046893)scale(0.09 -0.09)\">\n     <use xlink:href=\"#DejaVuSans-49\" />\n    </g>\n   </g>\n  </g>\n </g>\n</svg></g>\n\n<g class=\"edge\" id=\"edge4\">\n<title>node6-&gt;leaf7</title>\n<path d=\"M227.3594,-99.7887C220.2036,-93.5031 208.9586,-83.6258 197.745,-73.776\" fill=\"none\" stroke=\"#444443\" stroke-width=\".3\" />\n<polygon fill=\"#444443\" points=\"198.5156,-72.5895 194.5864,-71.0016 196.6677,-74.6932 198.5156,-72.5895\" stroke=\"#444443\" stroke-width=\".3\" />\n</g>\n\n<g class=\"node\" id=\"node19\">\n<title>leaf8</title>\n<polygon fill=\"none\" points=\"276,-83 208,-83 208,0 276,0 276,-83\" stroke=\"#444443\" stroke-width=\"0\" />\n<svg height=\"75px\" preserveAspectRatio=\"xMinYMin meet\" version=\"1.1\" viewBox=\"0 0 79.037809 100.784947\" width=\"60px\" x=\"212\" y=\"-78.5\">\n <defs>\n  <style type=\"text/css\">\n*{stroke-linecap:butt;stroke-linejoin:round;}\n  </style>\n </defs>\n <g id=\"figure_1\">\n  <g id=\"patch_1\">\n   <path d=\"M 0 100.784947  L 79.037809 100.784947  L 79.037809 0  L 0 0  z \" style=\"fill:#ffffff;\" />\n  </g>\n  <g id=\"axes_1\">\n   <g id=\"patch_2\">\n    <path d=\"M 79.037809 39.595803  C 79.037809 32.981089 77.366091 26.472423 74.178465 20.676435  C 70.990839 14.880447 66.389513 9.982981 60.803348 6.440497  C 55.217183 2.898013 48.825293 0.824098 42.223426 0.412049  C 35.621558 0 29.021396 1.263028 23.038099 4.083415  C 17.054801 6.903802 11.880216 11.191115 7.996634 16.54576  C 4.113052 21.900405 1.644996 28.150691 0.822498 34.714069  C 0 41.277448 0.849433 47.943469 3.291626 54.090837  C 5.733818 60.238204 9.690465 65.669809 14.792792 69.879404  L 39.777809 39.595803  L 79.037809 39.595803  z \" style=\"fill:#fefebb;stroke:#444443;stroke-linejoin:miter;stroke-width:0.5;\" />\n   </g>\n   <g id=\"patch_3\">\n    <path d=\"M 14.792792 69.879404  C 20.535446 74.617292 27.509012 77.625395 34.896076 78.551114  C 42.283139 79.476833 49.783335 78.282528 56.51752 75.108191  C 63.251704 71.933853 68.94606 66.908555 72.933115 60.621342  C 76.920171 54.334129 79.037809 47.040644 79.037809 39.595803  L 39.777809 39.595803  L 14.792792 69.879404  z \" style=\"fill:#a1dab4;stroke:#444443;stroke-linejoin:miter;stroke-width:0.5;\" />\n   </g>\n   <g id=\"text_1\">\n    \n    <defs>\n     <path d=\"M 54.890625 33.015625  L 54.890625 0  L 45.90625 0  L 45.90625 32.71875  Q 45.90625 40.484375 42.875 44.328125  Q 39.84375 48.1875 33.796875 48.1875  Q 26.515625 48.1875 22.3125 43.546875  Q 18.109375 38.921875 18.109375 30.90625  L 18.109375 0  L 9.078125 0  L 9.078125 54.6875  L 18.109375 54.6875  L 18.109375 46.1875  Q 21.34375 51.125 25.703125 53.5625  Q 30.078125 56 35.796875 56  Q 45.21875 56 50.046875 50.171875  Q 54.890625 44.34375 54.890625 33.015625  z \" id=\"DejaVuSans-110\" />\n     <path d=\"M 10.59375 45.40625  L 73.1875 45.40625  L 73.1875 37.203125  L 10.59375 37.203125  z M 10.59375 25.484375  L 73.1875 25.484375  L 73.1875 17.1875  L 10.59375 17.1875  z \" id=\"DejaVuSans-61\" />\n     <path d=\"M 12.40625 8.296875  L 28.515625 8.296875  L 28.515625 63.921875  L 10.984375 60.40625  L 10.984375 69.390625  L 28.421875 72.90625  L 38.28125 72.90625  L 38.28125 8.296875  L 54.390625 8.296875  L 54.390625 0  L 12.40625 0  z \" id=\"DejaVuSans-49\" />\n     <path d=\"M 31.78125 34.625  Q 24.75 34.625 20.71875 30.859375  Q 16.703125 27.09375 16.703125 20.515625  Q 16.703125 13.921875 20.71875 10.15625  Q 24.75 6.390625 31.78125 6.390625  Q 38.8125 6.390625 42.859375 10.171875  Q 46.921875 13.96875 46.921875 20.515625  Q 46.921875 27.09375 42.890625 30.859375  Q 38.875 34.625 31.78125 34.625  z M 21.921875 38.8125  Q 15.578125 40.375 12.03125 44.71875  Q 8.5 49.078125 8.5 55.328125  Q 8.5 64.0625 14.71875 69.140625  Q 20.953125 74.21875 31.78125 74.21875  Q 42.671875 74.21875 48.875 69.140625  Q 55.078125 64.0625 55.078125 55.328125  Q 55.078125 49.078125 51.53125 44.71875  Q 48 40.375 41.703125 38.8125  Q 48.828125 37.15625 52.796875 32.3125  Q 56.78125 27.484375 56.78125 20.515625  Q 56.78125 9.90625 50.3125 4.234375  Q 43.84375 -1.421875 31.78125 -1.421875  Q 19.734375 -1.421875 13.25 4.234375  Q 6.78125 9.90625 6.78125 20.515625  Q 6.78125 27.484375 10.78125 32.3125  Q 14.796875 37.15625 21.921875 38.8125  z M 18.3125 54.390625  Q 18.3125 48.734375 21.84375 45.5625  Q 25.390625 42.390625 31.78125 42.390625  Q 38.140625 42.390625 41.71875 45.5625  Q 45.3125 48.734375 45.3125 54.390625  Q 45.3125 60.0625 41.71875 63.234375  Q 38.140625 66.40625 31.78125 66.40625  Q 25.390625 66.40625 21.84375 63.234375  Q 18.3125 60.0625 18.3125 54.390625  z \" id=\"DejaVuSans-56\" />\n     <path d=\"M 10.984375 1.515625  L 10.984375 10.5  Q 14.703125 8.734375 18.5 7.8125  Q 22.3125 6.890625 25.984375 6.890625  Q 35.75 6.890625 40.890625 13.453125  Q 46.046875 20.015625 46.78125 33.40625  Q 43.953125 29.203125 39.59375 26.953125  Q 35.25 24.703125 29.984375 24.703125  Q 19.046875 24.703125 12.671875 31.3125  Q 6.296875 37.9375 6.296875 49.421875  Q 6.296875 60.640625 12.9375 67.421875  Q 19.578125 74.21875 30.609375 74.21875  Q 43.265625 74.21875 49.921875 64.515625  Q 56.59375 54.828125 56.59375 36.375  Q 56.59375 19.140625 48.40625 8.859375  Q 40.234375 -1.421875 26.421875 -1.421875  Q 22.703125 -1.421875 18.890625 -0.6875  Q 15.09375 0.046875 10.984375 1.515625  z M 30.609375 32.421875  Q 37.25 32.421875 41.125 36.953125  Q 45.015625 41.5 45.015625 49.421875  Q 45.015625 57.28125 41.125 61.84375  Q 37.25 66.40625 30.609375 66.40625  Q 23.96875 66.40625 20.09375 61.84375  Q 16.21875 57.28125 16.21875 49.421875  Q 16.21875 41.5 20.09375 36.953125  Q 23.96875 32.421875 30.609375 32.421875  z \" id=\"DejaVuSans-57\" />\n    </defs>\n    <g style=\"fill:#444443;\" transform=\"translate(24.5657 88.835197)scale(0.09 -0.09)\">\n     <use xlink:href=\"#DejaVuSans-110\" />\n     <use x=\"63.378906\" xlink:href=\"#DejaVuSans-61\" />\n     <use x=\"147.167969\" xlink:href=\"#DejaVuSans-49\" />\n     <use x=\"210.791016\" xlink:href=\"#DejaVuSans-56\" />\n     <use x=\"274.414062\" xlink:href=\"#DejaVuSans-57\" />\n    </g>\n    \n    <defs>\n     <path d=\"M 31.78125 66.40625  Q 24.171875 66.40625 20.328125 58.90625  Q 16.5 51.421875 16.5 36.375  Q 16.5 21.390625 20.328125 13.890625  Q 24.171875 6.390625 31.78125 6.390625  Q 39.453125 6.390625 43.28125 13.890625  Q 47.125 21.390625 47.125 36.375  Q 47.125 51.421875 43.28125 58.90625  Q 39.453125 66.40625 31.78125 66.40625  z M 31.78125 74.21875  Q 44.046875 74.21875 50.515625 64.515625  Q 56.984375 54.828125 56.984375 36.375  Q 56.984375 17.96875 50.515625 8.265625  Q 44.046875 -1.421875 31.78125 -1.421875  Q 19.53125 -1.421875 13.0625 8.265625  Q 6.59375 17.96875 6.59375 36.375  Q 6.59375 54.828125 13.0625 64.515625  Q 19.53125 74.21875 31.78125 74.21875  z \" id=\"DejaVuSans-48\" />\n    </defs>\n    <g style=\"fill:#444443;\" transform=\"translate(36.914684 98.913228)scale(0.09 -0.09)\">\n     <use xlink:href=\"#DejaVuSans-48\" />\n    </g>\n   </g>\n  </g>\n </g>\n</svg></g>\n\n<g class=\"edge\" id=\"edge5\">\n<title>node6-&gt;leaf8</title>\n<path d=\"M235.7491,-99.5439C236.1073,-96.2176 236.5694,-91.9271 237.08,-87.1857\" fill=\"none\" stroke=\"#444443\" stroke-width=\".3\" />\n<polygon fill=\"#444443\" points=\"238.4827,-87.2351 237.5191,-83.1081 235.6988,-86.9352 238.4827,-87.2351\" stroke=\"#444443\" stroke-width=\".3\" />\n</g>\n\n<g class=\"node\" id=\"node3\">\n<title>node2</title>\n<text fill=\"#444443\" font-family=\"Helvetica,sans-Serif\" font-size=\"12.00\" text-anchor=\"start\" x=\"206.5\" y=\"-133.4\">&#36890;&#31639;&#25903;&#25173;&#38989;@182.88</text>\n</g>\n\n<g class=\"edge\" id=\"edge7\">\n<title>node2-&gt;node3</title>\n<path d=\"M226.7164,-129.9904C201.6464,-125.2303 167.6182,-118.7693 141.5945,-113.8281\" fill=\"none\" stroke=\"#444443\" stroke-width=\".3\" />\n<polygon fill=\"#444443\" points=\"141.6802,-112.4194 137.4892,-113.0486 141.1578,-115.1702 141.6802,-112.4194\" stroke=\"#444443\" stroke-width=\".3\" />\n</g>\n\n<g class=\"edge\" id=\"edge8\">\n<title>node2-&gt;node6</title>\n<path d=\"M255.2298,-129.842C251.7963,-125.8804 247.3763,-120.7804 243.544,-116.3585\" fill=\"none\" stroke=\"#444443\" stroke-width=\".3\" />\n<polygon fill=\"#444443\" points=\"244.4318,-115.2452 240.7541,-113.1394 242.3159,-117.0791 244.4318,-115.2452\" stroke=\"#444443\" stroke-width=\".3\" />\n</g>\n\n<g class=\"node\" id=\"node6\">\n<title>node9</title>\n<text fill=\"#444443\" font-family=\"Helvetica,sans-Serif\" font-size=\"12.00\" text-anchor=\"start\" x=\"335\" y=\"-133.4\">&#27231;&#22120;&#20104;&#38450;&#65403;&#65392;&#65419;&#65438;&#65405;@1.50</text>\n</g>\n\n\n<g class=\"node\" id=\"node4\">\n<title>node10</title>\n<text fill=\"#444443\" font-family=\"Helvetica,sans-Serif\" font-size=\"12.00\" text-anchor=\"start\" x=\"323.5\" y=\"-103.4\">&#36890;&#31639;&#25903;&#25173;&#38989;@354.57</text>\n</g>\n\n<g class=\"node\" id=\"node5\">\n<title>node13</title>\n<text fill=\"#444443\" font-family=\"Helvetica,sans-Serif\" font-size=\"12.00\" text-anchor=\"start\" x=\"446.5\" y=\"-103.4\">&#36890;&#31639;&#25903;&#25173;&#38989;@24.52</text>\n</g>\n\n\n<g class=\"node\" id=\"node20\">\n<title>leaf11</title>\n<polygon fill=\"none\" points=\"350.5,-83 283.5,-83 283.5,0 350.5,0 350.5,-83\" stroke=\"#444443\" stroke-width=\"0\" />\n<svg height=\"75px\" preserveAspectRatio=\"xMinYMin meet\" version=\"1.1\" viewBox=\"0 0 78.822929 100.834146\" width=\"59px\" x=\"288\" y=\"-78.5\">\n <defs>\n  <style type=\"text/css\">\n*{stroke-linecap:butt;stroke-linejoin:round;}\n  </style>\n </defs>\n <g id=\"figure_1\">\n  <g id=\"patch_1\">\n   <path d=\"M 0 100.834146  L 78.822929 100.834146  L 78.822929 -0  L 0 -0  z \" style=\"fill:#ffffff;\" />\n  </g>\n  <g id=\"axes_1\">\n   <g id=\"patch_2\">\n    <path d=\"M 78.822929 39.645003  C 78.822929 29.516986 74.903798 19.771722 67.891747 12.463654  C 60.879695 5.155587 51.304714 0.837081 41.185349 0.41854  C 31.065984 0 21.167087 3.51306 13.575489 10.217116  C 5.983891 16.921171 1.273388 26.309511 0.437022 36.402935  L 39.562929 39.645003  L 78.822929 39.645003  z \" style=\"fill:#fefebb;stroke:#444443;stroke-linejoin:miter;stroke-width:0.5;\" />\n   </g>\n   <g id=\"patch_3\">\n    <path d=\"M 0.437022 36.402935  C 0 41.677006 0.633853 46.985398 2.300392 52.008291  C 3.966931 57.031184 6.632003 61.66564 10.135042 65.632443  C 13.638082 69.599246 17.907298 72.8171 22.685479 75.092136  C 27.463661 77.367173 32.652884 78.652767 37.94051 78.871465  C 43.228135 79.090163 48.505798 78.237483 53.455531 76.364796  C 58.405264 74.492109 62.925627 71.637796 66.744278 67.97382  C 70.562929 64.309845 73.601609 59.911298 75.677243 55.043182  C 77.752878 50.175066 78.822929 44.937149 78.822929 39.645003  L 39.562929 39.645003  L 0.437022 36.402935  z \" style=\"fill:#a1dab4;stroke:#444443;stroke-linejoin:miter;stroke-width:0.5;\" />\n   </g>\n   <g id=\"text_1\">\n    \n    <defs>\n     <path d=\"M 54.890625 33.015625  L 54.890625 0  L 45.90625 0  L 45.90625 32.71875  Q 45.90625 40.484375 42.875 44.328125  Q 39.84375 48.1875 33.796875 48.1875  Q 26.515625 48.1875 22.3125 43.546875  Q 18.109375 38.921875 18.109375 30.90625  L 18.109375 0  L 9.078125 0  L 9.078125 54.6875  L 18.109375 54.6875  L 18.109375 46.1875  Q 21.34375 51.125 25.703125 53.5625  Q 30.078125 56 35.796875 56  Q 45.21875 56 50.046875 50.171875  Q 54.890625 44.34375 54.890625 33.015625  z \" id=\"DejaVuSans-110\" />\n     <path d=\"M 10.59375 45.40625  L 73.1875 45.40625  L 73.1875 37.203125  L 10.59375 37.203125  z M 10.59375 25.484375  L 73.1875 25.484375  L 73.1875 17.1875  L 10.59375 17.1875  z \" id=\"DejaVuSans-61\" />\n     <path d=\"M 40.578125 39.3125  Q 47.65625 37.796875 51.625 33  Q 55.609375 28.21875 55.609375 21.1875  Q 55.609375 10.40625 48.1875 4.484375  Q 40.765625 -1.421875 27.09375 -1.421875  Q 22.515625 -1.421875 17.65625 -0.515625  Q 12.796875 0.390625 7.625 2.203125  L 7.625 11.71875  Q 11.71875 9.328125 16.59375 8.109375  Q 21.484375 6.890625 26.8125 6.890625  Q 36.078125 6.890625 40.9375 10.546875  Q 45.796875 14.203125 45.796875 21.1875  Q 45.796875 27.640625 41.28125 31.265625  Q 36.765625 34.90625 28.71875 34.90625  L 20.21875 34.90625  L 20.21875 43.015625  L 29.109375 43.015625  Q 36.375 43.015625 40.234375 45.921875  Q 44.09375 48.828125 44.09375 54.296875  Q 44.09375 59.90625 40.109375 62.90625  Q 36.140625 65.921875 28.71875 65.921875  Q 24.65625 65.921875 20.015625 65.03125  Q 15.375 64.15625 9.8125 62.3125  L 9.8125 71.09375  Q 15.4375 72.65625 20.34375 73.4375  Q 25.25 74.21875 29.59375 74.21875  Q 40.828125 74.21875 47.359375 69.109375  Q 53.90625 64.015625 53.90625 55.328125  Q 53.90625 49.265625 50.4375 45.09375  Q 46.96875 40.921875 40.578125 39.3125  z \" id=\"DejaVuSans-51\" />\n     <path d=\"M 31.78125 66.40625  Q 24.171875 66.40625 20.328125 58.90625  Q 16.5 51.421875 16.5 36.375  Q 16.5 21.390625 20.328125 13.890625  Q 24.171875 6.390625 31.78125 6.390625  Q 39.453125 6.390625 43.28125 13.890625  Q 47.125 21.390625 47.125 36.375  Q 47.125 51.421875 43.28125 58.90625  Q 39.453125 66.40625 31.78125 66.40625  z M 31.78125 74.21875  Q 44.046875 74.21875 50.515625 64.515625  Q 56.984375 54.828125 56.984375 36.375  Q 56.984375 17.96875 50.515625 8.265625  Q 44.046875 -1.421875 31.78125 -1.421875  Q 19.53125 -1.421875 13.0625 8.265625  Q 6.59375 17.96875 6.59375 36.375  Q 6.59375 54.828125 13.0625 64.515625  Q 19.53125 74.21875 31.78125 74.21875  z \" id=\"DejaVuSans-48\" />\n     <path d=\"M 37.796875 64.3125  L 12.890625 25.390625  L 37.796875 25.390625  z M 35.203125 72.90625  L 47.609375 72.90625  L 47.609375 25.390625  L 58.015625 25.390625  L 58.015625 17.1875  L 47.609375 17.1875  L 47.609375 0  L 37.796875 0  L 37.796875 17.1875  L 4.890625 17.1875  L 4.890625 26.703125  z \" id=\"DejaVuSans-52\" />\n    </defs>\n    <g style=\"fill:#444443;\" transform=\"translate(24.35082 88.884396)scale(0.09 -0.09)\">\n     <use xlink:href=\"#DejaVuSans-110\" />\n     <use x=\"63.378906\" xlink:href=\"#DejaVuSans-61\" />\n     <use x=\"147.167969\" xlink:href=\"#DejaVuSans-51\" />\n     <use x=\"210.791016\" xlink:href=\"#DejaVuSans-48\" />\n     <use x=\"274.414062\" xlink:href=\"#DejaVuSans-52\" />\n    </g>\n    \n    <defs>\n     <path d=\"M 12.40625 8.296875  L 28.515625 8.296875  L 28.515625 63.921875  L 10.984375 60.40625  L 10.984375 69.390625  L 28.421875 72.90625  L 38.28125 72.90625  L 38.28125 8.296875  L 54.390625 8.296875  L 54.390625 0  L 12.40625 0  z \" id=\"DejaVuSans-49\" />\n    </defs>\n    <g style=\"fill:#444443;\" transform=\"translate(36.699804 98.962428)scale(0.09 -0.09)\">\n     <use xlink:href=\"#DejaVuSans-49\" />\n    </g>\n   </g>\n  </g>\n </g>\n</svg></g>\n\n<g class=\"edge\" id=\"edge10\">\n<title>node10-&gt;leaf11</title>\n<path d=\"M371.4719,-99.5439C366.9539,-94.7295 360.54,-87.895 353.6912,-80.5972\" fill=\"none\" stroke=\"#444443\" stroke-width=\".3\" />\n<polygon fill=\"#444443\" points=\"354.4919,-79.4045 350.7337,-77.4458 352.4501,-81.3206 354.4919,-79.4045\" stroke=\"#444443\" stroke-width=\".3\" />\n</g>\n\n<g class=\"node\" id=\"node21\">\n<title>leaf12</title>\n<polygon fill=\"none\" points=\"432,-83 364,-83 364,0 432,0 432,-83\" stroke=\"#444443\" stroke-width=\"0\" />\n<svg height=\"75px\" preserveAspectRatio=\"xMinYMin meet\" version=\"1.1\" viewBox=\"0 0 79.148719 100.866544\" width=\"60px\" x=\"368\" y=\"-78.5\">\n <defs>\n  <style type=\"text/css\">\n*{stroke-linecap:butt;stroke-linejoin:round;}\n  </style>\n </defs>\n <g id=\"figure_1\">\n  <g id=\"patch_1\">\n   <path d=\"M 0 100.866544  L 79.148719 100.866544  L 79.148719 0  L 0 0  z \" style=\"fill:#ffffff;\" />\n  </g>\n  <g id=\"axes_1\">\n   <g id=\"patch_2\">\n    <path d=\"M 79.148719 39.6774  C 79.148719 32.466319 77.161976 25.392735 73.407435 19.236184  C 69.652894 13.079633 64.273736 8.074896 57.862764 4.773513  C 51.451791 1.47213 44.253489 0 37.061134 0.519357  C 29.868779 1.038714 22.956655 3.529752 17.086502 7.71795  C 11.216349 11.906148 6.612027 17.631787 3.780949 24.263883  C 0.949871 30.895979 0 38.181614 1.036016 45.317885  C 2.072032 52.454156 5.054427 59.16892 9.654528 64.722186  C 14.25463 70.275452 20.297013 74.455444 27.115786 76.801513  L 39.888719 39.6774  L 79.148719 39.6774  z \" style=\"fill:#fefebb;stroke:#444443;stroke-linejoin:miter;stroke-width:0.5;\" />\n   </g>\n   <g id=\"patch_3\">\n    <path d=\"M 27.115786 76.801513  C 33.028067 78.835694 39.341633 79.428391 45.529204 78.530103  C 51.716775 77.631816 57.601165 75.268267 62.690937 71.636851  C 67.780708 68.005434 71.930111 63.210138 74.792606 57.651445  C 77.655101 52.092751 79.148719 45.929836 79.148719 39.6774  L 39.888719 39.6774  L 27.115786 76.801513  z \" style=\"fill:#a1dab4;stroke:#444443;stroke-linejoin:miter;stroke-width:0.5;\" />\n   </g>\n   <g id=\"text_1\">\n    \n    <defs>\n     <path d=\"M 54.890625 33.015625  L 54.890625 0  L 45.90625 0  L 45.90625 32.71875  Q 45.90625 40.484375 42.875 44.328125  Q 39.84375 48.1875 33.796875 48.1875  Q 26.515625 48.1875 22.3125 43.546875  Q 18.109375 38.921875 18.109375 30.90625  L 18.109375 0  L 9.078125 0  L 9.078125 54.6875  L 18.109375 54.6875  L 18.109375 46.1875  Q 21.34375 51.125 25.703125 53.5625  Q 30.078125 56 35.796875 56  Q 45.21875 56 50.046875 50.171875  Q 54.890625 44.34375 54.890625 33.015625  z \" id=\"DejaVuSans-110\" />\n     <path d=\"M 10.59375 45.40625  L 73.1875 45.40625  L 73.1875 37.203125  L 10.59375 37.203125  z M 10.59375 25.484375  L 73.1875 25.484375  L 73.1875 17.1875  L 10.59375 17.1875  z \" id=\"DejaVuSans-61\" />\n     <path d=\"M 8.203125 72.90625  L 55.078125 72.90625  L 55.078125 68.703125  L 28.609375 0  L 18.3125 0  L 43.21875 64.59375  L 8.203125 64.59375  z \" id=\"DejaVuSans-55\" />\n     <path d=\"M 40.578125 39.3125  Q 47.65625 37.796875 51.625 33  Q 55.609375 28.21875 55.609375 21.1875  Q 55.609375 10.40625 48.1875 4.484375  Q 40.765625 -1.421875 27.09375 -1.421875  Q 22.515625 -1.421875 17.65625 -0.515625  Q 12.796875 0.390625 7.625 2.203125  L 7.625 11.71875  Q 11.71875 9.328125 16.59375 8.109375  Q 21.484375 6.890625 26.8125 6.890625  Q 36.078125 6.890625 40.9375 10.546875  Q 45.796875 14.203125 45.796875 21.1875  Q 45.796875 27.640625 41.28125 31.265625  Q 36.765625 34.90625 28.71875 34.90625  L 20.21875 34.90625  L 20.21875 43.015625  L 29.109375 43.015625  Q 36.375 43.015625 40.234375 45.921875  Q 44.09375 48.828125 44.09375 54.296875  Q 44.09375 59.90625 40.109375 62.90625  Q 36.140625 65.921875 28.71875 65.921875  Q 24.65625 65.921875 20.015625 65.03125  Q 15.375 64.15625 9.8125 62.3125  L 9.8125 71.09375  Q 15.4375 72.65625 20.34375 73.4375  Q 25.25 74.21875 29.59375 74.21875  Q 40.828125 74.21875 47.359375 69.109375  Q 53.90625 64.015625 53.90625 55.328125  Q 53.90625 49.265625 50.4375 45.09375  Q 46.96875 40.921875 40.578125 39.3125  z \" id=\"DejaVuSans-51\" />\n     <path d=\"M 31.78125 66.40625  Q 24.171875 66.40625 20.328125 58.90625  Q 16.5 51.421875 16.5 36.375  Q 16.5 21.390625 20.328125 13.890625  Q 24.171875 6.390625 31.78125 6.390625  Q 39.453125 6.390625 43.28125 13.890625  Q 47.125 21.390625 47.125 36.375  Q 47.125 51.421875 43.28125 58.90625  Q 39.453125 66.40625 31.78125 66.40625  z M 31.78125 74.21875  Q 44.046875 74.21875 50.515625 64.515625  Q 56.984375 54.828125 56.984375 36.375  Q 56.984375 17.96875 50.515625 8.265625  Q 44.046875 -1.421875 31.78125 -1.421875  Q 19.53125 -1.421875 13.0625 8.265625  Q 6.59375 17.96875 6.59375 36.375  Q 6.59375 54.828125 13.0625 64.515625  Q 19.53125 74.21875 31.78125 74.21875  z \" id=\"DejaVuSans-48\" />\n    </defs>\n    <g style=\"fill:#444443;\" transform=\"translate(24.67661 88.916794)scale(0.09 -0.09)\">\n     <use xlink:href=\"#DejaVuSans-110\" />\n     <use x=\"63.378906\" xlink:href=\"#DejaVuSans-61\" />\n     <use x=\"147.167969\" xlink:href=\"#DejaVuSans-55\" />\n     <use x=\"210.791016\" xlink:href=\"#DejaVuSans-51\" />\n     <use x=\"274.414062\" xlink:href=\"#DejaVuSans-48\" />\n    </g>\n    \n    <g style=\"fill:#444443;\" transform=\"translate(37.025594 98.994825)scale(0.09 -0.09)\">\n     <use xlink:href=\"#DejaVuSans-48\" />\n    </g>\n   </g>\n  </g>\n </g>\n</svg></g>\n\n<g class=\"edge\" id=\"edge11\">\n<title>node10-&gt;leaf12</title>\n<path d=\"M380.1404,-99.5439C381.1638,-96.2176 382.484,-91.9271 383.9429,-87.1857\" fill=\"none\" stroke=\"#444443\" stroke-width=\".3\" />\n<polygon fill=\"#444443\" points=\"385.3592,-87.343 385.1975,-83.1081 382.683,-86.5195 385.3592,-87.343\" stroke=\"#444443\" stroke-width=\".3\" />\n</g>\n\n<g class=\"node\" id=\"node22\">\n<title>leaf14</title>\n<polygon fill=\"none\" points=\"506.5,-83 439.5,-83 439.5,0 506.5,0 506.5,-83\" stroke=\"#444443\" stroke-width=\"0\" />\n<svg height=\"75px\" preserveAspectRatio=\"xMinYMin meet\" version=\"1.1\" viewBox=\"0 0 78.965618 100.916354\" width=\"59px\" x=\"444\" y=\"-78.5\">\n <defs>\n  <style type=\"text/css\">\n*{stroke-linecap:butt;stroke-linejoin:round;}\n  </style>\n </defs>\n <g id=\"figure_1\">\n  <g id=\"patch_1\">\n   <path d=\"M 0 100.916354  L 78.965618 100.916354  L 78.965618 0  L 0 0  z \" style=\"fill:#ffffff;\" />\n  </g>\n  <g id=\"axes_1\">\n   <g id=\"patch_2\">\n    <path d=\"M 78.965618 39.727211  C 78.965618 33.327922 77.401015 27.024629 74.408529 21.368136  C 71.416042 15.711643 67.085453 10.871654 61.795184 7.271107  C 56.504915 3.670559 50.413684 1.417475 44.053764 0.708738  C 37.693844 0 31.256045 0.856872 25.302925 3.204478  C 19.349805 5.552083 14.059968 9.319989 9.89566 14.178942  C 5.731352 19.037896 2.81751 24.842119 1.408755 31.084419  C 0 37.326718 0.138598 43.819812 1.812438 49.996312  C 3.486277 56.172812 6.64514 61.847411 11.012994 66.524242  L 39.705618 39.727211  L 78.965618 39.727211  z \" style=\"fill:#fefebb;stroke:#444443;stroke-linejoin:miter;stroke-width:0.5;\" />\n   </g>\n   <g id=\"patch_3\">\n    <path d=\"M 11.012994 66.524242  C 16.390221 72.281849 23.377983 76.289767 31.062825 78.024074  C 38.747666 79.75838 46.779472 79.140061 54.108308 76.249945  C 61.437144 73.359828 67.729114 68.329586 72.161719 61.816781  C 76.594324 55.303976 78.965617 47.605327 78.965618 39.727218  L 39.705618 39.727211  L 11.012994 66.524242  z \" style=\"fill:#a1dab4;stroke:#444443;stroke-linejoin:miter;stroke-width:0.5;\" />\n   </g>\n   <g id=\"text_1\">\n    \n    <defs>\n     <path d=\"M 54.890625 33.015625  L 54.890625 0  L 45.90625 0  L 45.90625 32.71875  Q 45.90625 40.484375 42.875 44.328125  Q 39.84375 48.1875 33.796875 48.1875  Q 26.515625 48.1875 22.3125 43.546875  Q 18.109375 38.921875 18.109375 30.90625  L 18.109375 0  L 9.078125 0  L 9.078125 54.6875  L 18.109375 54.6875  L 18.109375 46.1875  Q 21.34375 51.125 25.703125 53.5625  Q 30.078125 56 35.796875 56  Q 45.21875 56 50.046875 50.171875  Q 54.890625 44.34375 54.890625 33.015625  z \" id=\"DejaVuSans-110\" />\n     <path d=\"M 10.59375 45.40625  L 73.1875 45.40625  L 73.1875 37.203125  L 10.59375 37.203125  z M 10.59375 25.484375  L 73.1875 25.484375  L 73.1875 17.1875  L 10.59375 17.1875  z \" id=\"DejaVuSans-61\" />\n     <path d=\"M 10.984375 1.515625  L 10.984375 10.5  Q 14.703125 8.734375 18.5 7.8125  Q 22.3125 6.890625 25.984375 6.890625  Q 35.75 6.890625 40.890625 13.453125  Q 46.046875 20.015625 46.78125 33.40625  Q 43.953125 29.203125 39.59375 26.953125  Q 35.25 24.703125 29.984375 24.703125  Q 19.046875 24.703125 12.671875 31.3125  Q 6.296875 37.9375 6.296875 49.421875  Q 6.296875 60.640625 12.9375 67.421875  Q 19.578125 74.21875 30.609375 74.21875  Q 43.265625 74.21875 49.921875 64.515625  Q 56.59375 54.828125 56.59375 36.375  Q 56.59375 19.140625 48.40625 8.859375  Q 40.234375 -1.421875 26.421875 -1.421875  Q 22.703125 -1.421875 18.890625 -0.6875  Q 15.09375 0.046875 10.984375 1.515625  z M 30.609375 32.421875  Q 37.25 32.421875 41.125 36.953125  Q 45.015625 41.5 45.015625 49.421875  Q 45.015625 57.28125 41.125 61.84375  Q 37.25 66.40625 30.609375 66.40625  Q 23.96875 66.40625 20.09375 61.84375  Q 16.21875 57.28125 16.21875 49.421875  Q 16.21875 41.5 20.09375 36.953125  Q 23.96875 32.421875 30.609375 32.421875  z \" id=\"DejaVuSans-57\" />\n     <path d=\"M 19.1875 8.296875  L 53.609375 8.296875  L 53.609375 0  L 7.328125 0  L 7.328125 8.296875  Q 12.9375 14.109375 22.625 23.890625  Q 32.328125 33.6875 34.8125 36.53125  Q 39.546875 41.84375 41.421875 45.53125  Q 43.3125 49.21875 43.3125 52.78125  Q 43.3125 58.59375 39.234375 62.25  Q 35.15625 65.921875 28.609375 65.921875  Q 23.96875 65.921875 18.8125 64.3125  Q 13.671875 62.703125 7.8125 59.421875  L 7.8125 69.390625  Q 13.765625 71.78125 18.9375 73  Q 24.125 74.21875 28.421875 74.21875  Q 39.75 74.21875 46.484375 68.546875  Q 53.21875 62.890625 53.21875 53.421875  Q 53.21875 48.921875 51.53125 44.890625  Q 49.859375 40.875 45.40625 35.40625  Q 44.1875 33.984375 37.640625 27.21875  Q 31.109375 20.453125 19.1875 8.296875  z \" id=\"DejaVuSans-50\" />\n    </defs>\n    <g style=\"fill:#444443;\" transform=\"translate(27.356634 88.966604)scale(0.09 -0.09)\">\n     <use xlink:href=\"#DejaVuSans-110\" />\n     <use x=\"63.378906\" xlink:href=\"#DejaVuSans-61\" />\n     <use x=\"147.167969\" xlink:href=\"#DejaVuSans-57\" />\n     <use x=\"210.791016\" xlink:href=\"#DejaVuSans-50\" />\n    </g>\n    \n    <defs>\n     <path d=\"M 31.78125 66.40625  Q 24.171875 66.40625 20.328125 58.90625  Q 16.5 51.421875 16.5 36.375  Q 16.5 21.390625 20.328125 13.890625  Q 24.171875 6.390625 31.78125 6.390625  Q 39.453125 6.390625 43.28125 13.890625  Q 47.125 21.390625 47.125 36.375  Q 47.125 51.421875 43.28125 58.90625  Q 39.453125 66.40625 31.78125 66.40625  z M 31.78125 74.21875  Q 44.046875 74.21875 50.515625 64.515625  Q 56.984375 54.828125 56.984375 36.375  Q 56.984375 17.96875 50.515625 8.265625  Q 44.046875 -1.421875 31.78125 -1.421875  Q 19.53125 -1.421875 13.0625 8.265625  Q 6.59375 17.96875 6.59375 36.375  Q 6.59375 54.828125 13.0625 64.515625  Q 19.53125 74.21875 31.78125 74.21875  z \" id=\"DejaVuSans-48\" />\n    </defs>\n    <g style=\"fill:#444443;\" transform=\"translate(36.842493 99.044636)scale(0.09 -0.09)\">\n     <use xlink:href=\"#DejaVuSans-48\" />\n    </g>\n   </g>\n  </g>\n </g>\n</svg></g>\n\n<g class=\"edge\" id=\"edge13\">\n<title>node13-&gt;leaf14</title>\n<path d=\"M495.3246,-99.5439C494.0197,-96.1511 492.3289,-91.7551 490.4618,-86.9007\" fill=\"none\" stroke=\"#444443\" stroke-width=\".3\" />\n<polygon fill=\"#444443\" points=\"491.7458,-86.3389 489.0031,-83.1081 489.1324,-87.3441 491.7458,-86.3389\" stroke=\"#444443\" stroke-width=\".3\" />\n</g>\n\n<g class=\"node\" id=\"node23\">\n<title>leaf15</title>\n<polygon fill=\"none\" points=\"587.5,-83 520.5,-83 520.5,0 587.5,0 587.5,-83\" stroke=\"#444443\" stroke-width=\"0\" />\n<svg height=\"75px\" preserveAspectRatio=\"xMinYMin meet\" version=\"1.1\" viewBox=\"0 0 78.536524 100.651648\" width=\"59px\" x=\"525\" y=\"-78.5\">\n <defs>\n  <style type=\"text/css\">\n*{stroke-linecap:butt;stroke-linejoin:round;}\n  </style>\n </defs>\n <g id=\"figure_1\">\n  <g id=\"patch_1\">\n   <path d=\"M -0 100.651648  L 78.536524 100.651648  L 78.536524 0  L -0 0  z \" style=\"fill:#ffffff;\" />\n  </g>\n  <g id=\"axes_1\">\n   <g id=\"patch_2\">\n    <path d=\"M 78.536524 39.462504  C 78.536524 34.888208 77.737077 30.348908 76.174329 26.049838  C 74.61158 21.750769 72.309442 17.75771 69.372 14.251199  C 66.434558 10.744688 62.906759 7.778379 58.948104 5.486387  C 54.989448 3.194394 50.660509 1.611788 46.157008 0.810123  C 41.653508 0.008458 37.044356 0 32.537943 0.785131  C 28.031531 1.570263 23.696812 3.13697 19.729772 5.414419  C 15.762731 7.691868 12.224069 10.645209 9.273778 14.140916  C 6.323486 17.636622 4.006709 21.621205 2.428193 25.91451  C 0.849677 30.207816 0.033576 34.744151 0.016788 39.318416  C 0 43.892681 0.782782 48.434884 2.329742 52.739661  C 3.876702 57.044437 6.164169 61.045918 9.088722 64.563186  C 12.013275 68.080454 15.530164 71.05969 19.480381 73.366196  C 23.430598 75.672702 27.7537 77.271184 32.254228 78.089372  C 36.754756 78.90756 41.363846 78.932934 45.873109 78.164347  C 50.382373 77.39576 54.722812 75.844972 58.698185 73.582098  C 62.673557 71.319224 66.223034 68.378889 69.186135 64.894034  L 39.276524 39.462504  L 78.536524 39.462504  z \" style=\"fill:#fefebb;stroke:#444443;stroke-linejoin:miter;stroke-width:0.5;\" />\n   </g>\n   <g id=\"patch_3\">\n    <path d=\"M 69.186135 64.894034  C 72.180586 61.372309 74.529637 57.349227 76.124854 53.010498  C 77.720071 48.671769 78.536523 44.085198 78.536524 39.462506  L 39.276524 39.462504  L 69.186135 64.894034  z \" style=\"fill:#a1dab4;stroke:#444443;stroke-linejoin:miter;stroke-width:0.5;\" />\n   </g>\n   <g id=\"text_1\">\n    \n    <defs>\n     <path d=\"M 54.890625 33.015625  L 54.890625 0  L 45.90625 0  L 45.90625 32.71875  Q 45.90625 40.484375 42.875 44.328125  Q 39.84375 48.1875 33.796875 48.1875  Q 26.515625 48.1875 22.3125 43.546875  Q 18.109375 38.921875 18.109375 30.90625  L 18.109375 0  L 9.078125 0  L 9.078125 54.6875  L 18.109375 54.6875  L 18.109375 46.1875  Q 21.34375 51.125 25.703125 53.5625  Q 30.078125 56 35.796875 56  Q 45.21875 56 50.046875 50.171875  Q 54.890625 44.34375 54.890625 33.015625  z \" id=\"DejaVuSans-110\" />\n     <path d=\"M 10.59375 45.40625  L 73.1875 45.40625  L 73.1875 37.203125  L 10.59375 37.203125  z M 10.59375 25.484375  L 73.1875 25.484375  L 73.1875 17.1875  L 10.59375 17.1875  z \" id=\"DejaVuSans-61\" />\n     <path d=\"M 19.1875 8.296875  L 53.609375 8.296875  L 53.609375 0  L 7.328125 0  L 7.328125 8.296875  Q 12.9375 14.109375 22.625 23.890625  Q 32.328125 33.6875 34.8125 36.53125  Q 39.546875 41.84375 41.421875 45.53125  Q 43.3125 49.21875 43.3125 52.78125  Q 43.3125 58.59375 39.234375 62.25  Q 35.15625 65.921875 28.609375 65.921875  Q 23.96875 65.921875 18.8125 64.3125  Q 13.671875 62.703125 7.8125 59.421875  L 7.8125 69.390625  Q 13.765625 71.78125 18.9375 73  Q 24.125 74.21875 28.421875 74.21875  Q 39.75 74.21875 46.484375 68.546875  Q 53.21875 62.890625 53.21875 53.421875  Q 53.21875 48.921875 51.53125 44.890625  Q 49.859375 40.875 45.40625 35.40625  Q 44.1875 33.984375 37.640625 27.21875  Q 31.109375 20.453125 19.1875 8.296875  z \" id=\"DejaVuSans-50\" />\n     <path d=\"M 12.40625 8.296875  L 28.515625 8.296875  L 28.515625 63.921875  L 10.984375 60.40625  L 10.984375 69.390625  L 28.421875 72.90625  L 38.28125 72.90625  L 38.28125 8.296875  L 54.390625 8.296875  L 54.390625 0  L 12.40625 0  z \" id=\"DejaVuSans-49\" />\n     <path d=\"M 37.796875 64.3125  L 12.890625 25.390625  L 37.796875 25.390625  z M 35.203125 72.90625  L 47.609375 72.90625  L 47.609375 25.390625  L 58.015625 25.390625  L 58.015625 17.1875  L 47.609375 17.1875  L 47.609375 0  L 37.796875 0  L 37.796875 17.1875  L 4.890625 17.1875  L 4.890625 26.703125  z \" id=\"DejaVuSans-52\" />\n    </defs>\n    <g style=\"fill:#444443;\" transform=\"translate(24.064414 88.701898)scale(0.09 -0.09)\">\n     <use xlink:href=\"#DejaVuSans-110\" />\n     <use x=\"63.378906\" xlink:href=\"#DejaVuSans-61\" />\n     <use x=\"147.167969\" xlink:href=\"#DejaVuSans-50\" />\n     <use x=\"210.791016\" xlink:href=\"#DejaVuSans-49\" />\n     <use x=\"274.414062\" xlink:href=\"#DejaVuSans-52\" />\n    </g>\n    \n    <defs>\n     <path d=\"M 31.78125 66.40625  Q 24.171875 66.40625 20.328125 58.90625  Q 16.5 51.421875 16.5 36.375  Q 16.5 21.390625 20.328125 13.890625  Q 24.171875 6.390625 31.78125 6.390625  Q 39.453125 6.390625 43.28125 13.890625  Q 47.125 21.390625 47.125 36.375  Q 47.125 51.421875 43.28125 58.90625  Q 39.453125 66.40625 31.78125 66.40625  z M 31.78125 74.21875  Q 44.046875 74.21875 50.515625 64.515625  Q 56.984375 54.828125 56.984375 36.375  Q 56.984375 17.96875 50.515625 8.265625  Q 44.046875 -1.421875 31.78125 -1.421875  Q 19.53125 -1.421875 13.0625 8.265625  Q 6.59375 17.96875 6.59375 36.375  Q 6.59375 54.828125 13.0625 64.515625  Q 19.53125 74.21875 31.78125 74.21875  z \" id=\"DejaVuSans-48\" />\n    </defs>\n    <g style=\"fill:#444443;\" transform=\"translate(36.413399 98.779929)scale(0.09 -0.09)\">\n     <use xlink:href=\"#DejaVuSans-48\" />\n    </g>\n   </g>\n  </g>\n </g>\n</svg></g>\n\n<g class=\"edge\" id=\"edge14\">\n<title>node13-&gt;leaf15</title>\n<path d=\"M503.993,-99.5439C507.5817,-95.3784 512.4733,-89.7006 517.7991,-83.5189\" fill=\"none\" stroke=\"#444443\" stroke-width=\".3\" />\n<polygon fill=\"#444443\" points=\"518.8944,-84.3925 520.4446,-80.4482 516.7731,-82.5649 518.8944,-84.3925\" stroke=\"#444443\" stroke-width=\".3\" />\n</g>\n\n<g class=\"edge\" id=\"edge16\">\n<title>node9-&gt;node10</title>\n<path d=\"M388.8929,-129.842C387.1167,-126.0357 384.85,-121.1786 382.8448,-116.8817\" fill=\"none\" stroke=\"#444443\" stroke-width=\".3\" />\n<polygon fill=\"#444443\" points=\"384.0586,-116.172 381.0984,-113.1394 381.5213,-117.3562 384.0586,-116.172\" stroke=\"#444443\" stroke-width=\".3\" />\n</g>\n\n<g class=\"edge\" id=\"edge17\">\n<title>node9-&gt;node13</title>\n<path d=\"M415.0004,-129.9904C431.2789,-125.3833 453.1871,-119.1829 470.4076,-114.3092\" fill=\"none\" stroke=\"#444443\" stroke-width=\".3\" />\n<polygon fill=\"#444443\" points=\"471.2109,-115.5369 474.6784,-113.1004 470.4483,-112.8427 471.2109,-115.5369\" stroke=\"#444443\" stroke-width=\".3\" />\n</g>\n\n<g class=\"node\" id=\"node7\">\n<title>node1</title>\n<text fill=\"#444443\" font-family=\"Helvetica,sans-Serif\" font-size=\"12.00\" text-anchor=\"start\" x=\"442\" y=\"-163.4\">&#25903;&#25173;&#26041;&#27861;@0.50</text>\n</g>\n\n<g class=\"edge\" id=\"edge19\">\n<title>node1-&gt;node2</title>\n<path d=\"M441.7932,-160.822C405.4878,-155.9378 352.9434,-148.8691 313.848,-143.6096\" fill=\"none\" stroke=\"#444443\" stroke-width=\".3\" />\n<polygon fill=\"#444443\" points=\"313.7804,-142.188 309.6294,-143.0421 313.407,-144.963 313.7804,-142.188\" stroke=\"#444443\" stroke-width=\".3\" />\n</g>\n\n<g class=\"edge\" id=\"edge20\">\n<title>node1-&gt;node9</title>\n<path d=\"M464.0374,-159.9904C450.0286,-155.4224 431.2162,-149.2879 416.329,-144.4334\" fill=\"none\" stroke=\"#444443\" stroke-width=\".3\" />\n<polygon fill=\"#444443\" points=\"416.4783,-143.0096 412.2414,-143.1004 415.6102,-145.6716 416.4783,-143.0096\" stroke=\"#444443\" stroke-width=\".3\" />\n</g>\n\n<g class=\"node\" id=\"node14\">\n<title>node16</title>\n<text fill=\"#444443\" font-family=\"Helvetica,sans-Serif\" font-size=\"12.00\" text-anchor=\"start\" x=\"576\" y=\"-163.4\">&#22865;&#32004;&#24418;&#24907;@1.50</text>\n</g>\n\n\n<g class=\"node\" id=\"node8\">\n<title>node18</title>\n<text fill=\"#444443\" font-family=\"Helvetica,sans-Serif\" font-size=\"12.00\" text-anchor=\"start\" x=\"572.5\" y=\"-103.4\">&#36890;&#31639;&#25903;&#25173;&#38989;@37.08</text>\n</g>\n\n<g class=\"node\" id=\"node9\">\n<title>node21</title>\n<text fill=\"#444443\" font-family=\"Helvetica,sans-Serif\" font-size=\"12.00\" text-anchor=\"start\" x=\"689\" y=\"-103.4\">&#36890;&#31639;&#25903;&#25173;&#38989;@7652.20</text>\n</g>\n\n\n<g class=\"node\" id=\"node24\">\n<title>leaf19</title>\n<polygon fill=\"none\" points=\"617.5,-60 594.5,-60 594.5,-23 617.5,-23 617.5,-60\" stroke=\"#444443\" stroke-width=\"0\" />\n<svg height=\"29px\" preserveAspectRatio=\"xMinYMin meet\" version=\"1.1\" viewBox=\"0 0 19.029163 38.442607\" width=\"15px\" x=\"599\" y=\"-55.5\">\n <defs>\n  <style type=\"text/css\">\n*{stroke-linecap:butt;stroke-linejoin:round;}\n  </style>\n </defs>\n <g id=\"figure_1\">\n  <g id=\"patch_1\">\n   <path d=\"M 0 38.442607  L 19.029163 38.442607  L 19.029163 0  L 0 0  z \" style=\"fill:#ffffff;\" />\n  </g>\n  <g id=\"axes_1\">\n   <g id=\"patch_2\">\n    <path d=\"M 18.905303 9.543303  C 18.905303 7.691896 18.356109 5.881444 17.327522 4.342055  C 16.298935 2.802666 14.836463 1.602446 13.125986 0.893943  C 11.415509 0.18544 9.532701 -0 7.716868 0.361192  C 5.901035 0.722383 4.232512 1.614227 2.92337 2.92337  C 1.614227 4.232512 0.722383 5.901035 0.361192 7.716868  C 0 9.532701 0.18544 11.415509 0.893943 13.125986  C 1.602446 14.836463 2.802666 16.298935 4.342055 17.327522  C 5.881444 18.356109 7.691896 18.905303 9.543303 18.905303  L 9.543303 9.543303  L 18.905303 9.543303  z \" style=\"fill:#fefebb;stroke:#444443;stroke-linejoin:miter;stroke-width:0.5;\" />\n   </g>\n   <g id=\"patch_3\">\n    <path d=\"M 9.543303 18.905303  C 12.025308 18.905303 14.408195 17.918279 16.163237 16.163237  C 17.918279 14.408195 18.905303 12.025308 18.905303 9.543303  L 9.543303 9.543303  L 9.543303 18.905303  z \" style=\"fill:#a1dab4;stroke:#444443;stroke-linejoin:miter;stroke-width:0.5;\" />\n   </g>\n   <g id=\"text_1\">\n    \n    <defs>\n     <path d=\"M 54.890625 33.015625  L 54.890625 0  L 45.90625 0  L 45.90625 32.71875  Q 45.90625 40.484375 42.875 44.328125  Q 39.84375 48.1875 33.796875 48.1875  Q 26.515625 48.1875 22.3125 43.546875  Q 18.109375 38.921875 18.109375 30.90625  L 18.109375 0  L 9.078125 0  L 9.078125 54.6875  L 18.109375 54.6875  L 18.109375 46.1875  Q 21.34375 51.125 25.703125 53.5625  Q 30.078125 56 35.796875 56  Q 45.21875 56 50.046875 50.171875  Q 54.890625 44.34375 54.890625 33.015625  z \" id=\"DejaVuSans-110\" />\n     <path d=\"M 10.59375 45.40625  L 73.1875 45.40625  L 73.1875 37.203125  L 10.59375 37.203125  z M 10.59375 25.484375  L 73.1875 25.484375  L 73.1875 17.1875  L 10.59375 17.1875  z \" id=\"DejaVuSans-61\" />\n     <path d=\"M 31.78125 34.625  Q 24.75 34.625 20.71875 30.859375  Q 16.703125 27.09375 16.703125 20.515625  Q 16.703125 13.921875 20.71875 10.15625  Q 24.75 6.390625 31.78125 6.390625  Q 38.8125 6.390625 42.859375 10.171875  Q 46.921875 13.96875 46.921875 20.515625  Q 46.921875 27.09375 42.890625 30.859375  Q 38.875 34.625 31.78125 34.625  z M 21.921875 38.8125  Q 15.578125 40.375 12.03125 44.71875  Q 8.5 49.078125 8.5 55.328125  Q 8.5 64.0625 14.71875 69.140625  Q 20.953125 74.21875 31.78125 74.21875  Q 42.671875 74.21875 48.875 69.140625  Q 55.078125 64.0625 55.078125 55.328125  Q 55.078125 49.078125 51.53125 44.71875  Q 48 40.375 41.703125 38.8125  Q 48.828125 37.15625 52.796875 32.3125  Q 56.78125 27.484375 56.78125 20.515625  Q 56.78125 9.90625 50.3125 4.234375  Q 43.84375 -1.421875 31.78125 -1.421875  Q 19.734375 -1.421875 13.25 4.234375  Q 6.78125 9.90625 6.78125 20.515625  Q 6.78125 27.484375 10.78125 32.3125  Q 14.796875 37.15625 21.921875 38.8125  z M 18.3125 54.390625  Q 18.3125 48.734375 21.84375 45.5625  Q 25.390625 42.390625 31.78125 42.390625  Q 38.140625 42.390625 41.71875 45.5625  Q 45.3125 48.734375 45.3125 54.390625  Q 45.3125 60.0625 41.71875 63.234375  Q 38.140625 66.40625 31.78125 66.40625  Q 25.390625 66.40625 21.84375 63.234375  Q 18.3125 60.0625 18.3125 54.390625  z \" id=\"DejaVuSans-56\" />\n    </defs>\n    <g style=\"fill:#444443;\" transform=\"translate(0.057444 26.492857)scale(0.09 -0.09)\">\n     <use xlink:href=\"#DejaVuSans-110\" />\n     <use x=\"63.378906\" xlink:href=\"#DejaVuSans-61\" />\n     <use x=\"147.167969\" xlink:href=\"#DejaVuSans-56\" />\n    </g>\n    \n    <defs>\n     <path d=\"M 31.78125 66.40625  Q 24.171875 66.40625 20.328125 58.90625  Q 16.5 51.421875 16.5 36.375  Q 16.5 21.390625 20.328125 13.890625  Q 24.171875 6.390625 31.78125 6.390625  Q 39.453125 6.390625 43.28125 13.890625  Q 47.125 21.390625 47.125 36.375  Q 47.125 51.421875 43.28125 58.90625  Q 39.453125 66.40625 31.78125 66.40625  z M 31.78125 74.21875  Q 44.046875 74.21875 50.515625 64.515625  Q 56.984375 54.828125 56.984375 36.375  Q 56.984375 17.96875 50.515625 8.265625  Q 44.046875 -1.421875 31.78125 -1.421875  Q 19.53125 -1.421875 13.0625 8.265625  Q 6.59375 17.96875 6.59375 36.375  Q 6.59375 54.828125 13.0625 64.515625  Q 19.53125 74.21875 31.78125 74.21875  z \" id=\"DejaVuSans-48\" />\n    </defs>\n    <g style=\"fill:#444443;\" transform=\"translate(6.680178 36.570888)scale(0.09 -0.09)\">\n     <use xlink:href=\"#DejaVuSans-48\" />\n    </g>\n   </g>\n  </g>\n </g>\n</svg></g>\n\n<g class=\"edge\" id=\"edge22\">\n<title>node18-&gt;leaf19</title>\n<path d=\"M622.0737,-99.5439C619.7596,-91.1874 615.76,-76.7444 612.3295,-64.3567\" fill=\"none\" stroke=\"#444443\" stroke-width=\".3\" />\n<polygon fill=\"#444443\" points=\"613.6081,-63.7274 611.1912,-60.2462 610.9096,-64.4748 613.6081,-63.7274\" stroke=\"#444443\" stroke-width=\".3\" />\n</g>\n\n<g class=\"node\" id=\"node25\">\n<title>leaf20</title>\n<polygon fill=\"none\" points=\"698.5,-83 631.5,-83 631.5,0 698.5,0 698.5,-83\" stroke=\"#444443\" stroke-width=\"0\" />\n<svg height=\"75px\" preserveAspectRatio=\"xMinYMin meet\" version=\"1.1\" viewBox=\"0 0 78.81955 100.701051\" width=\"59px\" x=\"636\" y=\"-78.5\">\n <defs>\n  <style type=\"text/css\">\n*{stroke-linecap:butt;stroke-linejoin:round;}\n  </style>\n </defs>\n <g id=\"figure_1\">\n  <g id=\"patch_1\">\n   <path d=\"M 0 100.701051  L 78.81955 100.701051  L 78.81955 0  L 0 0  z \" style=\"fill:#ffffff;\" />\n  </g>\n  <g id=\"axes_1\">\n   <g id=\"patch_2\">\n    <path d=\"M 78.81955 39.511907  C 78.81955 34.59377 77.895401 29.719142 76.095303 25.142274  C 74.295206 20.565406 71.651011 16.367278 68.300633 12.766856  C 64.950255 9.166433 60.952975 6.22742 56.517281 4.10311  C 52.081588 1.978799 47.285965 0.706776 42.38054 0.353388  C 37.475116 0 32.546684 0.571499 27.852302 2.038077  C 23.15792 3.504655 18.780648 5.840363 14.948794 8.923375  C 11.11694 12.006388 7.898303 15.782156 5.46076 20.053743  C 3.023218 24.325331 1.409898 29.017158 0.704949 33.884511  C 0 38.751863 0.215894 43.70862 1.341371 48.496247  C 2.466847 53.283874 4.481993 57.817662 7.281703 61.861139  C 10.081412 65.904615 13.616148 69.386236 17.701547 72.124409  C 21.786945 74.862582 26.350722 76.808858 31.154839 77.861724  C 35.958957 78.91459 40.918414 79.055417 45.774536 78.27686  C 50.630658 77.498303 55.297523 75.814137 59.531718 73.312204  C 63.765913 70.810272 67.49252 67.534841 70.517168 63.656751  C 73.541815 59.778662 75.810986 55.36653 77.206326 50.650483  L 39.55955 39.511907  L 78.81955 39.511907  z \" style=\"fill:#fefebb;stroke:#444443;stroke-linejoin:miter;stroke-width:0.5;\" />\n   </g>\n   <g id=\"patch_3\">\n    <path d=\"M 77.206326 50.650483  C 77.740584 48.844769 78.144234 47.002954 78.414151 45.139307  C 78.684067 43.27566 78.81955 41.395006 78.81955 39.511914  L 39.55955 39.511907  L 77.206326 50.650483  z \" style=\"fill:#a1dab4;stroke:#444443;stroke-linejoin:miter;stroke-width:0.5;\" />\n   </g>\n   <g id=\"text_1\">\n    \n    <defs>\n     <path d=\"M 54.890625 33.015625  L 54.890625 0  L 45.90625 0  L 45.90625 32.71875  Q 45.90625 40.484375 42.875 44.328125  Q 39.84375 48.1875 33.796875 48.1875  Q 26.515625 48.1875 22.3125 43.546875  Q 18.109375 38.921875 18.109375 30.90625  L 18.109375 0  L 9.078125 0  L 9.078125 54.6875  L 18.109375 54.6875  L 18.109375 46.1875  Q 21.34375 51.125 25.703125 53.5625  Q 30.078125 56 35.796875 56  Q 45.21875 56 50.046875 50.171875  Q 54.890625 44.34375 54.890625 33.015625  z \" id=\"DejaVuSans-110\" />\n     <path d=\"M 10.59375 45.40625  L 73.1875 45.40625  L 73.1875 37.203125  L 10.59375 37.203125  z M 10.59375 25.484375  L 73.1875 25.484375  L 73.1875 17.1875  L 10.59375 17.1875  z \" id=\"DejaVuSans-61\" />\n     <path d=\"M 37.796875 64.3125  L 12.890625 25.390625  L 37.796875 25.390625  z M 35.203125 72.90625  L 47.609375 72.90625  L 47.609375 25.390625  L 58.015625 25.390625  L 58.015625 17.1875  L 47.609375 17.1875  L 47.609375 0  L 37.796875 0  L 37.796875 17.1875  L 4.890625 17.1875  L 4.890625 26.703125  z \" id=\"DejaVuSans-52\" />\n     <path d=\"M 12.40625 8.296875  L 28.515625 8.296875  L 28.515625 63.921875  L 10.984375 60.40625  L 10.984375 69.390625  L 28.421875 72.90625  L 38.28125 72.90625  L 38.28125 8.296875  L 54.390625 8.296875  L 54.390625 0  L 12.40625 0  z \" id=\"DejaVuSans-49\" />\n     <path d=\"M 10.796875 72.90625  L 49.515625 72.90625  L 49.515625 64.59375  L 19.828125 64.59375  L 19.828125 46.734375  Q 21.96875 47.46875 24.109375 47.828125  Q 26.265625 48.1875 28.421875 48.1875  Q 40.625 48.1875 47.75 41.5  Q 54.890625 34.8125 54.890625 23.390625  Q 54.890625 11.625 47.5625 5.09375  Q 40.234375 -1.421875 26.90625 -1.421875  Q 22.3125 -1.421875 17.546875 -0.640625  Q 12.796875 0.140625 7.71875 1.703125  L 7.71875 11.625  Q 12.109375 9.234375 16.796875 8.0625  Q 21.484375 6.890625 26.703125 6.890625  Q 35.15625 6.890625 40.078125 11.328125  Q 45.015625 15.765625 45.015625 23.390625  Q 45.015625 31 40.078125 35.4375  Q 35.15625 39.890625 26.703125 39.890625  Q 22.75 39.890625 18.8125 39.015625  Q 14.890625 38.140625 10.796875 36.28125  z \" id=\"DejaVuSans-53\" />\n    </defs>\n    <g style=\"fill:#444443;\" transform=\"translate(24.347441 88.751301)scale(0.09 -0.09)\">\n     <use xlink:href=\"#DejaVuSans-110\" />\n     <use x=\"63.378906\" xlink:href=\"#DejaVuSans-61\" />\n     <use x=\"147.167969\" xlink:href=\"#DejaVuSans-52\" />\n     <use x=\"210.791016\" xlink:href=\"#DejaVuSans-49\" />\n     <use x=\"274.414062\" xlink:href=\"#DejaVuSans-53\" />\n    </g>\n    \n    <defs>\n     <path d=\"M 31.78125 66.40625  Q 24.171875 66.40625 20.328125 58.90625  Q 16.5 51.421875 16.5 36.375  Q 16.5 21.390625 20.328125 13.890625  Q 24.171875 6.390625 31.78125 6.390625  Q 39.453125 6.390625 43.28125 13.890625  Q 47.125 21.390625 47.125 36.375  Q 47.125 51.421875 43.28125 58.90625  Q 39.453125 66.40625 31.78125 66.40625  z M 31.78125 74.21875  Q 44.046875 74.21875 50.515625 64.515625  Q 56.984375 54.828125 56.984375 36.375  Q 56.984375 17.96875 50.515625 8.265625  Q 44.046875 -1.421875 31.78125 -1.421875  Q 19.53125 -1.421875 13.0625 8.265625  Q 6.59375 17.96875 6.59375 36.375  Q 6.59375 54.828125 13.0625 64.515625  Q 19.53125 74.21875 31.78125 74.21875  z \" id=\"DejaVuSans-48\" />\n    </defs>\n    <g style=\"fill:#444443;\" transform=\"translate(36.696425 98.829332)scale(0.09 -0.09)\">\n     <use xlink:href=\"#DejaVuSans-48\" />\n    </g>\n   </g>\n  </g>\n </g>\n</svg></g>\n\n<g class=\"edge\" id=\"edge23\">\n<title>node18-&gt;leaf20</title>\n<path d=\"M628.3877,-99.5439C630.5697,-96.0846 633.4096,-91.5823 636.5431,-86.6146\" fill=\"none\" stroke=\"#444443\" stroke-width=\".3\" />\n<polygon fill=\"#444443\" points=\"637.8049,-87.2383 638.7549,-83.1081 635.4367,-85.7444 637.8049,-87.2383\" stroke=\"#444443\" stroke-width=\".3\" />\n</g>\n\n<g class=\"node\" id=\"node26\">\n<title>leaf22</title>\n<polygon fill=\"none\" points=\"772.5,-83 705.5,-83 705.5,0 772.5,0 772.5,-83\" stroke=\"#444443\" stroke-width=\"0\" />\n<svg height=\"75px\" preserveAspectRatio=\"xMinYMin meet\" version=\"1.1\" viewBox=\"0 0 78.712802 100.677541\" width=\"59px\" x=\"710\" y=\"-78.5\">\n <defs>\n  <style type=\"text/css\">\n*{stroke-linecap:butt;stroke-linejoin:round;}\n  </style>\n </defs>\n <g id=\"figure_1\">\n  <g id=\"patch_1\">\n   <path d=\"M 0 100.677541  L 78.712802 100.677541  L 78.712802 -0  L 0 -0  z \" style=\"fill:#ffffff;\" />\n  </g>\n  <g id=\"axes_1\">\n   <g id=\"patch_2\">\n    <path d=\"M 78.712802 39.488398  C 78.712802 35.141731 77.990941 30.825086 76.576727 26.714915  C 75.162512 22.604744 73.075479 18.757823 70.40094 15.331403  C 67.726401 11.904984 64.501301 8.946397 60.857473 6.576581  C 57.213645 4.206765 53.201423 2.458457 48.984816 1.403121  C 44.768209 0.347785 40.405463 0 36.074915 0.373982  C 31.744367 0.747965 27.505837 1.838549 23.532585 3.601154  C 19.559332 5.363759 15.906243 7.774037 12.722644 10.733464  C 9.539044 13.692891 6.868913 17.160584 4.821396 20.994797  C 2.773879 24.829009 1.37726 28.976775 0.68863 33.268546  C 0 37.560318 0.028871 41.936808 0.774062 46.219121  C 1.519253 50.501433 2.970471 54.630413 5.068395 58.437279  C 7.166318 62.244145 9.881966 65.67631 13.104332 68.593478  C 16.326698 71.510646 20.011268 73.87252 24.007429 75.582553  C 28.003589 77.292586 32.256138 78.327156 36.591243 78.643973  C 40.926348 78.96079 45.284126 78.555478 49.486443 77.444605  C 53.688761 76.333731 57.677568 74.532642 61.289814 72.114959  L 39.452802 39.488398  L 78.712802 39.488398  z \" style=\"fill:#fefebb;stroke:#444443;stroke-linejoin:miter;stroke-width:0.5;\" />\n   </g>\n   <g id=\"patch_3\">\n    <path d=\"M 61.289814 72.114959  C 66.650693 68.526914 71.04552 63.672295 74.084208 57.982  C 77.122897 52.291704 78.712802 45.939222 78.712802 39.488401  L 39.452802 39.488398  L 61.289814 72.114959  z \" style=\"fill:#a1dab4;stroke:#444443;stroke-linejoin:miter;stroke-width:0.5;\" />\n   </g>\n   <g id=\"text_1\">\n    \n    <defs>\n     <path d=\"M 54.890625 33.015625  L 54.890625 0  L 45.90625 0  L 45.90625 32.71875  Q 45.90625 40.484375 42.875 44.328125  Q 39.84375 48.1875 33.796875 48.1875  Q 26.515625 48.1875 22.3125 43.546875  Q 18.109375 38.921875 18.109375 30.90625  L 18.109375 0  L 9.078125 0  L 9.078125 54.6875  L 18.109375 54.6875  L 18.109375 46.1875  Q 21.34375 51.125 25.703125 53.5625  Q 30.078125 56 35.796875 56  Q 45.21875 56 50.046875 50.171875  Q 54.890625 44.34375 54.890625 33.015625  z \" id=\"DejaVuSans-110\" />\n     <path d=\"M 10.59375 45.40625  L 73.1875 45.40625  L 73.1875 37.203125  L 10.59375 37.203125  z M 10.59375 25.484375  L 73.1875 25.484375  L 73.1875 17.1875  L 10.59375 17.1875  z \" id=\"DejaVuSans-61\" />\n     <path d=\"M 10.796875 72.90625  L 49.515625 72.90625  L 49.515625 64.59375  L 19.828125 64.59375  L 19.828125 46.734375  Q 21.96875 47.46875 24.109375 47.828125  Q 26.265625 48.1875 28.421875 48.1875  Q 40.625 48.1875 47.75 41.5  Q 54.890625 34.8125 54.890625 23.390625  Q 54.890625 11.625 47.5625 5.09375  Q 40.234375 -1.421875 26.90625 -1.421875  Q 22.3125 -1.421875 17.546875 -0.640625  Q 12.796875 0.140625 7.71875 1.703125  L 7.71875 11.625  Q 12.109375 9.234375 16.796875 8.0625  Q 21.484375 6.890625 26.703125 6.890625  Q 35.15625 6.890625 40.078125 11.328125  Q 45.015625 15.765625 45.015625 23.390625  Q 45.015625 31 40.078125 35.4375  Q 35.15625 39.890625 26.703125 39.890625  Q 22.75 39.890625 18.8125 39.015625  Q 14.890625 38.140625 10.796875 36.28125  z \" id=\"DejaVuSans-53\" />\n     <path d=\"M 31.78125 66.40625  Q 24.171875 66.40625 20.328125 58.90625  Q 16.5 51.421875 16.5 36.375  Q 16.5 21.390625 20.328125 13.890625  Q 24.171875 6.390625 31.78125 6.390625  Q 39.453125 6.390625 43.28125 13.890625  Q 47.125 21.390625 47.125 36.375  Q 47.125 51.421875 43.28125 58.90625  Q 39.453125 66.40625 31.78125 66.40625  z M 31.78125 74.21875  Q 44.046875 74.21875 50.515625 64.515625  Q 56.984375 54.828125 56.984375 36.375  Q 56.984375 17.96875 50.515625 8.265625  Q 44.046875 -1.421875 31.78125 -1.421875  Q 19.53125 -1.421875 13.0625 8.265625  Q 6.59375 17.96875 6.59375 36.375  Q 6.59375 54.828125 13.0625 64.515625  Q 19.53125 74.21875 31.78125 74.21875  z \" id=\"DejaVuSans-48\" />\n     <path d=\"M 33.015625 40.375  Q 26.375 40.375 22.484375 35.828125  Q 18.609375 31.296875 18.609375 23.390625  Q 18.609375 15.53125 22.484375 10.953125  Q 26.375 6.390625 33.015625 6.390625  Q 39.65625 6.390625 43.53125 10.953125  Q 47.40625 15.53125 47.40625 23.390625  Q 47.40625 31.296875 43.53125 35.828125  Q 39.65625 40.375 33.015625 40.375  z M 52.59375 71.296875  L 52.59375 62.3125  Q 48.875 64.0625 45.09375 64.984375  Q 41.3125 65.921875 37.59375 65.921875  Q 27.828125 65.921875 22.671875 59.328125  Q 17.53125 52.734375 16.796875 39.40625  Q 19.671875 43.65625 24.015625 45.921875  Q 28.375 48.1875 33.59375 48.1875  Q 44.578125 48.1875 50.953125 41.515625  Q 57.328125 34.859375 57.328125 23.390625  Q 57.328125 12.15625 50.6875 5.359375  Q 44.046875 -1.421875 33.015625 -1.421875  Q 20.359375 -1.421875 13.671875 8.265625  Q 6.984375 17.96875 6.984375 36.375  Q 6.984375 53.65625 15.1875 63.9375  Q 23.390625 74.21875 37.203125 74.21875  Q 40.921875 74.21875 44.703125 73.484375  Q 48.484375 72.75 52.59375 71.296875  z \" id=\"DejaVuSans-54\" />\n    </defs>\n    <g style=\"fill:#444443;\" transform=\"translate(24.240693 88.727791)scale(0.09 -0.09)\">\n     <use xlink:href=\"#DejaVuSans-110\" />\n     <use x=\"63.378906\" xlink:href=\"#DejaVuSans-61\" />\n     <use x=\"147.167969\" xlink:href=\"#DejaVuSans-53\" />\n     <use x=\"210.791016\" xlink:href=\"#DejaVuSans-48\" />\n     <use x=\"274.414062\" xlink:href=\"#DejaVuSans-54\" />\n    </g>\n    \n    <g style=\"fill:#444443;\" transform=\"translate(36.589677 98.805823)scale(0.09 -0.09)\">\n     <use xlink:href=\"#DejaVuSans-48\" />\n    </g>\n   </g>\n  </g>\n </g>\n</svg></g>\n\n<g class=\"edge\" id=\"edge25\">\n<title>node21-&gt;leaf22</title>\n<path d=\"M746.1439,-99.5439C745.7345,-96.2176 745.2064,-91.9271 744.6229,-87.1857\" fill=\"none\" stroke=\"#444443\" stroke-width=\".3\" />\n<polygon fill=\"#444443\" points=\"745.9992,-86.9071 744.121,-83.1081 743.2202,-87.2492 745.9992,-86.9071\" stroke=\"#444443\" stroke-width=\".3\" />\n</g>\n\n<g class=\"node\" id=\"node27\">\n<title>leaf23</title>\n<polygon fill=\"none\" points=\"808,-60 786,-60 786,-23 808,-23 808,-60\" stroke=\"#444443\" stroke-width=\"0\" />\n<svg height=\"29px\" preserveAspectRatio=\"xMinYMin meet\" version=\"1.1\" viewBox=\"0 0 18.971719 38.442607\" width=\"14px\" x=\"790\" y=\"-55.5\">\n <defs>\n  <style type=\"text/css\">\n*{stroke-linecap:butt;stroke-linejoin:round;}\n  </style>\n </defs>\n <g id=\"figure_1\">\n  <g id=\"patch_1\">\n   <path d=\"M 0 38.442607  L 18.971719 38.442607  L 18.971719 0  L 0 0  z \" style=\"fill:#ffffff;\" />\n  </g>\n  <g id=\"axes_1\">\n   <g id=\"patch_2\">\n    <path d=\"M 18.847859 9.543303  C 18.847859 7.691896 18.298665 5.881444 17.270078 4.342055  C 16.241491 2.802666 14.779019 1.602446 13.068542 0.893943  C 11.358065 0.18544 9.475257 -0 7.659424 0.361192  C 5.843591 0.722383 4.175068 1.614227 2.865926 2.92337  L 9.485859 9.543303  L 18.847859 9.543303  z \" style=\"fill:#fefebb;stroke:#444443;stroke-linejoin:miter;stroke-width:0.5;\" />\n   </g>\n   <g id=\"patch_3\">\n    <path d=\"M 2.865926 2.92337  C 1.777334 4.011962 0.973878 5.352447 0.526984 6.825658  C 0.08009 8.29887 0.003406 9.859818 0.303748 11.369739  C 0.604089 12.87966 1.272286 14.292442 2.248936 15.482493  C 3.225585 16.672544 4.480863 17.603522 5.903177 18.192664  C 7.325491 18.781805 8.871407 19.01112 10.403496 18.860223  C 11.935584 18.709325 13.407059 18.182823 14.687108 17.327522  C 15.967157 16.472221 17.01669 15.314239 17.742406 13.95652  C 18.468122 12.5988 18.847859 11.082805 18.847859 9.543303  L 9.485859 9.543303  L 2.865926 2.92337  z \" style=\"fill:#a1dab4;stroke:#444443;stroke-linejoin:miter;stroke-width:0.5;\" />\n   </g>\n   <g id=\"text_1\">\n    \n    <defs>\n     <path d=\"M 54.890625 33.015625  L 54.890625 0  L 45.90625 0  L 45.90625 32.71875  Q 45.90625 40.484375 42.875 44.328125  Q 39.84375 48.1875 33.796875 48.1875  Q 26.515625 48.1875 22.3125 43.546875  Q 18.109375 38.921875 18.109375 30.90625  L 18.109375 0  L 9.078125 0  L 9.078125 54.6875  L 18.109375 54.6875  L 18.109375 46.1875  Q 21.34375 51.125 25.703125 53.5625  Q 30.078125 56 35.796875 56  Q 45.21875 56 50.046875 50.171875  Q 54.890625 44.34375 54.890625 33.015625  z \" id=\"DejaVuSans-110\" />\n     <path d=\"M 10.59375 45.40625  L 73.1875 45.40625  L 73.1875 37.203125  L 10.59375 37.203125  z M 10.59375 25.484375  L 73.1875 25.484375  L 73.1875 17.1875  L 10.59375 17.1875  z \" id=\"DejaVuSans-61\" />\n     <path d=\"M 31.78125 34.625  Q 24.75 34.625 20.71875 30.859375  Q 16.703125 27.09375 16.703125 20.515625  Q 16.703125 13.921875 20.71875 10.15625  Q 24.75 6.390625 31.78125 6.390625  Q 38.8125 6.390625 42.859375 10.171875  Q 46.921875 13.96875 46.921875 20.515625  Q 46.921875 27.09375 42.890625 30.859375  Q 38.875 34.625 31.78125 34.625  z M 21.921875 38.8125  Q 15.578125 40.375 12.03125 44.71875  Q 8.5 49.078125 8.5 55.328125  Q 8.5 64.0625 14.71875 69.140625  Q 20.953125 74.21875 31.78125 74.21875  Q 42.671875 74.21875 48.875 69.140625  Q 55.078125 64.0625 55.078125 55.328125  Q 55.078125 49.078125 51.53125 44.71875  Q 48 40.375 41.703125 38.8125  Q 48.828125 37.15625 52.796875 32.3125  Q 56.78125 27.484375 56.78125 20.515625  Q 56.78125 9.90625 50.3125 4.234375  Q 43.84375 -1.421875 31.78125 -1.421875  Q 19.734375 -1.421875 13.25 4.234375  Q 6.78125 9.90625 6.78125 20.515625  Q 6.78125 27.484375 10.78125 32.3125  Q 14.796875 37.15625 21.921875 38.8125  z M 18.3125 54.390625  Q 18.3125 48.734375 21.84375 45.5625  Q 25.390625 42.390625 31.78125 42.390625  Q 38.140625 42.390625 41.71875 45.5625  Q 45.3125 48.734375 45.3125 54.390625  Q 45.3125 60.0625 41.71875 63.234375  Q 38.140625 66.40625 31.78125 66.40625  Q 25.390625 66.40625 21.84375 63.234375  Q 18.3125 60.0625 18.3125 54.390625  z \" id=\"DejaVuSans-56\" />\n    </defs>\n    <g style=\"fill:#444443;\" transform=\"translate(0 26.492857)scale(0.09 -0.09)\">\n     <use xlink:href=\"#DejaVuSans-110\" />\n     <use x=\"63.378906\" xlink:href=\"#DejaVuSans-61\" />\n     <use x=\"147.167969\" xlink:href=\"#DejaVuSans-56\" />\n    </g>\n    \n    <defs>\n     <path d=\"M 12.40625 8.296875  L 28.515625 8.296875  L 28.515625 63.921875  L 10.984375 60.40625  L 10.984375 69.390625  L 28.421875 72.90625  L 38.28125 72.90625  L 38.28125 8.296875  L 54.390625 8.296875  L 54.390625 0  L 12.40625 0  z \" id=\"DejaVuSans-49\" />\n    </defs>\n    <g style=\"fill:#444443;\" transform=\"translate(6.622734 36.570888)scale(0.09 -0.09)\">\n     <use xlink:href=\"#DejaVuSans-49\" />\n    </g>\n   </g>\n  </g>\n </g>\n</svg></g>\n\n<g class=\"edge\" id=\"edge26\">\n<title>node21-&gt;leaf23</title>\n<path d=\"M752.3509,-99.5439C759.6898,-90.0032 773.1316,-72.5289 783.3557,-59.2375\" fill=\"none\" stroke=\"#444443\" stroke-width=\".3\" />\n<polygon fill=\"#444443\" points=\"784.5509,-59.98 785.8801,-55.9559 782.3315,-58.2728 784.5509,-59.98\" stroke=\"#444443\" stroke-width=\".3\" />\n</g>\n\n<g class=\"node\" id=\"node10\">\n<title>node17</title>\n<text fill=\"#444443\" font-family=\"Helvetica,sans-Serif\" font-size=\"12.00\" text-anchor=\"start\" x=\"587\" y=\"-133.4\">&#36890;&#31639;&#25903;&#25173;&#38989;@2318.45</text>\n</g>\n\n<g class=\"edge\" id=\"edge28\">\n<title>node17-&gt;node18</title>\n<path d=\"M640.3394,-129.842C637.6206,-125.958 634.1359,-120.9799 631.0836,-116.6194\" fill=\"none\" stroke=\"#444443\" stroke-width=\".3\" />\n<polygon fill=\"#444443\" points=\"632.0884,-115.6134 628.6476,-113.1394 629.7945,-117.2192 632.0884,-115.6134\" stroke=\"#444443\" stroke-width=\".3\" />\n</g>\n\n<g class=\"edge\" id=\"edge29\">\n<title>node17-&gt;node21</title>\n<path d=\"M667.1325,-129.9904C682.7966,-125.3833 703.8781,-119.1829 720.4488,-114.3092\" fill=\"none\" stroke=\"#444443\" stroke-width=\".3\" />\n<polygon fill=\"#444443\" points=\"721.1161,-115.5723 724.5585,-113.1004 720.326,-112.8861 721.1161,-115.5723\" stroke=\"#444443\" stroke-width=\".3\" />\n</g>\n\n<g class=\"node\" id=\"node13\">\n<title>node24</title>\n<text fill=\"#444443\" font-family=\"Helvetica,sans-Serif\" font-size=\"12.00\" text-anchor=\"start\" x=\"746\" y=\"-133.4\">&#36890;&#31639;&#25903;&#25173;&#38989;@4479.93</text>\n</g>\n\n\n<g class=\"node\" id=\"node11\">\n<title>node25</title>\n<text fill=\"#444443\" font-family=\"Helvetica,sans-Serif\" font-size=\"12.00\" text-anchor=\"start\" x=\"815\" y=\"-103.4\">&#25903;&#25173;&#26041;&#27861;@2.50</text>\n</g>\n\n<g class=\"node\" id=\"node12\">\n<title>node28</title>\n<text fill=\"#444443\" font-family=\"Helvetica,sans-Serif\" font-size=\"12.00\" text-anchor=\"start\" x=\"920\" y=\"-103.4\">&#36890;&#31639;&#25903;&#25173;&#38989;@4486.95</text>\n</g>\n\n\n<g class=\"node\" id=\"node28\">\n<title>leaf26</title>\n<polygon fill=\"none\" points=\"882.5,-83 815.5,-83 815.5,0 882.5,0 882.5,-83\" stroke=\"#444443\" stroke-width=\"0\" />\n<svg height=\"75px\" preserveAspectRatio=\"xMinYMin meet\" version=\"1.1\" viewBox=\"0 0 78.67457 100.532475\" width=\"59px\" x=\"820\" y=\"-78.5\">\n <defs>\n  <style type=\"text/css\">\n*{stroke-linecap:butt;stroke-linejoin:round;}\n  </style>\n </defs>\n <g id=\"figure_1\">\n  <g id=\"patch_1\">\n   <path d=\"M 0 100.532475  L 78.67457 100.532475  L 78.67457 0  L 0 0  z \" style=\"fill:#ffffff;\" />\n  </g>\n  <g id=\"axes_1\">\n   <g id=\"patch_2\">\n    <path d=\"M 78.67457 39.343331  C 78.67457 34.245655 77.681716 29.196438 75.75158 24.478294  C 73.821444 19.760151 70.990722 15.462784 67.417855 11.826725  C 63.844989 8.190666 59.597905 5.285044 54.914323 3.272494  C 50.23074 1.259944 45.199704 0.178728 40.102811 0.089364  C 35.005919 0 29.940072 0.904187 25.188818 2.751316  C 20.437564 4.598445 16.091233 7.353397 12.393099 10.861974  C 8.694966 14.37055 5.715338 18.566044 3.620992 23.213626  C 1.526647 27.861208 0.357401 32.872517 0.178701 37.96706  C 0 43.061603 0.815242 48.142522 2.578796 52.925427  C 4.34235 57.708332 7.020687 62.10229 10.463894 65.861362  C 13.907102 69.620434 18.049718 72.673152 22.659871 74.84865  C 27.270024 77.024147 32.260066 78.281063 37.350693 78.549045  C 42.44132 78.817027 47.53575 78.09098 52.348835 76.411544  C 57.161921 74.732107 61.602156 72.131209 65.421011 68.754428  C 69.239866 65.377648 72.364737 61.289183 74.620717 56.717876  C 76.876698 52.146568 78.220898 47.179328 78.578079 42.09418  L 39.41457 39.343331  L 78.67457 39.343331  z \" style=\"fill:#fefebb;stroke:#444443;stroke-linejoin:miter;stroke-width:0.5;\" />\n   </g>\n   <g id=\"patch_3\">\n    <path d=\"M 78.578079 42.09418  C 78.61023 41.636446 78.634354 41.178184 78.65044 40.719604  C 78.666526 40.261024 78.67457 39.802197 78.67457 39.343335  L 39.41457 39.343331  L 78.578079 42.09418  z \" style=\"fill:#a1dab4;stroke:#444443;stroke-linejoin:miter;stroke-width:0.5;\" />\n   </g>\n   <g id=\"text_1\">\n    \n    <defs>\n     <path d=\"M 54.890625 33.015625  L 54.890625 0  L 45.90625 0  L 45.90625 32.71875  Q 45.90625 40.484375 42.875 44.328125  Q 39.84375 48.1875 33.796875 48.1875  Q 26.515625 48.1875 22.3125 43.546875  Q 18.109375 38.921875 18.109375 30.90625  L 18.109375 0  L 9.078125 0  L 9.078125 54.6875  L 18.109375 54.6875  L 18.109375 46.1875  Q 21.34375 51.125 25.703125 53.5625  Q 30.078125 56 35.796875 56  Q 45.21875 56 50.046875 50.171875  Q 54.890625 44.34375 54.890625 33.015625  z \" id=\"DejaVuSans-110\" />\n     <path d=\"M 10.59375 45.40625  L 73.1875 45.40625  L 73.1875 37.203125  L 10.59375 37.203125  z M 10.59375 25.484375  L 73.1875 25.484375  L 73.1875 17.1875  L 10.59375 17.1875  z \" id=\"DejaVuSans-61\" />\n     <path d=\"M 37.796875 64.3125  L 12.890625 25.390625  L 37.796875 25.390625  z M 35.203125 72.90625  L 47.609375 72.90625  L 47.609375 25.390625  L 58.015625 25.390625  L 58.015625 17.1875  L 47.609375 17.1875  L 47.609375 0  L 37.796875 0  L 37.796875 17.1875  L 4.890625 17.1875  L 4.890625 26.703125  z \" id=\"DejaVuSans-52\" />\n     <path d=\"M 31.78125 34.625  Q 24.75 34.625 20.71875 30.859375  Q 16.703125 27.09375 16.703125 20.515625  Q 16.703125 13.921875 20.71875 10.15625  Q 24.75 6.390625 31.78125 6.390625  Q 38.8125 6.390625 42.859375 10.171875  Q 46.921875 13.96875 46.921875 20.515625  Q 46.921875 27.09375 42.890625 30.859375  Q 38.875 34.625 31.78125 34.625  z M 21.921875 38.8125  Q 15.578125 40.375 12.03125 44.71875  Q 8.5 49.078125 8.5 55.328125  Q 8.5 64.0625 14.71875 69.140625  Q 20.953125 74.21875 31.78125 74.21875  Q 42.671875 74.21875 48.875 69.140625  Q 55.078125 64.0625 55.078125 55.328125  Q 55.078125 49.078125 51.53125 44.71875  Q 48 40.375 41.703125 38.8125  Q 48.828125 37.15625 52.796875 32.3125  Q 56.78125 27.484375 56.78125 20.515625  Q 56.78125 9.90625 50.3125 4.234375  Q 43.84375 -1.421875 31.78125 -1.421875  Q 19.734375 -1.421875 13.25 4.234375  Q 6.78125 9.90625 6.78125 20.515625  Q 6.78125 27.484375 10.78125 32.3125  Q 14.796875 37.15625 21.921875 38.8125  z M 18.3125 54.390625  Q 18.3125 48.734375 21.84375 45.5625  Q 25.390625 42.390625 31.78125 42.390625  Q 38.140625 42.390625 41.71875 45.5625  Q 45.3125 48.734375 45.3125 54.390625  Q 45.3125 60.0625 41.71875 63.234375  Q 38.140625 66.40625 31.78125 66.40625  Q 25.390625 66.40625 21.84375 63.234375  Q 18.3125 60.0625 18.3125 54.390625  z \" id=\"DejaVuSans-56\" />\n    </defs>\n    <g style=\"fill:#444443;\" transform=\"translate(24.202461 88.582725)scale(0.09 -0.09)\">\n     <use xlink:href=\"#DejaVuSans-110\" />\n     <use x=\"63.378906\" xlink:href=\"#DejaVuSans-61\" />\n     <use x=\"147.167969\" xlink:href=\"#DejaVuSans-52\" />\n     <use x=\"210.791016\" xlink:href=\"#DejaVuSans-52\" />\n     <use x=\"274.414062\" xlink:href=\"#DejaVuSans-56\" />\n    </g>\n    \n    <defs>\n     <path d=\"M 31.78125 66.40625  Q 24.171875 66.40625 20.328125 58.90625  Q 16.5 51.421875 16.5 36.375  Q 16.5 21.390625 20.328125 13.890625  Q 24.171875 6.390625 31.78125 6.390625  Q 39.453125 6.390625 43.28125 13.890625  Q 47.125 21.390625 47.125 36.375  Q 47.125 51.421875 43.28125 58.90625  Q 39.453125 66.40625 31.78125 66.40625  z M 31.78125 74.21875  Q 44.046875 74.21875 50.515625 64.515625  Q 56.984375 54.828125 56.984375 36.375  Q 56.984375 17.96875 50.515625 8.265625  Q 44.046875 -1.421875 31.78125 -1.421875  Q 19.53125 -1.421875 13.0625 8.265625  Q 6.59375 17.96875 6.59375 36.375  Q 6.59375 54.828125 13.0625 64.515625  Q 19.53125 74.21875 31.78125 74.21875  z \" id=\"DejaVuSans-48\" />\n    </defs>\n    <g style=\"fill:#444443;\" transform=\"translate(36.551445 98.660756)scale(0.09 -0.09)\">\n     <use xlink:href=\"#DejaVuSans-48\" />\n    </g>\n   </g>\n  </g>\n </g>\n</svg></g>\n\n<g class=\"edge\" id=\"edge31\">\n<title>node25-&gt;leaf26</title>\n<path d=\"M856.1439,-99.5439C855.7345,-96.2176 855.2064,-91.9271 854.6229,-87.1857\" fill=\"none\" stroke=\"#444443\" stroke-width=\".3\" />\n<polygon fill=\"#444443\" points=\"855.9992,-86.9071 854.121,-83.1081 853.2202,-87.2492 855.9992,-86.9071\" stroke=\"#444443\" stroke-width=\".3\" />\n</g>\n\n<g class=\"node\" id=\"node29\">\n<title>leaf27</title>\n<polygon fill=\"none\" points=\"963.5,-83 896.5,-83 896.5,0 963.5,0 963.5,-83\" stroke=\"#444443\" stroke-width=\"0\" />\n<svg height=\"75px\" preserveAspectRatio=\"xMinYMin meet\" version=\"1.1\" viewBox=\"0 0 78.52 100.449144\" width=\"59px\" x=\"901\" y=\"-78.5\">\n <defs>\n  <style type=\"text/css\">\n*{stroke-linecap:butt;stroke-linejoin:round;}\n  </style>\n </defs>\n <g id=\"figure_1\">\n  <g id=\"patch_1\">\n   <path d=\"M -0 100.449144  L 78.52 100.449144  L 78.52 -0  L -0 -0  z \" style=\"fill:#ffffff;\" />\n  </g>\n  <g id=\"axes_1\">\n   <g id=\"patch_2\">\n    <path d=\"M 78.52 39.26  C 78.52 34.104424 77.504464 28.99898 75.53151 24.235848  C 73.558557 19.472717 70.666555 15.14453 67.021012 11.498988  C 63.37547 7.853445 59.047283 4.961443 54.284152 2.98849  C 49.52102 1.015536 44.415576 0 39.26 0  C 34.104424 0 28.99898 1.015536 24.235848 2.98849  C 19.472717 4.961443 15.14453 7.853445 11.498988 11.498988  C 7.853445 15.14453 4.961443 19.472717 2.98849 24.235848  C 1.015536 28.99898 0 34.104424 0 39.26  C 0 44.415576 1.015536 49.52102 2.98849 54.284152  C 4.961443 59.047283 7.853445 63.37547 11.498988 67.021012  C 15.14453 70.666555 19.472717 73.558557 24.235848 75.53151  C 28.99898 77.504464 34.104424 78.52 39.26 78.52  C 44.415576 78.52 49.52102 77.504464 54.284152 75.53151  C 59.047283 73.558557 63.37547 70.666555 67.021012 67.021012  C 70.666555 63.37547 73.558557 59.047283 75.53151 54.284152  C 77.504464 49.52102 78.52 44.415576 78.52 39.26  M 39.26 39.26  M 78.52 39.26  z \" style=\"fill:#fefebb;stroke:#444443;stroke-linejoin:miter;stroke-width:0.5;\" />\n   </g>\n   <g id=\"text_1\">\n    \n    <defs>\n     <path d=\"M 54.890625 33.015625  L 54.890625 0  L 45.90625 0  L 45.90625 32.71875  Q 45.90625 40.484375 42.875 44.328125  Q 39.84375 48.1875 33.796875 48.1875  Q 26.515625 48.1875 22.3125 43.546875  Q 18.109375 38.921875 18.109375 30.90625  L 18.109375 0  L 9.078125 0  L 9.078125 54.6875  L 18.109375 54.6875  L 18.109375 46.1875  Q 21.34375 51.125 25.703125 53.5625  Q 30.078125 56 35.796875 56  Q 45.21875 56 50.046875 50.171875  Q 54.890625 44.34375 54.890625 33.015625  z \" id=\"DejaVuSans-110\" />\n     <path d=\"M 10.59375 45.40625  L 73.1875 45.40625  L 73.1875 37.203125  L 10.59375 37.203125  z M 10.59375 25.484375  L 73.1875 25.484375  L 73.1875 17.1875  L 10.59375 17.1875  z \" id=\"DejaVuSans-61\" />\n     <path d=\"M 12.40625 8.296875  L 28.515625 8.296875  L 28.515625 63.921875  L 10.984375 60.40625  L 10.984375 69.390625  L 28.421875 72.90625  L 38.28125 72.90625  L 38.28125 8.296875  L 54.390625 8.296875  L 54.390625 0  L 12.40625 0  z \" id=\"DejaVuSans-49\" />\n     <path d=\"M 31.78125 34.625  Q 24.75 34.625 20.71875 30.859375  Q 16.703125 27.09375 16.703125 20.515625  Q 16.703125 13.921875 20.71875 10.15625  Q 24.75 6.390625 31.78125 6.390625  Q 38.8125 6.390625 42.859375 10.171875  Q 46.921875 13.96875 46.921875 20.515625  Q 46.921875 27.09375 42.890625 30.859375  Q 38.875 34.625 31.78125 34.625  z M 21.921875 38.8125  Q 15.578125 40.375 12.03125 44.71875  Q 8.5 49.078125 8.5 55.328125  Q 8.5 64.0625 14.71875 69.140625  Q 20.953125 74.21875 31.78125 74.21875  Q 42.671875 74.21875 48.875 69.140625  Q 55.078125 64.0625 55.078125 55.328125  Q 55.078125 49.078125 51.53125 44.71875  Q 48 40.375 41.703125 38.8125  Q 48.828125 37.15625 52.796875 32.3125  Q 56.78125 27.484375 56.78125 20.515625  Q 56.78125 9.90625 50.3125 4.234375  Q 43.84375 -1.421875 31.78125 -1.421875  Q 19.734375 -1.421875 13.25 4.234375  Q 6.78125 9.90625 6.78125 20.515625  Q 6.78125 27.484375 10.78125 32.3125  Q 14.796875 37.15625 21.921875 38.8125  z M 18.3125 54.390625  Q 18.3125 48.734375 21.84375 45.5625  Q 25.390625 42.390625 31.78125 42.390625  Q 38.140625 42.390625 41.71875 45.5625  Q 45.3125 48.734375 45.3125 54.390625  Q 45.3125 60.0625 41.71875 63.234375  Q 38.140625 66.40625 31.78125 66.40625  Q 25.390625 66.40625 21.84375 63.234375  Q 18.3125 60.0625 18.3125 54.390625  z \" id=\"DejaVuSans-56\" />\n    </defs>\n    <g style=\"fill:#444443;\" transform=\"translate(24.047891 88.499394)scale(0.09 -0.09)\">\n     <use xlink:href=\"#DejaVuSans-110\" />\n     <use x=\"63.378906\" xlink:href=\"#DejaVuSans-61\" />\n     <use x=\"147.167969\" xlink:href=\"#DejaVuSans-49\" />\n     <use x=\"210.791016\" xlink:href=\"#DejaVuSans-56\" />\n     <use x=\"274.414062\" xlink:href=\"#DejaVuSans-56\" />\n    </g>\n    \n    <defs>\n     <path d=\"M 31.78125 66.40625  Q 24.171875 66.40625 20.328125 58.90625  Q 16.5 51.421875 16.5 36.375  Q 16.5 21.390625 20.328125 13.890625  Q 24.171875 6.390625 31.78125 6.390625  Q 39.453125 6.390625 43.28125 13.890625  Q 47.125 21.390625 47.125 36.375  Q 47.125 51.421875 43.28125 58.90625  Q 39.453125 66.40625 31.78125 66.40625  z M 31.78125 74.21875  Q 44.046875 74.21875 50.515625 64.515625  Q 56.984375 54.828125 56.984375 36.375  Q 56.984375 17.96875 50.515625 8.265625  Q 44.046875 -1.421875 31.78125 -1.421875  Q 19.53125 -1.421875 13.0625 8.265625  Q 6.59375 17.96875 6.59375 36.375  Q 6.59375 54.828125 13.0625 64.515625  Q 19.53125 74.21875 31.78125 74.21875  z \" id=\"DejaVuSans-48\" />\n    </defs>\n    <g style=\"fill:#444443;\" transform=\"translate(36.396875 98.577425)scale(0.09 -0.09)\">\n     <use xlink:href=\"#DejaVuSans-48\" />\n    </g>\n   </g>\n  </g>\n </g>\n</svg></g>\n\n<g class=\"edge\" id=\"edge32\">\n<title>node25-&gt;leaf27</title>\n<path d=\"M864.5373,-99.7887C871.4633,-93.6217 882.2723,-83.9973 893.1254,-74.3335\" fill=\"none\" stroke=\"#444443\" stroke-width=\".3\" />\n<polygon fill=\"#444443\" points=\"894.1282,-75.3153 896.1845,-71.6096 892.2661,-73.2241 894.1282,-75.3153\" stroke=\"#444443\" stroke-width=\".3\" />\n</g>\n\n<g class=\"node\" id=\"node30\">\n<title>leaf29</title>\n<polygon fill=\"none\" points=\"993,-56.5 971,-56.5 971,-26.5 993,-26.5 993,-56.5\" stroke=\"#444443\" stroke-width=\"0\" />\n<svg height=\"22px\" preserveAspectRatio=\"xMinYMin meet\" version=\"1.1\" viewBox=\"0 0 18.971719 29.467064\" width=\"14px\" x=\"975\" y=\"-52.5\">\n <defs>\n  <style type=\"text/css\">\n*{stroke-linecap:butt;stroke-linejoin:round;}\n  </style>\n </defs>\n <g id=\"figure_1\">\n  <g id=\"patch_1\">\n   <path d=\"M 0 29.467064  L 18.971719 29.467064  L 18.971719 0  L 0 0  z \" style=\"fill:#ffffff;\" />\n  </g>\n  <g id=\"axes_1\">\n   <g id=\"patch_2\">\n    <path d=\"M 14.619859 5.134  C 14.619859 4.459809 14.487059 3.792174 14.229057 3.169303  C 13.971055 2.546432 13.59287 1.980439 13.116146 1.503714  C 12.639421 1.026989 12.073427 0.648804 11.450556 0.390802  C 10.827685 0.132801 10.16005 -0 9.485859 -0  C 8.811669 -0 8.144034 0.132801 7.521163 0.390802  C 6.898292 0.648804 6.332298 1.026989 5.855573 1.503714  C 5.378848 1.980439 5.000663 2.546432 4.742662 3.169303  C 4.48466 3.792174 4.351859 4.459809 4.351859 5.134  C 4.351859 5.808191 4.48466 6.475826 4.742662 7.098697  C 5.000663 7.721568 5.378848 8.287561 5.855573 8.764286  C 6.332298 9.241011 6.898292 9.619196 7.521163 9.877198  C 8.144034 10.135199 8.811669 10.268 9.485859 10.268  C 10.16005 10.268 10.827685 10.135199 11.450556 9.877198  C 12.073427 9.619196 12.639421 9.241011 13.116146 8.764286  C 13.59287 8.287561 13.971055 7.721568 14.229057 7.098697  C 14.487059 6.475826 14.619859 5.808191 14.619859 5.134  M 9.485859 5.134  M 14.619859 5.134  z \" style=\"fill:#a1dab4;stroke:#444443;stroke-linejoin:miter;stroke-width:0.5;\" />\n   </g>\n   <g id=\"text_1\">\n    \n    <defs>\n     <path d=\"M 54.890625 33.015625  L 54.890625 0  L 45.90625 0  L 45.90625 32.71875  Q 45.90625 40.484375 42.875 44.328125  Q 39.84375 48.1875 33.796875 48.1875  Q 26.515625 48.1875 22.3125 43.546875  Q 18.109375 38.921875 18.109375 30.90625  L 18.109375 0  L 9.078125 0  L 9.078125 54.6875  L 18.109375 54.6875  L 18.109375 46.1875  Q 21.34375 51.125 25.703125 53.5625  Q 30.078125 56 35.796875 56  Q 45.21875 56 50.046875 50.171875  Q 54.890625 44.34375 54.890625 33.015625  z \" id=\"DejaVuSans-110\" />\n     <path d=\"M 10.59375 45.40625  L 73.1875 45.40625  L 73.1875 37.203125  L 10.59375 37.203125  z M 10.59375 25.484375  L 73.1875 25.484375  L 73.1875 17.1875  L 10.59375 17.1875  z \" id=\"DejaVuSans-61\" />\n     <path d=\"M 12.40625 8.296875  L 28.515625 8.296875  L 28.515625 63.921875  L 10.984375 60.40625  L 10.984375 69.390625  L 28.421875 72.90625  L 38.28125 72.90625  L 38.28125 8.296875  L 54.390625 8.296875  L 54.390625 0  L 12.40625 0  z \" id=\"DejaVuSans-49\" />\n    </defs>\n    <g style=\"fill:#444443;\" transform=\"translate(0 17.517314)scale(0.09 -0.09)\">\n     <use xlink:href=\"#DejaVuSans-110\" />\n     <use x=\"63.378906\" xlink:href=\"#DejaVuSans-61\" />\n     <use x=\"147.167969\" xlink:href=\"#DejaVuSans-49\" />\n    </g>\n    \n    <g style=\"fill:#444443;\" transform=\"translate(6.622734 27.595345)scale(0.09 -0.09)\">\n     <use xlink:href=\"#DejaVuSans-49\" />\n    </g>\n   </g>\n  </g>\n </g>\n</svg></g>\n\n<g class=\"edge\" id=\"edge34\">\n<title>node28-&gt;leaf29</title>\n<path d=\"M978.4281,-99.5439C978.9894,-90.4224 979.997,-74.0489 980.7992,-61.0123\" fill=\"none\" stroke=\"#444443\" stroke-width=\".3\" />\n<polygon fill=\"#444443\" points=\"982.2141,-60.813 981.0625,-56.7345 979.4194,-60.6409 982.2141,-60.813\" stroke=\"#444443\" stroke-width=\".3\" />\n</g>\n\n<g class=\"node\" id=\"node31\">\n<title>leaf30</title>\n<polygon fill=\"none\" points=\"1073.5,-83 1006.5,-83 1006.5,0 1073.5,0 1073.5,-83\" stroke=\"#444443\" stroke-width=\"0\" />\n<svg height=\"75px\" preserveAspectRatio=\"xMinYMin meet\" version=\"1.1\" viewBox=\"0 0 78.755327 100.731484\" width=\"59px\" x=\"1011\" y=\"-78.5\">\n <defs>\n  <style type=\"text/css\">\n*{stroke-linecap:butt;stroke-linejoin:round;}\n  </style>\n </defs>\n <g id=\"figure_1\">\n  <g id=\"patch_1\">\n   <path d=\"M 0 100.731484  L 78.755327 100.731484  L 78.755327 -0  L 0 -0  z \" style=\"fill:#ffffff;\" />\n  </g>\n  <g id=\"axes_1\">\n   <g id=\"patch_2\">\n    <path d=\"M 78.755327 39.54234  C 78.755327 34.700682 77.859696 29.900533 76.113727 25.384645  C 74.367759 20.868757 71.801391 16.714561 68.544408 13.132144  C 65.287425 9.549726 61.395674 6.600512 57.065968 4.433649  C 52.736262 2.266787 48.042839 0.919429 43.223056 0.459714  C 38.403272 0 33.53977 0.435811 28.878505 1.745109  C 24.21724 3.054406 19.838136 5.21474 15.962654 8.116858  C 12.087172 11.018976 8.781761 14.613117 6.213584 18.717519  C 3.645406 22.821921 1.858496 27.366207 0.943221 32.120566  C 0.027946 36.874924 0 41.757834 0.860796 46.522357  C 1.721592 51.28688 3.456371 55.851322 5.977401 59.984851  C 8.498431 64.118379 11.762486 67.750119 15.604496 70.696406  C 19.446506 73.642693 23.800596 75.853009 28.446569 77.215574  C 33.092542 78.578139 37.950738 79.06959 42.775467 78.665074  C 47.600197 78.260557 52.308734 76.967009 56.662959 74.849847  C 61.017184 72.732684 64.942437 69.828209 68.240211 66.283306  C 71.537985 62.738403 74.151735 58.613854 75.949278 54.118246  L 39.495327 39.54234  L 78.755327 39.54234  z \" style=\"fill:#fefebb;stroke:#444443;stroke-linejoin:miter;stroke-width:0.5;\" />\n   </g>\n   <g id=\"patch_3\">\n    <path d=\"M 75.949278 54.118246  C 76.874019 51.805495 77.576572 49.409979 78.047433 46.964114  C 78.518293 44.518249 78.755327 42.033115 78.755327 39.542339  L 39.495327 39.54234  L 75.949278 54.118246  z \" style=\"fill:#a1dab4;stroke:#444443;stroke-linejoin:miter;stroke-width:0.5;\" />\n   </g>\n   <g id=\"text_1\">\n    \n    <defs>\n     <path d=\"M 54.890625 33.015625  L 54.890625 0  L 45.90625 0  L 45.90625 32.71875  Q 45.90625 40.484375 42.875 44.328125  Q 39.84375 48.1875 33.796875 48.1875  Q 26.515625 48.1875 22.3125 43.546875  Q 18.109375 38.921875 18.109375 30.90625  L 18.109375 0  L 9.078125 0  L 9.078125 54.6875  L 18.109375 54.6875  L 18.109375 46.1875  Q 21.34375 51.125 25.703125 53.5625  Q 30.078125 56 35.796875 56  Q 45.21875 56 50.046875 50.171875  Q 54.890625 44.34375 54.890625 33.015625  z \" id=\"DejaVuSans-110\" />\n     <path d=\"M 10.59375 45.40625  L 73.1875 45.40625  L 73.1875 37.203125  L 10.59375 37.203125  z M 10.59375 25.484375  L 73.1875 25.484375  L 73.1875 17.1875  L 10.59375 17.1875  z \" id=\"DejaVuSans-61\" />\n     <path d=\"M 37.796875 64.3125  L 12.890625 25.390625  L 37.796875 25.390625  z M 35.203125 72.90625  L 47.609375 72.90625  L 47.609375 25.390625  L 58.015625 25.390625  L 58.015625 17.1875  L 47.609375 17.1875  L 47.609375 0  L 37.796875 0  L 37.796875 17.1875  L 4.890625 17.1875  L 4.890625 26.703125  z \" id=\"DejaVuSans-52\" />\n     <path d=\"M 33.015625 40.375  Q 26.375 40.375 22.484375 35.828125  Q 18.609375 31.296875 18.609375 23.390625  Q 18.609375 15.53125 22.484375 10.953125  Q 26.375 6.390625 33.015625 6.390625  Q 39.65625 6.390625 43.53125 10.953125  Q 47.40625 15.53125 47.40625 23.390625  Q 47.40625 31.296875 43.53125 35.828125  Q 39.65625 40.375 33.015625 40.375  z M 52.59375 71.296875  L 52.59375 62.3125  Q 48.875 64.0625 45.09375 64.984375  Q 41.3125 65.921875 37.59375 65.921875  Q 27.828125 65.921875 22.671875 59.328125  Q 17.53125 52.734375 16.796875 39.40625  Q 19.671875 43.65625 24.015625 45.921875  Q 28.375 48.1875 33.59375 48.1875  Q 44.578125 48.1875 50.953125 41.515625  Q 57.328125 34.859375 57.328125 23.390625  Q 57.328125 12.15625 50.6875 5.359375  Q 44.046875 -1.421875 33.015625 -1.421875  Q 20.359375 -1.421875 13.671875 8.265625  Q 6.984375 17.96875 6.984375 36.375  Q 6.984375 53.65625 15.1875 63.9375  Q 23.390625 74.21875 37.203125 74.21875  Q 40.921875 74.21875 44.703125 73.484375  Q 48.484375 72.75 52.59375 71.296875  z \" id=\"DejaVuSans-54\" />\n    </defs>\n    <g style=\"fill:#444443;\" transform=\"translate(24.283217 88.781734)scale(0.09 -0.09)\">\n     <use xlink:href=\"#DejaVuSans-110\" />\n     <use x=\"63.378906\" xlink:href=\"#DejaVuSans-61\" />\n     <use x=\"147.167969\" xlink:href=\"#DejaVuSans-52\" />\n     <use x=\"210.791016\" xlink:href=\"#DejaVuSans-52\" />\n     <use x=\"274.414062\" xlink:href=\"#DejaVuSans-54\" />\n    </g>\n    \n    <defs>\n     <path d=\"M 31.78125 66.40625  Q 24.171875 66.40625 20.328125 58.90625  Q 16.5 51.421875 16.5 36.375  Q 16.5 21.390625 20.328125 13.890625  Q 24.171875 6.390625 31.78125 6.390625  Q 39.453125 6.390625 43.28125 13.890625  Q 47.125 21.390625 47.125 36.375  Q 47.125 51.421875 43.28125 58.90625  Q 39.453125 66.40625 31.78125 66.40625  z M 31.78125 74.21875  Q 44.046875 74.21875 50.515625 64.515625  Q 56.984375 54.828125 56.984375 36.375  Q 56.984375 17.96875 50.515625 8.265625  Q 44.046875 -1.421875 31.78125 -1.421875  Q 19.53125 -1.421875 13.0625 8.265625  Q 6.59375 17.96875 6.59375 36.375  Q 6.59375 54.828125 13.0625 64.515625  Q 19.53125 74.21875 31.78125 74.21875  z \" id=\"DejaVuSans-48\" />\n    </defs>\n    <g style=\"fill:#444443;\" transform=\"translate(36.632202 98.859765)scale(0.09 -0.09)\">\n     <use xlink:href=\"#DejaVuSans-48\" />\n    </g>\n   </g>\n  </g>\n </g>\n</svg></g>\n\n<g class=\"edge\" id=\"edge35\">\n<title>node28-&gt;leaf30</title>\n<path d=\"M984.6351,-99.5439C989.3365,-94.6149 996.0578,-87.5684 1003.2052,-80.0752\" fill=\"none\" stroke=\"#444443\" stroke-width=\".3\" />\n<polygon fill=\"#444443\" points=\"1004.542,-80.7021 1006.2898,-76.8413 1002.5159,-78.7695 1004.542,-80.7021\" stroke=\"#444443\" stroke-width=\".3\" />\n</g>\n\n<g class=\"edge\" id=\"edge37\">\n<title>node24-&gt;node25</title>\n<path d=\"M815.5002,-129.9904C823.0353,-125.7253 832.9829,-120.0946 841.2499,-115.4152\" fill=\"none\" stroke=\"#444443\" stroke-width=\".3\" />\n<polygon fill=\"#444443\" points=\"842.3639,-116.3934 845.1553,-113.2046 840.9846,-113.9566 842.3639,-116.3934\" stroke=\"#444443\" stroke-width=\".3\" />\n</g>\n\n<g class=\"edge\" id=\"edge38\">\n<title>node24-&gt;node28</title>\n<path d=\"M841.7554,-129.9904C869.4777,-125.2107 907.1467,-118.7161 935.8505,-113.7671\" fill=\"none\" stroke=\"#444443\" stroke-width=\".3\" />\n<polygon fill=\"#444443\" points=\"936.3143,-115.1079 940.0182,-113.0486 935.8385,-112.3486 936.3143,-115.1079\" stroke=\"#444443\" stroke-width=\".3\" />\n</g>\n\n<g class=\"edge\" id=\"edge40\">\n<title>node16-&gt;node17</title>\n<path d=\"M623.9922,-159.842C627.5577,-155.8804 632.1477,-150.7804 636.1273,-146.3585\" fill=\"none\" stroke=\"#444443\" stroke-width=\".3\" />\n<polygon fill=\"#444443\" points=\"637.3893,-147.0491 639.0246,-143.1394 635.3081,-145.176 637.3893,-147.0491\" stroke=\"#444443\" stroke-width=\".3\" />\n</g>\n\n<g class=\"edge\" id=\"edge41\">\n<title>node16-&gt;node24</title>\n<path d=\"M658.3592,-159.9904C688.1148,-155.1912 728.5905,-148.6628 759.3205,-143.7064\" fill=\"none\" stroke=\"#444443\" stroke-width=\".3\" />\n<polygon fill=\"#444443\" points=\"759.6728,-145.0677 763.3988,-143.0486 759.2269,-142.3035 759.6728,-145.0677\" stroke=\"#444443\" stroke-width=\".3\" />\n</g>\n\n<g class=\"node\" id=\"node15\">\n<title>node0</title>\n<text fill=\"#444443\" font-family=\"Helvetica,sans-Serif\" font-size=\"12.00\" text-anchor=\"start\" x=\"490\" y=\"-223.9\">&#22865;&#32004;&#24418;&#24907;@0.50</text>\n</g>\n\n<g class=\"edge\" id=\"edge43\">\n<title>node0-&gt;node1</title>\n<path d=\"M526.4938,-220.0599C518.0305,-209.3926 501.7819,-188.9125 492.0135,-176.6003\" fill=\"none\" stroke=\"#444443\" stroke-width=\".3\" />\n<polygon fill=\"#444443\" points=\"493.0249,-175.6226 489.442,-173.3592 490.8314,-177.3629 493.0249,-175.6226\" stroke=\"#444443\" stroke-width=\".3\" />\n<text fill=\"#000000\" font-family=\"Times,serif\" font-size=\"14.00\" text-anchor=\"start\" x=\"507\" y=\"-184.8\">&lt;</text>\n</g>\n\n<g class=\"edge\" id=\"edge44\">\n<title>node0-&gt;node16</title>\n<path d=\"M541.5321,-220.2943C557.1119,-209.3341 588.0319,-187.5822 605.4019,-175.3626\" fill=\"none\" stroke=\"#444443\" stroke-width=\".3\" />\n<polygon fill=\"#444443\" points=\"606.2206,-176.4984 608.6866,-173.0518 604.6095,-174.2083 606.2206,-176.4984\" stroke=\"#444443\" stroke-width=\".3\" />\n<text fill=\"#000000\" font-family=\"Times,serif\" font-size=\"14.00\" text-anchor=\"start\" x=\"597\" y=\"-184.8\">&#8805;</text>\n</g>\n\n\n\n\n\n\n\n\n\n<g class=\"node\" id=\"node32\">\n<title>legend</title>\n<polygon fill=\"none\" points=\"627,-250 581,-250 581,-204 627,-204 627,-250\" stroke=\"#000000\" stroke-width=\"0\" />\n<svg height=\"42px\" preserveAspectRatio=\"xMinYMin meet\" version=\"1.1\" viewBox=\"0 0 55.8 55.1125\" width=\"42px\" x=\"583\" y=\"-248\">\n <defs>\n  <style type=\"text/css\">\n*{stroke-linecap:butt;stroke-linejoin:round;}\n  </style>\n </defs>\n <g id=\"figure_1\">\n  <g id=\"patch_1\">\n   <path d=\"M 0 55.1125  L 55.8 55.1125  L 55.8 0  L 0 0  z \" style=\"fill:#ffffff;\" />\n  </g>\n  <g id=\"axes_1\">\n   <g id=\"legend_1\">\n    <g id=\"patch_2\">\n     <path d=\"M 4.310156 55.1125  L 51.489844 55.1125  Q 53.489844 55.1125 53.489844 53.1125  L 53.489844 2  Q 53.489844 -0 51.489844 -0  L 4.310156 -0  Q 2.310156 -0 2.310156 2  L 2.310156 53.1125  Q 2.310156 55.1125 4.310156 55.1125  z \" style=\"fill:#ffffff;opacity:0.8;stroke:#444443;stroke-linejoin:miter;stroke-width:0.5;\" />\n    </g>\n    <g id=\"text_1\">\n     \n     <defs>\n      <path d=\"M 27.484375 70.21875  L 27.484375 54.6875  L 45.515625 54.6875  L 45.515625 42.1875  L 27.484375 42.1875  L 27.484375 19  Q 27.484375 15.1875 29 13.84375  Q 30.515625 12.5 35.015625 12.5  L 44 12.5  L 44 0  L 29 0  Q 18.65625 0 14.328125 4.3125  Q 10.015625 8.640625 10.015625 19  L 10.015625 42.1875  L 1.3125 42.1875  L 1.3125 54.6875  L 10.015625 54.6875  L 10.015625 70.21875  z \" id=\"DejaVuSans-Bold-116\" />\n      <path d=\"M 32.90625 24.609375  Q 27.4375 24.609375 24.671875 22.75  Q 21.921875 20.90625 21.921875 17.28125  Q 21.921875 13.96875 24.140625 12.078125  Q 26.375 10.203125 30.328125 10.203125  Q 35.25 10.203125 38.625 13.734375  Q 42 17.28125 42 22.609375  L 42 24.609375  z M 59.625 31.203125  L 59.625 0  L 42 0  L 42 8.109375  Q 38.484375 3.125 34.078125 0.84375  Q 29.6875 -1.421875 23.390625 -1.421875  Q 14.890625 -1.421875 9.59375 3.53125  Q 4.296875 8.5 4.296875 16.40625  Q 4.296875 26.03125 10.90625 30.515625  Q 17.53125 35.015625 31.6875 35.015625  L 42 35.015625  L 42 36.375  Q 42 40.53125 38.71875 42.453125  Q 35.453125 44.390625 28.515625 44.390625  Q 22.90625 44.390625 18.0625 43.265625  Q 13.234375 42.140625 9.078125 39.890625  L 9.078125 53.21875  Q 14.703125 54.59375 20.359375 55.296875  Q 26.03125 56 31.6875 56  Q 46.484375 56 53.046875 50.171875  Q 59.625 44.34375 59.625 31.203125  z \" id=\"DejaVuSans-Bold-97\" />\n      <path d=\"M 49.03125 39.796875  Q 46.734375 40.875 44.453125 41.375  Q 42.1875 41.890625 39.890625 41.890625  Q 33.15625 41.890625 29.515625 37.5625  Q 25.875 33.25 25.875 25.203125  L 25.875 0  L 8.40625 0  L 8.40625 54.6875  L 25.875 54.6875  L 25.875 45.703125  Q 29.25 51.078125 33.609375 53.53125  Q 37.984375 56 44.09375 56  Q 44.96875 56 45.984375 55.921875  Q 47.015625 55.859375 48.96875 55.609375  z \" id=\"DejaVuSans-Bold-114\" />\n      <path d=\"M 45.609375 9.28125  Q 42 4.5 37.640625 2.25  Q 33.296875 0 27.59375 0  Q 17.578125 0 11.03125 7.875  Q 4.5 15.765625 4.5 27.984375  Q 4.5 40.234375 11.03125 48.0625  Q 17.578125 55.90625 27.59375 55.90625  Q 33.296875 55.90625 37.640625 53.65625  Q 42 51.421875 45.609375 46.578125  L 45.609375 54.6875  L 63.1875 54.6875  L 63.1875 5.515625  Q 63.1875 -7.671875 54.859375 -14.625  Q 46.53125 -21.578125 30.71875 -21.578125  Q 25.59375 -21.578125 20.796875 -20.796875  Q 16.015625 -20.015625 11.1875 -18.40625  L 11.1875 -4.78125  Q 15.765625 -7.421875 20.15625 -8.71875  Q 24.5625 -10.015625 29 -10.015625  Q 37.59375 -10.015625 41.59375 -6.25  Q 45.609375 -2.484375 45.609375 5.515625  z M 34.078125 43.3125  Q 28.65625 43.3125 25.625 39.296875  Q 22.609375 35.296875 22.609375 27.984375  Q 22.609375 20.453125 25.53125 16.578125  Q 28.46875 12.703125 34.078125 12.703125  Q 39.546875 12.703125 42.578125 16.703125  Q 45.609375 20.703125 45.609375 27.984375  Q 45.609375 35.296875 42.578125 39.296875  Q 39.546875 43.3125 34.078125 43.3125  z \" id=\"DejaVuSans-Bold-103\" />\n      <path d=\"M 62.984375 27.484375  L 62.984375 22.515625  L 22.125 22.515625  Q 22.75 16.359375 26.5625 13.28125  Q 30.375 10.203125 37.203125 10.203125  Q 42.71875 10.203125 48.5 11.84375  Q 54.296875 13.484375 60.40625 16.796875  L 60.40625 3.328125  Q 54.203125 0.984375 48 -0.21875  Q 41.796875 -1.421875 35.59375 -1.421875  Q 20.75 -1.421875 12.515625 6.125  Q 4.296875 13.671875 4.296875 27.296875  Q 4.296875 40.671875 12.375 48.328125  Q 20.453125 56 34.625 56  Q 47.515625 56 55.25 48.234375  Q 62.984375 40.484375 62.984375 27.484375  z M 45.015625 33.296875  Q 45.015625 38.28125 42.109375 41.328125  Q 39.203125 44.390625 34.515625 44.390625  Q 29.4375 44.390625 26.265625 41.53125  Q 23.09375 38.671875 22.3125 33.296875  z \" id=\"DejaVuSans-Bold-101\" />\n     </defs>\n     <g style=\"fill:#444443;\" transform=\"translate(10.310156 15.598437)scale(0.1 -0.1)\">\n      <use xlink:href=\"#DejaVuSans-Bold-116\" />\n      <use x=\"47.802734\" xlink:href=\"#DejaVuSans-Bold-97\" />\n      <use x=\"115.283203\" xlink:href=\"#DejaVuSans-Bold-114\" />\n      <use x=\"164.599609\" xlink:href=\"#DejaVuSans-Bold-103\" />\n      <use x=\"236.181641\" xlink:href=\"#DejaVuSans-Bold-101\" />\n      <use x=\"304.003906\" xlink:href=\"#DejaVuSans-Bold-116\" />\n     </g>\n    </g>\n    <g id=\"patch_3\">\n     <path d=\"M 12.96875 30.354687  L 32.96875 30.354687  L 32.96875 23.354687  L 12.96875 23.354687  z \" style=\"fill:#fefebb;stroke:#444443;stroke-linejoin:miter;stroke-width:0.4;\" />\n    </g>\n    <g id=\"text_2\">\n     \n     <defs>\n      <path d=\"M 31.78125 66.40625  Q 24.171875 66.40625 20.328125 58.90625  Q 16.5 51.421875 16.5 36.375  Q 16.5 21.390625 20.328125 13.890625  Q 24.171875 6.390625 31.78125 6.390625  Q 39.453125 6.390625 43.28125 13.890625  Q 47.125 21.390625 47.125 36.375  Q 47.125 51.421875 43.28125 58.90625  Q 39.453125 66.40625 31.78125 66.40625  z M 31.78125 74.21875  Q 44.046875 74.21875 50.515625 64.515625  Q 56.984375 54.828125 56.984375 36.375  Q 56.984375 17.96875 50.515625 8.265625  Q 44.046875 -1.421875 31.78125 -1.421875  Q 19.53125 -1.421875 13.0625 8.265625  Q 6.59375 17.96875 6.59375 36.375  Q 6.59375 54.828125 13.0625 64.515625  Q 19.53125 74.21875 31.78125 74.21875  z \" id=\"DejaVuSans-48\" />\n     </defs>\n     <g style=\"fill:#444443;\" transform=\"translate(36.46875 30.354687)scale(0.1 -0.1)\">\n      <use xlink:href=\"#DejaVuSans-48\" />\n     </g>\n    </g>\n    <g id=\"patch_4\">\n     <path d=\"M 12.96875 45.032812  L 32.96875 45.032812  L 32.96875 38.032812  L 12.96875 38.032812  z \" style=\"fill:#a1dab4;stroke:#444443;stroke-linejoin:miter;stroke-width:0.4;\" />\n    </g>\n    <g id=\"text_3\">\n     \n     <defs>\n      <path d=\"M 12.40625 8.296875  L 28.515625 8.296875  L 28.515625 63.921875  L 10.984375 60.40625  L 10.984375 69.390625  L 28.421875 72.90625  L 38.28125 72.90625  L 38.28125 8.296875  L 54.390625 8.296875  L 54.390625 0  L 12.40625 0  z \" id=\"DejaVuSans-49\" />\n     </defs>\n     <g style=\"fill:#444443;\" transform=\"translate(36.46875 45.032812)scale(0.1 -0.1)\">\n      <use xlink:href=\"#DejaVuSans-49\" />\n     </g>\n    </g>\n   </g>\n  </g>\n </g>\n</svg></g>\n</g>\n</svg>"
          },
          "metadata": {
            "tags": []
          }
        }
      ]
    },
    {
      "cell_type": "code",
      "metadata": {
        "id": "cJYoOgdcpFUY",
        "colab_type": "code",
        "outputId": "8621b1cd-da06-4e49-cf3b-c19266caf714",
        "colab": {
          "base_uri": "https://localhost:8080/",
          "height": 34
        }
      },
      "source": [
        "# ここはイベント当日に参加者にベタ打ちしてもらう\n",
        "display_competition_result()"
      ],
      "execution_count": 21,
      "outputs": [
        {
          "output_type": "stream",
          "text": [
            "最終正解率：76.80%\n"
          ],
          "name": "stdout"
        }
      ]
    }
  ]
}