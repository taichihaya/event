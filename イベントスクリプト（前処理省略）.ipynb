{
  "nbformat": 4,
  "nbformat_minor": 0,
  "metadata": {
    "colab": {
      "name": "イベントスクリプト（前処理省略）.ipynb",
      "provenance": [],
      "collapsed_sections": [],
      "toc_visible": true,
      "include_colab_link": true
    },
    "kernelspec": {
      "name": "python3",
      "display_name": "Python 3"
    },
    "widgets": {
      "application/vnd.jupyter.widget-state+json": {
        "6cc4fab9dee84b63815f679019ec9aa0": {
          "model_module": "@jupyter-widgets/controls",
          "model_name": "VBoxModel",
          "state": {
            "_view_name": "VBoxView",
            "_dom_classes": [],
            "_model_name": "VBoxModel",
            "_view_module": "@jupyter-widgets/controls",
            "_model_module_version": "1.5.0",
            "_view_count": null,
            "_view_module_version": "1.5.0",
            "box_style": "",
            "layout": "IPY_MODEL_f785c557f8de4607a5c2c75325cf9ce4",
            "_model_module": "@jupyter-widgets/controls",
            "children": [
              "IPY_MODEL_8b3d18614fa44e2da74ebac13f276f56",
              "IPY_MODEL_2a9f29b3c3db43d4be9ab1cb7b76bf87"
            ]
          }
        },
        "f785c557f8de4607a5c2c75325cf9ce4": {
          "model_module": "@jupyter-widgets/base",
          "model_name": "LayoutModel",
          "state": {
            "_view_name": "LayoutView",
            "grid_template_rows": null,
            "right": null,
            "justify_content": null,
            "_view_module": "@jupyter-widgets/base",
            "overflow": null,
            "_model_module_version": "1.2.0",
            "_view_count": null,
            "flex_flow": null,
            "width": null,
            "min_width": null,
            "border": null,
            "align_items": null,
            "bottom": null,
            "_model_module": "@jupyter-widgets/base",
            "top": null,
            "grid_column": null,
            "overflow_y": null,
            "overflow_x": null,
            "grid_auto_flow": null,
            "grid_area": null,
            "grid_template_columns": null,
            "flex": null,
            "_model_name": "LayoutModel",
            "justify_items": null,
            "grid_row": null,
            "max_height": null,
            "align_content": null,
            "visibility": null,
            "align_self": null,
            "height": null,
            "min_height": null,
            "padding": null,
            "grid_auto_rows": null,
            "grid_gap": null,
            "max_width": null,
            "order": null,
            "_view_module_version": "1.2.0",
            "grid_template_areas": null,
            "object_position": null,
            "object_fit": null,
            "grid_auto_columns": null,
            "margin": null,
            "display": null,
            "left": null
          }
        },
        "8b3d18614fa44e2da74ebac13f276f56": {
          "model_module": "@jupyter-widgets/controls",
          "model_name": "VBoxModel",
          "state": {
            "_view_name": "VBoxView",
            "_dom_classes": [],
            "_model_name": "VBoxModel",
            "_view_module": "@jupyter-widgets/controls",
            "_model_module_version": "1.5.0",
            "_view_count": null,
            "_view_module_version": "1.5.0",
            "box_style": "",
            "layout": "IPY_MODEL_e4d072e3c56246698b632502372ec5ff",
            "_model_module": "@jupyter-widgets/controls",
            "children": [
              "IPY_MODEL_bdb7d39ae3a84975b99994cce738337c",
              "IPY_MODEL_d494d6e87b3f43ababbe4ed52772ac86",
              "IPY_MODEL_e4523f9fdfd748ef92550406a5d20f61",
              "IPY_MODEL_a09b4a078a9b4f1ea3a1a4e5a6950d39",
              "IPY_MODEL_b08bdbcb9bf64cef8ac635734b16faee"
            ]
          }
        },
        "2a9f29b3c3db43d4be9ab1cb7b76bf87": {
          "model_module": "@jupyter-widgets/controls",
          "model_name": "IntSliderModel",
          "state": {
            "_view_name": "IntSliderView",
            "style": "IPY_MODEL_f2892533bea04195b092232e1055f943",
            "_dom_classes": [],
            "description": "木の深さ",
            "step": 1,
            "_model_name": "IntSliderModel",
            "orientation": "horizontal",
            "max": 8,
            "_view_module": "@jupyter-widgets/controls",
            "_model_module_version": "1.5.0",
            "value": 5,
            "_view_count": null,
            "disabled": false,
            "_view_module_version": "1.5.0",
            "min": 2,
            "continuous_update": true,
            "readout_format": "d",
            "description_tooltip": null,
            "readout": true,
            "_model_module": "@jupyter-widgets/controls",
            "layout": "IPY_MODEL_e53265aa7adc4b039aeeaed30b26915c"
          }
        },
        "e4d072e3c56246698b632502372ec5ff": {
          "model_module": "@jupyter-widgets/base",
          "model_name": "LayoutModel",
          "state": {
            "_view_name": "LayoutView",
            "grid_template_rows": null,
            "right": null,
            "justify_content": null,
            "_view_module": "@jupyter-widgets/base",
            "overflow": null,
            "_model_module_version": "1.2.0",
            "_view_count": null,
            "flex_flow": null,
            "width": null,
            "min_width": null,
            "border": null,
            "align_items": null,
            "bottom": null,
            "_model_module": "@jupyter-widgets/base",
            "top": null,
            "grid_column": null,
            "overflow_y": null,
            "overflow_x": null,
            "grid_auto_flow": null,
            "grid_area": null,
            "grid_template_columns": null,
            "flex": null,
            "_model_name": "LayoutModel",
            "justify_items": null,
            "grid_row": null,
            "max_height": null,
            "align_content": null,
            "visibility": null,
            "align_self": null,
            "height": null,
            "min_height": null,
            "padding": null,
            "grid_auto_rows": null,
            "grid_gap": null,
            "max_width": null,
            "order": null,
            "_view_module_version": "1.2.0",
            "grid_template_areas": null,
            "object_position": null,
            "object_fit": null,
            "grid_auto_columns": null,
            "margin": null,
            "display": null,
            "left": null
          }
        },
        "bdb7d39ae3a84975b99994cce738337c": {
          "model_module": "@jupyter-widgets/controls",
          "model_name": "DropdownModel",
          "state": {
            "_options_labels": [
              "性別",
              "年齢区分",
              "婚姻有無",
              "扶養家族",
              "利用月数",
              "電話ｻｰﾋﾞｽ",
              "回線数",
              "ｲﾝﾀｰﾈｯﾄｻｰﾋﾞｽ",
              "ｾｷｭﾘﾃｨｻｰﾋﾞｽ",
              "ﾊﾞｯｸｱｯﾌﾟｻｰﾋﾞｽ",
              "機器予防ｻｰﾋﾞｽ",
              "ﾃｸﾆｶﾙｻﾎﾟｰﾄ",
              "ｽﾄﾘｰﾐﾝｸﾞｻｰﾋﾞｽ(TV)",
              "ｽﾄﾘｰﾐﾝｸﾞｻｰﾋﾞｽ(映画)",
              "契約形態",
              "請求書",
              "支払方法",
              "月額支払額",
              "通算支払額"
            ],
            "_view_name": "DropdownView",
            "style": "IPY_MODEL_5963631498004576a20a0a67cb927df0",
            "_dom_classes": [],
            "description": "変数1:",
            "_model_name": "DropdownModel",
            "index": 0,
            "_view_module": "@jupyter-widgets/controls",
            "_model_module_version": "1.5.0",
            "_view_count": null,
            "disabled": false,
            "_view_module_version": "1.5.0",
            "description_tooltip": null,
            "_model_module": "@jupyter-widgets/controls",
            "layout": "IPY_MODEL_0135027004fe4f0abb7f88f96df336b5"
          }
        },
        "d494d6e87b3f43ababbe4ed52772ac86": {
          "model_module": "@jupyter-widgets/controls",
          "model_name": "DropdownModel",
          "state": {
            "_options_labels": [
              "性別",
              "年齢区分",
              "婚姻有無",
              "扶養家族",
              "利用月数",
              "電話ｻｰﾋﾞｽ",
              "回線数",
              "ｲﾝﾀｰﾈｯﾄｻｰﾋﾞｽ",
              "ｾｷｭﾘﾃｨｻｰﾋﾞｽ",
              "ﾊﾞｯｸｱｯﾌﾟｻｰﾋﾞｽ",
              "機器予防ｻｰﾋﾞｽ",
              "ﾃｸﾆｶﾙｻﾎﾟｰﾄ",
              "ｽﾄﾘｰﾐﾝｸﾞｻｰﾋﾞｽ(TV)",
              "ｽﾄﾘｰﾐﾝｸﾞｻｰﾋﾞｽ(映画)",
              "契約形態",
              "請求書",
              "支払方法",
              "月額支払額",
              "通算支払額"
            ],
            "_view_name": "DropdownView",
            "style": "IPY_MODEL_1a41ffaf116340fe93290394dc5c938b",
            "_dom_classes": [],
            "description": "変数2:",
            "_model_name": "DropdownModel",
            "index": 5,
            "_view_module": "@jupyter-widgets/controls",
            "_model_module_version": "1.5.0",
            "_view_count": null,
            "disabled": false,
            "_view_module_version": "1.5.0",
            "description_tooltip": null,
            "_model_module": "@jupyter-widgets/controls",
            "layout": "IPY_MODEL_5c996c70c851461e8c15a6a613f6bc7a"
          }
        },
        "e4523f9fdfd748ef92550406a5d20f61": {
          "model_module": "@jupyter-widgets/controls",
          "model_name": "DropdownModel",
          "state": {
            "_options_labels": [
              "性別",
              "年齢区分",
              "婚姻有無",
              "扶養家族",
              "利用月数",
              "電話ｻｰﾋﾞｽ",
              "回線数",
              "ｲﾝﾀｰﾈｯﾄｻｰﾋﾞｽ",
              "ｾｷｭﾘﾃｨｻｰﾋﾞｽ",
              "ﾊﾞｯｸｱｯﾌﾟｻｰﾋﾞｽ",
              "機器予防ｻｰﾋﾞｽ",
              "ﾃｸﾆｶﾙｻﾎﾟｰﾄ",
              "ｽﾄﾘｰﾐﾝｸﾞｻｰﾋﾞｽ(TV)",
              "ｽﾄﾘｰﾐﾝｸﾞｻｰﾋﾞｽ(映画)",
              "契約形態",
              "請求書",
              "支払方法",
              "月額支払額",
              "通算支払額"
            ],
            "_view_name": "DropdownView",
            "style": "IPY_MODEL_5a01004176724255bc4f0bd1bd7ce3d9",
            "_dom_classes": [],
            "description": "変数3:",
            "_model_name": "DropdownModel",
            "index": 13,
            "_view_module": "@jupyter-widgets/controls",
            "_model_module_version": "1.5.0",
            "_view_count": null,
            "disabled": false,
            "_view_module_version": "1.5.0",
            "description_tooltip": null,
            "_model_module": "@jupyter-widgets/controls",
            "layout": "IPY_MODEL_b648326d12db4db794e43c1f1b3d4ca4"
          }
        },
        "a09b4a078a9b4f1ea3a1a4e5a6950d39": {
          "model_module": "@jupyter-widgets/controls",
          "model_name": "DropdownModel",
          "state": {
            "_options_labels": [
              "性別",
              "年齢区分",
              "婚姻有無",
              "扶養家族",
              "利用月数",
              "電話ｻｰﾋﾞｽ",
              "回線数",
              "ｲﾝﾀｰﾈｯﾄｻｰﾋﾞｽ",
              "ｾｷｭﾘﾃｨｻｰﾋﾞｽ",
              "ﾊﾞｯｸｱｯﾌﾟｻｰﾋﾞｽ",
              "機器予防ｻｰﾋﾞｽ",
              "ﾃｸﾆｶﾙｻﾎﾟｰﾄ",
              "ｽﾄﾘｰﾐﾝｸﾞｻｰﾋﾞｽ(TV)",
              "ｽﾄﾘｰﾐﾝｸﾞｻｰﾋﾞｽ(映画)",
              "契約形態",
              "請求書",
              "支払方法",
              "月額支払額",
              "通算支払額"
            ],
            "_view_name": "DropdownView",
            "style": "IPY_MODEL_01241a17e8a8493ab0e9768feb28ca65",
            "_dom_classes": [],
            "description": "変数4:",
            "_model_name": "DropdownModel",
            "index": 18,
            "_view_module": "@jupyter-widgets/controls",
            "_model_module_version": "1.5.0",
            "_view_count": null,
            "disabled": false,
            "_view_module_version": "1.5.0",
            "description_tooltip": null,
            "_model_module": "@jupyter-widgets/controls",
            "layout": "IPY_MODEL_0b98cb72131d47c685de53526a195bf5"
          }
        },
        "b08bdbcb9bf64cef8ac635734b16faee": {
          "model_module": "@jupyter-widgets/controls",
          "model_name": "DropdownModel",
          "state": {
            "_options_labels": [
              "性別",
              "年齢区分",
              "婚姻有無",
              "扶養家族",
              "利用月数",
              "電話ｻｰﾋﾞｽ",
              "回線数",
              "ｲﾝﾀｰﾈｯﾄｻｰﾋﾞｽ",
              "ｾｷｭﾘﾃｨｻｰﾋﾞｽ",
              "ﾊﾞｯｸｱｯﾌﾟｻｰﾋﾞｽ",
              "機器予防ｻｰﾋﾞｽ",
              "ﾃｸﾆｶﾙｻﾎﾟｰﾄ",
              "ｽﾄﾘｰﾐﾝｸﾞｻｰﾋﾞｽ(TV)",
              "ｽﾄﾘｰﾐﾝｸﾞｻｰﾋﾞｽ(映画)",
              "契約形態",
              "請求書",
              "支払方法",
              "月額支払額",
              "通算支払額"
            ],
            "_view_name": "DropdownView",
            "style": "IPY_MODEL_17069a62444e491da62a840ba868e474",
            "_dom_classes": [],
            "description": "変数5:",
            "_model_name": "DropdownModel",
            "index": 4,
            "_view_module": "@jupyter-widgets/controls",
            "_model_module_version": "1.5.0",
            "_view_count": null,
            "disabled": false,
            "_view_module_version": "1.5.0",
            "description_tooltip": null,
            "_model_module": "@jupyter-widgets/controls",
            "layout": "IPY_MODEL_fba1137b28c143eb96e1906dd379def7"
          }
        },
        "f2892533bea04195b092232e1055f943": {
          "model_module": "@jupyter-widgets/controls",
          "model_name": "SliderStyleModel",
          "state": {
            "_view_name": "StyleView",
            "handle_color": null,
            "_model_name": "SliderStyleModel",
            "description_width": "",
            "_view_module": "@jupyter-widgets/base",
            "_model_module_version": "1.5.0",
            "_view_count": null,
            "_view_module_version": "1.2.0",
            "_model_module": "@jupyter-widgets/controls"
          }
        },
        "e53265aa7adc4b039aeeaed30b26915c": {
          "model_module": "@jupyter-widgets/base",
          "model_name": "LayoutModel",
          "state": {
            "_view_name": "LayoutView",
            "grid_template_rows": null,
            "right": null,
            "justify_content": null,
            "_view_module": "@jupyter-widgets/base",
            "overflow": null,
            "_model_module_version": "1.2.0",
            "_view_count": null,
            "flex_flow": null,
            "width": null,
            "min_width": null,
            "border": null,
            "align_items": null,
            "bottom": null,
            "_model_module": "@jupyter-widgets/base",
            "top": null,
            "grid_column": null,
            "overflow_y": null,
            "overflow_x": null,
            "grid_auto_flow": null,
            "grid_area": null,
            "grid_template_columns": null,
            "flex": null,
            "_model_name": "LayoutModel",
            "justify_items": null,
            "grid_row": null,
            "max_height": null,
            "align_content": null,
            "visibility": null,
            "align_self": null,
            "height": null,
            "min_height": null,
            "padding": null,
            "grid_auto_rows": null,
            "grid_gap": null,
            "max_width": null,
            "order": null,
            "_view_module_version": "1.2.0",
            "grid_template_areas": null,
            "object_position": null,
            "object_fit": null,
            "grid_auto_columns": null,
            "margin": null,
            "display": null,
            "left": null
          }
        },
        "5963631498004576a20a0a67cb927df0": {
          "model_module": "@jupyter-widgets/controls",
          "model_name": "DescriptionStyleModel",
          "state": {
            "_view_name": "StyleView",
            "_model_name": "DescriptionStyleModel",
            "description_width": "",
            "_view_module": "@jupyter-widgets/base",
            "_model_module_version": "1.5.0",
            "_view_count": null,
            "_view_module_version": "1.2.0",
            "_model_module": "@jupyter-widgets/controls"
          }
        },
        "0135027004fe4f0abb7f88f96df336b5": {
          "model_module": "@jupyter-widgets/base",
          "model_name": "LayoutModel",
          "state": {
            "_view_name": "LayoutView",
            "grid_template_rows": null,
            "right": null,
            "justify_content": null,
            "_view_module": "@jupyter-widgets/base",
            "overflow": null,
            "_model_module_version": "1.2.0",
            "_view_count": null,
            "flex_flow": null,
            "width": null,
            "min_width": null,
            "border": null,
            "align_items": null,
            "bottom": null,
            "_model_module": "@jupyter-widgets/base",
            "top": null,
            "grid_column": null,
            "overflow_y": null,
            "overflow_x": null,
            "grid_auto_flow": null,
            "grid_area": null,
            "grid_template_columns": null,
            "flex": null,
            "_model_name": "LayoutModel",
            "justify_items": null,
            "grid_row": null,
            "max_height": null,
            "align_content": null,
            "visibility": null,
            "align_self": null,
            "height": null,
            "min_height": null,
            "padding": null,
            "grid_auto_rows": null,
            "grid_gap": null,
            "max_width": null,
            "order": null,
            "_view_module_version": "1.2.0",
            "grid_template_areas": null,
            "object_position": null,
            "object_fit": null,
            "grid_auto_columns": null,
            "margin": null,
            "display": null,
            "left": null
          }
        },
        "1a41ffaf116340fe93290394dc5c938b": {
          "model_module": "@jupyter-widgets/controls",
          "model_name": "DescriptionStyleModel",
          "state": {
            "_view_name": "StyleView",
            "_model_name": "DescriptionStyleModel",
            "description_width": "",
            "_view_module": "@jupyter-widgets/base",
            "_model_module_version": "1.5.0",
            "_view_count": null,
            "_view_module_version": "1.2.0",
            "_model_module": "@jupyter-widgets/controls"
          }
        },
        "5c996c70c851461e8c15a6a613f6bc7a": {
          "model_module": "@jupyter-widgets/base",
          "model_name": "LayoutModel",
          "state": {
            "_view_name": "LayoutView",
            "grid_template_rows": null,
            "right": null,
            "justify_content": null,
            "_view_module": "@jupyter-widgets/base",
            "overflow": null,
            "_model_module_version": "1.2.0",
            "_view_count": null,
            "flex_flow": null,
            "width": null,
            "min_width": null,
            "border": null,
            "align_items": null,
            "bottom": null,
            "_model_module": "@jupyter-widgets/base",
            "top": null,
            "grid_column": null,
            "overflow_y": null,
            "overflow_x": null,
            "grid_auto_flow": null,
            "grid_area": null,
            "grid_template_columns": null,
            "flex": null,
            "_model_name": "LayoutModel",
            "justify_items": null,
            "grid_row": null,
            "max_height": null,
            "align_content": null,
            "visibility": null,
            "align_self": null,
            "height": null,
            "min_height": null,
            "padding": null,
            "grid_auto_rows": null,
            "grid_gap": null,
            "max_width": null,
            "order": null,
            "_view_module_version": "1.2.0",
            "grid_template_areas": null,
            "object_position": null,
            "object_fit": null,
            "grid_auto_columns": null,
            "margin": null,
            "display": null,
            "left": null
          }
        },
        "5a01004176724255bc4f0bd1bd7ce3d9": {
          "model_module": "@jupyter-widgets/controls",
          "model_name": "DescriptionStyleModel",
          "state": {
            "_view_name": "StyleView",
            "_model_name": "DescriptionStyleModel",
            "description_width": "",
            "_view_module": "@jupyter-widgets/base",
            "_model_module_version": "1.5.0",
            "_view_count": null,
            "_view_module_version": "1.2.0",
            "_model_module": "@jupyter-widgets/controls"
          }
        },
        "b648326d12db4db794e43c1f1b3d4ca4": {
          "model_module": "@jupyter-widgets/base",
          "model_name": "LayoutModel",
          "state": {
            "_view_name": "LayoutView",
            "grid_template_rows": null,
            "right": null,
            "justify_content": null,
            "_view_module": "@jupyter-widgets/base",
            "overflow": null,
            "_model_module_version": "1.2.0",
            "_view_count": null,
            "flex_flow": null,
            "width": null,
            "min_width": null,
            "border": null,
            "align_items": null,
            "bottom": null,
            "_model_module": "@jupyter-widgets/base",
            "top": null,
            "grid_column": null,
            "overflow_y": null,
            "overflow_x": null,
            "grid_auto_flow": null,
            "grid_area": null,
            "grid_template_columns": null,
            "flex": null,
            "_model_name": "LayoutModel",
            "justify_items": null,
            "grid_row": null,
            "max_height": null,
            "align_content": null,
            "visibility": null,
            "align_self": null,
            "height": null,
            "min_height": null,
            "padding": null,
            "grid_auto_rows": null,
            "grid_gap": null,
            "max_width": null,
            "order": null,
            "_view_module_version": "1.2.0",
            "grid_template_areas": null,
            "object_position": null,
            "object_fit": null,
            "grid_auto_columns": null,
            "margin": null,
            "display": null,
            "left": null
          }
        },
        "01241a17e8a8493ab0e9768feb28ca65": {
          "model_module": "@jupyter-widgets/controls",
          "model_name": "DescriptionStyleModel",
          "state": {
            "_view_name": "StyleView",
            "_model_name": "DescriptionStyleModel",
            "description_width": "",
            "_view_module": "@jupyter-widgets/base",
            "_model_module_version": "1.5.0",
            "_view_count": null,
            "_view_module_version": "1.2.0",
            "_model_module": "@jupyter-widgets/controls"
          }
        },
        "0b98cb72131d47c685de53526a195bf5": {
          "model_module": "@jupyter-widgets/base",
          "model_name": "LayoutModel",
          "state": {
            "_view_name": "LayoutView",
            "grid_template_rows": null,
            "right": null,
            "justify_content": null,
            "_view_module": "@jupyter-widgets/base",
            "overflow": null,
            "_model_module_version": "1.2.0",
            "_view_count": null,
            "flex_flow": null,
            "width": null,
            "min_width": null,
            "border": null,
            "align_items": null,
            "bottom": null,
            "_model_module": "@jupyter-widgets/base",
            "top": null,
            "grid_column": null,
            "overflow_y": null,
            "overflow_x": null,
            "grid_auto_flow": null,
            "grid_area": null,
            "grid_template_columns": null,
            "flex": null,
            "_model_name": "LayoutModel",
            "justify_items": null,
            "grid_row": null,
            "max_height": null,
            "align_content": null,
            "visibility": null,
            "align_self": null,
            "height": null,
            "min_height": null,
            "padding": null,
            "grid_auto_rows": null,
            "grid_gap": null,
            "max_width": null,
            "order": null,
            "_view_module_version": "1.2.0",
            "grid_template_areas": null,
            "object_position": null,
            "object_fit": null,
            "grid_auto_columns": null,
            "margin": null,
            "display": null,
            "left": null
          }
        },
        "17069a62444e491da62a840ba868e474": {
          "model_module": "@jupyter-widgets/controls",
          "model_name": "DescriptionStyleModel",
          "state": {
            "_view_name": "StyleView",
            "_model_name": "DescriptionStyleModel",
            "description_width": "",
            "_view_module": "@jupyter-widgets/base",
            "_model_module_version": "1.5.0",
            "_view_count": null,
            "_view_module_version": "1.2.0",
            "_model_module": "@jupyter-widgets/controls"
          }
        },
        "fba1137b28c143eb96e1906dd379def7": {
          "model_module": "@jupyter-widgets/base",
          "model_name": "LayoutModel",
          "state": {
            "_view_name": "LayoutView",
            "grid_template_rows": null,
            "right": null,
            "justify_content": null,
            "_view_module": "@jupyter-widgets/base",
            "overflow": null,
            "_model_module_version": "1.2.0",
            "_view_count": null,
            "flex_flow": null,
            "width": null,
            "min_width": null,
            "border": null,
            "align_items": null,
            "bottom": null,
            "_model_module": "@jupyter-widgets/base",
            "top": null,
            "grid_column": null,
            "overflow_y": null,
            "overflow_x": null,
            "grid_auto_flow": null,
            "grid_area": null,
            "grid_template_columns": null,
            "flex": null,
            "_model_name": "LayoutModel",
            "justify_items": null,
            "grid_row": null,
            "max_height": null,
            "align_content": null,
            "visibility": null,
            "align_self": null,
            "height": null,
            "min_height": null,
            "padding": null,
            "grid_auto_rows": null,
            "grid_gap": null,
            "max_width": null,
            "order": null,
            "_view_module_version": "1.2.0",
            "grid_template_areas": null,
            "object_position": null,
            "object_fit": null,
            "grid_auto_columns": null,
            "margin": null,
            "display": null,
            "left": null
          }
        }
      }
    }
  },
  "cells": [
    {
      "cell_type": "markdown",
      "metadata": {
        "id": "view-in-github",
        "colab_type": "text"
      },
      "source": [
        "<a href=\"https://colab.research.google.com/github/taichihaya/event/blob/master/%E3%82%A4%E3%83%99%E3%83%B3%E3%83%88%E3%82%B9%E3%82%AF%E3%83%AA%E3%83%97%E3%83%88%EF%BC%88%E5%89%8D%E5%87%A6%E7%90%86%E7%9C%81%E7%95%A5%EF%BC%89.ipynb\" target=\"_parent\"><img src=\"https://colab.research.google.com/assets/colab-badge.svg\" alt=\"Open In Colab\"/></a>"
      ]
    },
    {
      "cell_type": "markdown",
      "metadata": {
        "id": "Zl7EpbCZQZ_W",
        "colab_type": "text"
      },
      "source": [
        "# **データ取り込み～前処理**\n",
        "セルにカーソルを合わせて「Shift+Enter」を押してください"
      ]
    },
    {
      "cell_type": "code",
      "metadata": {
        "id": "8iL8OLjgzBeI",
        "colab_type": "code",
        "colab": {}
      },
      "source": [
        "import pandas as pd\n",
        "url = 'https://raw.githubusercontent.com/taichihaya/event/master/WA_Fn-UseC_-Telco-Customer-Churn.csv'\n",
        "df = pd.read_csv(url, error_bad_lines=False)"
      ],
      "execution_count": 0,
      "outputs": []
    },
    {
      "cell_type": "code",
      "metadata": {
        "id": "QyAaTPcNOMC0",
        "colab_type": "code",
        "colab": {}
      },
      "source": [
        "###### 日本語フォントを使用できるようにする ######\n",
        "!apt-get -y install fonts-ipafont-gothic\n",
        "!rm /root/.cache/matplotlib/fontlist-v310.json\n",
        "\n",
        "###### ライブラリのインストール ######\n",
        "!pip install dtreeviz\n",
        "import pandas as pd\n",
        "import ipywidgets as widgets\n",
        "from ipywidgets import HBox, VBox\n",
        "from IPython.display import display\n",
        "%matplotlib inline\n",
        "from sklearn.model_selection import train_test_split\n",
        "from sklearn.tree import DecisionTreeClassifier\n",
        "from dtreeviz.trees import dtreeviz\n",
        "import warnings\n",
        "warnings.filterwarnings(\"ignore\")\n",
        "\n",
        "###### データのインポート ######\n",
        "# TODO データを持ってくる方法がよくわかっていない。どこかのサーバーに入れておく？（早川）\n",
        "data_raw = pd.read_csv('/content/WA_Fn-UseC_-Telco-Customer-Churn.csv')\n",
        "\n",
        "###### 文字データを数値データに変換 ######\n",
        "def mapping(x):\n",
        "  if x==\"No\" or x==\"Month-to-month\" or x==\"Electronic check\" : return 0 \n",
        "  elif x==\"Yes\" or x==\"Male\" or x==\"DSL\" or x==\"One year\" or x==\"Mailed check\": return 1\n",
        "  elif x==\"No internet service\" or x==\"No phone service\" or x==\"Female\" or x==\"Fiber optic\" or x==\"Two year\" or x==\"Bank transfer (automatic)\": return 2\n",
        "  elif x==\"Credit card (automatic)\": return 3\n",
        "  else : return x\n",
        "\n",
        "data = data_raw.applymap(mapping)\n",
        "\n",
        "###### 欠損処理 ######\n",
        "# TotalChargesは欠損値があり、文字列で取り込まれるため数値に変換、欠損値は0で埋める\n",
        "data['TotalCharges'] = pd.to_numeric(data_raw.TotalCharges, errors='coerce').fillna(0.0)\n",
        "\n",
        "###### カラムの日本語化 ######\n",
        "col_jp = {\"customerID\":\"ID\",\"gender\":\"性別\",\"SeniorCitizen\":\"年齢区分\",\n",
        "        \"Partner\":\"婚姻有無\",\"Dependents\":\"扶養家族\",\"tenure\":\"利用月数\",\n",
        "        \"PhoneService\":\"電話ｻｰﾋﾞｽ\",\"MultipleLines\":\"回線数\",\"InternetService\":\"ｲﾝﾀｰﾈｯﾄｻｰﾋﾞｽ\",\n",
        "        \"OnlineSecurity\":\"ｾｷｭﾘﾃｨｻｰﾋﾞｽ\",\"OnlineBackup\":\"ﾊﾞｯｸｱｯﾌﾟｻｰﾋﾞｽ\",\"DeviceProtection\":\"機器予防ｻｰﾋﾞｽ\",\n",
        "        \"TechSupport\":\"ﾃｸﾆｶﾙｻﾎﾟｰﾄ\",\"StreamingTV\":\"ｽﾄﾘｰﾐﾝｸﾞｻｰﾋﾞｽ(TV)\",\"StreamingMovies\":\"ｽﾄﾘｰﾐﾝｸﾞｻｰﾋﾞｽ(映画)\",\n",
        "        \"Contract\":\"契約形態\",\"PaperlessBilling\":\"請求書\",\"PaymentMethod\":\"支払方法\",\n",
        "        \"MonthlyCharges\":\"月額支払額\",\"TotalCharges\":\"通算支払額\",\"Churn\":\"解約\"}\n",
        "\n",
        "data = data.rename(columns=col_jp)\n",
        "\n",
        "###### コンペ用に1,000件データの確保 ######\n",
        "# イベント当日はコメントしない）\n",
        "modeling_data,conpetition_data = train_test_split(data,test_size=1000 /len(data),random_state=11)\n",
        "\n",
        "###### モデルの作成、結果の可視化 ######\n",
        "def display_result():\n",
        "  # 選択した変数のデータフレームの作成\n",
        "  selected_data = modeling_data[[dropdown1.value,dropdown2.value,dropdown3.value,dropdown4.value,dropdown5.value]]\n",
        "  # 訓練用、テスト用に分割\n",
        "  X_train, X_test, y_train, y_test = train_test_split(selected_data,modeling_data['解約'], random_state=11)\n",
        "  # 学習\n",
        "  clf = DecisionTreeClassifier(max_depth=parameter.value)\n",
        "  clf.fit(X_train, y_train)\n",
        "\n",
        "  print('訓練データの正解率：{:.2%}'.format(clf.score(X_train, y_train)))\n",
        "  print('テストデータの正解率：{:.2%}'.format(clf.score(X_test, y_test)))\n",
        "\n",
        "  viz = dtreeviz(clf,X_train,y_train,target_name='target',\n",
        "                feature_names=selected_data.columns.to_list(),\n",
        "                class_names=[0,1],fontname='IPAGothic',\n",
        "                scale=1.0,label_fontsize=14,ticks_fontsize=14,fancy=False\n",
        "  ) \n",
        "\n",
        "  display(viz)\n",
        "\n",
        "###### 変数・パラメータ選択に使用するドロップダウン、スライダーの作成 ######\n",
        "\n",
        "# IDと正解ラベルは変数の選択肢から外す\n",
        "col = [e for e in modeling_data.columns if e != 'ID' and e != '解約']\n",
        "\n",
        "# 変数選択用ドロップダウンの作成\n",
        "dropdown1 = widgets.Dropdown(options=col,description='変数1:')\n",
        "dropdown2 = widgets.Dropdown(options=col,description='変数2:')\n",
        "dropdown3 = widgets.Dropdown(options=col,description='変数3:')\n",
        "dropdown4 = widgets.Dropdown(options=col,description='変数4:')\n",
        "dropdown5 = widgets.Dropdown(options=col,description='変数5:')\n",
        "variables = VBox(children=[dropdown1,dropdown2,dropdown3,dropdown4,dropdown5])\n",
        "\n",
        "# パラメータ設定用スライダーの作成\n",
        "parameter = widgets.IntSlider(min=2,max=8,description='木の深さ')\n",
        "\n",
        "\n",
        "###### コンペ正解率確認用 ######\n",
        "def display_conpetition_result():\n",
        "  # 選択した変数のデータフレームの作成\n",
        "  selected_data = modeling_data[[dropdown1.value,dropdown2.value,dropdown3.value,dropdown4.value,dropdown5.value]]\n",
        "  # 訓練用、テスト用に分割\n",
        "  X_train, X_test, y_train, y_test = train_test_split(selected_data,modeling_data['解約'], random_state=11)\n",
        "  # 学習\n",
        "  clf = DecisionTreeClassifier(max_depth=parameter.value)\n",
        "  clf.fit(X_train, y_train)\n",
        "\n",
        "  # 選択した変数のデータフレームの作成\n",
        "  conpetition_X = conpetition_data[[dropdown1.value,dropdown2.value,dropdown3.value,dropdown4.value,dropdown5.value]]\n",
        "  conpetition_y = conpetition_data['解約']\n",
        "\n",
        "  print('最終正解率：{:.2%}'.format(clf.score(conpetition_X, conpetition_y)))\n",
        "\n",
        "# 実行結果を削除\n",
        "from IPython.display import clear_output\n",
        "clear_output()"
      ],
      "execution_count": 0,
      "outputs": []
    },
    {
      "cell_type": "markdown",
      "metadata": {
        "id": "azeVGNb9XGIJ",
        "colab_type": "text"
      },
      "source": [
        "# **モデリングの実施**"
      ]
    },
    {
      "cell_type": "markdown",
      "metadata": {
        "id": "LHZcMuGGXRPZ",
        "colab_type": "text"
      },
      "source": [
        "## 変数、パラメータの選択\n",
        "下のセルを「Shift+Enter」で実行した後、使用する変数とパラメータを設定してください  \n",
        "※実行するのは最初の1回のみでOK"
      ]
    },
    {
      "cell_type": "code",
      "metadata": {
        "id": "FVxKePuBN3ey",
        "colab_type": "code",
        "outputId": "34c115e7-b262-4837-8918-ae0a61408157",
        "colab": {
          "base_uri": "https://localhost:8080/",
          "height": 209,
          "referenced_widgets": [
            "6cc4fab9dee84b63815f679019ec9aa0",
            "f785c557f8de4607a5c2c75325cf9ce4",
            "8b3d18614fa44e2da74ebac13f276f56",
            "2a9f29b3c3db43d4be9ab1cb7b76bf87",
            "e4d072e3c56246698b632502372ec5ff",
            "bdb7d39ae3a84975b99994cce738337c",
            "d494d6e87b3f43ababbe4ed52772ac86",
            "e4523f9fdfd748ef92550406a5d20f61",
            "a09b4a078a9b4f1ea3a1a4e5a6950d39",
            "b08bdbcb9bf64cef8ac635734b16faee",
            "f2892533bea04195b092232e1055f943",
            "e53265aa7adc4b039aeeaed30b26915c",
            "5963631498004576a20a0a67cb927df0",
            "0135027004fe4f0abb7f88f96df336b5",
            "1a41ffaf116340fe93290394dc5c938b",
            "5c996c70c851461e8c15a6a613f6bc7a",
            "5a01004176724255bc4f0bd1bd7ce3d9",
            "b648326d12db4db794e43c1f1b3d4ca4",
            "01241a17e8a8493ab0e9768feb28ca65",
            "0b98cb72131d47c685de53526a195bf5",
            "17069a62444e491da62a840ba868e474",
            "fba1137b28c143eb96e1906dd379def7"
          ]
        }
      },
      "source": [
        "# 表示\n",
        "VBox(children=[variables,parameter])"
      ],
      "execution_count": 55,
      "outputs": [
        {
          "output_type": "display_data",
          "data": {
            "application/vnd.jupyter.widget-view+json": {
              "model_id": "6cc4fab9dee84b63815f679019ec9aa0",
              "version_minor": 0,
              "version_major": 2
            },
            "text/plain": [
              "VBox(children=(VBox(children=(Dropdown(description='変数1:', options=('性別', '年齢区分', '婚姻有無', '扶養家族', '利用月数', '電話ｻ…"
            ]
          },
          "metadata": {
            "tags": []
          }
        }
      ]
    },
    {
      "cell_type": "markdown",
      "metadata": {
        "id": "C_Sda0qeXc8B",
        "colab_type": "text"
      },
      "source": [
        "## 結果の表示\n",
        "変数とパラメータを設定したあと、下記のセルを「Shift+Enter」で実行してください  \n",
        "モデルが作成され、モデルの正解率と決定木が出力されます。  \n",
        "様々な変数・パラメータの組み合わせを試して、正解率の高いモデルを目指しましょう！"
      ]
    },
    {
      "cell_type": "code",
      "metadata": {
        "id": "GSPyB59pTIz_",
        "colab_type": "code",
        "outputId": "ed32c481-50d8-4d5a-ad63-301d2dce2f2c",
        "colab": {
          "base_uri": "https://localhost:8080/",
          "height": 460
        }
      },
      "source": [
        "make_model()"
      ],
      "execution_count": 60,
      "outputs": [
        {
          "output_type": "stream",
          "text": [
            "訓練データの正解率：78.91%\n",
            "テストデータの正解率：75.65%\n"
          ],
          "name": "stdout"
        },
        {
          "output_type": "display_data",
          "data": {
            "text/plain": [
              "<dtreeviz.trees.DTreeViz at 0x7f2cc64bcc50>"
            ],
            "image/svg+xml": "<svg xmlns=\"http://www.w3.org/2000/svg\" xmlns:xlink=\"http://www.w3.org/1999/xlink\" height=\"384.0\" viewBox=\"0.0 0.0 1645.5 384.0\" width=\"1646.0\">\n<g class=\"graph\" id=\"graph0\" transform=\"scale(1.0 1.0) rotate(0) translate(4 380)\">\n<title>G</title>\n<polygon fill=\"#ffffff\" points=\"-4,4 -4,-380 1641.5,-380 1641.5,4 -4,4\" stroke=\"transparent\" />\n<g class=\"cluster\" id=\"clust28\">\n<title>cluster_legend</title>\n</g>\n\n<g class=\"node\" id=\"node1\">\n<title>node4</title>\n<text fill=\"#444443\" font-family=\"Helvetica,sans-Serif\" font-size=\"12.00\" text-anchor=\"start\" x=\"57\" y=\"-112.9\">&#36890;&#31639;&#25903;&#25173;&#38989;@47.98</text>\n</g>\n\n<g class=\"node\" id=\"node2\">\n<title>node7</title>\n<text fill=\"#444443\" font-family=\"Helvetica,sans-Serif\" font-size=\"12.00\" text-anchor=\"start\" x=\"189.5\" y=\"-112.9\">&#21033;&#29992;&#26376;&#25968;@1.50</text>\n</g>\n\n\n<g class=\"node\" id=\"node28\">\n<title>leaf5</title>\n<polygon fill=\"none\" points=\"67,-84 0,-84 0,0 67,0 67,-84\" stroke=\"#444443\" stroke-width=\"0\" />\n<svg height=\"76px\" preserveAspectRatio=\"xMinYMin meet\" version=\"1.1\" viewBox=\"0 0 78.866526 101.160992\" width=\"59px\" x=\"4.5\" y=\"-80\">\n <defs>\n  <style type=\"text/css\">\n*{stroke-linecap:butt;stroke-linejoin:round;}\n  </style>\n </defs>\n <g id=\"figure_1\">\n  <g id=\"patch_1\">\n   <path d=\"M -0 101.160992  L 78.866526 101.160992  L 78.866526 0  L -0 0  z \" style=\"fill:#ffffff;\" />\n  </g>\n  <g id=\"axes_1\">\n   <g id=\"patch_2\">\n    <path d=\"M 78.866526 39.971848  C 78.866526 30.161411 75.189322 20.698632 68.565034 13.46237  C 61.940745 6.226109 52.838869 1.729236 43.066607 0.864618  C 33.294344 0 23.544306 2.828917 15.752388 8.789679  C 7.960469 14.750441 2.678924 23.420579 0.956417 33.078614  L 39.606526 39.971848  L 78.866526 39.971848  z \" style=\"fill:#fefebb;stroke:#444443;stroke-linejoin:miter;stroke-width:0.5;\" />\n   </g>\n   <g id=\"patch_3\">\n    <path d=\"M 0.956417 33.078614  C 0 38.441208 0.170035 43.944625 1.455681 49.237948  C 2.741326 54.53127 5.114662 59.499548 8.424356 63.825986  C 11.734051 68.152425 15.908231 71.74307 20.680735 74.36897  C 25.453239 76.994871 30.720427 78.599002 36.146445 79.079078  C 41.572463 79.559155 47.039479 78.904751 52.198897 77.157595  C 57.358315 75.410439 62.098092 72.608472 66.116004 68.930356  C 70.133915 65.252241 73.342708 60.777851 75.537778 55.792491  C 77.732847 50.807131 78.866526 45.419063 78.866526 39.971848  L 39.606526 39.971848  L 0.956417 33.078614  z \" style=\"fill:#a1dab4;stroke:#444443;stroke-linejoin:miter;stroke-width:0.5;\" />\n   </g>\n   <g id=\"text_1\">\n    \n    <defs>\n     <path d=\"M 54.890625 33.015625  L 54.890625 0  L 45.90625 0  L 45.90625 32.71875  Q 45.90625 40.484375 42.875 44.328125  Q 39.84375 48.1875 33.796875 48.1875  Q 26.515625 48.1875 22.3125 43.546875  Q 18.109375 38.921875 18.109375 30.90625  L 18.109375 0  L 9.078125 0  L 9.078125 54.6875  L 18.109375 54.6875  L 18.109375 46.1875  Q 21.34375 51.125 25.703125 53.5625  Q 30.078125 56 35.796875 56  Q 45.21875 56 50.046875 50.171875  Q 54.890625 44.34375 54.890625 33.015625  z \" id=\"DejaVuSans-110\" />\n     <path d=\"M 10.59375 45.40625  L 73.1875 45.40625  L 73.1875 37.203125  L 10.59375 37.203125  z M 10.59375 25.484375  L 73.1875 25.484375  L 73.1875 17.1875  L 10.59375 17.1875  z \" id=\"DejaVuSans-61\" />\n     <path d=\"M 31.78125 34.625  Q 24.75 34.625 20.71875 30.859375  Q 16.703125 27.09375 16.703125 20.515625  Q 16.703125 13.921875 20.71875 10.15625  Q 24.75 6.390625 31.78125 6.390625  Q 38.8125 6.390625 42.859375 10.171875  Q 46.921875 13.96875 46.921875 20.515625  Q 46.921875 27.09375 42.890625 30.859375  Q 38.875 34.625 31.78125 34.625  z M 21.921875 38.8125  Q 15.578125 40.375 12.03125 44.71875  Q 8.5 49.078125 8.5 55.328125  Q 8.5 64.0625 14.71875 69.140625  Q 20.953125 74.21875 31.78125 74.21875  Q 42.671875 74.21875 48.875 69.140625  Q 55.078125 64.0625 55.078125 55.328125  Q 55.078125 49.078125 51.53125 44.71875  Q 48 40.375 41.703125 38.8125  Q 48.828125 37.15625 52.796875 32.3125  Q 56.78125 27.484375 56.78125 20.515625  Q 56.78125 9.90625 50.3125 4.234375  Q 43.84375 -1.421875 31.78125 -1.421875  Q 19.734375 -1.421875 13.25 4.234375  Q 6.78125 9.90625 6.78125 20.515625  Q 6.78125 27.484375 10.78125 32.3125  Q 14.796875 37.15625 21.921875 38.8125  z M 18.3125 54.390625  Q 18.3125 48.734375 21.84375 45.5625  Q 25.390625 42.390625 31.78125 42.390625  Q 38.140625 42.390625 41.71875 45.5625  Q 45.3125 48.734375 45.3125 54.390625  Q 45.3125 60.0625 41.71875 63.234375  Q 38.140625 66.40625 31.78125 66.40625  Q 25.390625 66.40625 21.84375 63.234375  Q 18.3125 60.0625 18.3125 54.390625  z \" id=\"DejaVuSans-56\" />\n     <path d=\"M 10.984375 1.515625  L 10.984375 10.5  Q 14.703125 8.734375 18.5 7.8125  Q 22.3125 6.890625 25.984375 6.890625  Q 35.75 6.890625 40.890625 13.453125  Q 46.046875 20.015625 46.78125 33.40625  Q 43.953125 29.203125 39.59375 26.953125  Q 35.25 24.703125 29.984375 24.703125  Q 19.046875 24.703125 12.671875 31.3125  Q 6.296875 37.9375 6.296875 49.421875  Q 6.296875 60.640625 12.9375 67.421875  Q 19.578125 74.21875 30.609375 74.21875  Q 43.265625 74.21875 49.921875 64.515625  Q 56.59375 54.828125 56.59375 36.375  Q 56.59375 19.140625 48.40625 8.859375  Q 40.234375 -1.421875 26.421875 -1.421875  Q 22.703125 -1.421875 18.890625 -0.6875  Q 15.09375 0.046875 10.984375 1.515625  z M 30.609375 32.421875  Q 37.25 32.421875 41.125 36.953125  Q 45.015625 41.5 45.015625 49.421875  Q 45.015625 57.28125 41.125 61.84375  Q 37.25 66.40625 30.609375 66.40625  Q 23.96875 66.40625 20.09375 61.84375  Q 16.21875 57.28125 16.21875 49.421875  Q 16.21875 41.5 20.09375 36.953125  Q 23.96875 32.421875 30.609375 32.421875  z \" id=\"DejaVuSans-57\" />\n    </defs>\n    <g style=\"fill:#444443;\" transform=\"translate(27.257541 89.211242)scale(0.09 -0.09)\">\n     <use xlink:href=\"#DejaVuSans-110\" />\n     <use x=\"63.378906\" xlink:href=\"#DejaVuSans-61\" />\n     <use x=\"147.167969\" xlink:href=\"#DejaVuSans-56\" />\n     <use x=\"210.791016\" xlink:href=\"#DejaVuSans-57\" />\n    </g>\n    \n    <defs>\n     <path d=\"M 12.40625 8.296875  L 28.515625 8.296875  L 28.515625 63.921875  L 10.984375 60.40625  L 10.984375 69.390625  L 28.421875 72.90625  L 38.28125 72.90625  L 38.28125 8.296875  L 54.390625 8.296875  L 54.390625 0  L 12.40625 0  z \" id=\"DejaVuSans-49\" />\n    </defs>\n    <g style=\"fill:#444443;\" transform=\"translate(36.743401 99.289273)scale(0.09 -0.09)\">\n     <use xlink:href=\"#DejaVuSans-49\" />\n    </g>\n   </g>\n  </g>\n </g>\n</svg></g>\n\n<g class=\"edge\" id=\"edge1\">\n<title>node4-&gt;leaf5</title>\n<path d=\"M101.8443,-109.433C94.5734,-102.2591 82.3389,-90.1877 70.214,-78.2245\" fill=\"none\" stroke=\"#444443\" stroke-width=\".3\" />\n<polygon fill=\"#444443\" points=\"70.9675,-77.0012 67.1369,-75.1884 69.0009,-78.9944 70.9675,-77.0012\" stroke=\"#444443\" stroke-width=\".3\" />\n</g>\n\n<g class=\"node\" id=\"node29\">\n<title>leaf6</title>\n<polygon fill=\"none\" points=\"116,-67 81,-67 81,-17 116,-17 116,-67\" stroke=\"#444443\" stroke-width=\"0\" />\n<svg height=\"42px\" preserveAspectRatio=\"xMinYMin meet\" version=\"1.1\" viewBox=\"0 0 35.726933 55.920893\" width=\"27px\" x=\"85.5\" y=\"-63\">\n <defs>\n  <style type=\"text/css\">\n*{stroke-linecap:butt;stroke-linejoin:round;}\n  </style>\n </defs>\n <g id=\"figure_1\">\n  <g id=\"patch_1\">\n   <path d=\"M 0 55.920893  L 35.726933 55.920893  L 35.726933 0  L 0 0  z \" style=\"fill:#ffffff;\" />\n  </g>\n  <g id=\"axes_1\">\n   <g id=\"patch_2\">\n    <path d=\"M 35.726933 17.88911  C 35.726933 16.083373 35.452433 14.288083 34.912855 12.564848  C 34.373276 10.841612 33.574861 9.210371 32.545008 7.727101  C 31.515156 6.243831 30.265782 4.925696 28.839761 3.817929  C 27.413739 2.710162 25.827571 1.82558 24.135686 1.19454  C 22.443801 0.563499 20.665778 0.193302 18.862629 0.096651  C 17.059481 -0 15.252072 0.178014 13.502426 0.624584  C 11.752781 1.071155 10.081143 1.781114 8.544877 2.730099  C 7.008611 3.679085 5.625494 4.856115 4.442988 6.2208  C 3.260481 7.585485 2.292269 9.122033 1.571576 10.777716  C 0.850884 12.4334 0.386049 14.18906 0.193025 15.984451  C 0 17.779841 0.081019 19.594187 0.4333 21.365227  C 0.785582 23.136267 1.40505 24.843509 2.270448 26.428366  C 3.135845 28.013224 4.237158 29.457358 5.536594 30.711213  C 6.836029 31.965068 8.318552 33.014135 9.933287 33.822414  C 11.548023 34.630694 13.276287 35.188832 15.058772 35.477677  C 16.841257 35.766522 18.657339 35.782731 20.444696 35.525748  L 17.908933 17.88911  L 35.726933 17.88911  z \" style=\"fill:#fefebb;stroke:#444443;stroke-linejoin:miter;stroke-width:0.5;\" />\n   </g>\n   <g id=\"patch_3\">\n    <path d=\"M 20.444696 35.525748  C 24.686257 34.915905 28.568682 32.795941 31.374877 29.55742  C 34.181072 26.318899 35.726932 22.174289 35.726933 17.889111  L 17.908933 17.88911  L 20.444696 35.525748  z \" style=\"fill:#a1dab4;stroke:#444443;stroke-linejoin:miter;stroke-width:0.5;\" />\n   </g>\n   <g id=\"text_1\">\n    \n    <defs>\n     <path d=\"M 54.890625 33.015625  L 54.890625 0  L 45.90625 0  L 45.90625 32.71875  Q 45.90625 40.484375 42.875 44.328125  Q 39.84375 48.1875 33.796875 48.1875  Q 26.515625 48.1875 22.3125 43.546875  Q 18.109375 38.921875 18.109375 30.90625  L 18.109375 0  L 9.078125 0  L 9.078125 54.6875  L 18.109375 54.6875  L 18.109375 46.1875  Q 21.34375 51.125 25.703125 53.5625  Q 30.078125 56 35.796875 56  Q 45.21875 56 50.046875 50.171875  Q 54.890625 44.34375 54.890625 33.015625  z \" id=\"DejaVuSans-110\" />\n     <path d=\"M 10.59375 45.40625  L 73.1875 45.40625  L 73.1875 37.203125  L 10.59375 37.203125  z M 10.59375 25.484375  L 73.1875 25.484375  L 73.1875 17.1875  L 10.59375 17.1875  z \" id=\"DejaVuSans-61\" />\n     <path d=\"M 19.1875 8.296875  L 53.609375 8.296875  L 53.609375 0  L 7.328125 0  L 7.328125 8.296875  Q 12.9375 14.109375 22.625 23.890625  Q 32.328125 33.6875 34.8125 36.53125  Q 39.546875 41.84375 41.421875 45.53125  Q 43.3125 49.21875 43.3125 52.78125  Q 43.3125 58.59375 39.234375 62.25  Q 35.15625 65.921875 28.609375 65.921875  Q 23.96875 65.921875 18.8125 64.3125  Q 13.671875 62.703125 7.8125 59.421875  L 7.8125 69.390625  Q 13.765625 71.78125 18.9375 73  Q 24.125 74.21875 28.421875 74.21875  Q 39.75 74.21875 46.484375 68.546875  Q 53.21875 62.890625 53.21875 53.421875  Q 53.21875 48.921875 51.53125 44.890625  Q 49.859375 40.875 45.40625 35.40625  Q 44.1875 33.984375 37.640625 27.21875  Q 31.109375 20.453125 19.1875 8.296875  z \" id=\"DejaVuSans-50\" />\n    </defs>\n    <g style=\"fill:#444443;\" transform=\"translate(5.559948 43.971143)scale(0.09 -0.09)\">\n     <use xlink:href=\"#DejaVuSans-110\" />\n     <use x=\"63.378906\" xlink:href=\"#DejaVuSans-61\" />\n     <use x=\"147.167969\" xlink:href=\"#DejaVuSans-50\" />\n     <use x=\"210.791016\" xlink:href=\"#DejaVuSans-50\" />\n    </g>\n    \n    <defs>\n     <path d=\"M 31.78125 66.40625  Q 24.171875 66.40625 20.328125 58.90625  Q 16.5 51.421875 16.5 36.375  Q 16.5 21.390625 20.328125 13.890625  Q 24.171875 6.390625 31.78125 6.390625  Q 39.453125 6.390625 43.28125 13.890625  Q 47.125 21.390625 47.125 36.375  Q 47.125 51.421875 43.28125 58.90625  Q 39.453125 66.40625 31.78125 66.40625  z M 31.78125 74.21875  Q 44.046875 74.21875 50.515625 64.515625  Q 56.984375 54.828125 56.984375 36.375  Q 56.984375 17.96875 50.515625 8.265625  Q 44.046875 -1.421875 31.78125 -1.421875  Q 19.53125 -1.421875 13.0625 8.265625  Q 6.59375 17.96875 6.59375 36.375  Q 6.59375 54.828125 13.0625 64.515625  Q 19.53125 74.21875 31.78125 74.21875  z \" id=\"DejaVuSans-48\" />\n    </defs>\n    <g style=\"fill:#444443;\" transform=\"translate(15.045808 54.049175)scale(0.09 -0.09)\">\n     <use xlink:href=\"#DejaVuSans-48\" />\n    </g>\n   </g>\n  </g>\n </g>\n</svg></g>\n\n<g class=\"edge\" id=\"edge2\">\n<title>node4-&gt;leaf6</title>\n<path d=\"M107.6126,-109.433C106.4603,-100.9061 104.373,-85.4602 102.4866,-71.5009\" fill=\"none\" stroke=\"#444443\" stroke-width=\".3\" />\n<polygon fill=\"#444443\" points=\"103.832,-71.0022 101.9089,-67.2257 101.0572,-71.3772 103.832,-71.0022\" stroke=\"#444443\" stroke-width=\".3\" />\n</g>\n\n<g class=\"node\" id=\"node30\">\n<title>leaf8</title>\n<polygon fill=\"none\" points=\"190,-83.5 123,-83.5 123,-.5 190,-.5 190,-83.5\" stroke=\"#444443\" stroke-width=\"0\" />\n<svg height=\"75px\" preserveAspectRatio=\"xMinYMin meet\" version=\"1.1\" viewBox=\"0 0 78.727006 100.685399\" width=\"59px\" x=\"127.5\" y=\"-79\">\n <defs>\n  <style type=\"text/css\">\n*{stroke-linecap:butt;stroke-linejoin:round;}\n  </style>\n </defs>\n <g id=\"figure_1\">\n  <g id=\"patch_1\">\n   <path d=\"M 0 100.685399  L 78.727006 100.685399  L 78.727006 0  L 0 0  z \" style=\"fill:#ffffff;\" />\n  </g>\n  <g id=\"axes_1\">\n   <g id=\"patch_2\">\n    <path d=\"M 78.727006 39.496255  C 78.727006 32.787538 77.007436 26.189466 73.733025 20.334116  C 70.458614 14.478766 65.737371 9.559281 60.021577 6.046932  L 39.467006 39.496255  L 78.727006 39.496255  z \" style=\"fill:#fefebb;stroke:#444443;stroke-linejoin:miter;stroke-width:0.5;\" />\n   </g>\n   <g id=\"patch_3\">\n    <path d=\"M 60.021577 6.046932  C 56.34547 3.787968 52.321987 2.150388 48.113215 1.200163  C 43.904443 0.249937 39.567669 0 35.277599 0.460419  C 30.987529 0.920839 26.802556 2.085348 22.891271 3.907034  C 18.979987 5.728721 15.395628 8.18279 12.282592 11.17038  C 9.169555 14.157969 6.570212 17.638414 4.589277 21.471505  C 2.608342 25.304595 1.272779 29.438159 0.636389 33.705676  C 0 37.973192 0.071447 42.316575 0.847852 46.560852  C 1.624257 50.805128 3.095052 54.892529 5.200986 58.658392  C 7.306921 62.424256 10.019331 65.817324 13.228946 68.700909  C 16.438561 71.584493 20.101695 73.919344 24.070779 75.611401  C 28.039863 77.303459 32.260873 78.329693 36.563766 78.648762  C 40.866658 78.96783 45.192866 78.57539 49.368107 77.487251  C 53.543348 76.399112 57.510794 74.630085 61.110615 72.251435  C 64.710436 69.872784 67.893635 66.916887 70.531976 63.502822  C 73.170317 60.088756 75.22789 56.262992 76.621805 52.179649  C 78.015721 48.096306 78.727006 43.810965 78.727006 39.496259  L 39.467006 39.496255  L 60.021577 6.046932  z \" style=\"fill:#a1dab4;stroke:#444443;stroke-linejoin:miter;stroke-width:0.5;\" />\n   </g>\n   <g id=\"text_1\">\n    \n    <defs>\n     <path d=\"M 54.890625 33.015625  L 54.890625 0  L 45.90625 0  L 45.90625 32.71875  Q 45.90625 40.484375 42.875 44.328125  Q 39.84375 48.1875 33.796875 48.1875  Q 26.515625 48.1875 22.3125 43.546875  Q 18.109375 38.921875 18.109375 30.90625  L 18.109375 0  L 9.078125 0  L 9.078125 54.6875  L 18.109375 54.6875  L 18.109375 46.1875  Q 21.34375 51.125 25.703125 53.5625  Q 30.078125 56 35.796875 56  Q 45.21875 56 50.046875 50.171875  Q 54.890625 44.34375 54.890625 33.015625  z \" id=\"DejaVuSans-110\" />\n     <path d=\"M 10.59375 45.40625  L 73.1875 45.40625  L 73.1875 37.203125  L 10.59375 37.203125  z M 10.59375 25.484375  L 73.1875 25.484375  L 73.1875 17.1875  L 10.59375 17.1875  z \" id=\"DejaVuSans-61\" />\n     <path d=\"M 12.40625 8.296875  L 28.515625 8.296875  L 28.515625 63.921875  L 10.984375 60.40625  L 10.984375 69.390625  L 28.421875 72.90625  L 38.28125 72.90625  L 38.28125 8.296875  L 54.390625 8.296875  L 54.390625 0  L 12.40625 0  z \" id=\"DejaVuSans-49\" />\n     <path d=\"M 10.984375 1.515625  L 10.984375 10.5  Q 14.703125 8.734375 18.5 7.8125  Q 22.3125 6.890625 25.984375 6.890625  Q 35.75 6.890625 40.890625 13.453125  Q 46.046875 20.015625 46.78125 33.40625  Q 43.953125 29.203125 39.59375 26.953125  Q 35.25 24.703125 29.984375 24.703125  Q 19.046875 24.703125 12.671875 31.3125  Q 6.296875 37.9375 6.296875 49.421875  Q 6.296875 60.640625 12.9375 67.421875  Q 19.578125 74.21875 30.609375 74.21875  Q 43.265625 74.21875 49.921875 64.515625  Q 56.59375 54.828125 56.59375 36.375  Q 56.59375 19.140625 48.40625 8.859375  Q 40.234375 -1.421875 26.421875 -1.421875  Q 22.703125 -1.421875 18.890625 -0.6875  Q 15.09375 0.046875 10.984375 1.515625  z M 30.609375 32.421875  Q 37.25 32.421875 41.125 36.953125  Q 45.015625 41.5 45.015625 49.421875  Q 45.015625 57.28125 41.125 61.84375  Q 37.25 66.40625 30.609375 66.40625  Q 23.96875 66.40625 20.09375 61.84375  Q 16.21875 57.28125 16.21875 49.421875  Q 16.21875 41.5 20.09375 36.953125  Q 23.96875 32.421875 30.609375 32.421875  z \" id=\"DejaVuSans-57\" />\n    </defs>\n    <g style=\"fill:#444443;\" transform=\"translate(24.254897 88.735649)scale(0.09 -0.09)\">\n     <use xlink:href=\"#DejaVuSans-110\" />\n     <use x=\"63.378906\" xlink:href=\"#DejaVuSans-61\" />\n     <use x=\"147.167969\" xlink:href=\"#DejaVuSans-49\" />\n     <use x=\"210.791016\" xlink:href=\"#DejaVuSans-57\" />\n     <use x=\"274.414062\" xlink:href=\"#DejaVuSans-49\" />\n    </g>\n    \n    <g style=\"fill:#444443;\" transform=\"translate(36.603881 98.81368)scale(0.09 -0.09)\">\n     <use xlink:href=\"#DejaVuSans-49\" />\n    </g>\n   </g>\n  </g>\n </g>\n</svg></g>\n\n<g class=\"edge\" id=\"edge4\">\n<title>node7-&gt;leaf8</title>\n<path d=\"M224.8443,-109.433C217.5734,-102.2591 205.3389,-90.1877 193.214,-78.2245\" fill=\"none\" stroke=\"#444443\" stroke-width=\".3\" />\n<polygon fill=\"#444443\" points=\"193.9675,-77.0012 190.1369,-75.1884 192.0009,-78.9944 193.9675,-77.0012\" stroke=\"#444443\" stroke-width=\".3\" />\n</g>\n\n<g class=\"node\" id=\"node31\">\n<title>leaf9</title>\n<polygon fill=\"none\" points=\"271.5,-84 203.5,-84 203.5,0 271.5,0 271.5,-84\" stroke=\"#444443\" stroke-width=\"0\" />\n<svg height=\"76px\" preserveAspectRatio=\"xMinYMin meet\" version=\"1.1\" viewBox=\"0 0 79.03356 101.204814\" width=\"60px\" x=\"207.5\" y=\"-80\">\n <defs>\n  <style type=\"text/css\">\n*{stroke-linecap:butt;stroke-linejoin:round;}\n  </style>\n </defs>\n <g id=\"figure_1\">\n  <g id=\"patch_1\">\n   <path d=\"M 0 101.204814  L 79.03356 101.204814  L 79.03356 0  L 0 0  z \" style=\"fill:#ffffff;\" />\n  </g>\n  <g id=\"axes_1\">\n   <g id=\"patch_2\">\n    <path d=\"M 79.03356 40.01567  C 79.03356 32.274525 76.744004 24.703609 72.454251 18.259749  C 68.164497 11.815889 62.06321 6.782487 54.921483 3.795675  C 47.779755 0.808862 39.911682 0 32.311645 1.471313  C 24.711608 2.942627 17.71386 6.629408 12.202788 12.065712  L 39.77356 40.01567  L 79.03356 40.01567  z \" style=\"fill:#fefebb;stroke:#444443;stroke-linejoin:miter;stroke-width:0.5;\" />\n   </g>\n   <g id=\"patch_3\">\n    <path d=\"M 12.202788 12.065712  C 7.598582 16.607456 4.187169 22.217286 2.272857 28.39479  C 0.358545 34.572294 0 41.12816 1.229204 47.477585  C 2.458408 53.827011 5.237692 59.775415 9.319136 64.792183  C 13.40058 69.808952 18.659106 73.740343 24.625638 76.235665  C 30.592171 78.730988 37.083863 79.713772 43.521638 79.09635  C 49.959412 78.478927 56.14598 76.280221 61.529481 72.69636  C 66.912983 69.1125 71.328439 64.253314 74.381977 58.552257  C 77.435516 52.851201 79.03356 46.482984 79.03356 40.01567  L 39.77356 40.01567  L 12.202788 12.065712  z \" style=\"fill:#a1dab4;stroke:#444443;stroke-linejoin:miter;stroke-width:0.5;\" />\n   </g>\n   <g id=\"text_1\">\n    \n    <defs>\n     <path d=\"M 54.890625 33.015625  L 54.890625 0  L 45.90625 0  L 45.90625 32.71875  Q 45.90625 40.484375 42.875 44.328125  Q 39.84375 48.1875 33.796875 48.1875  Q 26.515625 48.1875 22.3125 43.546875  Q 18.109375 38.921875 18.109375 30.90625  L 18.109375 0  L 9.078125 0  L 9.078125 54.6875  L 18.109375 54.6875  L 18.109375 46.1875  Q 21.34375 51.125 25.703125 53.5625  Q 30.078125 56 35.796875 56  Q 45.21875 56 50.046875 50.171875  Q 54.890625 44.34375 54.890625 33.015625  z \" id=\"DejaVuSans-110\" />\n     <path d=\"M 10.59375 45.40625  L 73.1875 45.40625  L 73.1875 37.203125  L 10.59375 37.203125  z M 10.59375 25.484375  L 73.1875 25.484375  L 73.1875 17.1875  L 10.59375 17.1875  z \" id=\"DejaVuSans-61\" />\n     <path d=\"M 12.40625 8.296875  L 28.515625 8.296875  L 28.515625 63.921875  L 10.984375 60.40625  L 10.984375 69.390625  L 28.421875 72.90625  L 38.28125 72.90625  L 38.28125 8.296875  L 54.390625 8.296875  L 54.390625 0  L 12.40625 0  z \" id=\"DejaVuSans-49\" />\n     <path d=\"M 10.796875 72.90625  L 49.515625 72.90625  L 49.515625 64.59375  L 19.828125 64.59375  L 19.828125 46.734375  Q 21.96875 47.46875 24.109375 47.828125  Q 26.265625 48.1875 28.421875 48.1875  Q 40.625 48.1875 47.75 41.5  Q 54.890625 34.8125 54.890625 23.390625  Q 54.890625 11.625 47.5625 5.09375  Q 40.234375 -1.421875 26.90625 -1.421875  Q 22.3125 -1.421875 17.546875 -0.640625  Q 12.796875 0.140625 7.71875 1.703125  L 7.71875 11.625  Q 12.109375 9.234375 16.796875 8.0625  Q 21.484375 6.890625 26.703125 6.890625  Q 35.15625 6.890625 40.078125 11.328125  Q 45.015625 15.765625 45.015625 23.390625  Q 45.015625 31 40.078125 35.4375  Q 35.15625 39.890625 26.703125 39.890625  Q 22.75 39.890625 18.8125 39.015625  Q 14.890625 38.140625 10.796875 36.28125  z \" id=\"DejaVuSans-53\" />\n    </defs>\n    <g style=\"fill:#444443;\" transform=\"translate(24.561451 89.255064)scale(0.09 -0.09)\">\n     <use xlink:href=\"#DejaVuSans-110\" />\n     <use x=\"63.378906\" xlink:href=\"#DejaVuSans-61\" />\n     <use x=\"147.167969\" xlink:href=\"#DejaVuSans-49\" />\n     <use x=\"210.791016\" xlink:href=\"#DejaVuSans-49\" />\n     <use x=\"274.414062\" xlink:href=\"#DejaVuSans-53\" />\n    </g>\n    \n    <g style=\"fill:#444443;\" transform=\"translate(36.910435 99.333095)scale(0.09 -0.09)\">\n     <use xlink:href=\"#DejaVuSans-49\" />\n    </g>\n   </g>\n  </g>\n </g>\n</svg></g>\n\n<g class=\"edge\" id=\"edge5\">\n<title>node7-&gt;leaf9</title>\n<path d=\"M232.0325,-109.433C232.4515,-104.2653 233.0765,-96.5565 233.7559,-88.1773\" fill=\"none\" stroke=\"#444443\" stroke-width=\".3\" />\n<polygon fill=\"#444443\" points=\"235.1652,-88.1184 234.0931,-84.0183 232.3743,-87.892 235.1652,-88.1184\" stroke=\"#444443\" stroke-width=\".3\" />\n</g>\n\n<g class=\"node\" id=\"node3\">\n<title>node3</title>\n<text fill=\"#444443\" font-family=\"Helvetica,sans-Serif\" font-size=\"12.00\" text-anchor=\"start\" x=\"213\" y=\"-186.4\">&#36890;&#31639;&#25903;&#25173;&#38989;@50.30</text>\n</g>\n\n<g class=\"edge\" id=\"edge7\">\n<title>node3-&gt;node4</title>\n<path d=\"M250.656,-182.9774C222.2804,-169.6081 157.5591,-139.1144 126.1924,-124.3358\" fill=\"none\" stroke=\"#444443\" stroke-width=\".3\" />\n<polygon fill=\"#444443\" points=\"126.7524,-123.0521 122.5372,-122.6137 125.559,-125.5851 126.7524,-123.0521\" stroke=\"#444443\" stroke-width=\".3\" />\n</g>\n\n<g class=\"edge\" id=\"edge8\">\n<title>node3-&gt;node7</title>\n<path d=\"M261.4546,-182.717C255.679,-169.8533 243.0983,-141.8325 236.2211,-126.5152\" fill=\"none\" stroke=\"#444443\" stroke-width=\".3\" />\n<polygon fill=\"#444443\" points=\"237.3586,-125.6306 234.443,-122.5549 234.8043,-126.7775 237.3586,-125.6306\" stroke=\"#444443\" stroke-width=\".3\" />\n</g>\n\n<g class=\"node\" id=\"node6\">\n<title>node10</title>\n<text fill=\"#444443\" font-family=\"Helvetica,sans-Serif\" font-size=\"12.00\" text-anchor=\"start\" x=\"380\" y=\"-186.4\">&#65405;&#65412;&#65432;&#65392;&#65424;&#65437;&#65400;&#65438;&#65403;&#65392;&#65419;&#65438;&#65405;(&#26144;&#30011;)@0.50</text>\n</g>\n\n\n<g class=\"node\" id=\"node4\">\n<title>node11</title>\n<text fill=\"#444443\" font-family=\"Helvetica,sans-Serif\" font-size=\"12.00\" text-anchor=\"start\" x=\"324.5\" y=\"-112.9\">&#21033;&#29992;&#26376;&#25968;@7.50</text>\n</g>\n\n<g class=\"node\" id=\"node5\">\n<title>node14</title>\n<text fill=\"#444443\" font-family=\"Helvetica,sans-Serif\" font-size=\"12.00\" text-anchor=\"start\" x=\"421.5\" y=\"-112.9\">&#36890;&#31639;&#25903;&#25173;&#38989;@1627.40</text>\n</g>\n\n\n<g class=\"node\" id=\"node32\">\n<title>leaf12</title>\n<polygon fill=\"none\" points=\"346,-83.5 279,-83.5 279,-.5 346,-.5 346,-83.5\" stroke=\"#444443\" stroke-width=\"0\" />\n<svg height=\"75px\" preserveAspectRatio=\"xMinYMin meet\" version=\"1.1\" viewBox=\"0 0 78.812143 100.625119\" width=\"59px\" x=\"283.5\" y=\"-79\">\n <defs>\n  <style type=\"text/css\">\n*{stroke-linecap:butt;stroke-linejoin:round;}\n  </style>\n </defs>\n <g id=\"figure_1\">\n  <g id=\"patch_1\">\n   <path d=\"M 0 100.625119  L 78.812143 100.625119  L 78.812143 0  L 0 0  z \" style=\"fill:#ffffff;\" />\n  </g>\n  <g id=\"axes_1\">\n   <g id=\"patch_2\">\n    <path d=\"M 78.812143 39.435975  C 78.812143 34.151731 77.745285 28.921474 75.675656 24.059389  C 73.606028 19.197305 70.575917 14.802739 66.767345 11.139679  C 62.958774 7.476618 58.449561 4.619909 53.510581 2.741158  C 48.571602 0.862406 43.303771 0 38.023535 0.205745  C 32.743298 0.411489 27.558545 1.681181 22.78073 3.938548  C 18.002914 6.195916 13.72966 9.394834 10.217665 13.34314  C 6.705671 17.291447 4.026697 21.908468 2.341672 26.916853  C 0.656647 31.925237 0 37.222651 0.411177 42.490873  L 39.552143 39.435975  L 78.812143 39.435975  z \" style=\"fill:#fefebb;stroke:#444443;stroke-linejoin:miter;stroke-width:0.5;\" />\n   </g>\n   <g id=\"patch_3\">\n    <path d=\"M 0.411177 42.490873  C 1.20052 52.60434 5.879698 62.028437 13.459309 68.770453  C 21.038919 75.512469 30.94422 79.061176 41.080752 78.666205  C 51.217283 78.271234 60.81642 73.962536 67.848439 66.651177  C 74.880459 59.339818 78.812143 49.580199 78.812143 39.435975  L 39.552143 39.435975  L 0.411177 42.490873  z \" style=\"fill:#a1dab4;stroke:#444443;stroke-linejoin:miter;stroke-width:0.5;\" />\n   </g>\n   <g id=\"text_1\">\n    \n    <defs>\n     <path d=\"M 54.890625 33.015625  L 54.890625 0  L 45.90625 0  L 45.90625 32.71875  Q 45.90625 40.484375 42.875 44.328125  Q 39.84375 48.1875 33.796875 48.1875  Q 26.515625 48.1875 22.3125 43.546875  Q 18.109375 38.921875 18.109375 30.90625  L 18.109375 0  L 9.078125 0  L 9.078125 54.6875  L 18.109375 54.6875  L 18.109375 46.1875  Q 21.34375 51.125 25.703125 53.5625  Q 30.078125 56 35.796875 56  Q 45.21875 56 50.046875 50.171875  Q 54.890625 44.34375 54.890625 33.015625  z \" id=\"DejaVuSans-110\" />\n     <path d=\"M 10.59375 45.40625  L 73.1875 45.40625  L 73.1875 37.203125  L 10.59375 37.203125  z M 10.59375 25.484375  L 73.1875 25.484375  L 73.1875 17.1875  L 10.59375 17.1875  z \" id=\"DejaVuSans-61\" />\n     <path d=\"M 19.1875 8.296875  L 53.609375 8.296875  L 53.609375 0  L 7.328125 0  L 7.328125 8.296875  Q 12.9375 14.109375 22.625 23.890625  Q 32.328125 33.6875 34.8125 36.53125  Q 39.546875 41.84375 41.421875 45.53125  Q 43.3125 49.21875 43.3125 52.78125  Q 43.3125 58.59375 39.234375 62.25  Q 35.15625 65.921875 28.609375 65.921875  Q 23.96875 65.921875 18.8125 64.3125  Q 13.671875 62.703125 7.8125 59.421875  L 7.8125 69.390625  Q 13.765625 71.78125 18.9375 73  Q 24.125 74.21875 28.421875 74.21875  Q 39.75 74.21875 46.484375 68.546875  Q 53.21875 62.890625 53.21875 53.421875  Q 53.21875 48.921875 51.53125 44.890625  Q 49.859375 40.875 45.40625 35.40625  Q 44.1875 33.984375 37.640625 27.21875  Q 31.109375 20.453125 19.1875 8.296875  z \" id=\"DejaVuSans-50\" />\n     <path d=\"M 37.796875 64.3125  L 12.890625 25.390625  L 37.796875 25.390625  z M 35.203125 72.90625  L 47.609375 72.90625  L 47.609375 25.390625  L 58.015625 25.390625  L 58.015625 17.1875  L 47.609375 17.1875  L 47.609375 0  L 37.796875 0  L 37.796875 17.1875  L 4.890625 17.1875  L 4.890625 26.703125  z \" id=\"DejaVuSans-52\" />\n    </defs>\n    <g style=\"fill:#444443;\" transform=\"translate(24.340034 88.675369)scale(0.09 -0.09)\">\n     <use xlink:href=\"#DejaVuSans-110\" />\n     <use x=\"63.378906\" xlink:href=\"#DejaVuSans-61\" />\n     <use x=\"147.167969\" xlink:href=\"#DejaVuSans-50\" />\n     <use x=\"210.791016\" xlink:href=\"#DejaVuSans-52\" />\n     <use x=\"274.414062\" xlink:href=\"#DejaVuSans-50\" />\n    </g>\n    \n    <defs>\n     <path d=\"M 31.78125 66.40625  Q 24.171875 66.40625 20.328125 58.90625  Q 16.5 51.421875 16.5 36.375  Q 16.5 21.390625 20.328125 13.890625  Q 24.171875 6.390625 31.78125 6.390625  Q 39.453125 6.390625 43.28125 13.890625  Q 47.125 21.390625 47.125 36.375  Q 47.125 51.421875 43.28125 58.90625  Q 39.453125 66.40625 31.78125 66.40625  z M 31.78125 74.21875  Q 44.046875 74.21875 50.515625 64.515625  Q 56.984375 54.828125 56.984375 36.375  Q 56.984375 17.96875 50.515625 8.265625  Q 44.046875 -1.421875 31.78125 -1.421875  Q 19.53125 -1.421875 13.0625 8.265625  Q 6.59375 17.96875 6.59375 36.375  Q 6.59375 54.828125 13.0625 64.515625  Q 19.53125 74.21875 31.78125 74.21875  z \" id=\"DejaVuSans-48\" />\n    </defs>\n    <g style=\"fill:#444443;\" transform=\"translate(36.689018 98.7534)scale(0.09 -0.09)\">\n     <use xlink:href=\"#DejaVuSans-48\" />\n    </g>\n   </g>\n  </g>\n </g>\n</svg></g>\n\n<g class=\"edge\" id=\"edge10\">\n<title>node11-&gt;leaf12</title>\n<path d=\"M361.7079,-109.433C357.7538,-104.0144 351.7608,-95.8018 345.303,-86.9522\" fill=\"none\" stroke=\"#444443\" stroke-width=\".3\" />\n<polygon fill=\"#444443\" points=\"346.3945,-86.0729 342.9056,-83.667 344.1326,-87.7234 346.3945,-86.0729\" stroke=\"#444443\" stroke-width=\".3\" />\n</g>\n\n<g class=\"node\" id=\"node33\">\n<title>leaf13</title>\n<polygon fill=\"none\" points=\"427,-83.5 360,-83.5 360,-.5 427,-.5 427,-83.5\" stroke=\"#444443\" stroke-width=\"0\" />\n<svg height=\"75px\" preserveAspectRatio=\"xMinYMin meet\" version=\"1.1\" viewBox=\"0 0 78.931833 100.68686\" width=\"59px\" x=\"364.5\" y=\"-79\">\n <defs>\n  <style type=\"text/css\">\n*{stroke-linecap:butt;stroke-linejoin:round;}\n  </style>\n </defs>\n <g id=\"figure_1\">\n  <g id=\"patch_1\">\n   <path d=\"M 0 100.68686  L 78.931833 100.68686  L 78.931833 0  L 0 0  z \" style=\"fill:#ffffff;\" />\n  </g>\n  <g id=\"axes_1\">\n   <g id=\"patch_2\">\n    <path d=\"M 78.931833 39.497716  C 78.931833 32.784609 77.210011 26.182365 73.931524 20.324266  C 70.653036 14.466167 65.926167 9.545699 60.204315 6.034829  C 54.482462 2.523959 47.954612 0.538648 41.246909 0.269324  C 34.539207 -0 27.873201 1.455559 21.888288 4.496386  C 15.903375 7.537212 10.797231 12.06287 7.059632 17.639263  C 3.322033 23.215657 1.076428 29.658602 0.538214 36.3501  C 0 43.041597 1.186953 49.760632 3.985222 55.862721  C 6.783491 61.964811 11.100651 67.24841 16.522606 71.206719  L 39.671833 39.497716  L 78.931833 39.497716  z \" style=\"fill:#fefebb;stroke:#444443;stroke-linejoin:miter;stroke-width:0.5;\" />\n   </g>\n   <g id=\"patch_3\">\n    <path d=\"M 16.522606 71.206719  C 22.376097 75.480073 29.300137 78.050283 36.524215 78.631334  C 43.748292 79.212386 50.994119 77.781895 57.455375 74.499048  C 63.916631 71.216201 69.344414 66.207461 73.134717 60.030202  C 76.92502 53.852944 78.931831 46.745131 78.931833 39.497723  L 39.671833 39.497716  L 16.522606 71.206719  z \" style=\"fill:#a1dab4;stroke:#444443;stroke-linejoin:miter;stroke-width:0.5;\" />\n   </g>\n   <g id=\"text_1\">\n    \n    <defs>\n     <path d=\"M 54.890625 33.015625  L 54.890625 0  L 45.90625 0  L 45.90625 32.71875  Q 45.90625 40.484375 42.875 44.328125  Q 39.84375 48.1875 33.796875 48.1875  Q 26.515625 48.1875 22.3125 43.546875  Q 18.109375 38.921875 18.109375 30.90625  L 18.109375 0  L 9.078125 0  L 9.078125 54.6875  L 18.109375 54.6875  L 18.109375 46.1875  Q 21.34375 51.125 25.703125 53.5625  Q 30.078125 56 35.796875 56  Q 45.21875 56 50.046875 50.171875  Q 54.890625 44.34375 54.890625 33.015625  z \" id=\"DejaVuSans-110\" />\n     <path d=\"M 10.59375 45.40625  L 73.1875 45.40625  L 73.1875 37.203125  L 10.59375 37.203125  z M 10.59375 25.484375  L 73.1875 25.484375  L 73.1875 17.1875  L 10.59375 17.1875  z \" id=\"DejaVuSans-61\" />\n     <path d=\"M 19.1875 8.296875  L 53.609375 8.296875  L 53.609375 0  L 7.328125 0  L 7.328125 8.296875  Q 12.9375 14.109375 22.625 23.890625  Q 32.328125 33.6875 34.8125 36.53125  Q 39.546875 41.84375 41.421875 45.53125  Q 43.3125 49.21875 43.3125 52.78125  Q 43.3125 58.59375 39.234375 62.25  Q 35.15625 65.921875 28.609375 65.921875  Q 23.96875 65.921875 18.8125 64.3125  Q 13.671875 62.703125 7.8125 59.421875  L 7.8125 69.390625  Q 13.765625 71.78125 18.9375 73  Q 24.125 74.21875 28.421875 74.21875  Q 39.75 74.21875 46.484375 68.546875  Q 53.21875 62.890625 53.21875 53.421875  Q 53.21875 48.921875 51.53125 44.890625  Q 49.859375 40.875 45.40625 35.40625  Q 44.1875 33.984375 37.640625 27.21875  Q 31.109375 20.453125 19.1875 8.296875  z \" id=\"DejaVuSans-50\" />\n     <path d=\"M 8.203125 72.90625  L 55.078125 72.90625  L 55.078125 68.703125  L 28.609375 0  L 18.3125 0  L 43.21875 64.59375  L 8.203125 64.59375  z \" id=\"DejaVuSans-55\" />\n     <path d=\"M 37.796875 64.3125  L 12.890625 25.390625  L 37.796875 25.390625  z M 35.203125 72.90625  L 47.609375 72.90625  L 47.609375 25.390625  L 58.015625 25.390625  L 58.015625 17.1875  L 47.609375 17.1875  L 47.609375 0  L 37.796875 0  L 37.796875 17.1875  L 4.890625 17.1875  L 4.890625 26.703125  z \" id=\"DejaVuSans-52\" />\n    </defs>\n    <g style=\"fill:#444443;\" transform=\"translate(24.459723 88.73711)scale(0.09 -0.09)\">\n     <use xlink:href=\"#DejaVuSans-110\" />\n     <use x=\"63.378906\" xlink:href=\"#DejaVuSans-61\" />\n     <use x=\"147.167969\" xlink:href=\"#DejaVuSans-50\" />\n     <use x=\"210.791016\" xlink:href=\"#DejaVuSans-55\" />\n     <use x=\"274.414062\" xlink:href=\"#DejaVuSans-52\" />\n    </g>\n    \n    <defs>\n     <path d=\"M 31.78125 66.40625  Q 24.171875 66.40625 20.328125 58.90625  Q 16.5 51.421875 16.5 36.375  Q 16.5 21.390625 20.328125 13.890625  Q 24.171875 6.390625 31.78125 6.390625  Q 39.453125 6.390625 43.28125 13.890625  Q 47.125 21.390625 47.125 36.375  Q 47.125 51.421875 43.28125 58.90625  Q 39.453125 66.40625 31.78125 66.40625  z M 31.78125 74.21875  Q 44.046875 74.21875 50.515625 64.515625  Q 56.984375 54.828125 56.984375 36.375  Q 56.984375 17.96875 50.515625 8.265625  Q 44.046875 -1.421875 31.78125 -1.421875  Q 19.53125 -1.421875 13.0625 8.265625  Q 6.59375 17.96875 6.59375 36.375  Q 6.59375 54.828125 13.0625 64.515625  Q 19.53125 74.21875 31.78125 74.21875  z \" id=\"DejaVuSans-48\" />\n    </defs>\n    <g style=\"fill:#444443;\" transform=\"translate(36.808708 98.815141)scale(0.09 -0.09)\">\n     <use xlink:href=\"#DejaVuSans-48\" />\n    </g>\n   </g>\n  </g>\n </g>\n</svg></g>\n\n<g class=\"edge\" id=\"edge11\">\n<title>node11-&gt;leaf13</title>\n<path d=\"M368.8961,-109.433C370.8037,-104.2045 373.6606,-96.3747 376.7595,-87.8813\" fill=\"none\" stroke=\"#444443\" stroke-width=\".3\" />\n<polygon fill=\"#444443\" points=\"378.2413,-87.9046 378.2972,-83.667 375.6109,-86.9448 378.2413,-87.9046\" stroke=\"#444443\" stroke-width=\".3\" />\n</g>\n\n<g class=\"node\" id=\"node34\">\n<title>leaf15</title>\n<polygon fill=\"none\" points=\"501,-84 434,-84 434,0 501,0 501,-84\" stroke=\"#444443\" stroke-width=\"0\" />\n<svg height=\"76px\" preserveAspectRatio=\"xMinYMin meet\" version=\"1.1\" viewBox=\"0 0 78.618413 101.456694\" width=\"59px\" x=\"438.5\" y=\"-80\">\n <defs>\n  <style type=\"text/css\">\n*{stroke-linecap:butt;stroke-linejoin:round;}\n  </style>\n </defs>\n <g id=\"figure_1\">\n  <g id=\"patch_1\">\n   <path d=\"M -0 101.456694  L 78.618413 101.456694  L 78.618413 0  L -0 0  z \" style=\"fill:#ffffff;\" />\n  </g>\n  <g id=\"axes_1\">\n   <g id=\"patch_2\">\n    <path d=\"M 78.618413 40.26755  C 78.618413 31.306707 75.550531 22.610401 69.92788 15.633117  C 64.305228 8.655832 56.459785 3.809528 47.703726 1.904764  C 38.947666 0 29.797972 1.149239 21.78496 5.160266  C 13.771948 9.171294 7.368729 15.807288 3.64626 23.958358  L 39.358413 40.26755  L 78.618413 40.26755  z \" style=\"fill:#fefebb;stroke:#444443;stroke-linejoin:miter;stroke-width:0.5;\" />\n   </g>\n   <g id=\"patch_3\">\n    <path d=\"M 3.64626 23.958358  C 1.210254 29.292468 0 35.105206 0.104667 40.968303  C 0.209335 46.8314 1.626288 52.597238 4.251129 57.841003  C 6.875971 63.084767 10.642613 67.674434 15.27354 71.271848  C 19.904466 74.869261 25.283081 77.383847 31.0131 78.630336  C 36.74312 79.876826 42.680277 79.823835 48.387135 78.475269  C 54.093993 77.126703 59.426868 74.516515 63.992846 70.837017  C 68.558825 67.157519 72.242946 62.501352 74.773773 57.211572  C 77.3046 51.921791 78.618413 46.131581 78.618413 40.26755  L 39.358413 40.26755  L 3.64626 23.958358  z \" style=\"fill:#a1dab4;stroke:#444443;stroke-linejoin:miter;stroke-width:0.5;\" />\n   </g>\n   <g id=\"text_1\">\n    \n    <defs>\n     <path d=\"M 54.890625 33.015625  L 54.890625 0  L 45.90625 0  L 45.90625 32.71875  Q 45.90625 40.484375 42.875 44.328125  Q 39.84375 48.1875 33.796875 48.1875  Q 26.515625 48.1875 22.3125 43.546875  Q 18.109375 38.921875 18.109375 30.90625  L 18.109375 0  L 9.078125 0  L 9.078125 54.6875  L 18.109375 54.6875  L 18.109375 46.1875  Q 21.34375 51.125 25.703125 53.5625  Q 30.078125 56 35.796875 56  Q 45.21875 56 50.046875 50.171875  Q 54.890625 44.34375 54.890625 33.015625  z \" id=\"DejaVuSans-110\" />\n     <path d=\"M 10.59375 45.40625  L 73.1875 45.40625  L 73.1875 37.203125  L 10.59375 37.203125  z M 10.59375 25.484375  L 73.1875 25.484375  L 73.1875 17.1875  L 10.59375 17.1875  z \" id=\"DejaVuSans-61\" />\n     <path d=\"M 40.578125 39.3125  Q 47.65625 37.796875 51.625 33  Q 55.609375 28.21875 55.609375 21.1875  Q 55.609375 10.40625 48.1875 4.484375  Q 40.765625 -1.421875 27.09375 -1.421875  Q 22.515625 -1.421875 17.65625 -0.515625  Q 12.796875 0.390625 7.625 2.203125  L 7.625 11.71875  Q 11.71875 9.328125 16.59375 8.109375  Q 21.484375 6.890625 26.8125 6.890625  Q 36.078125 6.890625 40.9375 10.546875  Q 45.796875 14.203125 45.796875 21.1875  Q 45.796875 27.640625 41.28125 31.265625  Q 36.765625 34.90625 28.71875 34.90625  L 20.21875 34.90625  L 20.21875 43.015625  L 29.109375 43.015625  Q 36.375 43.015625 40.234375 45.921875  Q 44.09375 48.828125 44.09375 54.296875  Q 44.09375 59.90625 40.109375 62.90625  Q 36.140625 65.921875 28.71875 65.921875  Q 24.65625 65.921875 20.015625 65.03125  Q 15.375 64.15625 9.8125 62.3125  L 9.8125 71.09375  Q 15.4375 72.65625 20.34375 73.4375  Q 25.25 74.21875 29.59375 74.21875  Q 40.828125 74.21875 47.359375 69.109375  Q 53.90625 64.015625 53.90625 55.328125  Q 53.90625 49.265625 50.4375 45.09375  Q 46.96875 40.921875 40.578125 39.3125  z \" id=\"DejaVuSans-51\" />\n     <path d=\"M 31.78125 66.40625  Q 24.171875 66.40625 20.328125 58.90625  Q 16.5 51.421875 16.5 36.375  Q 16.5 21.390625 20.328125 13.890625  Q 24.171875 6.390625 31.78125 6.390625  Q 39.453125 6.390625 43.28125 13.890625  Q 47.125 21.390625 47.125 36.375  Q 47.125 51.421875 43.28125 58.90625  Q 39.453125 66.40625 31.78125 66.40625  z M 31.78125 74.21875  Q 44.046875 74.21875 50.515625 64.515625  Q 56.984375 54.828125 56.984375 36.375  Q 56.984375 17.96875 50.515625 8.265625  Q 44.046875 -1.421875 31.78125 -1.421875  Q 19.53125 -1.421875 13.0625 8.265625  Q 6.59375 17.96875 6.59375 36.375  Q 6.59375 54.828125 13.0625 64.515625  Q 19.53125 74.21875 31.78125 74.21875  z \" id=\"DejaVuSans-48\" />\n     <path d=\"M 31.78125 34.625  Q 24.75 34.625 20.71875 30.859375  Q 16.703125 27.09375 16.703125 20.515625  Q 16.703125 13.921875 20.71875 10.15625  Q 24.75 6.390625 31.78125 6.390625  Q 38.8125 6.390625 42.859375 10.171875  Q 46.921875 13.96875 46.921875 20.515625  Q 46.921875 27.09375 42.890625 30.859375  Q 38.875 34.625 31.78125 34.625  z M 21.921875 38.8125  Q 15.578125 40.375 12.03125 44.71875  Q 8.5 49.078125 8.5 55.328125  Q 8.5 64.0625 14.71875 69.140625  Q 20.953125 74.21875 31.78125 74.21875  Q 42.671875 74.21875 48.875 69.140625  Q 55.078125 64.0625 55.078125 55.328125  Q 55.078125 49.078125 51.53125 44.71875  Q 48 40.375 41.703125 38.8125  Q 48.828125 37.15625 52.796875 32.3125  Q 56.78125 27.484375 56.78125 20.515625  Q 56.78125 9.90625 50.3125 4.234375  Q 43.84375 -1.421875 31.78125 -1.421875  Q 19.734375 -1.421875 13.25 4.234375  Q 6.78125 9.90625 6.78125 20.515625  Q 6.78125 27.484375 10.78125 32.3125  Q 14.796875 37.15625 21.921875 38.8125  z M 18.3125 54.390625  Q 18.3125 48.734375 21.84375 45.5625  Q 25.390625 42.390625 31.78125 42.390625  Q 38.140625 42.390625 41.71875 45.5625  Q 45.3125 48.734375 45.3125 54.390625  Q 45.3125 60.0625 41.71875 63.234375  Q 38.140625 66.40625 31.78125 66.40625  Q 25.390625 66.40625 21.84375 63.234375  Q 18.3125 60.0625 18.3125 54.390625  z \" id=\"DejaVuSans-56\" />\n    </defs>\n    <g style=\"fill:#444443;\" transform=\"translate(24.146304 89.506944)scale(0.09 -0.09)\">\n     <use xlink:href=\"#DejaVuSans-110\" />\n     <use x=\"63.378906\" xlink:href=\"#DejaVuSans-61\" />\n     <use x=\"147.167969\" xlink:href=\"#DejaVuSans-51\" />\n     <use x=\"210.791016\" xlink:href=\"#DejaVuSans-48\" />\n     <use x=\"274.414062\" xlink:href=\"#DejaVuSans-56\" />\n    </g>\n    \n    <defs>\n     <path d=\"M 12.40625 8.296875  L 28.515625 8.296875  L 28.515625 63.921875  L 10.984375 60.40625  L 10.984375 69.390625  L 28.421875 72.90625  L 38.28125 72.90625  L 38.28125 8.296875  L 54.390625 8.296875  L 54.390625 0  L 12.40625 0  z \" id=\"DejaVuSans-49\" />\n    </defs>\n    <g style=\"fill:#444443;\" transform=\"translate(36.495288 99.584975)scale(0.09 -0.09)\">\n     <use xlink:href=\"#DejaVuSans-49\" />\n    </g>\n   </g>\n  </g>\n </g>\n</svg></g>\n\n<g class=\"edge\" id=\"edge13\">\n<title>node14-&gt;leaf15</title>\n<path d=\"M478.4351,-109.433C477.5971,-104.2653 476.347,-96.5565 474.9882,-88.1773\" fill=\"none\" stroke=\"#444443\" stroke-width=\".3\" />\n<polygon fill=\"#444443\" points=\"476.3361,-87.7426 474.3138,-84.0183 473.5722,-88.1908 476.3361,-87.7426\" stroke=\"#444443\" stroke-width=\".3\" />\n</g>\n\n<g class=\"node\" id=\"node35\">\n<title>leaf16</title>\n<polygon fill=\"none\" points=\"536.5,-58 514.5,-58 514.5,-26 536.5,-26 536.5,-58\" stroke=\"#444443\" stroke-width=\"0\" />\n<svg height=\"24px\" preserveAspectRatio=\"xMinYMin meet\" version=\"1.1\" viewBox=\"0 0 18.971719 31.979704\" width=\"14px\" x=\"518.5\" y=\"-54\">\n <defs>\n  <style type=\"text/css\">\n*{stroke-linecap:butt;stroke-linejoin:round;}\n  </style>\n </defs>\n <g id=\"figure_1\">\n  <g id=\"patch_1\">\n   <path d=\"M 0 31.979704  L 18.971719 31.979704  L 18.971719 0  L 0 0  z \" style=\"fill:#ffffff;\" />\n  </g>\n  <g id=\"axes_1\">\n   <g id=\"patch_2\">\n    <path d=\"M 15.827859 6.342  C 15.827859 5.509176 15.663811 4.684451 15.345103 3.915022  C 15.026395 3.145593 14.559226 2.446424 13.970331 1.857529  C 13.381435 1.268633 12.682267 0.801464 11.912838 0.482756  C 11.143409 0.164048 10.318683 0 9.485859 0  C 8.653036 0 7.82831 0.164048 7.058881 0.482756  C 6.289452 0.801464 5.590284 1.268633 5.001388 1.857529  C 4.412493 2.446424 3.945323 3.145593 3.626615 3.915022  C 3.307908 4.684451 3.143859 5.509176 3.143859 6.342  C 3.143859 7.174824 3.307908 7.999549 3.626615 8.768978  C 3.945323 9.538407 4.412493 10.237576 5.001388 10.826471  C 5.590284 11.415367 6.289452 11.882536 7.058881 12.201244  C 7.82831 12.519952 8.653036 12.684 9.485859 12.684  C 10.318683 12.684 11.143409 12.519952 11.912838 12.201244  C 12.682267 11.882536 13.381435 11.415367 13.970331 10.826471  C 14.559226 10.237576 15.026395 9.538407 15.345103 8.768978  C 15.663811 7.999549 15.827859 7.174824 15.827859 6.342  M 9.485859 6.342  M 15.827859 6.342  z \" style=\"fill:#fefebb;stroke:#444443;stroke-linejoin:miter;stroke-width:0.5;\" />\n   </g>\n   <g id=\"text_1\">\n    \n    <defs>\n     <path d=\"M 54.890625 33.015625  L 54.890625 0  L 45.90625 0  L 45.90625 32.71875  Q 45.90625 40.484375 42.875 44.328125  Q 39.84375 48.1875 33.796875 48.1875  Q 26.515625 48.1875 22.3125 43.546875  Q 18.109375 38.921875 18.109375 30.90625  L 18.109375 0  L 9.078125 0  L 9.078125 54.6875  L 18.109375 54.6875  L 18.109375 46.1875  Q 21.34375 51.125 25.703125 53.5625  Q 30.078125 56 35.796875 56  Q 45.21875 56 50.046875 50.171875  Q 54.890625 44.34375 54.890625 33.015625  z \" id=\"DejaVuSans-110\" />\n     <path d=\"M 10.59375 45.40625  L 73.1875 45.40625  L 73.1875 37.203125  L 10.59375 37.203125  z M 10.59375 25.484375  L 73.1875 25.484375  L 73.1875 17.1875  L 10.59375 17.1875  z \" id=\"DejaVuSans-61\" />\n     <path d=\"M 40.578125 39.3125  Q 47.65625 37.796875 51.625 33  Q 55.609375 28.21875 55.609375 21.1875  Q 55.609375 10.40625 48.1875 4.484375  Q 40.765625 -1.421875 27.09375 -1.421875  Q 22.515625 -1.421875 17.65625 -0.515625  Q 12.796875 0.390625 7.625 2.203125  L 7.625 11.71875  Q 11.71875 9.328125 16.59375 8.109375  Q 21.484375 6.890625 26.8125 6.890625  Q 36.078125 6.890625 40.9375 10.546875  Q 45.796875 14.203125 45.796875 21.1875  Q 45.796875 27.640625 41.28125 31.265625  Q 36.765625 34.90625 28.71875 34.90625  L 20.21875 34.90625  L 20.21875 43.015625  L 29.109375 43.015625  Q 36.375 43.015625 40.234375 45.921875  Q 44.09375 48.828125 44.09375 54.296875  Q 44.09375 59.90625 40.109375 62.90625  Q 36.140625 65.921875 28.71875 65.921875  Q 24.65625 65.921875 20.015625 65.03125  Q 15.375 64.15625 9.8125 62.3125  L 9.8125 71.09375  Q 15.4375 72.65625 20.34375 73.4375  Q 25.25 74.21875 29.59375 74.21875  Q 40.828125 74.21875 47.359375 69.109375  Q 53.90625 64.015625 53.90625 55.328125  Q 53.90625 49.265625 50.4375 45.09375  Q 46.96875 40.921875 40.578125 39.3125  z \" id=\"DejaVuSans-51\" />\n    </defs>\n    <g style=\"fill:#444443;\" transform=\"translate(0 20.029954)scale(0.09 -0.09)\">\n     <use xlink:href=\"#DejaVuSans-110\" />\n     <use x=\"63.378906\" xlink:href=\"#DejaVuSans-61\" />\n     <use x=\"147.167969\" xlink:href=\"#DejaVuSans-51\" />\n    </g>\n    \n    <defs>\n     <path d=\"M 31.78125 66.40625  Q 24.171875 66.40625 20.328125 58.90625  Q 16.5 51.421875 16.5 36.375  Q 16.5 21.390625 20.328125 13.890625  Q 24.171875 6.390625 31.78125 6.390625  Q 39.453125 6.390625 43.28125 13.890625  Q 47.125 21.390625 47.125 36.375  Q 47.125 51.421875 43.28125 58.90625  Q 39.453125 66.40625 31.78125 66.40625  z M 31.78125 74.21875  Q 44.046875 74.21875 50.515625 64.515625  Q 56.984375 54.828125 56.984375 36.375  Q 56.984375 17.96875 50.515625 8.265625  Q 44.046875 -1.421875 31.78125 -1.421875  Q 19.53125 -1.421875 13.0625 8.265625  Q 6.59375 17.96875 6.59375 36.375  Q 6.59375 54.828125 13.0625 64.515625  Q 19.53125 74.21875 31.78125 74.21875  z \" id=\"DejaVuSans-48\" />\n    </defs>\n    <g style=\"fill:#444443;\" transform=\"translate(6.622734 30.107985)scale(0.09 -0.09)\">\n     <use xlink:href=\"#DejaVuSans-48\" />\n    </g>\n   </g>\n  </g>\n </g>\n</svg></g>\n\n<g class=\"edge\" id=\"edge14\">\n<title>node14-&gt;leaf16</title>\n<path d=\"M483.5822,-109.433C490.1645,-98.844 503.3796,-77.585 513.2211,-61.7531\" fill=\"none\" stroke=\"#444443\" stroke-width=\".3\" />\n<polygon fill=\"#444443\" points=\"514.469,-62.3973 515.3918,-58.2611 512.091,-60.9191 514.469,-62.3973\" stroke=\"#444443\" stroke-width=\".3\" />\n</g>\n\n<g class=\"edge\" id=\"edge16\">\n<title>node10-&gt;node11</title>\n<path d=\"M444.8681,-182.9774C429.6066,-169.9342 395.2739,-140.5917 377.551,-125.4448\" fill=\"none\" stroke=\"#444443\" stroke-width=\".3\" />\n<polygon fill=\"#444443\" points=\"378.1888,-124.1482 374.2384,-122.6137 376.3696,-126.2768 378.1888,-124.1482\" stroke=\"#444443\" stroke-width=\".3\" />\n</g>\n\n<g class=\"edge\" id=\"edge17\">\n<title>node10-&gt;node14</title>\n<path d=\"M454.9917,-182.717C459.7171,-169.8533 470.0105,-141.8325 475.6373,-126.5152\" fill=\"none\" stroke=\"#444443\" stroke-width=\".3\" />\n<polygon fill=\"#444443\" points=\"477.0269,-126.7924 477.0921,-122.5549 474.3986,-125.8269 477.0269,-126.7924\" stroke=\"#444443\" stroke-width=\".3\" />\n</g>\n\n<g class=\"node\" id=\"node7\">\n<title>node2</title>\n<text fill=\"#444443\" font-family=\"Helvetica,sans-Serif\" font-size=\"12.00\" text-anchor=\"start\" x=\"535.5\" y=\"-251.4\">&#21033;&#29992;&#26376;&#25968;@2.50</text>\n</g>\n\n<g class=\"edge\" id=\"edge19\">\n<title>node2-&gt;node3</title>\n<path d=\"M546.0553,-247.9699C487.3497,-235.7787 361.4624,-209.636 299.8854,-196.8484\" fill=\"none\" stroke=\"#444443\" stroke-width=\".3\" />\n<polygon fill=\"#444443\" points=\"300.125,-195.4684 295.9238,-196.0257 299.5556,-198.2099 300.125,-195.4684\" stroke=\"#444443\" stroke-width=\".3\" />\n</g>\n\n<g class=\"edge\" id=\"edge20\">\n<title>node2-&gt;node10</title>\n<path d=\"M564.5936,-247.7887C541.7386,-235.9041 494.1899,-211.1787 468.9946,-198.0772\" fill=\"none\" stroke=\"#444443\" stroke-width=\".3\" />\n<polygon fill=\"#444443\" points=\"469.3448,-196.6814 465.15,-196.078 468.053,-199.1656 469.3448,-196.6814\" stroke=\"#444443\" stroke-width=\".3\" />\n</g>\n\n<g class=\"node\" id=\"node14\">\n<title>node17</title>\n<text fill=\"#444443\" font-family=\"Helvetica,sans-Serif\" font-size=\"12.00\" text-anchor=\"start\" x=\"659\" y=\"-251.4\">&#36890;&#31639;&#25903;&#25173;&#38989;@24.52</text>\n</g>\n\n\n<g class=\"node\" id=\"node8\">\n<title>node19</title>\n<text fill=\"#444443\" font-family=\"Helvetica,sans-Serif\" font-size=\"12.00\" text-anchor=\"start\" x=\"549\" y=\"-112.9\">&#36890;&#31639;&#25903;&#25173;&#38989;@20.57</text>\n</g>\n\n<g class=\"node\" id=\"node9\">\n<title>node22</title>\n<text fill=\"#444443\" font-family=\"Helvetica,sans-Serif\" font-size=\"12.00\" text-anchor=\"start\" x=\"665.5\" y=\"-112.9\">&#24615;&#21029;@1.50</text>\n</g>\n\n\n<g class=\"node\" id=\"node36\">\n<title>leaf20</title>\n<polygon fill=\"none\" points=\"611.5,-83.5 543.5,-83.5 543.5,-.5 611.5,-.5 611.5,-83.5\" stroke=\"#444443\" stroke-width=\"0\" />\n<svg height=\"75px\" preserveAspectRatio=\"xMinYMin meet\" version=\"1.1\" viewBox=\"0 0 79.003255 100.74603\" width=\"60px\" x=\"547.5\" y=\"-79\">\n <defs>\n  <style type=\"text/css\">\n*{stroke-linecap:butt;stroke-linejoin:round;}\n  </style>\n </defs>\n <g id=\"figure_1\">\n  <g id=\"patch_1\">\n   <path d=\"M 0 100.74603  L 79.003255 100.74603  L 79.003255 0  L 0 0  z \" style=\"fill:#ffffff;\" />\n  </g>\n  <g id=\"axes_1\">\n   <g id=\"patch_2\">\n    <path d=\"M 79.003255 39.556886  C 79.003255 32.900212 77.310261 26.351622 74.084018 20.529023  C 70.857776 14.706423 66.203054 9.798896 60.559058 6.269502  C 54.915063 2.740108 48.465077 0.70346 41.817702 0.35173  C 35.170327 0 28.541429 1.34461 22.556493 4.258687  C 16.571557 7.172765 11.424936 11.561677 7.602251 17.011299  C 3.779566 22.460922 1.404954 28.794284 0.702477 35.413788  C 0 42.033292 0.99247 48.723977 3.58624 54.854528  C 6.18001 60.98508 10.290851 66.356416 15.530875 70.461712  L 39.743255 39.556886  L 79.003255 39.556886  z \" style=\"fill:#fefebb;stroke:#444443;stroke-linejoin:miter;stroke-width:0.5;\" />\n   </g>\n   <g id=\"patch_3\">\n    <path d=\"M 15.530875 70.461712  C 21.325026 75.001139 28.280647 77.820901 35.600157 78.597664  C 42.919667 79.374427 50.312179 78.077323 56.930017 74.855085  C 63.547854 71.632847 69.128015 66.613532 73.030639 60.372689  C 76.933263 54.131847 79.003255 46.917497 79.003255 39.556886  L 39.743255 39.556886  L 15.530875 70.461712  z \" style=\"fill:#a1dab4;stroke:#444443;stroke-linejoin:miter;stroke-width:0.5;\" />\n   </g>\n   <g id=\"text_1\">\n    \n    <defs>\n     <path d=\"M 54.890625 33.015625  L 54.890625 0  L 45.90625 0  L 45.90625 32.71875  Q 45.90625 40.484375 42.875 44.328125  Q 39.84375 48.1875 33.796875 48.1875  Q 26.515625 48.1875 22.3125 43.546875  Q 18.109375 38.921875 18.109375 30.90625  L 18.109375 0  L 9.078125 0  L 9.078125 54.6875  L 18.109375 54.6875  L 18.109375 46.1875  Q 21.34375 51.125 25.703125 53.5625  Q 30.078125 56 35.796875 56  Q 45.21875 56 50.046875 50.171875  Q 54.890625 44.34375 54.890625 33.015625  z \" id=\"DejaVuSans-110\" />\n     <path d=\"M 10.59375 45.40625  L 73.1875 45.40625  L 73.1875 37.203125  L 10.59375 37.203125  z M 10.59375 25.484375  L 73.1875 25.484375  L 73.1875 17.1875  L 10.59375 17.1875  z \" id=\"DejaVuSans-61\" />\n     <path d=\"M 12.40625 8.296875  L 28.515625 8.296875  L 28.515625 63.921875  L 10.984375 60.40625  L 10.984375 69.390625  L 28.421875 72.90625  L 38.28125 72.90625  L 38.28125 8.296875  L 54.390625 8.296875  L 54.390625 0  L 12.40625 0  z \" id=\"DejaVuSans-49\" />\n     <path d=\"M 31.78125 66.40625  Q 24.171875 66.40625 20.328125 58.90625  Q 16.5 51.421875 16.5 36.375  Q 16.5 21.390625 20.328125 13.890625  Q 24.171875 6.390625 31.78125 6.390625  Q 39.453125 6.390625 43.28125 13.890625  Q 47.125 21.390625 47.125 36.375  Q 47.125 51.421875 43.28125 58.90625  Q 39.453125 66.40625 31.78125 66.40625  z M 31.78125 74.21875  Q 44.046875 74.21875 50.515625 64.515625  Q 56.984375 54.828125 56.984375 36.375  Q 56.984375 17.96875 50.515625 8.265625  Q 44.046875 -1.421875 31.78125 -1.421875  Q 19.53125 -1.421875 13.0625 8.265625  Q 6.59375 17.96875 6.59375 36.375  Q 6.59375 54.828125 13.0625 64.515625  Q 19.53125 74.21875 31.78125 74.21875  z \" id=\"DejaVuSans-48\" />\n     <path d=\"M 37.796875 64.3125  L 12.890625 25.390625  L 37.796875 25.390625  z M 35.203125 72.90625  L 47.609375 72.90625  L 47.609375 25.390625  L 58.015625 25.390625  L 58.015625 17.1875  L 47.609375 17.1875  L 47.609375 0  L 37.796875 0  L 37.796875 17.1875  L 4.890625 17.1875  L 4.890625 26.703125  z \" id=\"DejaVuSans-52\" />\n    </defs>\n    <g style=\"fill:#444443;\" transform=\"translate(24.531146 88.79628)scale(0.09 -0.09)\">\n     <use xlink:href=\"#DejaVuSans-110\" />\n     <use x=\"63.378906\" xlink:href=\"#DejaVuSans-61\" />\n     <use x=\"147.167969\" xlink:href=\"#DejaVuSans-49\" />\n     <use x=\"210.791016\" xlink:href=\"#DejaVuSans-48\" />\n     <use x=\"274.414062\" xlink:href=\"#DejaVuSans-52\" />\n    </g>\n    \n    <g style=\"fill:#444443;\" transform=\"translate(36.88013 98.874311)scale(0.09 -0.09)\">\n     <use xlink:href=\"#DejaVuSans-48\" />\n    </g>\n   </g>\n  </g>\n </g>\n</svg></g>\n\n<g class=\"edge\" id=\"edge22\">\n<title>node19-&gt;leaf20</title>\n<path d=\"M598.4589,-109.433C596.8338,-104.2045 594.4002,-96.3747 591.7604,-87.8813\" fill=\"none\" stroke=\"#444443\" stroke-width=\".3\" />\n<polygon fill=\"#444443\" points=\"592.9748,-87.0712 590.4506,-83.667 590.3009,-87.9023 592.9748,-87.0712\" stroke=\"#444443\" stroke-width=\".3\" />\n</g>\n\n<g class=\"node\" id=\"node37\">\n<title>leaf21</title>\n<polygon fill=\"none\" points=\"647.5,-58.5 625.5,-58.5 625.5,-25.5 647.5,-25.5 647.5,-58.5\" stroke=\"#444443\" stroke-width=\"0\" />\n<svg height=\"25px\" preserveAspectRatio=\"xMinYMin meet\" version=\"1.1\" viewBox=\"0 0 18.971719 33.236024\" width=\"14px\" x=\"629.5\" y=\"-54\">\n <defs>\n  <style type=\"text/css\">\n*{stroke-linecap:butt;stroke-linejoin:round;}\n  </style>\n </defs>\n <g id=\"figure_1\">\n  <g id=\"patch_1\">\n   <path d=\"M 0 33.236024  L 18.971719 33.236024  L 18.971719 -0  L 0 -0  z \" style=\"fill:#ffffff;\" />\n  </g>\n  <g id=\"axes_1\">\n   <g id=\"patch_2\">\n    <path d=\"M 16.431859 6.946  C 16.431859 6.03386 16.252188 5.130589 15.903127 4.287881  C 15.554066 3.445173 15.042404 2.679417 14.397423 2.034436  C 13.752442 1.389456 12.986686 0.877794 12.143978 0.528733  C 11.301271 0.179672 10.398 -0 9.485859 -0  C 8.573719 -0 7.670448 0.179672 6.82774 0.528733  C 5.985032 0.877794 5.219276 1.389456 4.574296 2.034436  C 3.929315 2.679417 3.417653 3.445173 3.068592 4.287881  C 2.719531 5.130589 2.539859 6.03386 2.539859 6.946  C 2.539859 7.85814 2.719531 8.761411 3.068592 9.604119  C 3.417653 10.446827 3.929315 11.212583 4.574296 11.857564  C 5.219276 12.502544 5.985032 13.014206 6.82774 13.363267  C 7.670448 13.712328 8.573719 13.892 9.485859 13.892  C 10.398 13.892 11.301271 13.712328 12.143978 13.363267  C 12.986686 13.014206 13.752442 12.502544 14.397423 11.857564  C 15.042404 11.212583 15.554066 10.446827 15.903127 9.604119  C 16.252188 8.761411 16.431859 7.85814 16.431859 6.946  M 9.485859 6.946  M 16.431859 6.946  z \" style=\"fill:#fefebb;stroke:#444443;stroke-linejoin:miter;stroke-width:0.5;\" />\n   </g>\n   <g id=\"text_1\">\n    \n    <defs>\n     <path d=\"M 54.890625 33.015625  L 54.890625 0  L 45.90625 0  L 45.90625 32.71875  Q 45.90625 40.484375 42.875 44.328125  Q 39.84375 48.1875 33.796875 48.1875  Q 26.515625 48.1875 22.3125 43.546875  Q 18.109375 38.921875 18.109375 30.90625  L 18.109375 0  L 9.078125 0  L 9.078125 54.6875  L 18.109375 54.6875  L 18.109375 46.1875  Q 21.34375 51.125 25.703125 53.5625  Q 30.078125 56 35.796875 56  Q 45.21875 56 50.046875 50.171875  Q 54.890625 44.34375 54.890625 33.015625  z \" id=\"DejaVuSans-110\" />\n     <path d=\"M 10.59375 45.40625  L 73.1875 45.40625  L 73.1875 37.203125  L 10.59375 37.203125  z M 10.59375 25.484375  L 73.1875 25.484375  L 73.1875 17.1875  L 10.59375 17.1875  z \" id=\"DejaVuSans-61\" />\n     <path d=\"M 37.796875 64.3125  L 12.890625 25.390625  L 37.796875 25.390625  z M 35.203125 72.90625  L 47.609375 72.90625  L 47.609375 25.390625  L 58.015625 25.390625  L 58.015625 17.1875  L 47.609375 17.1875  L 47.609375 0  L 37.796875 0  L 37.796875 17.1875  L 4.890625 17.1875  L 4.890625 26.703125  z \" id=\"DejaVuSans-52\" />\n    </defs>\n    <g style=\"fill:#444443;\" transform=\"translate(0 21.286274)scale(0.09 -0.09)\">\n     <use xlink:href=\"#DejaVuSans-110\" />\n     <use x=\"63.378906\" xlink:href=\"#DejaVuSans-61\" />\n     <use x=\"147.167969\" xlink:href=\"#DejaVuSans-52\" />\n    </g>\n    \n    <defs>\n     <path d=\"M 31.78125 66.40625  Q 24.171875 66.40625 20.328125 58.90625  Q 16.5 51.421875 16.5 36.375  Q 16.5 21.390625 20.328125 13.890625  Q 24.171875 6.390625 31.78125 6.390625  Q 39.453125 6.390625 43.28125 13.890625  Q 47.125 21.390625 47.125 36.375  Q 47.125 51.421875 43.28125 58.90625  Q 39.453125 66.40625 31.78125 66.40625  z M 31.78125 74.21875  Q 44.046875 74.21875 50.515625 64.515625  Q 56.984375 54.828125 56.984375 36.375  Q 56.984375 17.96875 50.515625 8.265625  Q 44.046875 -1.421875 31.78125 -1.421875  Q 19.53125 -1.421875 13.0625 8.265625  Q 6.59375 17.96875 6.59375 36.375  Q 6.59375 54.828125 13.0625 64.515625  Q 19.53125 74.21875 31.78125 74.21875  z \" id=\"DejaVuSans-48\" />\n    </defs>\n    <g style=\"fill:#444443;\" transform=\"translate(6.622734 31.364305)scale(0.09 -0.09)\">\n     <use xlink:href=\"#DejaVuSans-48\" />\n    </g>\n   </g>\n  </g>\n </g>\n</svg></g>\n\n<g class=\"edge\" id=\"edge23\">\n<title>node19-&gt;leaf21</title>\n<path d=\"M603.6948,-109.433C608.7712,-98.9982 618.8883,-78.2019 626.5523,-62.4481\" fill=\"none\" stroke=\"#444443\" stroke-width=\".3\" />\n<polygon fill=\"#444443\" points=\"627.9523,-62.7704 628.4433,-58.561 625.4345,-61.5455 627.9523,-62.7704\" stroke=\"#444443\" stroke-width=\".3\" />\n</g>\n\n<g class=\"node\" id=\"node38\">\n<title>leaf23</title>\n<polygon fill=\"none\" points=\"676.5,-58 654.5,-58 654.5,-26 676.5,-26 676.5,-58\" stroke=\"#444443\" stroke-width=\"0\" />\n<svg height=\"24px\" preserveAspectRatio=\"xMinYMin meet\" version=\"1.1\" viewBox=\"0 0 18.971719 31.979704\" width=\"14px\" x=\"658.5\" y=\"-54\">\n <defs>\n  <style type=\"text/css\">\n*{stroke-linecap:butt;stroke-linejoin:round;}\n  </style>\n </defs>\n <g id=\"figure_1\">\n  <g id=\"patch_1\">\n   <path d=\"M 0 31.979704  L 18.971719 31.979704  L 18.971719 0  L 0 0  z \" style=\"fill:#ffffff;\" />\n  </g>\n  <g id=\"axes_1\">\n   <g id=\"patch_2\">\n    <path d=\"M 15.827859 6.342  C 15.827859 5.228829 15.534778 4.135034 14.978192 3.171  C 14.421607 2.206966 13.620893 1.406252 12.656859 0.849667  C 11.692825 0.293082 10.59903 0 9.485859 0  C 8.372688 0 7.278893 0.293082 6.314859 0.849667  C 5.350825 1.406253 4.550111 2.206966 3.993526 3.171  C 3.436941 4.135035 3.143859 5.22883 3.143859 6.342001  C 3.143859 7.455171 3.436941 8.548967 3.993527 9.513001  C 4.550112 10.477035 5.350826 11.277748 6.31486 11.834334  L 9.485859 6.342  L 15.827859 6.342  z \" style=\"fill:#fefebb;stroke:#444443;stroke-linejoin:miter;stroke-width:0.5;\" />\n   </g>\n   <g id=\"patch_3\">\n    <path d=\"M 6.31486 11.834334  C 7.278894 12.390919 8.37269 12.684 9.48586 12.684  C 10.599031 12.684 11.692826 12.390918 12.65686 11.834333  C 13.620894 11.277747 14.421608 10.477033 14.978193 9.512999  C 15.534778 8.548965 15.82786 7.45517 15.827859 6.341999  L 9.485859 6.342  L 6.31486 11.834334  z \" style=\"fill:#a1dab4;stroke:#444443;stroke-linejoin:miter;stroke-width:0.5;\" />\n   </g>\n   <g id=\"text_1\">\n    \n    <defs>\n     <path d=\"M 54.890625 33.015625  L 54.890625 0  L 45.90625 0  L 45.90625 32.71875  Q 45.90625 40.484375 42.875 44.328125  Q 39.84375 48.1875 33.796875 48.1875  Q 26.515625 48.1875 22.3125 43.546875  Q 18.109375 38.921875 18.109375 30.90625  L 18.109375 0  L 9.078125 0  L 9.078125 54.6875  L 18.109375 54.6875  L 18.109375 46.1875  Q 21.34375 51.125 25.703125 53.5625  Q 30.078125 56 35.796875 56  Q 45.21875 56 50.046875 50.171875  Q 54.890625 44.34375 54.890625 33.015625  z \" id=\"DejaVuSans-110\" />\n     <path d=\"M 10.59375 45.40625  L 73.1875 45.40625  L 73.1875 37.203125  L 10.59375 37.203125  z M 10.59375 25.484375  L 73.1875 25.484375  L 73.1875 17.1875  L 10.59375 17.1875  z \" id=\"DejaVuSans-61\" />\n     <path d=\"M 40.578125 39.3125  Q 47.65625 37.796875 51.625 33  Q 55.609375 28.21875 55.609375 21.1875  Q 55.609375 10.40625 48.1875 4.484375  Q 40.765625 -1.421875 27.09375 -1.421875  Q 22.515625 -1.421875 17.65625 -0.515625  Q 12.796875 0.390625 7.625 2.203125  L 7.625 11.71875  Q 11.71875 9.328125 16.59375 8.109375  Q 21.484375 6.890625 26.8125 6.890625  Q 36.078125 6.890625 40.9375 10.546875  Q 45.796875 14.203125 45.796875 21.1875  Q 45.796875 27.640625 41.28125 31.265625  Q 36.765625 34.90625 28.71875 34.90625  L 20.21875 34.90625  L 20.21875 43.015625  L 29.109375 43.015625  Q 36.375 43.015625 40.234375 45.921875  Q 44.09375 48.828125 44.09375 54.296875  Q 44.09375 59.90625 40.109375 62.90625  Q 36.140625 65.921875 28.71875 65.921875  Q 24.65625 65.921875 20.015625 65.03125  Q 15.375 64.15625 9.8125 62.3125  L 9.8125 71.09375  Q 15.4375 72.65625 20.34375 73.4375  Q 25.25 74.21875 29.59375 74.21875  Q 40.828125 74.21875 47.359375 69.109375  Q 53.90625 64.015625 53.90625 55.328125  Q 53.90625 49.265625 50.4375 45.09375  Q 46.96875 40.921875 40.578125 39.3125  z \" id=\"DejaVuSans-51\" />\n    </defs>\n    <g style=\"fill:#444443;\" transform=\"translate(0 20.029954)scale(0.09 -0.09)\">\n     <use xlink:href=\"#DejaVuSans-110\" />\n     <use x=\"63.378906\" xlink:href=\"#DejaVuSans-61\" />\n     <use x=\"147.167969\" xlink:href=\"#DejaVuSans-51\" />\n    </g>\n    \n    <defs>\n     <path d=\"M 31.78125 66.40625  Q 24.171875 66.40625 20.328125 58.90625  Q 16.5 51.421875 16.5 36.375  Q 16.5 21.390625 20.328125 13.890625  Q 24.171875 6.390625 31.78125 6.390625  Q 39.453125 6.390625 43.28125 13.890625  Q 47.125 21.390625 47.125 36.375  Q 47.125 51.421875 43.28125 58.90625  Q 39.453125 66.40625 31.78125 66.40625  z M 31.78125 74.21875  Q 44.046875 74.21875 50.515625 64.515625  Q 56.984375 54.828125 56.984375 36.375  Q 56.984375 17.96875 50.515625 8.265625  Q 44.046875 -1.421875 31.78125 -1.421875  Q 19.53125 -1.421875 13.0625 8.265625  Q 6.59375 17.96875 6.59375 36.375  Q 6.59375 54.828125 13.0625 64.515625  Q 19.53125 74.21875 31.78125 74.21875  z \" id=\"DejaVuSans-48\" />\n    </defs>\n    <g style=\"fill:#444443;\" transform=\"translate(6.622734 30.107985)scale(0.09 -0.09)\">\n     <use xlink:href=\"#DejaVuSans-48\" />\n    </g>\n   </g>\n  </g>\n </g>\n</svg></g>\n\n<g class=\"edge\" id=\"edge25\">\n<title>node22-&gt;leaf23</title>\n<path d=\"M692.8377,-109.433C688.5809,-98.933 680.0709,-77.9415 673.6703,-62.1533\" fill=\"none\" stroke=\"#444443\" stroke-width=\".3\" />\n<polygon fill=\"#444443\" points=\"674.8926,-61.442 672.0923,-58.2611 672.2978,-62.494 674.8926,-61.442\" stroke=\"#444443\" stroke-width=\".3\" />\n</g>\n\n<g class=\"node\" id=\"node39\">\n<title>leaf24</title>\n<polygon fill=\"none\" points=\"712.5,-59 690.5,-59 690.5,-25 712.5,-25 712.5,-59\" stroke=\"#444443\" stroke-width=\"0\" />\n<svg height=\"26px\" preserveAspectRatio=\"xMinYMin meet\" version=\"1.1\" viewBox=\"0 0 18.971719 34.492344\" width=\"14px\" x=\"694.5\" y=\"-55\">\n <defs>\n  <style type=\"text/css\">\n*{stroke-linecap:butt;stroke-linejoin:round;}\n  </style>\n </defs>\n <g id=\"figure_1\">\n  <g id=\"patch_1\">\n   <path d=\"M 0 34.492344  L 18.971719 34.492344  L 18.971719 0  L 0 0  z \" style=\"fill:#ffffff;\" />\n  </g>\n  <g id=\"axes_1\">\n   <g id=\"patch_2\">\n    <path d=\"M 17.035859 7.55  C 17.035859 5.955844 16.530959 4.40192 15.593938 3.112221  C 14.656916 1.822522 13.33507 0.862144 11.818938 0.369523  L 9.485859 7.55  L 17.035859 7.55  z \" style=\"fill:#fefebb;stroke:#444443;stroke-linejoin:miter;stroke-width:0.5;\" />\n   </g>\n   <g id=\"patch_3\">\n    <path d=\"M 11.818938 0.369523  C 11.065457 0.124703 10.278115 0 9.485859 0  C 8.693603 0 7.906261 0.124703 7.152781 0.369523  C 6.3993 0.614344 5.689029 0.976245 5.048081 1.441922  C 4.407132 1.907598 3.843457 2.471273 3.377781 3.112222  C 2.912104 3.75317 2.550203 4.463442 2.305383 5.216922  C 2.060562 5.970403 1.935859 6.757744 1.935859 7.55  C 1.935859 8.342257 2.060562 9.129598 2.305383 9.883079  C 2.550203 10.636559 2.912105 11.34683 3.377781 11.987779  C 3.843458 12.628728 4.407132 13.192402 5.048081 13.658079  C 5.68903 14.123755 6.399301 14.485656 7.152782 14.730477  C 7.906262 14.975297 8.693604 15.1 9.48586 15.1  C 10.278116 15.1 11.065458 14.975297 11.818938 14.730477  C 12.572419 14.485656 13.28269 14.123755 13.923639 13.658078  C 14.564587 13.192401 15.128262 12.628727 15.593938 11.987778  C 16.059615 11.346829 16.421516 10.636558 16.666336 9.883078  C 16.911157 9.129597 17.035859 8.342256 17.035859 7.549999  L 9.485859 7.55  L 11.818938 0.369523  z \" style=\"fill:#a1dab4;stroke:#444443;stroke-linejoin:miter;stroke-width:0.5;\" />\n   </g>\n   <g id=\"text_1\">\n    \n    <defs>\n     <path d=\"M 54.890625 33.015625  L 54.890625 0  L 45.90625 0  L 45.90625 32.71875  Q 45.90625 40.484375 42.875 44.328125  Q 39.84375 48.1875 33.796875 48.1875  Q 26.515625 48.1875 22.3125 43.546875  Q 18.109375 38.921875 18.109375 30.90625  L 18.109375 0  L 9.078125 0  L 9.078125 54.6875  L 18.109375 54.6875  L 18.109375 46.1875  Q 21.34375 51.125 25.703125 53.5625  Q 30.078125 56 35.796875 56  Q 45.21875 56 50.046875 50.171875  Q 54.890625 44.34375 54.890625 33.015625  z \" id=\"DejaVuSans-110\" />\n     <path d=\"M 10.59375 45.40625  L 73.1875 45.40625  L 73.1875 37.203125  L 10.59375 37.203125  z M 10.59375 25.484375  L 73.1875 25.484375  L 73.1875 17.1875  L 10.59375 17.1875  z \" id=\"DejaVuSans-61\" />\n     <path d=\"M 10.796875 72.90625  L 49.515625 72.90625  L 49.515625 64.59375  L 19.828125 64.59375  L 19.828125 46.734375  Q 21.96875 47.46875 24.109375 47.828125  Q 26.265625 48.1875 28.421875 48.1875  Q 40.625 48.1875 47.75 41.5  Q 54.890625 34.8125 54.890625 23.390625  Q 54.890625 11.625 47.5625 5.09375  Q 40.234375 -1.421875 26.90625 -1.421875  Q 22.3125 -1.421875 17.546875 -0.640625  Q 12.796875 0.140625 7.71875 1.703125  L 7.71875 11.625  Q 12.109375 9.234375 16.796875 8.0625  Q 21.484375 6.890625 26.703125 6.890625  Q 35.15625 6.890625 40.078125 11.328125  Q 45.015625 15.765625 45.015625 23.390625  Q 45.015625 31 40.078125 35.4375  Q 35.15625 39.890625 26.703125 39.890625  Q 22.75 39.890625 18.8125 39.015625  Q 14.890625 38.140625 10.796875 36.28125  z \" id=\"DejaVuSans-53\" />\n    </defs>\n    <g style=\"fill:#444443;\" transform=\"translate(0 22.542594)scale(0.09 -0.09)\">\n     <use xlink:href=\"#DejaVuSans-110\" />\n     <use x=\"63.378906\" xlink:href=\"#DejaVuSans-61\" />\n     <use x=\"147.167969\" xlink:href=\"#DejaVuSans-53\" />\n    </g>\n    \n    <defs>\n     <path d=\"M 12.40625 8.296875  L 28.515625 8.296875  L 28.515625 63.921875  L 10.984375 60.40625  L 10.984375 69.390625  L 28.421875 72.90625  L 38.28125 72.90625  L 38.28125 8.296875  L 54.390625 8.296875  L 54.390625 0  L 12.40625 0  z \" id=\"DejaVuSans-49\" />\n    </defs>\n    <g style=\"fill:#444443;\" transform=\"translate(6.622734 32.620625)scale(0.09 -0.09)\">\n     <use xlink:href=\"#DejaVuSans-49\" />\n    </g>\n   </g>\n  </g>\n </g>\n</svg></g>\n\n<g class=\"edge\" id=\"edge26\">\n<title>node22-&gt;leaf24</title>\n<path d=\"M696.0325,-109.433C696.8609,-99.2159 698.4947,-79.0653 699.7616,-63.4409\" fill=\"none\" stroke=\"#444443\" stroke-width=\".3\" />\n<polygon fill=\"#444443\" points=\"701.1802,-63.2661 700.1082,-59.166 698.3894,-63.0397 701.1802,-63.2661\" stroke=\"#444443\" stroke-width=\".3\" />\n</g>\n\n<g class=\"node\" id=\"node10\">\n<title>node18</title>\n<text fill=\"#444443\" font-family=\"Helvetica,sans-Serif\" font-size=\"12.00\" text-anchor=\"start\" x=\"636\" y=\"-186.4\">&#36890;&#31639;&#25903;&#25173;&#38989;@20.80</text>\n</g>\n\n<g class=\"edge\" id=\"edge28\">\n<title>node18-&gt;node19</title>\n<path d=\"M679.7793,-182.9774C664.3404,-169.9342 629.6085,-140.5917 611.6795,-125.4448\" fill=\"none\" stroke=\"#444443\" stroke-width=\".3\" />\n<polygon fill=\"#444443\" points=\"612.2875,-124.1257 608.3284,-122.6137 610.4805,-126.2646 612.2875,-124.1257\" stroke=\"#444443\" stroke-width=\".3\" />\n</g>\n\n<g class=\"edge\" id=\"edge29\">\n<title>node18-&gt;node22</title>\n<path d=\"M688.2383,-182.717C689.6264,-169.9633 692.6363,-142.3104 694.3124,-126.9107\" fill=\"none\" stroke=\"#444443\" stroke-width=\".3\" />\n<polygon fill=\"#444443\" points=\"695.7454,-126.683 694.7865,-122.5549 692.9619,-126.3799 695.7454,-126.683\" stroke=\"#444443\" stroke-width=\".3\" />\n</g>\n\n<g class=\"node\" id=\"node13\">\n<title>node25</title>\n<text fill=\"#444443\" font-family=\"Helvetica,sans-Serif\" font-size=\"12.00\" text-anchor=\"start\" x=\"753\" y=\"-186.4\">&#36890;&#31639;&#25903;&#25173;&#38989;@185.88</text>\n</g>\n\n\n<g class=\"node\" id=\"node11\">\n<title>node26</title>\n<text fill=\"#444443\" font-family=\"Helvetica,sans-Serif\" font-size=\"12.00\" text-anchor=\"start\" x=\"750\" y=\"-112.9\">&#36890;&#31639;&#25903;&#25173;&#38989;@185.28</text>\n</g>\n\n<g class=\"node\" id=\"node12\">\n<title>node29</title>\n<text fill=\"#444443\" font-family=\"Helvetica,sans-Serif\" font-size=\"12.00\" text-anchor=\"start\" x=\"873\" y=\"-112.9\">&#21033;&#29992;&#26376;&#25968;@14.50</text>\n</g>\n\n\n<g class=\"node\" id=\"node40\">\n<title>leaf27</title>\n<polygon fill=\"none\" points=\"787,-83.5 720,-83.5 720,-.5 787,-.5 787,-83.5\" stroke=\"#444443\" stroke-width=\"0\" />\n<svg height=\"75px\" preserveAspectRatio=\"xMinYMin meet\" version=\"1.1\" viewBox=\"0 0 78.645926 100.675625\" width=\"59px\" x=\"724.5\" y=\"-79\">\n <defs>\n  <style type=\"text/css\">\n*{stroke-linecap:butt;stroke-linejoin:round;}\n  </style>\n </defs>\n <g id=\"figure_1\">\n  <g id=\"patch_1\">\n   <path d=\"M 0 100.675625  L 78.645926 100.675625  L 78.645926 0  L 0 0  z \" style=\"fill:#ffffff;\" />\n  </g>\n  <g id=\"axes_1\">\n   <g id=\"patch_2\">\n    <path d=\"M 78.645926 39.486481  C 78.645926 34.954142 77.861078 30.455845 76.326227 26.191302  C 74.791376 21.92676 72.529577 17.960031 69.641251 14.46723  C 66.752924 10.974429 63.281455 8.008022 59.380969 5.699711  C 55.480483 3.391399 51.209571 1.775858 46.75785 0.924812  C 42.30613 0.073766 37.740473 0 33.263583 0.706789  C 28.786694 1.413578 24.465821 2.890304 20.4928 5.071406  C 16.51978 7.252507 12.954294 10.10522 9.954639 13.50289  C 6.954985 16.900561 4.566222 20.792152 2.894406 25.004885  C 1.22259 29.217619 0.292834 33.688214 0.146417 38.218187  C 0 42.74816 0.639121 47.269464 2.035405 51.581364  C 3.431689 55.893264 5.564161 59.93099 8.338146 63.515275  C 11.11213 67.099561 14.485957 70.176565 18.309837 72.609677  C 22.133718 75.042789 26.35021 76.795459 30.772114 77.789873  C 35.194018 78.784288 39.754909 79.005509 44.252295 78.443715  C 48.749681 77.881921 53.116004 76.545551 57.157411 74.493936  C 61.198818 72.442321 64.854601 69.706281 67.962451 66.407287  L 39.385926 39.486481  L 78.645926 39.486481  z \" style=\"fill:#fefebb;stroke:#444443;stroke-linejoin:miter;stroke-width:0.5;\" />\n   </g>\n   <g id=\"patch_3\">\n    <path d=\"M 67.962451 66.407287  C 71.362604 62.798013 74.048391 58.577028 75.877446 53.968074  C 77.706501 49.359119 78.645926 44.445095 78.645926 39.486475  L 39.385926 39.486481  L 67.962451 66.407287  z \" style=\"fill:#a1dab4;stroke:#444443;stroke-linejoin:miter;stroke-width:0.5;\" />\n   </g>\n   <g id=\"text_1\">\n    \n    <defs>\n     <path d=\"M 54.890625 33.015625  L 54.890625 0  L 45.90625 0  L 45.90625 32.71875  Q 45.90625 40.484375 42.875 44.328125  Q 39.84375 48.1875 33.796875 48.1875  Q 26.515625 48.1875 22.3125 43.546875  Q 18.109375 38.921875 18.109375 30.90625  L 18.109375 0  L 9.078125 0  L 9.078125 54.6875  L 18.109375 54.6875  L 18.109375 46.1875  Q 21.34375 51.125 25.703125 53.5625  Q 30.078125 56 35.796875 56  Q 45.21875 56 50.046875 50.171875  Q 54.890625 44.34375 54.890625 33.015625  z \" id=\"DejaVuSans-110\" />\n     <path d=\"M 10.59375 45.40625  L 73.1875 45.40625  L 73.1875 37.203125  L 10.59375 37.203125  z M 10.59375 25.484375  L 73.1875 25.484375  L 73.1875 17.1875  L 10.59375 17.1875  z \" id=\"DejaVuSans-61\" />\n     <path d=\"M 12.40625 8.296875  L 28.515625 8.296875  L 28.515625 63.921875  L 10.984375 60.40625  L 10.984375 69.390625  L 28.421875 72.90625  L 38.28125 72.90625  L 38.28125 8.296875  L 54.390625 8.296875  L 54.390625 0  L 12.40625 0  z \" id=\"DejaVuSans-49\" />\n     <path d=\"M 10.796875 72.90625  L 49.515625 72.90625  L 49.515625 64.59375  L 19.828125 64.59375  L 19.828125 46.734375  Q 21.96875 47.46875 24.109375 47.828125  Q 26.265625 48.1875 28.421875 48.1875  Q 40.625 48.1875 47.75 41.5  Q 54.890625 34.8125 54.890625 23.390625  Q 54.890625 11.625 47.5625 5.09375  Q 40.234375 -1.421875 26.90625 -1.421875  Q 22.3125 -1.421875 17.546875 -0.640625  Q 12.796875 0.140625 7.71875 1.703125  L 7.71875 11.625  Q 12.109375 9.234375 16.796875 8.0625  Q 21.484375 6.890625 26.703125 6.890625  Q 35.15625 6.890625 40.078125 11.328125  Q 45.015625 15.765625 45.015625 23.390625  Q 45.015625 31 40.078125 35.4375  Q 35.15625 39.890625 26.703125 39.890625  Q 22.75 39.890625 18.8125 39.015625  Q 14.890625 38.140625 10.796875 36.28125  z \" id=\"DejaVuSans-53\" />\n     <path d=\"M 31.78125 34.625  Q 24.75 34.625 20.71875 30.859375  Q 16.703125 27.09375 16.703125 20.515625  Q 16.703125 13.921875 20.71875 10.15625  Q 24.75 6.390625 31.78125 6.390625  Q 38.8125 6.390625 42.859375 10.171875  Q 46.921875 13.96875 46.921875 20.515625  Q 46.921875 27.09375 42.890625 30.859375  Q 38.875 34.625 31.78125 34.625  z M 21.921875 38.8125  Q 15.578125 40.375 12.03125 44.71875  Q 8.5 49.078125 8.5 55.328125  Q 8.5 64.0625 14.71875 69.140625  Q 20.953125 74.21875 31.78125 74.21875  Q 42.671875 74.21875 48.875 69.140625  Q 55.078125 64.0625 55.078125 55.328125  Q 55.078125 49.078125 51.53125 44.71875  Q 48 40.375 41.703125 38.8125  Q 48.828125 37.15625 52.796875 32.3125  Q 56.78125 27.484375 56.78125 20.515625  Q 56.78125 9.90625 50.3125 4.234375  Q 43.84375 -1.421875 31.78125 -1.421875  Q 19.734375 -1.421875 13.25 4.234375  Q 6.78125 9.90625 6.78125 20.515625  Q 6.78125 27.484375 10.78125 32.3125  Q 14.796875 37.15625 21.921875 38.8125  z M 18.3125 54.390625  Q 18.3125 48.734375 21.84375 45.5625  Q 25.390625 42.390625 31.78125 42.390625  Q 38.140625 42.390625 41.71875 45.5625  Q 45.3125 48.734375 45.3125 54.390625  Q 45.3125 60.0625 41.71875 63.234375  Q 38.140625 66.40625 31.78125 66.40625  Q 25.390625 66.40625 21.84375 63.234375  Q 18.3125 60.0625 18.3125 54.390625  z \" id=\"DejaVuSans-56\" />\n    </defs>\n    <g style=\"fill:#444443;\" transform=\"translate(24.173816 88.725875)scale(0.09 -0.09)\">\n     <use xlink:href=\"#DejaVuSans-110\" />\n     <use x=\"63.378906\" xlink:href=\"#DejaVuSans-61\" />\n     <use x=\"147.167969\" xlink:href=\"#DejaVuSans-49\" />\n     <use x=\"210.791016\" xlink:href=\"#DejaVuSans-53\" />\n     <use x=\"274.414062\" xlink:href=\"#DejaVuSans-56\" />\n    </g>\n    \n    <defs>\n     <path d=\"M 31.78125 66.40625  Q 24.171875 66.40625 20.328125 58.90625  Q 16.5 51.421875 16.5 36.375  Q 16.5 21.390625 20.328125 13.890625  Q 24.171875 6.390625 31.78125 6.390625  Q 39.453125 6.390625 43.28125 13.890625  Q 47.125 21.390625 47.125 36.375  Q 47.125 51.421875 43.28125 58.90625  Q 39.453125 66.40625 31.78125 66.40625  z M 31.78125 74.21875  Q 44.046875 74.21875 50.515625 64.515625  Q 56.984375 54.828125 56.984375 36.375  Q 56.984375 17.96875 50.515625 8.265625  Q 44.046875 -1.421875 31.78125 -1.421875  Q 19.53125 -1.421875 13.0625 8.265625  Q 6.59375 17.96875 6.59375 36.375  Q 6.59375 54.828125 13.0625 64.515625  Q 19.53125 74.21875 31.78125 74.21875  z \" id=\"DejaVuSans-48\" />\n    </defs>\n    <g style=\"fill:#444443;\" transform=\"translate(36.522801 98.803906)scale(0.09 -0.09)\">\n     <use xlink:href=\"#DejaVuSans-48\" />\n    </g>\n   </g>\n  </g>\n </g>\n</svg></g>\n\n<g class=\"edge\" id=\"edge31\">\n<title>node26-&gt;leaf27</title>\n<path d=\"M799.9741,-109.433C796.3052,-104.1095 790.7776,-96.0891 784.8012,-87.4174\" fill=\"none\" stroke=\"#444443\" stroke-width=\".3\" />\n<polygon fill=\"#444443\" points=\"785.6391,-86.1661 782.2164,-83.667 783.3336,-87.7551 785.6391,-86.1661\" stroke=\"#444443\" stroke-width=\".3\" />\n</g>\n\n<g class=\"node\" id=\"node41\">\n<title>leaf28</title>\n<polygon fill=\"none\" points=\"822.5,-57 800.5,-57 800.5,-27 822.5,-27 822.5,-57\" stroke=\"#444443\" stroke-width=\"0\" />\n<svg height=\"22px\" preserveAspectRatio=\"xMinYMin meet\" version=\"1.1\" viewBox=\"0 0 18.971719 29.467064\" width=\"14px\" x=\"804.5\" y=\"-53\">\n <defs>\n  <style type=\"text/css\">\n*{stroke-linecap:butt;stroke-linejoin:round;}\n  </style>\n </defs>\n <g id=\"figure_1\">\n  <g id=\"patch_1\">\n   <path d=\"M 0 29.467064  L 18.971719 29.467064  L 18.971719 0  L 0 0  z \" style=\"fill:#ffffff;\" />\n  </g>\n  <g id=\"axes_1\">\n   <g id=\"patch_2\">\n    <path d=\"M 14.619859 5.134  C 14.619859 4.459809 14.487059 3.792174 14.229057 3.169303  C 13.971055 2.546432 13.59287 1.980439 13.116146 1.503714  C 12.639421 1.026989 12.073427 0.648804 11.450556 0.390802  C 10.827685 0.132801 10.16005 -0 9.485859 -0  C 8.811669 -0 8.144034 0.132801 7.521163 0.390802  C 6.898292 0.648804 6.332298 1.026989 5.855573 1.503714  C 5.378848 1.980439 5.000663 2.546432 4.742662 3.169303  C 4.48466 3.792174 4.351859 4.459809 4.351859 5.134  C 4.351859 5.808191 4.48466 6.475826 4.742662 7.098697  C 5.000663 7.721568 5.378848 8.287561 5.855573 8.764286  C 6.332298 9.241011 6.898292 9.619196 7.521163 9.877198  C 8.144034 10.135199 8.811669 10.268 9.485859 10.268  C 10.16005 10.268 10.827685 10.135199 11.450556 9.877198  C 12.073427 9.619196 12.639421 9.241011 13.116146 8.764286  C 13.59287 8.287561 13.971055 7.721568 14.229057 7.098697  C 14.487059 6.475826 14.619859 5.808191 14.619859 5.134  M 9.485859 5.134  M 14.619859 5.134  z \" style=\"fill:#a1dab4;stroke:#444443;stroke-linejoin:miter;stroke-width:0.5;\" />\n   </g>\n   <g id=\"text_1\">\n    \n    <defs>\n     <path d=\"M 54.890625 33.015625  L 54.890625 0  L 45.90625 0  L 45.90625 32.71875  Q 45.90625 40.484375 42.875 44.328125  Q 39.84375 48.1875 33.796875 48.1875  Q 26.515625 48.1875 22.3125 43.546875  Q 18.109375 38.921875 18.109375 30.90625  L 18.109375 0  L 9.078125 0  L 9.078125 54.6875  L 18.109375 54.6875  L 18.109375 46.1875  Q 21.34375 51.125 25.703125 53.5625  Q 30.078125 56 35.796875 56  Q 45.21875 56 50.046875 50.171875  Q 54.890625 44.34375 54.890625 33.015625  z \" id=\"DejaVuSans-110\" />\n     <path d=\"M 10.59375 45.40625  L 73.1875 45.40625  L 73.1875 37.203125  L 10.59375 37.203125  z M 10.59375 25.484375  L 73.1875 25.484375  L 73.1875 17.1875  L 10.59375 17.1875  z \" id=\"DejaVuSans-61\" />\n     <path d=\"M 12.40625 8.296875  L 28.515625 8.296875  L 28.515625 63.921875  L 10.984375 60.40625  L 10.984375 69.390625  L 28.421875 72.90625  L 38.28125 72.90625  L 38.28125 8.296875  L 54.390625 8.296875  L 54.390625 0  L 12.40625 0  z \" id=\"DejaVuSans-49\" />\n    </defs>\n    <g style=\"fill:#444443;\" transform=\"translate(0 17.517314)scale(0.09 -0.09)\">\n     <use xlink:href=\"#DejaVuSans-110\" />\n     <use x=\"63.378906\" xlink:href=\"#DejaVuSans-61\" />\n     <use x=\"147.167969\" xlink:href=\"#DejaVuSans-49\" />\n    </g>\n    \n    <g style=\"fill:#444443;\" transform=\"translate(6.622734 27.595345)scale(0.09 -0.09)\">\n     <use xlink:href=\"#DejaVuSans-49\" />\n    </g>\n   </g>\n  </g>\n </g>\n</svg></g>\n\n<g class=\"edge\" id=\"edge32\">\n<title>node26-&gt;leaf28</title>\n<path d=\"M805.1212,-109.433C806.1305,-98.7633 808.1646,-77.2603 809.6656,-61.3921\" fill=\"none\" stroke=\"#444443\" stroke-width=\".3\" />\n<polygon fill=\"#444443\" points=\"811.0906,-61.1936 810.0736,-57.0795 808.303,-60.9299 811.0906,-61.1936\" stroke=\"#444443\" stroke-width=\".3\" />\n</g>\n\n<g class=\"node\" id=\"node42\">\n<title>leaf30</title>\n<polygon fill=\"none\" points=\"897,-83.5 830,-83.5 830,-.5 897,-.5 897,-83.5\" stroke=\"#444443\" stroke-width=\"0\" />\n<svg height=\"75px\" preserveAspectRatio=\"xMinYMin meet\" version=\"1.1\" viewBox=\"0 0 78.827257 100.659351\" width=\"59px\" x=\"834.5\" y=\"-79\">\n <defs>\n  <style type=\"text/css\">\n*{stroke-linecap:butt;stroke-linejoin:round;}\n  </style>\n </defs>\n <g id=\"figure_1\">\n  <g id=\"patch_1\">\n   <path d=\"M 0 100.659351  L 78.827257 100.659351  L 78.827257 0  L 0 0  z \" style=\"fill:#ffffff;\" />\n  </g>\n  <g id=\"axes_1\">\n   <g id=\"patch_2\">\n    <path d=\"M 78.827257 39.470207  C 78.827257 34.491451 77.880186 29.557836 76.036646 24.932972  C 74.193107 20.308107 71.48653 16.075857 68.06153 12.462356  C 64.63653 8.848856 60.555215 5.91963 56.035654 3.83119  C 51.516093 1.742751 46.640241 0.532969 41.668622 0.266485  C 36.697003 0 31.719769 0.681645 27.002859 2.274999  C 22.28595 3.868353 17.914899 6.344522 14.123257 9.571202  C 10.331616 12.797882 7.188139 16.716563 4.860787 21.117863  C 2.533435 25.519163 1.06441 30.323272 0.532205 35.273501  C 0 40.22373 0.414265 45.230315 1.752865 50.025746  C 3.091466 54.821177 5.330128 59.318497 8.349238 63.27741  C 11.368348 67.236322 15.113158 70.585037 19.383579 73.14463  C 23.654 75.704223 28.372595 77.428278 33.287242 78.224678  C 38.201889 79.021078 43.22347 78.875381 48.083675 77.795372  C 52.943879 76.715362 57.554576 74.720625 61.669409 71.917741  C 65.784242 69.114857 69.328596 65.554652 72.113091 61.427353  C 74.897586 57.300054 76.87173 52.680502 77.930041 47.815527  L 39.567257 39.470207  L 78.827257 39.470207  z \" style=\"fill:#fefebb;stroke:#444443;stroke-linejoin:miter;stroke-width:0.5;\" />\n   </g>\n   <g id=\"patch_3\">\n    <path d=\"M 77.930041 47.815527  C 78.22804 46.445652 78.45245 45.060797 78.602308 43.666916  C 78.752166 42.273035 78.827257 40.872127 78.827257 39.470214  L 39.567257 39.470207  L 77.930041 47.815527  z \" style=\"fill:#a1dab4;stroke:#444443;stroke-linejoin:miter;stroke-width:0.5;\" />\n   </g>\n   <g id=\"text_1\">\n    \n    <defs>\n     <path d=\"M 54.890625 33.015625  L 54.890625 0  L 45.90625 0  L 45.90625 32.71875  Q 45.90625 40.484375 42.875 44.328125  Q 39.84375 48.1875 33.796875 48.1875  Q 26.515625 48.1875 22.3125 43.546875  Q 18.109375 38.921875 18.109375 30.90625  L 18.109375 0  L 9.078125 0  L 9.078125 54.6875  L 18.109375 54.6875  L 18.109375 46.1875  Q 21.34375 51.125 25.703125 53.5625  Q 30.078125 56 35.796875 56  Q 45.21875 56 50.046875 50.171875  Q 54.890625 44.34375 54.890625 33.015625  z \" id=\"DejaVuSans-110\" />\n     <path d=\"M 10.59375 45.40625  L 73.1875 45.40625  L 73.1875 37.203125  L 10.59375 37.203125  z M 10.59375 25.484375  L 73.1875 25.484375  L 73.1875 17.1875  L 10.59375 17.1875  z \" id=\"DejaVuSans-61\" />\n     <path d=\"M 31.78125 34.625  Q 24.75 34.625 20.71875 30.859375  Q 16.703125 27.09375 16.703125 20.515625  Q 16.703125 13.921875 20.71875 10.15625  Q 24.75 6.390625 31.78125 6.390625  Q 38.8125 6.390625 42.859375 10.171875  Q 46.921875 13.96875 46.921875 20.515625  Q 46.921875 27.09375 42.890625 30.859375  Q 38.875 34.625 31.78125 34.625  z M 21.921875 38.8125  Q 15.578125 40.375 12.03125 44.71875  Q 8.5 49.078125 8.5 55.328125  Q 8.5 64.0625 14.71875 69.140625  Q 20.953125 74.21875 31.78125 74.21875  Q 42.671875 74.21875 48.875 69.140625  Q 55.078125 64.0625 55.078125 55.328125  Q 55.078125 49.078125 51.53125 44.71875  Q 48 40.375 41.703125 38.8125  Q 48.828125 37.15625 52.796875 32.3125  Q 56.78125 27.484375 56.78125 20.515625  Q 56.78125 9.90625 50.3125 4.234375  Q 43.84375 -1.421875 31.78125 -1.421875  Q 19.734375 -1.421875 13.25 4.234375  Q 6.78125 9.90625 6.78125 20.515625  Q 6.78125 27.484375 10.78125 32.3125  Q 14.796875 37.15625 21.921875 38.8125  z M 18.3125 54.390625  Q 18.3125 48.734375 21.84375 45.5625  Q 25.390625 42.390625 31.78125 42.390625  Q 38.140625 42.390625 41.71875 45.5625  Q 45.3125 48.734375 45.3125 54.390625  Q 45.3125 60.0625 41.71875 63.234375  Q 38.140625 66.40625 31.78125 66.40625  Q 25.390625 66.40625 21.84375 63.234375  Q 18.3125 60.0625 18.3125 54.390625  z \" id=\"DejaVuSans-56\" />\n    </defs>\n    <g style=\"fill:#444443;\" transform=\"translate(27.218272 88.709601)scale(0.09 -0.09)\">\n     <use xlink:href=\"#DejaVuSans-110\" />\n     <use x=\"63.378906\" xlink:href=\"#DejaVuSans-61\" />\n     <use x=\"147.167969\" xlink:href=\"#DejaVuSans-56\" />\n     <use x=\"210.791016\" xlink:href=\"#DejaVuSans-56\" />\n    </g>\n    \n    <defs>\n     <path d=\"M 31.78125 66.40625  Q 24.171875 66.40625 20.328125 58.90625  Q 16.5 51.421875 16.5 36.375  Q 16.5 21.390625 20.328125 13.890625  Q 24.171875 6.390625 31.78125 6.390625  Q 39.453125 6.390625 43.28125 13.890625  Q 47.125 21.390625 47.125 36.375  Q 47.125 51.421875 43.28125 58.90625  Q 39.453125 66.40625 31.78125 66.40625  z M 31.78125 74.21875  Q 44.046875 74.21875 50.515625 64.515625  Q 56.984375 54.828125 56.984375 36.375  Q 56.984375 17.96875 50.515625 8.265625  Q 44.046875 -1.421875 31.78125 -1.421875  Q 19.53125 -1.421875 13.0625 8.265625  Q 6.59375 17.96875 6.59375 36.375  Q 6.59375 54.828125 13.0625 64.515625  Q 19.53125 74.21875 31.78125 74.21875  z \" id=\"DejaVuSans-48\" />\n    </defs>\n    <g style=\"fill:#444443;\" transform=\"translate(36.704132 98.787632)scale(0.09 -0.09)\">\n     <use xlink:href=\"#DejaVuSans-48\" />\n    </g>\n   </g>\n  </g>\n </g>\n</svg></g>\n\n<g class=\"edge\" id=\"edge34\">\n<title>node29-&gt;leaf30</title>\n<path d=\"M913.6191,-109.433C909.5918,-104.0144 903.4878,-95.8018 896.9104,-86.9522\" fill=\"none\" stroke=\"#444443\" stroke-width=\".3\" />\n<polygon fill=\"#444443\" points=\"897.9785,-86.0422 894.4687,-83.667 895.7312,-87.7125 897.9785,-86.0422\" stroke=\"#444443\" stroke-width=\".3\" />\n</g>\n\n<g class=\"node\" id=\"node43\">\n<title>leaf31</title>\n<polygon fill=\"none\" points=\"948.5,-68.5 910.5,-68.5 910.5,-15.5 948.5,-15.5 948.5,-68.5\" stroke=\"#444443\" stroke-width=\"0\" />\n<svg height=\"45px\" preserveAspectRatio=\"xMinYMin meet\" version=\"1.1\" viewBox=\"0 0 40.501168 60.984901\" width=\"30px\" x=\"914.5\" y=\"-64\">\n <defs>\n  <style type=\"text/css\">\n*{stroke-linecap:butt;stroke-linejoin:round;}\n  </style>\n </defs>\n <g id=\"figure_1\">\n  <g id=\"patch_1\">\n   <path d=\"M 0 60.984901  L 40.501168 60.984901  L 40.501168 0  L 0 0  z \" style=\"fill:#ffffff;\" />\n  </g>\n  <g id=\"axes_1\">\n   <g id=\"patch_2\">\n    <path d=\"M 40.501168 20.343837  C 40.501168 17.994948 40.092158 15.663899 39.292496 13.45532  C 38.492834 11.246742 37.314667 9.194181 35.810878 7.389771  C 34.307089 5.58536 32.500521 4.056507 30.472262 2.871836  C 28.444004 1.687165 26.224863 0.864671 23.914449 0.441272  C 21.604036 0.017873 19.237443 0 16.920898 0.388456  C 14.604353 0.776912 12.373043 1.565796 10.327123 2.719698  C 8.281204 3.8736 6.45175 5.374994 4.92088 7.156487  C 3.390011 8.937979 2.180978 10.972511 1.34805 13.16876  C 0.515122 15.365009 0.070952 17.689616 0.035476 20.038236  C -0 22.386857 0.373757 24.723818 1.139971 26.944222  C 1.906185 29.164627 3.053217 31.234747 4.529582 33.061664  C 6.005946 34.888581 7.789218 36.444545 9.799353 37.659714  C 11.809488 38.874883 14.015953 39.7308 16.319708 40.189046  C 18.623464 40.647292 20.989517 40.700906 23.311664 40.347482  C 25.633812 39.994057 27.876782 39.238963 29.939896 38.116093  C 32.00301 36.993222 33.854931 35.519631 35.412533 33.761463  L 20.267168 20.343837  L 40.501168 20.343837  z \" style=\"fill:#fefebb;stroke:#444443;stroke-linejoin:miter;stroke-width:0.5;\" />\n   </g>\n   <g id=\"patch_3\">\n    <path d=\"M 35.412533 33.761463  C 37.038216 31.926446 38.316951 29.811161 39.186286 27.518915  C 40.05562 25.226669 40.501168 22.795397 40.501168 20.34384  L 20.267168 20.343837  L 35.412533 33.761463  z \" style=\"fill:#a1dab4;stroke:#444443;stroke-linejoin:miter;stroke-width:0.5;\" />\n   </g>\n   <g id=\"text_1\">\n    \n    <defs>\n     <path d=\"M 54.890625 33.015625  L 54.890625 0  L 45.90625 0  L 45.90625 32.71875  Q 45.90625 40.484375 42.875 44.328125  Q 39.84375 48.1875 33.796875 48.1875  Q 26.515625 48.1875 22.3125 43.546875  Q 18.109375 38.921875 18.109375 30.90625  L 18.109375 0  L 9.078125 0  L 9.078125 54.6875  L 18.109375 54.6875  L 18.109375 46.1875  Q 21.34375 51.125 25.703125 53.5625  Q 30.078125 56 35.796875 56  Q 45.21875 56 50.046875 50.171875  Q 54.890625 44.34375 54.890625 33.015625  z \" id=\"DejaVuSans-110\" />\n     <path d=\"M 10.59375 45.40625  L 73.1875 45.40625  L 73.1875 37.203125  L 10.59375 37.203125  z M 10.59375 25.484375  L 73.1875 25.484375  L 73.1875 17.1875  L 10.59375 17.1875  z \" id=\"DejaVuSans-61\" />\n     <path d=\"M 19.1875 8.296875  L 53.609375 8.296875  L 53.609375 0  L 7.328125 0  L 7.328125 8.296875  Q 12.9375 14.109375 22.625 23.890625  Q 32.328125 33.6875 34.8125 36.53125  Q 39.546875 41.84375 41.421875 45.53125  Q 43.3125 49.21875 43.3125 52.78125  Q 43.3125 58.59375 39.234375 62.25  Q 35.15625 65.921875 28.609375 65.921875  Q 23.96875 65.921875 18.8125 64.3125  Q 13.671875 62.703125 7.8125 59.421875  L 7.8125 69.390625  Q 13.765625 71.78125 18.9375 73  Q 24.125 74.21875 28.421875 74.21875  Q 39.75 74.21875 46.484375 68.546875  Q 53.21875 62.890625 53.21875 53.421875  Q 53.21875 48.921875 51.53125 44.890625  Q 49.859375 40.875 45.40625 35.40625  Q 44.1875 33.984375 37.640625 27.21875  Q 31.109375 20.453125 19.1875 8.296875  z \" id=\"DejaVuSans-50\" />\n     <path d=\"M 33.015625 40.375  Q 26.375 40.375 22.484375 35.828125  Q 18.609375 31.296875 18.609375 23.390625  Q 18.609375 15.53125 22.484375 10.953125  Q 26.375 6.390625 33.015625 6.390625  Q 39.65625 6.390625 43.53125 10.953125  Q 47.40625 15.53125 47.40625 23.390625  Q 47.40625 31.296875 43.53125 35.828125  Q 39.65625 40.375 33.015625 40.375  z M 52.59375 71.296875  L 52.59375 62.3125  Q 48.875 64.0625 45.09375 64.984375  Q 41.3125 65.921875 37.59375 65.921875  Q 27.828125 65.921875 22.671875 59.328125  Q 17.53125 52.734375 16.796875 39.40625  Q 19.671875 43.65625 24.015625 45.921875  Q 28.375 48.1875 33.59375 48.1875  Q 44.578125 48.1875 50.953125 41.515625  Q 57.328125 34.859375 57.328125 23.390625  Q 57.328125 12.15625 50.6875 5.359375  Q 44.046875 -1.421875 33.015625 -1.421875  Q 20.359375 -1.421875 13.671875 8.265625  Q 6.984375 17.96875 6.984375 36.375  Q 6.984375 53.65625 15.1875 63.9375  Q 23.390625 74.21875 37.203125 74.21875  Q 40.921875 74.21875 44.703125 73.484375  Q 48.484375 72.75 52.59375 71.296875  z \" id=\"DejaVuSans-54\" />\n    </defs>\n    <g style=\"fill:#444443;\" transform=\"translate(7.918184 49.035151)scale(0.09 -0.09)\">\n     <use xlink:href=\"#DejaVuSans-110\" />\n     <use x=\"63.378906\" xlink:href=\"#DejaVuSans-61\" />\n     <use x=\"147.167969\" xlink:href=\"#DejaVuSans-50\" />\n     <use x=\"210.791016\" xlink:href=\"#DejaVuSans-54\" />\n    </g>\n    \n    <defs>\n     <path d=\"M 31.78125 66.40625  Q 24.171875 66.40625 20.328125 58.90625  Q 16.5 51.421875 16.5 36.375  Q 16.5 21.390625 20.328125 13.890625  Q 24.171875 6.390625 31.78125 6.390625  Q 39.453125 6.390625 43.28125 13.890625  Q 47.125 21.390625 47.125 36.375  Q 47.125 51.421875 43.28125 58.90625  Q 39.453125 66.40625 31.78125 66.40625  z M 31.78125 74.21875  Q 44.046875 74.21875 50.515625 64.515625  Q 56.984375 54.828125 56.984375 36.375  Q 56.984375 17.96875 50.515625 8.265625  Q 44.046875 -1.421875 31.78125 -1.421875  Q 19.53125 -1.421875 13.0625 8.265625  Q 6.59375 17.96875 6.59375 36.375  Q 6.59375 54.828125 13.0625 64.515625  Q 19.53125 74.21875 31.78125 74.21875  z \" id=\"DejaVuSans-48\" />\n    </defs>\n    <g style=\"fill:#444443;\" transform=\"translate(17.404043 59.113182)scale(0.09 -0.09)\">\n     <use xlink:href=\"#DejaVuSans-48\" />\n    </g>\n   </g>\n  </g>\n </g>\n</svg></g>\n\n<g class=\"edge\" id=\"edge35\">\n<title>node29-&gt;leaf31</title>\n<path d=\"M919.4762,-109.433C920.7056,-101.1625 922.9025,-86.3831 924.9269,-72.7642\" fill=\"none\" stroke=\"#444443\" stroke-width=\".3\" />\n<polygon fill=\"#444443\" points=\"926.345,-72.7458 925.5484,-68.5834 923.5754,-72.334 926.345,-72.7458\" stroke=\"#444443\" stroke-width=\".3\" />\n</g>\n\n<g class=\"edge\" id=\"edge37\">\n<title>node25-&gt;node26</title>\n<path d=\"M807.2231,-182.717C806.7026,-169.9633 805.5739,-142.3104 804.9453,-126.9107\" fill=\"none\" stroke=\"#444443\" stroke-width=\".3\" />\n<polygon fill=\"#444443\" points=\"806.3296,-126.4945 804.7675,-122.5549 803.5319,-126.6087 806.3296,-126.4945\" stroke=\"#444443\" stroke-width=\".3\" />\n</g>\n\n<g class=\"edge\" id=\"edge38\">\n<title>node25-&gt;node29</title>\n<path d=\"M817.3505,-182.9774C837.2946,-169.7711 882.4732,-139.8556 905.0842,-124.8835\" fill=\"none\" stroke=\"#444443\" stroke-width=\".3\" />\n<polygon fill=\"#444443\" points=\"905.9498,-125.9894 908.512,-122.6137 904.4039,-123.6548 905.9498,-125.9894\" stroke=\"#444443\" stroke-width=\".3\" />\n</g>\n\n<g class=\"edge\" id=\"edge40\">\n<title>node17-&gt;node18</title>\n<path d=\"M708.0386,-247.5439C704.0058,-236.1467 695.9667,-213.4277 691.2305,-200.0428\" fill=\"none\" stroke=\"#444443\" stroke-width=\".3\" />\n<polygon fill=\"#444443\" points=\"692.529,-199.5152 689.8748,-196.2113 689.8893,-200.4492 692.529,-199.5152\" stroke=\"#444443\" stroke-width=\".3\" />\n</g>\n\n<g class=\"edge\" id=\"edge41\">\n<title>node17-&gt;node25</title>\n<path d=\"M720.5154,-247.7887C738.0319,-236.0508 774.2405,-211.7873 793.9682,-198.5677\" fill=\"none\" stroke=\"#444443\" stroke-width=\".3\" />\n<polygon fill=\"#444443\" points=\"795.14,-199.4678 797.6836,-196.078 793.5813,-197.1417 795.14,-199.4678\" stroke=\"#444443\" stroke-width=\".3\" />\n</g>\n\n<g class=\"node\" id=\"node15\">\n<title>node1</title>\n<text fill=\"#444443\" font-family=\"Helvetica,sans-Serif\" font-size=\"12.00\" text-anchor=\"start\" x=\"789\" y=\"-281.4\">&#65405;&#65412;&#65432;&#65392;&#65424;&#65437;&#65400;&#65438;&#65403;&#65392;&#65419;&#65438;&#65405;(&#26144;&#30011;)@1.50</text>\n</g>\n\n<g class=\"edge\" id=\"edge43\">\n<title>node1-&gt;node2</title>\n<path d=\"M799.8762,-277.9904C746.9845,-272.4033 671.9092,-264.4728 623.9537,-259.4071\" fill=\"none\" stroke=\"#444443\" stroke-width=\".3\" />\n<polygon fill=\"#444443\" points=\"623.8121,-257.9844 619.6871,-258.9564 623.5179,-260.7689 623.8121,-257.9844\" stroke=\"#444443\" stroke-width=\".3\" />\n</g>\n\n<g class=\"edge\" id=\"edge44\">\n<title>node1-&gt;node17</title>\n<path d=\"M828.7352,-277.9904C804.776,-273.2303 772.2554,-266.7693 747.3846,-261.8281\" fill=\"none\" stroke=\"#444443\" stroke-width=\".3\" />\n<polygon fill=\"#444443\" points=\"747.6574,-260.455 743.4612,-261.0486 747.1117,-263.2013 747.6574,-260.455\" stroke=\"#444443\" stroke-width=\".3\" />\n</g>\n\n<g class=\"node\" id=\"node26\">\n<title>node32</title>\n<text fill=\"#444443\" font-family=\"Helvetica,sans-Serif\" font-size=\"12.00\" text-anchor=\"start\" x=\"1008\" y=\"-281.4\">&#65405;&#65412;&#65432;&#65392;&#65424;&#65437;&#65400;&#65438;&#65403;&#65392;&#65419;&#65438;&#65405;(&#26144;&#30011;)@1.50</text>\n</g>\n\n\n<g class=\"node\" id=\"node16\">\n<title>node35</title>\n<text fill=\"#444443\" font-family=\"Helvetica,sans-Serif\" font-size=\"12.00\" text-anchor=\"start\" x=\"1008\" y=\"-112.9\">&#21033;&#29992;&#26376;&#25968;@22.50</text>\n</g>\n\n<g class=\"node\" id=\"node17\">\n<title>node38</title>\n<text fill=\"#444443\" font-family=\"Helvetica,sans-Serif\" font-size=\"12.00\" text-anchor=\"start\" x=\"1112.5\" y=\"-112.9\">&#36890;&#31639;&#25903;&#25173;&#38989;@4243.92</text>\n</g>\n\n\n<g class=\"node\" id=\"node44\">\n<title>leaf36</title>\n<polygon fill=\"none\" points=\"1023.5,-83.5 955.5,-83.5 955.5,-.5 1023.5,-.5 1023.5,-83.5\" stroke=\"#444443\" stroke-width=\"0\" />\n<svg height=\"75px\" preserveAspectRatio=\"xMinYMin meet\" version=\"1.1\" viewBox=\"0 0 79.123779 100.837223\" width=\"60px\" x=\"959.5\" y=\"-79\">\n <defs>\n  <style type=\"text/css\">\n*{stroke-linecap:butt;stroke-linejoin:round;}\n  </style>\n </defs>\n <g id=\"figure_1\">\n  <g id=\"patch_1\">\n   <path d=\"M 0 100.837223  L 79.123779 100.837223  L 79.123779 0  L 0 0  z \" style=\"fill:#ffffff;\" />\n  </g>\n  <g id=\"axes_1\">\n   <g id=\"patch_2\">\n    <path d=\"M 79.123779 39.64808  C 79.123779 32.464254 77.152026 25.416369 73.424227 19.275452  C 69.696427 13.134535 64.353665 8.132997 57.980429 4.817998  C 51.607194 1.502999 44.444688 0 37.276479 0.473426  C 30.108271 0.946852 23.205649 3.378786 17.323749 7.503179  C 11.44185 11.627571 6.803282 17.288329 3.915496 23.866174  C 1.027711 30.444018 0 37.690004 0.944794 44.81143  C 1.889588 51.932857 4.77113 58.660205 9.274183 64.257513  C 13.777236 69.854821 19.731378 74.110253 26.485233 76.558269  L 39.863779 39.64808  L 79.123779 39.64808  z \" style=\"fill:#fefebb;stroke:#444443;stroke-linejoin:miter;stroke-width:0.5;\" />\n   </g>\n   <g id=\"patch_3\">\n    <path d=\"M 26.485233 76.558269  C 32.414477 78.707396 38.775193 79.396504 45.02713 78.567065  C 51.279066 77.737626 57.24006 75.413806 62.403809 71.792981  C 67.567558 68.172156 71.783606 63.359826 74.693861 57.76473  C 77.604115 52.169634 79.123779 45.954796 79.123779 39.64808  L 39.863779 39.64808  L 26.485233 76.558269  z \" style=\"fill:#a1dab4;stroke:#444443;stroke-linejoin:miter;stroke-width:0.5;\" />\n   </g>\n   <g id=\"text_1\">\n    \n    <defs>\n     <path d=\"M 54.890625 33.015625  L 54.890625 0  L 45.90625 0  L 45.90625 32.71875  Q 45.90625 40.484375 42.875 44.328125  Q 39.84375 48.1875 33.796875 48.1875  Q 26.515625 48.1875 22.3125 43.546875  Q 18.109375 38.921875 18.109375 30.90625  L 18.109375 0  L 9.078125 0  L 9.078125 54.6875  L 18.109375 54.6875  L 18.109375 46.1875  Q 21.34375 51.125 25.703125 53.5625  Q 30.078125 56 35.796875 56  Q 45.21875 56 50.046875 50.171875  Q 54.890625 44.34375 54.890625 33.015625  z \" id=\"DejaVuSans-110\" />\n     <path d=\"M 10.59375 45.40625  L 73.1875 45.40625  L 73.1875 37.203125  L 10.59375 37.203125  z M 10.59375 25.484375  L 73.1875 25.484375  L 73.1875 17.1875  L 10.59375 17.1875  z \" id=\"DejaVuSans-61\" />\n     <path d=\"M 12.40625 8.296875  L 28.515625 8.296875  L 28.515625 63.921875  L 10.984375 60.40625  L 10.984375 69.390625  L 28.421875 72.90625  L 38.28125 72.90625  L 38.28125 8.296875  L 54.390625 8.296875  L 54.390625 0  L 12.40625 0  z \" id=\"DejaVuSans-49\" />\n     <path d=\"M 40.578125 39.3125  Q 47.65625 37.796875 51.625 33  Q 55.609375 28.21875 55.609375 21.1875  Q 55.609375 10.40625 48.1875 4.484375  Q 40.765625 -1.421875 27.09375 -1.421875  Q 22.515625 -1.421875 17.65625 -0.515625  Q 12.796875 0.390625 7.625 2.203125  L 7.625 11.71875  Q 11.71875 9.328125 16.59375 8.109375  Q 21.484375 6.890625 26.8125 6.890625  Q 36.078125 6.890625 40.9375 10.546875  Q 45.796875 14.203125 45.796875 21.1875  Q 45.796875 27.640625 41.28125 31.265625  Q 36.765625 34.90625 28.71875 34.90625  L 20.21875 34.90625  L 20.21875 43.015625  L 29.109375 43.015625  Q 36.375 43.015625 40.234375 45.921875  Q 44.09375 48.828125 44.09375 54.296875  Q 44.09375 59.90625 40.109375 62.90625  Q 36.140625 65.921875 28.71875 65.921875  Q 24.65625 65.921875 20.015625 65.03125  Q 15.375 64.15625 9.8125 62.3125  L 9.8125 71.09375  Q 15.4375 72.65625 20.34375 73.4375  Q 25.25 74.21875 29.59375 74.21875  Q 40.828125 74.21875 47.359375 69.109375  Q 53.90625 64.015625 53.90625 55.328125  Q 53.90625 49.265625 50.4375 45.09375  Q 46.96875 40.921875 40.578125 39.3125  z \" id=\"DejaVuSans-51\" />\n    </defs>\n    <g style=\"fill:#444443;\" transform=\"translate(24.65167 88.887473)scale(0.09 -0.09)\">\n     <use xlink:href=\"#DejaVuSans-110\" />\n     <use x=\"63.378906\" xlink:href=\"#DejaVuSans-61\" />\n     <use x=\"147.167969\" xlink:href=\"#DejaVuSans-49\" />\n     <use x=\"210.791016\" xlink:href=\"#DejaVuSans-51\" />\n     <use x=\"274.414062\" xlink:href=\"#DejaVuSans-49\" />\n    </g>\n    \n    <defs>\n     <path d=\"M 31.78125 66.40625  Q 24.171875 66.40625 20.328125 58.90625  Q 16.5 51.421875 16.5 36.375  Q 16.5 21.390625 20.328125 13.890625  Q 24.171875 6.390625 31.78125 6.390625  Q 39.453125 6.390625 43.28125 13.890625  Q 47.125 21.390625 47.125 36.375  Q 47.125 51.421875 43.28125 58.90625  Q 39.453125 66.40625 31.78125 66.40625  z M 31.78125 74.21875  Q 44.046875 74.21875 50.515625 64.515625  Q 56.984375 54.828125 56.984375 36.375  Q 56.984375 17.96875 50.515625 8.265625  Q 44.046875 -1.421875 31.78125 -1.421875  Q 19.53125 -1.421875 13.0625 8.265625  Q 6.59375 17.96875 6.59375 36.375  Q 6.59375 54.828125 13.0625 64.515625  Q 19.53125 74.21875 31.78125 74.21875  z \" id=\"DejaVuSans-48\" />\n    </defs>\n    <g style=\"fill:#444443;\" transform=\"translate(37.000654 98.965505)scale(0.09 -0.09)\">\n     <use xlink:href=\"#DejaVuSans-48\" />\n    </g>\n   </g>\n  </g>\n </g>\n</svg></g>\n\n<g class=\"edge\" id=\"edge46\">\n<title>node35-&gt;leaf36</title>\n<path d=\"M1047.8204,-109.433C1042.7192,-103.5347 1034.7547,-94.3257 1026.333,-84.5882\" fill=\"none\" stroke=\"#444443\" stroke-width=\".3\" />\n<polygon fill=\"#444443\" points=\"1027.383,-83.662 1023.7074,-81.5523 1025.2652,-85.4936 1027.383,-83.662\" stroke=\"#444443\" stroke-width=\".3\" />\n</g>\n\n<g class=\"node\" id=\"node45\">\n<title>leaf37</title>\n<polygon fill=\"none\" points=\"1104,-83.5 1037,-83.5 1037,-.5 1104,-.5 1104,-83.5\" stroke=\"#444443\" stroke-width=\"0\" />\n<svg height=\"75px\" preserveAspectRatio=\"xMinYMin meet\" version=\"1.1\" viewBox=\"0 0 78.635981 100.512835\" width=\"59px\" x=\"1041.5\" y=\"-79\">\n <defs>\n  <style type=\"text/css\">\n*{stroke-linecap:butt;stroke-linejoin:round;}\n  </style>\n </defs>\n <g id=\"figure_1\">\n  <g id=\"patch_1\">\n   <path d=\"M 0 100.512835  L 78.635981 100.512835  L 78.635981 0  L 0 0  z \" style=\"fill:#ffffff;\" />\n  </g>\n  <g id=\"axes_1\">\n   <g id=\"patch_2\">\n    <path d=\"M 78.635981 39.323691  C 78.635981 35.248796 78.001566 31.198632 76.755559 27.318911  C 75.509553 23.43919 73.667079 19.777005 71.294425 16.464108  C 68.921771 13.151212 66.047736 10.227818 62.775719 7.7991  C 59.503702 5.370382 55.873419 3.46582 52.015476 2.153935  C 48.157533 0.84205 44.118758 0.138765 40.044454 0.069382  C 35.97015 0 31.909771 0.565362 28.009397 1.745129  C 24.109023 2.924895 20.415996 4.704746 17.063182 7.020648  C 13.710367 9.33655 10.738461 12.160392 8.254383 15.390582  C 5.770305 18.620771 3.804207 22.218099 2.426824 26.053146  C 1.04944 29.888192 0.27749 33.914407 0.138745 37.986939  C 0 42.059471 0.496145 46.128888 1.609329 50.048784  C 2.722514 53.968681 4.439226 57.691477 6.697705 61.083238  C 8.956183 64.474999 11.729014 67.494555 14.916439 70.033273  C 18.103864 72.571991 21.667195 74.599055 25.478233 76.041537  C 29.289271 77.484019 33.301758 78.324411 37.371338 78.532478  C 41.440917 78.740545 45.518191 78.313762 49.456473 77.267482  L 39.375981 39.323691  L 78.635981 39.323691  z \" style=\"fill:#fefebb;stroke:#444443;stroke-linejoin:miter;stroke-width:0.5;\" />\n   </g>\n   <g id=\"patch_3\">\n    <path d=\"M 49.456473 77.267482  C 57.821486 75.045157 65.221332 70.117807 70.497578 63.256802  C 75.773824 56.395797 78.63598 47.978876 78.635981 39.323695  L 39.375981 39.323691  L 49.456473 77.267482  z \" style=\"fill:#a1dab4;stroke:#444443;stroke-linejoin:miter;stroke-width:0.5;\" />\n   </g>\n   <g id=\"text_1\">\n    \n    <defs>\n     <path d=\"M 54.890625 33.015625  L 54.890625 0  L 45.90625 0  L 45.90625 32.71875  Q 45.90625 40.484375 42.875 44.328125  Q 39.84375 48.1875 33.796875 48.1875  Q 26.515625 48.1875 22.3125 43.546875  Q 18.109375 38.921875 18.109375 30.90625  L 18.109375 0  L 9.078125 0  L 9.078125 54.6875  L 18.109375 54.6875  L 18.109375 46.1875  Q 21.34375 51.125 25.703125 53.5625  Q 30.078125 56 35.796875 56  Q 45.21875 56 50.046875 50.171875  Q 54.890625 44.34375 54.890625 33.015625  z \" id=\"DejaVuSans-110\" />\n     <path d=\"M 10.59375 45.40625  L 73.1875 45.40625  L 73.1875 37.203125  L 10.59375 37.203125  z M 10.59375 25.484375  L 73.1875 25.484375  L 73.1875 17.1875  L 10.59375 17.1875  z \" id=\"DejaVuSans-61\" />\n     <path d=\"M 40.578125 39.3125  Q 47.65625 37.796875 51.625 33  Q 55.609375 28.21875 55.609375 21.1875  Q 55.609375 10.40625 48.1875 4.484375  Q 40.765625 -1.421875 27.09375 -1.421875  Q 22.515625 -1.421875 17.65625 -0.515625  Q 12.796875 0.390625 7.625 2.203125  L 7.625 11.71875  Q 11.71875 9.328125 16.59375 8.109375  Q 21.484375 6.890625 26.8125 6.890625  Q 36.078125 6.890625 40.9375 10.546875  Q 45.796875 14.203125 45.796875 21.1875  Q 45.796875 27.640625 41.28125 31.265625  Q 36.765625 34.90625 28.71875 34.90625  L 20.21875 34.90625  L 20.21875 43.015625  L 29.109375 43.015625  Q 36.375 43.015625 40.234375 45.921875  Q 44.09375 48.828125 44.09375 54.296875  Q 44.09375 59.90625 40.109375 62.90625  Q 36.140625 65.921875 28.71875 65.921875  Q 24.65625 65.921875 20.015625 65.03125  Q 15.375 64.15625 9.8125 62.3125  L 9.8125 71.09375  Q 15.4375 72.65625 20.34375 73.4375  Q 25.25 74.21875 29.59375 74.21875  Q 40.828125 74.21875 47.359375 69.109375  Q 53.90625 64.015625 53.90625 55.328125  Q 53.90625 49.265625 50.4375 45.09375  Q 46.96875 40.921875 40.578125 39.3125  z \" id=\"DejaVuSans-51\" />\n     <path d=\"M 33.015625 40.375  Q 26.375 40.375 22.484375 35.828125  Q 18.609375 31.296875 18.609375 23.390625  Q 18.609375 15.53125 22.484375 10.953125  Q 26.375 6.390625 33.015625 6.390625  Q 39.65625 6.390625 43.53125 10.953125  Q 47.40625 15.53125 47.40625 23.390625  Q 47.40625 31.296875 43.53125 35.828125  Q 39.65625 40.375 33.015625 40.375  z M 52.59375 71.296875  L 52.59375 62.3125  Q 48.875 64.0625 45.09375 64.984375  Q 41.3125 65.921875 37.59375 65.921875  Q 27.828125 65.921875 22.671875 59.328125  Q 17.53125 52.734375 16.796875 39.40625  Q 19.671875 43.65625 24.015625 45.921875  Q 28.375 48.1875 33.59375 48.1875  Q 44.578125 48.1875 50.953125 41.515625  Q 57.328125 34.859375 57.328125 23.390625  Q 57.328125 12.15625 50.6875 5.359375  Q 44.046875 -1.421875 33.015625 -1.421875  Q 20.359375 -1.421875 13.671875 8.265625  Q 6.984375 17.96875 6.984375 36.375  Q 6.984375 53.65625 15.1875 63.9375  Q 23.390625 74.21875 37.203125 74.21875  Q 40.921875 74.21875 44.703125 73.484375  Q 48.484375 72.75 52.59375 71.296875  z \" id=\"DejaVuSans-54\" />\n     <path d=\"M 10.984375 1.515625  L 10.984375 10.5  Q 14.703125 8.734375 18.5 7.8125  Q 22.3125 6.890625 25.984375 6.890625  Q 35.75 6.890625 40.890625 13.453125  Q 46.046875 20.015625 46.78125 33.40625  Q 43.953125 29.203125 39.59375 26.953125  Q 35.25 24.703125 29.984375 24.703125  Q 19.046875 24.703125 12.671875 31.3125  Q 6.296875 37.9375 6.296875 49.421875  Q 6.296875 60.640625 12.9375 67.421875  Q 19.578125 74.21875 30.609375 74.21875  Q 43.265625 74.21875 49.921875 64.515625  Q 56.59375 54.828125 56.59375 36.375  Q 56.59375 19.140625 48.40625 8.859375  Q 40.234375 -1.421875 26.421875 -1.421875  Q 22.703125 -1.421875 18.890625 -0.6875  Q 15.09375 0.046875 10.984375 1.515625  z M 30.609375 32.421875  Q 37.25 32.421875 41.125 36.953125  Q 45.015625 41.5 45.015625 49.421875  Q 45.015625 57.28125 41.125 61.84375  Q 37.25 66.40625 30.609375 66.40625  Q 23.96875 66.40625 20.09375 61.84375  Q 16.21875 57.28125 16.21875 49.421875  Q 16.21875 41.5 20.09375 36.953125  Q 23.96875 32.421875 30.609375 32.421875  z \" id=\"DejaVuSans-57\" />\n    </defs>\n    <g style=\"fill:#444443;\" transform=\"translate(24.163872 88.563085)scale(0.09 -0.09)\">\n     <use xlink:href=\"#DejaVuSans-110\" />\n     <use x=\"63.378906\" xlink:href=\"#DejaVuSans-61\" />\n     <use x=\"147.167969\" xlink:href=\"#DejaVuSans-51\" />\n     <use x=\"210.791016\" xlink:href=\"#DejaVuSans-54\" />\n     <use x=\"274.414062\" xlink:href=\"#DejaVuSans-57\" />\n    </g>\n    \n    <defs>\n     <path d=\"M 31.78125 66.40625  Q 24.171875 66.40625 20.328125 58.90625  Q 16.5 51.421875 16.5 36.375  Q 16.5 21.390625 20.328125 13.890625  Q 24.171875 6.390625 31.78125 6.390625  Q 39.453125 6.390625 43.28125 13.890625  Q 47.125 21.390625 47.125 36.375  Q 47.125 51.421875 43.28125 58.90625  Q 39.453125 66.40625 31.78125 66.40625  z M 31.78125 74.21875  Q 44.046875 74.21875 50.515625 64.515625  Q 56.984375 54.828125 56.984375 36.375  Q 56.984375 17.96875 50.515625 8.265625  Q 44.046875 -1.421875 31.78125 -1.421875  Q 19.53125 -1.421875 13.0625 8.265625  Q 6.59375 17.96875 6.59375 36.375  Q 6.59375 54.828125 13.0625 64.515625  Q 19.53125 74.21875 31.78125 74.21875  z \" id=\"DejaVuSans-48\" />\n    </defs>\n    <g style=\"fill:#444443;\" transform=\"translate(36.512856 98.641116)scale(0.09 -0.09)\">\n     <use xlink:href=\"#DejaVuSans-48\" />\n    </g>\n   </g>\n  </g>\n </g>\n</svg></g>\n\n<g class=\"edge\" id=\"edge47\">\n<title>node35-&gt;leaf37</title>\n<path d=\"M1055.0086,-109.433C1056.2098,-104.2045 1058.0085,-96.3747 1059.9597,-87.8813\" fill=\"none\" stroke=\"#444443\" stroke-width=\".3\" />\n<polygon fill=\"#444443\" points=\"1061.3967,-87.8789 1060.9279,-83.667 1058.6677,-87.252 1061.3967,-87.8789\" stroke=\"#444443\" stroke-width=\".3\" />\n</g>\n\n<g class=\"node\" id=\"node46\">\n<title>leaf39</title>\n<polygon fill=\"none\" points=\"1178,-83.5 1111,-83.5 1111,-.5 1178,-.5 1178,-83.5\" stroke=\"#444443\" stroke-width=\"0\" />\n<svg height=\"75px\" preserveAspectRatio=\"xMinYMin meet\" version=\"1.1\" viewBox=\"0 0 78.77024 100.582903\" width=\"59px\" x=\"1115.5\" y=\"-79\">\n <defs>\n  <style type=\"text/css\">\n*{stroke-linecap:butt;stroke-linejoin:round;}\n  </style>\n </defs>\n <g id=\"figure_1\">\n  <g id=\"patch_1\">\n   <path d=\"M 0 100.582903  L 78.77024 100.582903  L 78.77024 0  L 0 0  z \" style=\"fill:#ffffff;\" />\n  </g>\n  <g id=\"axes_1\">\n   <g id=\"patch_2\">\n    <path d=\"M 78.77024 39.39376  C 78.77024 32.595594 77.004509 25.912572 73.646611 20.001602  C 70.288712 14.090631 65.452394 9.151946 59.613042 5.670994  C 53.773691 2.190042 47.129113 0.28474 40.332438 0.14237  C 33.535764 0 26.817229 1.625385 20.837232 4.858757  C 14.857236 8.092129 9.818349 12.823959 6.215871 18.58913  C 2.613392 24.354302 0.569355 30.957521 0.284677 37.749723  C 0 44.541925 1.484326 51.293026 4.591754 57.339426  C 7.699181 63.385825 12.324447 68.522703 18.012909 72.245128  L 39.51024 39.39376  L 78.77024 39.39376  z \" style=\"fill:#fefebb;stroke:#444443;stroke-linejoin:miter;stroke-width:0.5;\" />\n   </g>\n   <g id=\"patch_3\">\n    <path d=\"M 18.012909 72.245128  C 23.934658 76.120211 30.79545 78.32297 37.866203 78.619322  C 44.936956 78.915674 51.958009 77.294736 58.183247 73.928762  C 64.408486 70.562788 69.609298 65.575388 73.233006 59.496562  C 76.856713 53.417736 78.77024 46.470721 78.77024 39.39376  L 39.51024 39.39376  L 18.012909 72.245128  z \" style=\"fill:#a1dab4;stroke:#444443;stroke-linejoin:miter;stroke-width:0.5;\" />\n   </g>\n   <g id=\"text_1\">\n    \n    <defs>\n     <path d=\"M 54.890625 33.015625  L 54.890625 0  L 45.90625 0  L 45.90625 32.71875  Q 45.90625 40.484375 42.875 44.328125  Q 39.84375 48.1875 33.796875 48.1875  Q 26.515625 48.1875 22.3125 43.546875  Q 18.109375 38.921875 18.109375 30.90625  L 18.109375 0  L 9.078125 0  L 9.078125 54.6875  L 18.109375 54.6875  L 18.109375 46.1875  Q 21.34375 51.125 25.703125 53.5625  Q 30.078125 56 35.796875 56  Q 45.21875 56 50.046875 50.171875  Q 54.890625 44.34375 54.890625 33.015625  z \" id=\"DejaVuSans-110\" />\n     <path d=\"M 10.59375 45.40625  L 73.1875 45.40625  L 73.1875 37.203125  L 10.59375 37.203125  z M 10.59375 25.484375  L 73.1875 25.484375  L 73.1875 17.1875  L 10.59375 17.1875  z \" id=\"DejaVuSans-61\" />\n     <path d=\"M 37.796875 64.3125  L 12.890625 25.390625  L 37.796875 25.390625  z M 35.203125 72.90625  L 47.609375 72.90625  L 47.609375 25.390625  L 58.015625 25.390625  L 58.015625 17.1875  L 47.609375 17.1875  L 47.609375 0  L 37.796875 0  L 37.796875 17.1875  L 4.890625 17.1875  L 4.890625 26.703125  z \" id=\"DejaVuSans-52\" />\n     <path d=\"M 10.796875 72.90625  L 49.515625 72.90625  L 49.515625 64.59375  L 19.828125 64.59375  L 19.828125 46.734375  Q 21.96875 47.46875 24.109375 47.828125  Q 26.265625 48.1875 28.421875 48.1875  Q 40.625 48.1875 47.75 41.5  Q 54.890625 34.8125 54.890625 23.390625  Q 54.890625 11.625 47.5625 5.09375  Q 40.234375 -1.421875 26.90625 -1.421875  Q 22.3125 -1.421875 17.546875 -0.640625  Q 12.796875 0.140625 7.71875 1.703125  L 7.71875 11.625  Q 12.109375 9.234375 16.796875 8.0625  Q 21.484375 6.890625 26.703125 6.890625  Q 35.15625 6.890625 40.078125 11.328125  Q 45.015625 15.765625 45.015625 23.390625  Q 45.015625 31 40.078125 35.4375  Q 35.15625 39.890625 26.703125 39.890625  Q 22.75 39.890625 18.8125 39.015625  Q 14.890625 38.140625 10.796875 36.28125  z \" id=\"DejaVuSans-53\" />\n     <path d=\"M 31.78125 66.40625  Q 24.171875 66.40625 20.328125 58.90625  Q 16.5 51.421875 16.5 36.375  Q 16.5 21.390625 20.328125 13.890625  Q 24.171875 6.390625 31.78125 6.390625  Q 39.453125 6.390625 43.28125 13.890625  Q 47.125 21.390625 47.125 36.375  Q 47.125 51.421875 43.28125 58.90625  Q 39.453125 66.40625 31.78125 66.40625  z M 31.78125 74.21875  Q 44.046875 74.21875 50.515625 64.515625  Q 56.984375 54.828125 56.984375 36.375  Q 56.984375 17.96875 50.515625 8.265625  Q 44.046875 -1.421875 31.78125 -1.421875  Q 19.53125 -1.421875 13.0625 8.265625  Q 6.59375 17.96875 6.59375 36.375  Q 6.59375 54.828125 13.0625 64.515625  Q 19.53125 74.21875 31.78125 74.21875  z \" id=\"DejaVuSans-48\" />\n    </defs>\n    <g style=\"fill:#444443;\" transform=\"translate(24.29813 88.633153)scale(0.09 -0.09)\">\n     <use xlink:href=\"#DejaVuSans-110\" />\n     <use x=\"63.378906\" xlink:href=\"#DejaVuSans-61\" />\n     <use x=\"147.167969\" xlink:href=\"#DejaVuSans-52\" />\n     <use x=\"210.791016\" xlink:href=\"#DejaVuSans-53\" />\n     <use x=\"274.414062\" xlink:href=\"#DejaVuSans-48\" />\n    </g>\n    \n    <g style=\"fill:#444443;\" transform=\"translate(36.647115 98.711185)scale(0.09 -0.09)\">\n     <use xlink:href=\"#DejaVuSans-48\" />\n    </g>\n   </g>\n  </g>\n </g>\n</svg></g>\n\n<g class=\"edge\" id=\"edge49\">\n<title>node38-&gt;leaf39</title>\n<path d=\"M1168.1927,-109.433C1166.3556,-104.2045 1163.6046,-96.3747 1160.6205,-87.8813\" fill=\"none\" stroke=\"#444443\" stroke-width=\".3\" />\n<polygon fill=\"#444443\" points=\"1161.7866,-86.9767 1159.1398,-83.667 1159.1449,-87.9049 1161.7866,-86.9767\" stroke=\"#444443\" stroke-width=\".3\" />\n</g>\n\n<g class=\"node\" id=\"node47\">\n<title>leaf40</title>\n<polygon fill=\"none\" points=\"1229,-68 1192,-68 1192,-16 1229,-16 1229,-68\" stroke=\"#444443\" stroke-width=\"0\" />\n<svg height=\"44px\" preserveAspectRatio=\"xMinYMin meet\" version=\"1.1\" viewBox=\"0 0 38.052001 58.362424\" width=\"29px\" x=\"1196.5\" y=\"-64\">\n <defs>\n  <style type=\"text/css\">\n*{stroke-linecap:butt;stroke-linejoin:round;}\n  </style>\n </defs>\n <g id=\"figure_1\">\n  <g id=\"patch_1\">\n   <path d=\"M -0 58.362424  L 38.052001 58.362424  L 38.052001 0  L -0 0  z \" style=\"fill:#ffffff;\" />\n  </g>\n  <g id=\"axes_1\">\n   <g id=\"patch_2\">\n    <path d=\"M 38.052 19.026  C 38.052 15.686488 37.172756 12.405102 35.502999 9.513  C 33.833243 6.620898 31.431102 4.218756 28.539 2.549001  C 25.646897 0.879245 22.365511 -0 19.025999 0  C 15.686487 0 12.405101 0.879245 9.512999 2.549001  L 19.026 19.026  L 38.052 19.026  z \" style=\"fill:#fefebb;stroke:#444443;stroke-linejoin:miter;stroke-width:0.5;\" />\n   </g>\n   <g id=\"patch_3\">\n    <path d=\"M 9.512999 2.549001  C 6.620897 4.218758 4.218756 6.620899 2.549 9.513001  C 0.879244 12.405104 -0 15.68649 0 19.026002  C 0.000001 22.365514 0.879246 25.6469 2.549002 28.539002  C 4.218758 31.431104 6.6209 33.833245 9.513002 35.503001  C 12.405105 37.172756 15.686491 38.052001 19.026003 38.052  C 22.365515 38.052 25.646901 37.172754 28.539003 35.502998  C 31.431105 33.833242 33.833246 31.4311 35.503001 28.538997  C 37.172757 25.646895 38.052001 22.365509 38.052 19.025997  L 19.026 19.026  L 9.512999 2.549001  z \" style=\"fill:#a1dab4;stroke:#444443;stroke-linejoin:miter;stroke-width:0.5;\" />\n   </g>\n   <g id=\"text_1\">\n    \n    <defs>\n     <path d=\"M 54.890625 33.015625  L 54.890625 0  L 45.90625 0  L 45.90625 32.71875  Q 45.90625 40.484375 42.875 44.328125  Q 39.84375 48.1875 33.796875 48.1875  Q 26.515625 48.1875 22.3125 43.546875  Q 18.109375 38.921875 18.109375 30.90625  L 18.109375 0  L 9.078125 0  L 9.078125 54.6875  L 18.109375 54.6875  L 18.109375 46.1875  Q 21.34375 51.125 25.703125 53.5625  Q 30.078125 56 35.796875 56  Q 45.21875 56 50.046875 50.171875  Q 54.890625 44.34375 54.890625 33.015625  z \" id=\"DejaVuSans-110\" />\n     <path d=\"M 10.59375 45.40625  L 73.1875 45.40625  L 73.1875 37.203125  L 10.59375 37.203125  z M 10.59375 25.484375  L 73.1875 25.484375  L 73.1875 17.1875  L 10.59375 17.1875  z \" id=\"DejaVuSans-61\" />\n     <path d=\"M 19.1875 8.296875  L 53.609375 8.296875  L 53.609375 0  L 7.328125 0  L 7.328125 8.296875  Q 12.9375 14.109375 22.625 23.890625  Q 32.328125 33.6875 34.8125 36.53125  Q 39.546875 41.84375 41.421875 45.53125  Q 43.3125 49.21875 43.3125 52.78125  Q 43.3125 58.59375 39.234375 62.25  Q 35.15625 65.921875 28.609375 65.921875  Q 23.96875 65.921875 18.8125 64.3125  Q 13.671875 62.703125 7.8125 59.421875  L 7.8125 69.390625  Q 13.765625 71.78125 18.9375 73  Q 24.125 74.21875 28.421875 74.21875  Q 39.75 74.21875 46.484375 68.546875  Q 53.21875 62.890625 53.21875 53.421875  Q 53.21875 48.921875 51.53125 44.890625  Q 49.859375 40.875 45.40625 35.40625  Q 44.1875 33.984375 37.640625 27.21875  Q 31.109375 20.453125 19.1875 8.296875  z \" id=\"DejaVuSans-50\" />\n     <path d=\"M 37.796875 64.3125  L 12.890625 25.390625  L 37.796875 25.390625  z M 35.203125 72.90625  L 47.609375 72.90625  L 47.609375 25.390625  L 58.015625 25.390625  L 58.015625 17.1875  L 47.609375 17.1875  L 47.609375 0  L 37.796875 0  L 37.796875 17.1875  L 4.890625 17.1875  L 4.890625 26.703125  z \" id=\"DejaVuSans-52\" />\n    </defs>\n    <g style=\"fill:#444443;\" transform=\"translate(6.677016 46.412674)scale(0.09 -0.09)\">\n     <use xlink:href=\"#DejaVuSans-110\" />\n     <use x=\"63.378906\" xlink:href=\"#DejaVuSans-61\" />\n     <use x=\"147.167969\" xlink:href=\"#DejaVuSans-50\" />\n     <use x=\"210.791016\" xlink:href=\"#DejaVuSans-52\" />\n    </g>\n    \n    <defs>\n     <path d=\"M 12.40625 8.296875  L 28.515625 8.296875  L 28.515625 63.921875  L 10.984375 60.40625  L 10.984375 69.390625  L 28.421875 72.90625  L 38.28125 72.90625  L 38.28125 8.296875  L 54.390625 8.296875  L 54.390625 0  L 12.40625 0  z \" id=\"DejaVuSans-49\" />\n    </defs>\n    <g style=\"fill:#444443;\" transform=\"translate(16.162875 56.490705)scale(0.09 -0.09)\">\n     <use xlink:href=\"#DejaVuSans-49\" />\n    </g>\n   </g>\n  </g>\n </g>\n</svg></g>\n\n<g class=\"edge\" id=\"edge50\">\n<title>node38-&gt;leaf40</title>\n<path d=\"M1174.0497,-109.433C1178.5937,-101.0266 1186.7728,-85.8954 1194.2332,-72.0935\" fill=\"none\" stroke=\"#444443\" stroke-width=\".3\" />\n<polygon fill=\"#444443\" points=\"1195.6443,-72.4272 1196.3148,-68.2426 1193.1811,-71.0957 1195.6443,-72.4272\" stroke=\"#444443\" stroke-width=\".3\" />\n</g>\n\n<g class=\"node\" id=\"node18\">\n<title>node34</title>\n<text fill=\"#444443\" font-family=\"Helvetica,sans-Serif\" font-size=\"12.00\" text-anchor=\"start\" x=\"1092\" y=\"-186.4\">&#65405;&#65412;&#65432;&#65392;&#65424;&#65437;&#65400;&#65438;&#65403;&#65392;&#65419;&#65438;&#65405;(&#26144;&#30011;)@0.50</text>\n</g>\n\n<g class=\"edge\" id=\"edge52\">\n<title>node34-&gt;node35</title>\n<path d=\"M1154.6495,-182.9774C1134.7054,-169.7711 1089.5268,-139.8556 1066.9158,-124.8835\" fill=\"none\" stroke=\"#444443\" stroke-width=\".3\" />\n<polygon fill=\"#444443\" points=\"1067.5961,-123.6548 1063.488,-122.6137 1066.0502,-125.9894 1067.5961,-123.6548\" stroke=\"#444443\" stroke-width=\".3\" />\n</g>\n\n<g class=\"edge\" id=\"edge53\">\n<title>node34-&gt;node38</title>\n<path d=\"M1165.0537,-182.717C1166.0948,-169.9633 1168.3522,-142.3104 1169.6093,-126.9107\" fill=\"none\" stroke=\"#444443\" stroke-width=\".3\" />\n<polygon fill=\"#444443\" points=\"1171.0347,-126.6556 1169.9649,-122.5549 1168.244,-126.4277 1171.0347,-126.6556\" stroke=\"#444443\" stroke-width=\".3\" />\n</g>\n\n<g class=\"node\" id=\"node21\">\n<title>node41</title>\n<text fill=\"#444443\" font-family=\"Helvetica,sans-Serif\" font-size=\"12.00\" text-anchor=\"start\" x=\"1251\" y=\"-186.4\">&#21033;&#29992;&#26376;&#25968;@69.50</text>\n</g>\n\n\n<g class=\"node\" id=\"node19\">\n<title>node42</title>\n<text fill=\"#444443\" font-family=\"Helvetica,sans-Serif\" font-size=\"12.00\" text-anchor=\"start\" x=\"1236.5\" y=\"-112.9\">&#36890;&#31639;&#25903;&#25173;&#38989;@5070.72</text>\n</g>\n\n<g class=\"node\" id=\"node20\">\n<title>node45</title>\n<text fill=\"#444443\" font-family=\"Helvetica,sans-Serif\" font-size=\"12.00\" text-anchor=\"start\" x=\"1366.5\" y=\"-112.9\">&#36890;&#31639;&#25903;&#25173;&#38989;@8678.62</text>\n</g>\n\n\n<g class=\"node\" id=\"node48\">\n<title>leaf43</title>\n<polygon fill=\"none\" points=\"1303,-83.5 1236,-83.5 1236,-.5 1303,-.5 1303,-83.5\" stroke=\"#444443\" stroke-width=\"0\" />\n<svg height=\"75px\" preserveAspectRatio=\"xMinYMin meet\" version=\"1.1\" viewBox=\"0 0 78.799569 100.732109\" width=\"59px\" x=\"1240.5\" y=\"-79\">\n <defs>\n  <style type=\"text/css\">\n*{stroke-linecap:butt;stroke-linejoin:round;}\n  </style>\n </defs>\n <g id=\"figure_1\">\n  <g id=\"patch_1\">\n   <path d=\"M -0 100.732109  L 78.799569 100.732109  L 78.799569 0  L -0 0  z \" style=\"fill:#ffffff;\" />\n  </g>\n  <g id=\"axes_1\">\n   <g id=\"patch_2\">\n    <path d=\"M 78.799569 39.542966  C 78.799569 34.810038 77.943713 30.115881 76.273388 25.687492  C 74.603063 21.259104 72.145635 17.169037 69.019939 13.615078  C 65.894243 10.061118 62.151489 7.101491 57.972667 4.879318  C 53.793845 2.657144 49.247419 1.208831 44.553243 0.604416  C 39.859067 0 35.094048 0.249384 30.48861 1.340508  C 25.883173 2.431632 21.51277 4.34662 17.588744 6.992868  C 13.664718 9.639115 10.251357 12.973267 7.513725 16.834093  C 4.776092 20.694918 2.759039 25.019164 1.560105 29.597719  C 0.361172 34.176273 0 38.934125 0.494056 43.641196  C 0.988112 48.348267 2.3293 52.927439 4.452766 57.157273  C 6.576231 61.387108 9.447183 65.198307 12.92679 68.406569  C 16.406396 71.61483 20.437649 74.167594 24.825607 75.941412  C 29.213565 77.715231 33.886338 78.681044 38.617961 78.792147  C 43.349585 78.90325 48.062539 78.157823 52.528917 76.591912  C 56.995295 75.026002 61.141922 72.665263 64.768276 69.623855  C 68.394631 66.582448 71.441301 62.910201 73.760958 58.784695  L 39.539569 39.542966  L 78.799569 39.542966  z \" style=\"fill:#fefebb;stroke:#444443;stroke-linejoin:miter;stroke-width:0.5;\" />\n   </g>\n   <g id=\"patch_3\">\n    <path d=\"M 73.760958 58.784695  C 75.405854 55.85925 76.668854 52.73492 77.519032 49.488213  C 78.369211 46.241507 78.799569 42.899142 78.799569 39.542967  L 39.539569 39.542966  L 73.760958 58.784695  z \" style=\"fill:#a1dab4;stroke:#444443;stroke-linejoin:miter;stroke-width:0.5;\" />\n   </g>\n   <g id=\"text_1\">\n    \n    <defs>\n     <path d=\"M 54.890625 33.015625  L 54.890625 0  L 45.90625 0  L 45.90625 32.71875  Q 45.90625 40.484375 42.875 44.328125  Q 39.84375 48.1875 33.796875 48.1875  Q 26.515625 48.1875 22.3125 43.546875  Q 18.109375 38.921875 18.109375 30.90625  L 18.109375 0  L 9.078125 0  L 9.078125 54.6875  L 18.109375 54.6875  L 18.109375 46.1875  Q 21.34375 51.125 25.703125 53.5625  Q 30.078125 56 35.796875 56  Q 45.21875 56 50.046875 50.171875  Q 54.890625 44.34375 54.890625 33.015625  z \" id=\"DejaVuSans-110\" />\n     <path d=\"M 10.59375 45.40625  L 73.1875 45.40625  L 73.1875 37.203125  L 10.59375 37.203125  z M 10.59375 25.484375  L 73.1875 25.484375  L 73.1875 17.1875  L 10.59375 17.1875  z \" id=\"DejaVuSans-61\" />\n     <path d=\"M 10.796875 72.90625  L 49.515625 72.90625  L 49.515625 64.59375  L 19.828125 64.59375  L 19.828125 46.734375  Q 21.96875 47.46875 24.109375 47.828125  Q 26.265625 48.1875 28.421875 48.1875  Q 40.625 48.1875 47.75 41.5  Q 54.890625 34.8125 54.890625 23.390625  Q 54.890625 11.625 47.5625 5.09375  Q 40.234375 -1.421875 26.90625 -1.421875  Q 22.3125 -1.421875 17.546875 -0.640625  Q 12.796875 0.140625 7.71875 1.703125  L 7.71875 11.625  Q 12.109375 9.234375 16.796875 8.0625  Q 21.484375 6.890625 26.703125 6.890625  Q 35.15625 6.890625 40.078125 11.328125  Q 45.015625 15.765625 45.015625 23.390625  Q 45.015625 31 40.078125 35.4375  Q 35.15625 39.890625 26.703125 39.890625  Q 22.75 39.890625 18.8125 39.015625  Q 14.890625 38.140625 10.796875 36.28125  z \" id=\"DejaVuSans-53\" />\n     <path d=\"M 19.1875 8.296875  L 53.609375 8.296875  L 53.609375 0  L 7.328125 0  L 7.328125 8.296875  Q 12.9375 14.109375 22.625 23.890625  Q 32.328125 33.6875 34.8125 36.53125  Q 39.546875 41.84375 41.421875 45.53125  Q 43.3125 49.21875 43.3125 52.78125  Q 43.3125 58.59375 39.234375 62.25  Q 35.15625 65.921875 28.609375 65.921875  Q 23.96875 65.921875 18.8125 64.3125  Q 13.671875 62.703125 7.8125 59.421875  L 7.8125 69.390625  Q 13.765625 71.78125 18.9375 73  Q 24.125 74.21875 28.421875 74.21875  Q 39.75 74.21875 46.484375 68.546875  Q 53.21875 62.890625 53.21875 53.421875  Q 53.21875 48.921875 51.53125 44.890625  Q 49.859375 40.875 45.40625 35.40625  Q 44.1875 33.984375 37.640625 27.21875  Q 31.109375 20.453125 19.1875 8.296875  z \" id=\"DejaVuSans-50\" />\n    </defs>\n    <g style=\"fill:#444443;\" transform=\"translate(24.32746 88.782359)scale(0.09 -0.09)\">\n     <use xlink:href=\"#DejaVuSans-110\" />\n     <use x=\"63.378906\" xlink:href=\"#DejaVuSans-61\" />\n     <use x=\"147.167969\" xlink:href=\"#DejaVuSans-53\" />\n     <use x=\"210.791016\" xlink:href=\"#DejaVuSans-53\" />\n     <use x=\"274.414062\" xlink:href=\"#DejaVuSans-50\" />\n    </g>\n    \n    <defs>\n     <path d=\"M 31.78125 66.40625  Q 24.171875 66.40625 20.328125 58.90625  Q 16.5 51.421875 16.5 36.375  Q 16.5 21.390625 20.328125 13.890625  Q 24.171875 6.390625 31.78125 6.390625  Q 39.453125 6.390625 43.28125 13.890625  Q 47.125 21.390625 47.125 36.375  Q 47.125 51.421875 43.28125 58.90625  Q 39.453125 66.40625 31.78125 66.40625  z M 31.78125 74.21875  Q 44.046875 74.21875 50.515625 64.515625  Q 56.984375 54.828125 56.984375 36.375  Q 56.984375 17.96875 50.515625 8.265625  Q 44.046875 -1.421875 31.78125 -1.421875  Q 19.53125 -1.421875 13.0625 8.265625  Q 6.59375 17.96875 6.59375 36.375  Q 6.59375 54.828125 13.0625 64.515625  Q 19.53125 74.21875 31.78125 74.21875  z \" id=\"DejaVuSans-48\" />\n    </defs>\n    <g style=\"fill:#444443;\" transform=\"translate(36.676444 98.860391)scale(0.09 -0.09)\">\n     <use xlink:href=\"#DejaVuSans-48\" />\n    </g>\n   </g>\n  </g>\n </g>\n</svg></g>\n\n<g class=\"edge\" id=\"edge55\">\n<title>node42-&gt;leaf43</title>\n<path d=\"M1292.2814,-109.433C1290.515,-104.2045 1287.8698,-96.3747 1285.0004,-87.8813\" fill=\"none\" stroke=\"#444443\" stroke-width=\".3\" />\n<polygon fill=\"#444443\" points=\"1286.1834,-87.0085 1283.5767,-83.667 1283.5307,-87.9047 1286.1834,-87.0085\" stroke=\"#444443\" stroke-width=\".3\" />\n</g>\n\n<g class=\"node\" id=\"node49\">\n<title>leaf44</title>\n<polygon fill=\"none\" points=\"1384,-83.5 1317,-83.5 1317,-.5 1384,-.5 1384,-83.5\" stroke=\"#444443\" stroke-width=\"0\" />\n<svg height=\"75px\" preserveAspectRatio=\"xMinYMin meet\" version=\"1.1\" viewBox=\"0 0 78.664332 100.530586\" width=\"59px\" x=\"1321.5\" y=\"-79\">\n <defs>\n  <style type=\"text/css\">\n*{stroke-linecap:butt;stroke-linejoin:round;}\n  </style>\n </defs>\n <g id=\"figure_1\">\n  <g id=\"patch_1\">\n   <path d=\"M 0 100.530586  L 78.664332 100.530586  L 78.664332 0  L 0 0  z \" style=\"fill:#ffffff;\" />\n  </g>\n  <g id=\"axes_1\">\n   <g id=\"patch_2\">\n    <path d=\"M 78.664332 39.341442  C 78.664332 35.164517 77.997749 31.014229 76.689767 27.047381  C 75.381785 23.080533 73.449087 19.347719 70.964692 15.989969  C 68.480297 12.63222 65.475892 9.69236 62.064987 7.281462  C 58.654082 4.870564 54.880181 3.019377 50.885866 1.797841  C 46.891551 0.576305 42.727767 0 38.551827 0.090699  C 34.375887 0.181398 30.241052 0.937945 26.303541 2.331756  C 22.36603 3.725567 18.676064 5.738865 15.373053 8.295586  C 12.070042 10.852306 9.196114 13.91984 6.85985 17.382292  C 4.523586 20.844744 2.754784 24.657952 1.62027 28.67785  C 0.485755 32.697748 0 36.873064 0.181356 41.04605  C 0.362711 45.219036 1.208865 49.336468 2.687847 53.242785  C 4.16683 57.149102 6.259779 60.794481 8.887619 64.041196  C 11.51546 67.287911 14.644676 70.094551 18.157042 72.355079  C 21.669407 74.615608 25.520125 76.301192 29.563711 77.348149  C 33.607296 78.395106 37.792176 78.790083 41.96024 78.518157  C 46.128304 78.24623 50.226391 77.310869 54.099672 75.747412  L 39.404332 39.341442  L 78.664332 39.341442  z \" style=\"fill:#fefebb;stroke:#444443;stroke-linejoin:miter;stroke-width:0.5;\" />\n   </g>\n   <g id=\"patch_3\">\n    <path d=\"M 54.099672 75.747412  C 61.355317 72.818657 67.572394 67.786651 71.948813 61.300594  C 76.325233 54.814537 78.664332 47.165894 78.664332 39.341446  L 39.404332 39.341442  L 54.099672 75.747412  z \" style=\"fill:#a1dab4;stroke:#444443;stroke-linejoin:miter;stroke-width:0.5;\" />\n   </g>\n   <g id=\"text_1\">\n    \n    <defs>\n     <path d=\"M 54.890625 33.015625  L 54.890625 0  L 45.90625 0  L 45.90625 32.71875  Q 45.90625 40.484375 42.875 44.328125  Q 39.84375 48.1875 33.796875 48.1875  Q 26.515625 48.1875 22.3125 43.546875  Q 18.109375 38.921875 18.109375 30.90625  L 18.109375 0  L 9.078125 0  L 9.078125 54.6875  L 18.109375 54.6875  L 18.109375 46.1875  Q 21.34375 51.125 25.703125 53.5625  Q 30.078125 56 35.796875 56  Q 45.21875 56 50.046875 50.171875  Q 54.890625 44.34375 54.890625 33.015625  z \" id=\"DejaVuSans-110\" />\n     <path d=\"M 10.59375 45.40625  L 73.1875 45.40625  L 73.1875 37.203125  L 10.59375 37.203125  z M 10.59375 25.484375  L 73.1875 25.484375  L 73.1875 17.1875  L 10.59375 17.1875  z \" id=\"DejaVuSans-61\" />\n     <path d=\"M 37.796875 64.3125  L 12.890625 25.390625  L 37.796875 25.390625  z M 35.203125 72.90625  L 47.609375 72.90625  L 47.609375 25.390625  L 58.015625 25.390625  L 58.015625 17.1875  L 47.609375 17.1875  L 47.609375 0  L 37.796875 0  L 37.796875 17.1875  L 4.890625 17.1875  L 4.890625 26.703125  z \" id=\"DejaVuSans-52\" />\n     <path d=\"M 40.578125 39.3125  Q 47.65625 37.796875 51.625 33  Q 55.609375 28.21875 55.609375 21.1875  Q 55.609375 10.40625 48.1875 4.484375  Q 40.765625 -1.421875 27.09375 -1.421875  Q 22.515625 -1.421875 17.65625 -0.515625  Q 12.796875 0.390625 7.625 2.203125  L 7.625 11.71875  Q 11.71875 9.328125 16.59375 8.109375  Q 21.484375 6.890625 26.8125 6.890625  Q 36.078125 6.890625 40.9375 10.546875  Q 45.796875 14.203125 45.796875 21.1875  Q 45.796875 27.640625 41.28125 31.265625  Q 36.765625 34.90625 28.71875 34.90625  L 20.21875 34.90625  L 20.21875 43.015625  L 29.109375 43.015625  Q 36.375 43.015625 40.234375 45.921875  Q 44.09375 48.828125 44.09375 54.296875  Q 44.09375 59.90625 40.109375 62.90625  Q 36.140625 65.921875 28.71875 65.921875  Q 24.65625 65.921875 20.015625 65.03125  Q 15.375 64.15625 9.8125 62.3125  L 9.8125 71.09375  Q 15.4375 72.65625 20.34375 73.4375  Q 25.25 74.21875 29.59375 74.21875  Q 40.828125 74.21875 47.359375 69.109375  Q 53.90625 64.015625 53.90625 55.328125  Q 53.90625 49.265625 50.4375 45.09375  Q 46.96875 40.921875 40.578125 39.3125  z \" id=\"DejaVuSans-51\" />\n    </defs>\n    <g style=\"fill:#444443;\" transform=\"translate(24.192223 88.580836)scale(0.09 -0.09)\">\n     <use xlink:href=\"#DejaVuSans-110\" />\n     <use x=\"63.378906\" xlink:href=\"#DejaVuSans-61\" />\n     <use x=\"147.167969\" xlink:href=\"#DejaVuSans-52\" />\n     <use x=\"210.791016\" xlink:href=\"#DejaVuSans-51\" />\n     <use x=\"274.414062\" xlink:href=\"#DejaVuSans-52\" />\n    </g>\n    \n    <defs>\n     <path d=\"M 31.78125 66.40625  Q 24.171875 66.40625 20.328125 58.90625  Q 16.5 51.421875 16.5 36.375  Q 16.5 21.390625 20.328125 13.890625  Q 24.171875 6.390625 31.78125 6.390625  Q 39.453125 6.390625 43.28125 13.890625  Q 47.125 21.390625 47.125 36.375  Q 47.125 51.421875 43.28125 58.90625  Q 39.453125 66.40625 31.78125 66.40625  z M 31.78125 74.21875  Q 44.046875 74.21875 50.515625 64.515625  Q 56.984375 54.828125 56.984375 36.375  Q 56.984375 17.96875 50.515625 8.265625  Q 44.046875 -1.421875 31.78125 -1.421875  Q 19.53125 -1.421875 13.0625 8.265625  Q 6.59375 17.96875 6.59375 36.375  Q 6.59375 54.828125 13.0625 64.515625  Q 19.53125 74.21875 31.78125 74.21875  z \" id=\"DejaVuSans-48\" />\n    </defs>\n    <g style=\"fill:#444443;\" transform=\"translate(36.541207 98.658867)scale(0.09 -0.09)\">\n     <use xlink:href=\"#DejaVuSans-48\" />\n    </g>\n   </g>\n  </g>\n </g>\n</svg></g>\n\n<g class=\"edge\" id=\"edge56\">\n<title>node42-&gt;leaf44</title>\n<path d=\"M1299.4696,-109.433C1303.5702,-104.0144 1309.7851,-95.8018 1316.4821,-86.9522\" fill=\"none\" stroke=\"#444443\" stroke-width=\".3\" />\n<polygon fill=\"#444443\" points=\"1317.6708,-87.7015 1318.9682,-83.667 1315.438,-86.0118 1317.6708,-87.7015\" stroke=\"#444443\" stroke-width=\".3\" />\n</g>\n\n<g class=\"node\" id=\"node50\">\n<title>leaf46</title>\n<polygon fill=\"none\" points=\"1458,-83.5 1391,-83.5 1391,-.5 1458,-.5 1458,-83.5\" stroke=\"#444443\" stroke-width=\"0\" />\n<svg height=\"75px\" preserveAspectRatio=\"xMinYMin meet\" version=\"1.1\" viewBox=\"0 0 78.830285 100.668673\" width=\"59px\" x=\"1395.5\" y=\"-79\">\n <defs>\n  <style type=\"text/css\">\n*{stroke-linecap:butt;stroke-linejoin:round;}\n  </style>\n </defs>\n <g id=\"figure_1\">\n  <g id=\"patch_1\">\n   <path d=\"M 0 100.668673  L 78.830285 100.668673  L 78.830285 0  L 0 0  z \" style=\"fill:#ffffff;\" />\n  </g>\n  <g id=\"axes_1\">\n   <g id=\"patch_2\">\n    <path d=\"M 78.830285 39.47953  C 78.830285 34.512558 77.887692 29.590407 76.052635 24.974849  C 74.217578 20.359291 71.523175 16.133625 68.112722 12.522584  C 64.702268 8.911543 60.637315 5.980296 56.134046 3.884735  C 51.630777 1.789173 46.770465 0.567117 41.811593 0.283559  C 36.852722 0 31.884787 0.660056 27.171995 2.228624  C 22.459203 3.797191 18.086609 6.245961 14.286758 9.444702  C 10.486908 12.643443 7.328378 16.534425 4.979148 20.910717  C 2.629918 25.287008 1.132385 30.069628 0.566193 35.004224  C 0 39.93882 0.375366 44.936335 1.672327 49.730988  C 2.969289 54.525641 5.164439 59.030902 8.141034 63.007168  C 11.117629 66.983434 14.821948 70.358944 19.056988 72.95418  C 23.292027 75.549416 27.981355 77.317541 32.875579 78.16452  C 37.769804 79.0115 42.780598 78.922049 47.641473 77.900924  C 52.502349 76.879799 57.125581 74.945429 61.265292 72.200689  C 65.405004 69.455949 68.986484 65.950375 71.819261 61.870401  C 74.652039 57.790428 76.684988 53.209688 77.809992 48.371799  L 39.570285 39.47953  L 78.830285 39.47953  z \" style=\"fill:#fefebb;stroke:#444443;stroke-linejoin:miter;stroke-width:0.5;\" />\n   </g>\n   <g id=\"patch_3\">\n    <path d=\"M 77.809992 48.371799  C 78.1487 46.915238 78.403912 45.440515 78.574377 43.954839  C 78.744843 42.469163 78.830285 40.97496 78.830285 39.479536  L 39.570285 39.47953  L 77.809992 48.371799  z \" style=\"fill:#a1dab4;stroke:#444443;stroke-linejoin:miter;stroke-width:0.5;\" />\n   </g>\n   <g id=\"text_1\">\n    \n    <defs>\n     <path d=\"M 54.890625 33.015625  L 54.890625 0  L 45.90625 0  L 45.90625 32.71875  Q 45.90625 40.484375 42.875 44.328125  Q 39.84375 48.1875 33.796875 48.1875  Q 26.515625 48.1875 22.3125 43.546875  Q 18.109375 38.921875 18.109375 30.90625  L 18.109375 0  L 9.078125 0  L 9.078125 54.6875  L 18.109375 54.6875  L 18.109375 46.1875  Q 21.34375 51.125 25.703125 53.5625  Q 30.078125 56 35.796875 56  Q 45.21875 56 50.046875 50.171875  Q 54.890625 44.34375 54.890625 33.015625  z \" id=\"DejaVuSans-110\" />\n     <path d=\"M 10.59375 45.40625  L 73.1875 45.40625  L 73.1875 37.203125  L 10.59375 37.203125  z M 10.59375 25.484375  L 73.1875 25.484375  L 73.1875 17.1875  L 10.59375 17.1875  z \" id=\"DejaVuSans-61\" />\n     <path d=\"M 40.578125 39.3125  Q 47.65625 37.796875 51.625 33  Q 55.609375 28.21875 55.609375 21.1875  Q 55.609375 10.40625 48.1875 4.484375  Q 40.765625 -1.421875 27.09375 -1.421875  Q 22.515625 -1.421875 17.65625 -0.515625  Q 12.796875 0.390625 7.625 2.203125  L 7.625 11.71875  Q 11.71875 9.328125 16.59375 8.109375  Q 21.484375 6.890625 26.8125 6.890625  Q 36.078125 6.890625 40.9375 10.546875  Q 45.796875 14.203125 45.796875 21.1875  Q 45.796875 27.640625 41.28125 31.265625  Q 36.765625 34.90625 28.71875 34.90625  L 20.21875 34.90625  L 20.21875 43.015625  L 29.109375 43.015625  Q 36.375 43.015625 40.234375 45.921875  Q 44.09375 48.828125 44.09375 54.296875  Q 44.09375 59.90625 40.109375 62.90625  Q 36.140625 65.921875 28.71875 65.921875  Q 24.65625 65.921875 20.015625 65.03125  Q 15.375 64.15625 9.8125 62.3125  L 9.8125 71.09375  Q 15.4375 72.65625 20.34375 73.4375  Q 25.25 74.21875 29.59375 74.21875  Q 40.828125 74.21875 47.359375 69.109375  Q 53.90625 64.015625 53.90625 55.328125  Q 53.90625 49.265625 50.4375 45.09375  Q 46.96875 40.921875 40.578125 39.3125  z \" id=\"DejaVuSans-51\" />\n     <path d=\"M 31.78125 66.40625  Q 24.171875 66.40625 20.328125 58.90625  Q 16.5 51.421875 16.5 36.375  Q 16.5 21.390625 20.328125 13.890625  Q 24.171875 6.390625 31.78125 6.390625  Q 39.453125 6.390625 43.28125 13.890625  Q 47.125 21.390625 47.125 36.375  Q 47.125 51.421875 43.28125 58.90625  Q 39.453125 66.40625 31.78125 66.40625  z M 31.78125 74.21875  Q 44.046875 74.21875 50.515625 64.515625  Q 56.984375 54.828125 56.984375 36.375  Q 56.984375 17.96875 50.515625 8.265625  Q 44.046875 -1.421875 31.78125 -1.421875  Q 19.53125 -1.421875 13.0625 8.265625  Q 6.59375 17.96875 6.59375 36.375  Q 6.59375 54.828125 13.0625 64.515625  Q 19.53125 74.21875 31.78125 74.21875  z \" id=\"DejaVuSans-48\" />\n    </defs>\n    <g style=\"fill:#444443;\" transform=\"translate(24.358176 88.718923)scale(0.09 -0.09)\">\n     <use xlink:href=\"#DejaVuSans-110\" />\n     <use x=\"63.378906\" xlink:href=\"#DejaVuSans-61\" />\n     <use x=\"147.167969\" xlink:href=\"#DejaVuSans-51\" />\n     <use x=\"210.791016\" xlink:href=\"#DejaVuSans-51\" />\n     <use x=\"274.414062\" xlink:href=\"#DejaVuSans-48\" />\n    </g>\n    \n    <g style=\"fill:#444443;\" transform=\"translate(36.70716 98.796955)scale(0.09 -0.09)\">\n     <use xlink:href=\"#DejaVuSans-48\" />\n    </g>\n   </g>\n  </g>\n </g>\n</svg></g>\n\n<g class=\"edge\" id=\"edge58\">\n<title>node45-&gt;leaf46</title>\n<path d=\"M1424.5,-109.433C1424.5,-104.2045 1424.5,-96.3747 1424.5,-87.8813\" fill=\"none\" stroke=\"#444443\" stroke-width=\".3\" />\n<polygon fill=\"#444443\" points=\"1425.9001,-87.667 1424.5,-83.667 1423.1001,-87.667 1425.9001,-87.667\" stroke=\"#444443\" stroke-width=\".3\" />\n</g>\n\n<g class=\"node\" id=\"node51\">\n<title>leaf47</title>\n<polygon fill=\"none\" points=\"1493.5,-57 1471.5,-57 1471.5,-27 1493.5,-27 1493.5,-57\" stroke=\"#444443\" stroke-width=\"0\" />\n<svg height=\"22px\" preserveAspectRatio=\"xMinYMin meet\" version=\"1.1\" viewBox=\"0 0 18.971719 29.467064\" width=\"14px\" x=\"1475.5\" y=\"-53\">\n <defs>\n  <style type=\"text/css\">\n*{stroke-linecap:butt;stroke-linejoin:round;}\n  </style>\n </defs>\n <g id=\"figure_1\">\n  <g id=\"patch_1\">\n   <path d=\"M 0 29.467064  L 18.971719 29.467064  L 18.971719 0  L 0 0  z \" style=\"fill:#ffffff;\" />\n  </g>\n  <g id=\"axes_1\">\n   <g id=\"patch_2\">\n    <path d=\"M 14.619859 5.134  C 14.619859 4.459809 14.487059 3.792174 14.229057 3.169303  C 13.971055 2.546432 13.59287 1.980439 13.116146 1.503714  C 12.639421 1.026989 12.073427 0.648804 11.450556 0.390802  C 10.827685 0.132801 10.16005 -0 9.485859 -0  C 8.811669 -0 8.144034 0.132801 7.521163 0.390802  C 6.898292 0.648804 6.332298 1.026989 5.855573 1.503714  C 5.378848 1.980439 5.000663 2.546432 4.742662 3.169303  C 4.48466 3.792174 4.351859 4.459809 4.351859 5.134  C 4.351859 5.808191 4.48466 6.475826 4.742662 7.098697  C 5.000663 7.721568 5.378848 8.287561 5.855573 8.764286  C 6.332298 9.241011 6.898292 9.619196 7.521163 9.877198  C 8.144034 10.135199 8.811669 10.268 9.485859 10.268  C 10.16005 10.268 10.827685 10.135199 11.450556 9.877198  C 12.073427 9.619196 12.639421 9.241011 13.116146 8.764286  C 13.59287 8.287561 13.971055 7.721568 14.229057 7.098697  C 14.487059 6.475826 14.619859 5.808191 14.619859 5.134  M 9.485859 5.134  M 14.619859 5.134  z \" style=\"fill:#a1dab4;stroke:#444443;stroke-linejoin:miter;stroke-width:0.5;\" />\n   </g>\n   <g id=\"text_1\">\n    \n    <defs>\n     <path d=\"M 54.890625 33.015625  L 54.890625 0  L 45.90625 0  L 45.90625 32.71875  Q 45.90625 40.484375 42.875 44.328125  Q 39.84375 48.1875 33.796875 48.1875  Q 26.515625 48.1875 22.3125 43.546875  Q 18.109375 38.921875 18.109375 30.90625  L 18.109375 0  L 9.078125 0  L 9.078125 54.6875  L 18.109375 54.6875  L 18.109375 46.1875  Q 21.34375 51.125 25.703125 53.5625  Q 30.078125 56 35.796875 56  Q 45.21875 56 50.046875 50.171875  Q 54.890625 44.34375 54.890625 33.015625  z \" id=\"DejaVuSans-110\" />\n     <path d=\"M 10.59375 45.40625  L 73.1875 45.40625  L 73.1875 37.203125  L 10.59375 37.203125  z M 10.59375 25.484375  L 73.1875 25.484375  L 73.1875 17.1875  L 10.59375 17.1875  z \" id=\"DejaVuSans-61\" />\n     <path d=\"M 12.40625 8.296875  L 28.515625 8.296875  L 28.515625 63.921875  L 10.984375 60.40625  L 10.984375 69.390625  L 28.421875 72.90625  L 38.28125 72.90625  L 38.28125 8.296875  L 54.390625 8.296875  L 54.390625 0  L 12.40625 0  z \" id=\"DejaVuSans-49\" />\n    </defs>\n    <g style=\"fill:#444443;\" transform=\"translate(0 17.517314)scale(0.09 -0.09)\">\n     <use xlink:href=\"#DejaVuSans-110\" />\n     <use x=\"63.378906\" xlink:href=\"#DejaVuSans-61\" />\n     <use x=\"147.167969\" xlink:href=\"#DejaVuSans-49\" />\n    </g>\n    \n    <g style=\"fill:#444443;\" transform=\"translate(6.622734 27.595345)scale(0.09 -0.09)\">\n     <use xlink:href=\"#DejaVuSans-49\" />\n    </g>\n   </g>\n  </g>\n </g>\n</svg></g>\n\n<g class=\"edge\" id=\"edge59\">\n<title>node45-&gt;leaf47</title>\n<path d=\"M1429.6471,-109.433C1438.3075,-98.3836 1456.0738,-75.7162 1468.6112,-59.7202\" fill=\"none\" stroke=\"#444443\" stroke-width=\".3\" />\n<polygon fill=\"#444443\" points=\"1469.9942,-60.2251 1471.3599,-56.2132 1467.7905,-58.4978 1469.9942,-60.2251\" stroke=\"#444443\" stroke-width=\".3\" />\n</g>\n\n<g class=\"edge\" id=\"edge61\">\n<title>node41-&gt;node42</title>\n<path d=\"M1296.3154,-182.717C1295.9684,-169.9633 1295.2159,-142.3104 1294.7969,-126.9107\" fill=\"none\" stroke=\"#444443\" stroke-width=\".3\" />\n<polygon fill=\"#444443\" points=\"1296.1867,-126.5154 1294.6784,-122.5549 1293.3878,-126.5916 1296.1867,-126.5154\" stroke=\"#444443\" stroke-width=\".3\" />\n</g>\n\n<g class=\"edge\" id=\"edge62\">\n<title>node41-&gt;node45</title>\n<path d=\"M1307.8591,-182.9774C1330.9524,-169.7168 1383.3849,-139.6091 1409.3501,-124.6994\" fill=\"none\" stroke=\"#444443\" stroke-width=\".3\" />\n<polygon fill=\"#444443\" points=\"1410.2107,-125.8197 1412.9823,-122.6137 1408.8163,-123.3915 1410.2107,-125.8197\" stroke=\"#444443\" stroke-width=\".3\" />\n</g>\n\n<g class=\"node\" id=\"node22\">\n<title>node33</title>\n<text fill=\"#444443\" font-family=\"Helvetica,sans-Serif\" font-size=\"12.00\" text-anchor=\"start\" x=\"1165\" y=\"-251.4\">&#21033;&#29992;&#26376;&#25968;@43.50</text>\n</g>\n\n<g class=\"edge\" id=\"edge64\">\n<title>node33-&gt;node34</title>\n<path d=\"M1205.5772,-247.5439C1197.442,-236.0485 1181.1557,-213.0352 1171.7175,-199.6987\" fill=\"none\" stroke=\"#444443\" stroke-width=\".3\" />\n<polygon fill=\"#444443\" points=\"1172.7031,-198.6677 1169.2496,-196.2113 1170.4175,-200.2852 1172.7031,-198.6677\" stroke=\"#444443\" stroke-width=\".3\" />\n</g>\n\n<g class=\"edge\" id=\"edge65\">\n<title>node33-&gt;node41</title>\n<path d=\"M1219.3796,-247.7887C1234.8293,-236.1116 1266.68,-212.0384 1284.2297,-198.7741\" fill=\"none\" stroke=\"#444443\" stroke-width=\".3\" />\n<polygon fill=\"#444443\" points=\"1285.1929,-199.801 1287.5399,-196.2722 1283.5046,-197.5672 1285.1929,-199.801\" stroke=\"#444443\" stroke-width=\".3\" />\n</g>\n\n<g class=\"node\" id=\"node25\">\n<title>node48</title>\n<text fill=\"#444443\" font-family=\"Helvetica,sans-Serif\" font-size=\"12.00\" text-anchor=\"start\" x=\"1333.5\" y=\"-251.4\">&#36890;&#31639;&#25903;&#25173;&#38989;@1184.25</text>\n</g>\n\n\n<g class=\"node\" id=\"node23\">\n<title>node50</title>\n<text fill=\"#444443\" font-family=\"Helvetica,sans-Serif\" font-size=\"12.00\" text-anchor=\"start\" x=\"1490\" y=\"-112.9\">&#21033;&#29992;&#26376;&#25968;@52.50</text>\n</g>\n\n<g class=\"node\" id=\"node52\">\n<title>leaf51</title>\n<polygon fill=\"none\" points=\"1568,-83.5 1501,-83.5 1501,-.5 1568,-.5 1568,-83.5\" stroke=\"#444443\" stroke-width=\"0\" />\n<svg height=\"75px\" preserveAspectRatio=\"xMinYMin meet\" version=\"1.1\" viewBox=\"0 0 78.64526 100.515463\" width=\"59px\" x=\"1505.5\" y=\"-79\">\n <defs>\n  <style type=\"text/css\">\n*{stroke-linecap:butt;stroke-linejoin:round;}\n  </style>\n </defs>\n <g id=\"figure_1\">\n  <g id=\"patch_1\">\n   <path d=\"M 0 100.515463  L 78.64526 100.515463  L 78.64526 0  L 0 0  z \" style=\"fill:#ffffff;\" />\n  </g>\n  <g id=\"axes_1\">\n   <g id=\"patch_2\">\n    <path d=\"M 78.64526 39.32632  C 78.64526 34.215987 77.647469 29.154476 75.70801 24.426475  C 73.768552 19.698474 70.924481 15.39432 67.335765 11.756104  C 63.74705 8.117887 59.482259 5.215123 54.781269 3.211081  C 50.080279 1.207038 45.032911 0.140007 39.923058 0.070003  C 34.813205 0 29.738501 0.928362 24.984376 2.802873  C 20.230251 4.677384 15.887542 7.462228 12.200507 11.000769  C 8.513472 14.53931 5.55256 18.763937 3.484309 23.437034  C 1.416059 28.110131 0.279987 33.142409 0.139993 38.250823  C 0 43.359238 0.85876 48.446183 2.667971 53.22554  C 4.477182 58.004897 7.202277 62.385346 10.689979 66.120507  C 14.177682 69.855668 18.361353 72.874173 23.00568 75.006244  C 27.650007 77.138314 32.66625 78.343214 37.772268 78.553171  C 42.878285 78.763128 47.976517 77.974132 52.780208 76.23056  C 57.5839 74.486988 62.001268 71.822154 65.783854 68.385945  C 69.56644 64.949735 72.641972 60.807805 74.837462 56.193119  C 77.032952 51.578434 78.306453 46.579167 78.586335 41.476505  L 39.38526 39.32632  L 78.64526 39.32632  z \" style=\"fill:#fefebb;stroke:#444443;stroke-linejoin:miter;stroke-width:0.5;\" />\n   </g>\n   <g id=\"patch_3\">\n    <path d=\"M 78.586335 41.476505  C 78.605972 41.118494 78.620703 40.760231 78.630526 40.401816  C 78.640348 40.043402 78.645259 39.68487 78.64526 39.326321  L 39.38526 39.32632  L 78.586335 41.476505  z \" style=\"fill:#a1dab4;stroke:#444443;stroke-linejoin:miter;stroke-width:0.5;\" />\n   </g>\n   <g id=\"text_1\">\n    \n    <defs>\n     <path d=\"M 54.890625 33.015625  L 54.890625 0  L 45.90625 0  L 45.90625 32.71875  Q 45.90625 40.484375 42.875 44.328125  Q 39.84375 48.1875 33.796875 48.1875  Q 26.515625 48.1875 22.3125 43.546875  Q 18.109375 38.921875 18.109375 30.90625  L 18.109375 0  L 9.078125 0  L 9.078125 54.6875  L 18.109375 54.6875  L 18.109375 46.1875  Q 21.34375 51.125 25.703125 53.5625  Q 30.078125 56 35.796875 56  Q 45.21875 56 50.046875 50.171875  Q 54.890625 44.34375 54.890625 33.015625  z \" id=\"DejaVuSans-110\" />\n     <path d=\"M 10.59375 45.40625  L 73.1875 45.40625  L 73.1875 37.203125  L 10.59375 37.203125  z M 10.59375 25.484375  L 73.1875 25.484375  L 73.1875 17.1875  L 10.59375 17.1875  z \" id=\"DejaVuSans-61\" />\n     <path d=\"M 40.578125 39.3125  Q 47.65625 37.796875 51.625 33  Q 55.609375 28.21875 55.609375 21.1875  Q 55.609375 10.40625 48.1875 4.484375  Q 40.765625 -1.421875 27.09375 -1.421875  Q 22.515625 -1.421875 17.65625 -0.515625  Q 12.796875 0.390625 7.625 2.203125  L 7.625 11.71875  Q 11.71875 9.328125 16.59375 8.109375  Q 21.484375 6.890625 26.8125 6.890625  Q 36.078125 6.890625 40.9375 10.546875  Q 45.796875 14.203125 45.796875 21.1875  Q 45.796875 27.640625 41.28125 31.265625  Q 36.765625 34.90625 28.71875 34.90625  L 20.21875 34.90625  L 20.21875 43.015625  L 29.109375 43.015625  Q 36.375 43.015625 40.234375 45.921875  Q 44.09375 48.828125 44.09375 54.296875  Q 44.09375 59.90625 40.109375 62.90625  Q 36.140625 65.921875 28.71875 65.921875  Q 24.65625 65.921875 20.015625 65.03125  Q 15.375 64.15625 9.8125 62.3125  L 9.8125 71.09375  Q 15.4375 72.65625 20.34375 73.4375  Q 25.25 74.21875 29.59375 74.21875  Q 40.828125 74.21875 47.359375 69.109375  Q 53.90625 64.015625 53.90625 55.328125  Q 53.90625 49.265625 50.4375 45.09375  Q 46.96875 40.921875 40.578125 39.3125  z \" id=\"DejaVuSans-51\" />\n     <path d=\"M 37.796875 64.3125  L 12.890625 25.390625  L 37.796875 25.390625  z M 35.203125 72.90625  L 47.609375 72.90625  L 47.609375 25.390625  L 58.015625 25.390625  L 58.015625 17.1875  L 47.609375 17.1875  L 47.609375 0  L 37.796875 0  L 37.796875 17.1875  L 4.890625 17.1875  L 4.890625 26.703125  z \" id=\"DejaVuSans-52\" />\n    </defs>\n    <g style=\"fill:#444443;\" transform=\"translate(24.17315 88.565713)scale(0.09 -0.09)\">\n     <use xlink:href=\"#DejaVuSans-110\" />\n     <use x=\"63.378906\" xlink:href=\"#DejaVuSans-61\" />\n     <use x=\"147.167969\" xlink:href=\"#DejaVuSans-51\" />\n     <use x=\"210.791016\" xlink:href=\"#DejaVuSans-52\" />\n     <use x=\"274.414062\" xlink:href=\"#DejaVuSans-52\" />\n    </g>\n    \n    <defs>\n     <path d=\"M 31.78125 66.40625  Q 24.171875 66.40625 20.328125 58.90625  Q 16.5 51.421875 16.5 36.375  Q 16.5 21.390625 20.328125 13.890625  Q 24.171875 6.390625 31.78125 6.390625  Q 39.453125 6.390625 43.28125 13.890625  Q 47.125 21.390625 47.125 36.375  Q 47.125 51.421875 43.28125 58.90625  Q 39.453125 66.40625 31.78125 66.40625  z M 31.78125 74.21875  Q 44.046875 74.21875 50.515625 64.515625  Q 56.984375 54.828125 56.984375 36.375  Q 56.984375 17.96875 50.515625 8.265625  Q 44.046875 -1.421875 31.78125 -1.421875  Q 19.53125 -1.421875 13.0625 8.265625  Q 6.59375 17.96875 6.59375 36.375  Q 6.59375 54.828125 13.0625 64.515625  Q 19.53125 74.21875 31.78125 74.21875  z \" id=\"DejaVuSans-48\" />\n    </defs>\n    <g style=\"fill:#444443;\" transform=\"translate(36.522135 98.643745)scale(0.09 -0.09)\">\n     <use xlink:href=\"#DejaVuSans-48\" />\n    </g>\n   </g>\n  </g>\n </g>\n</svg></g>\n\n<g class=\"edge\" id=\"edge67\">\n<title>node50-&gt;leaf51</title>\n<path d=\"M1535.4113,-109.433C1535.3406,-104.2045 1535.2348,-96.3747 1535.12,-87.8813\" fill=\"none\" stroke=\"#444443\" stroke-width=\".3\" />\n<polygon fill=\"#444443\" points=\"1536.5171,-87.6477 1535.0631,-83.667 1533.7173,-87.6856 1536.5171,-87.6477\" stroke=\"#444443\" stroke-width=\".3\" />\n</g>\n\n<g class=\"node\" id=\"node53\">\n<title>leaf52</title>\n<polygon fill=\"none\" points=\"1637.5,-77.5 1581.5,-77.5 1581.5,-6.5 1637.5,-6.5 1637.5,-77.5\" stroke=\"#444443\" stroke-width=\"0\" />\n<svg height=\"63px\" preserveAspectRatio=\"xMinYMin meet\" version=\"1.1\" viewBox=\"0 0 63.637332 84.977517\" width=\"48px\" x=\"1585.5\" y=\"-73\">\n <defs>\n  <style type=\"text/css\">\n*{stroke-linecap:butt;stroke-linejoin:round;}\n  </style>\n </defs>\n <g id=\"figure_1\">\n  <g id=\"patch_1\">\n   <path d=\"M 0 84.977517  L 63.637332 84.977517  L 63.637332 0  L 0 0  z \" style=\"fill:#ffffff;\" />\n  </g>\n  <g id=\"axes_1\">\n   <g id=\"patch_2\">\n    <path d=\"M 63.637332 31.942374  C 63.637332 28.057456 62.923397 24.205409 61.531168 20.578526  C 60.138938 16.951643 58.091972 13.611298 55.492455 10.724242  C 52.892937 7.837186 49.784858 5.452272 46.323371 3.688557  C 42.861884 1.924841 39.105565 0.812169 35.24193 0.406084  C 31.378294 -0 27.472722 0.307375 23.72018 1.312866  C 19.967638 2.318356 16.431626 4.004948 13.288662 6.288445  C 10.145698 8.571942 7.448966 11.413704 5.333088 14.67187  C 3.217211 17.930036 1.717991 21.549472 0.910272 25.349494  C 0.102552 29.149517 0 33.065824 0.607735 36.902911  C 1.21547 40.739999 2.523208 44.432937 4.465667 47.797374  C 6.408126 51.161811 8.952435 54.140815 11.971583 56.585673  C 14.990731 59.03053 18.433628 60.899871 22.128404 62.100376  C 25.82318 63.300881 29.707313 63.812237 33.586906 63.608916  C 37.466499 63.405595 41.275903 62.491038 44.824952 60.9109  C 48.374 59.330762 51.602637 57.111781 54.349689 54.364729  C 57.09674 51.617678 59.315721 48.389041 60.895859 44.839992  L 31.927332 31.942374  L 63.637332 31.942374  z \" style=\"fill:#fefebb;stroke:#444443;stroke-linejoin:miter;stroke-width:0.5;\" />\n   </g>\n   <g id=\"patch_3\">\n    <path d=\"M 60.895859 44.839992  C 61.797105 42.815761 62.483703 40.702629 62.944393 38.535252  C 63.405083 36.367876 63.637332 34.158169 63.637332 31.942372  L 31.927332 31.942374  L 60.895859 44.839992  z \" style=\"fill:#a1dab4;stroke:#444443;stroke-linejoin:miter;stroke-width:0.5;\" />\n   </g>\n   <g id=\"text_1\">\n    \n    <defs>\n     <path d=\"M 54.890625 33.015625  L 54.890625 0  L 45.90625 0  L 45.90625 32.71875  Q 45.90625 40.484375 42.875 44.328125  Q 39.84375 48.1875 33.796875 48.1875  Q 26.515625 48.1875 22.3125 43.546875  Q 18.109375 38.921875 18.109375 30.90625  L 18.109375 0  L 9.078125 0  L 9.078125 54.6875  L 18.109375 54.6875  L 18.109375 46.1875  Q 21.34375 51.125 25.703125 53.5625  Q 30.078125 56 35.796875 56  Q 45.21875 56 50.046875 50.171875  Q 54.890625 44.34375 54.890625 33.015625  z \" id=\"DejaVuSans-110\" />\n     <path d=\"M 10.59375 45.40625  L 73.1875 45.40625  L 73.1875 37.203125  L 10.59375 37.203125  z M 10.59375 25.484375  L 73.1875 25.484375  L 73.1875 17.1875  L 10.59375 17.1875  z \" id=\"DejaVuSans-61\" />\n     <path d=\"M 37.796875 64.3125  L 12.890625 25.390625  L 37.796875 25.390625  z M 35.203125 72.90625  L 47.609375 72.90625  L 47.609375 25.390625  L 58.015625 25.390625  L 58.015625 17.1875  L 47.609375 17.1875  L 47.609375 0  L 37.796875 0  L 37.796875 17.1875  L 4.890625 17.1875  L 4.890625 26.703125  z \" id=\"DejaVuSans-52\" />\n     <path d=\"M 10.796875 72.90625  L 49.515625 72.90625  L 49.515625 64.59375  L 19.828125 64.59375  L 19.828125 46.734375  Q 21.96875 47.46875 24.109375 47.828125  Q 26.265625 48.1875 28.421875 48.1875  Q 40.625 48.1875 47.75 41.5  Q 54.890625 34.8125 54.890625 23.390625  Q 54.890625 11.625 47.5625 5.09375  Q 40.234375 -1.421875 26.90625 -1.421875  Q 22.3125 -1.421875 17.546875 -0.640625  Q 12.796875 0.140625 7.71875 1.703125  L 7.71875 11.625  Q 12.109375 9.234375 16.796875 8.0625  Q 21.484375 6.890625 26.703125 6.890625  Q 35.15625 6.890625 40.078125 11.328125  Q 45.015625 15.765625 45.015625 23.390625  Q 45.015625 31 40.078125 35.4375  Q 35.15625 39.890625 26.703125 39.890625  Q 22.75 39.890625 18.8125 39.015625  Q 14.890625 38.140625 10.796875 36.28125  z \" id=\"DejaVuSans-53\" />\n    </defs>\n    <g style=\"fill:#444443;\" transform=\"translate(19.578348 73.027767)scale(0.09 -0.09)\">\n     <use xlink:href=\"#DejaVuSans-110\" />\n     <use x=\"63.378906\" xlink:href=\"#DejaVuSans-61\" />\n     <use x=\"147.167969\" xlink:href=\"#DejaVuSans-52\" />\n     <use x=\"210.791016\" xlink:href=\"#DejaVuSans-53\" />\n    </g>\n    \n    <defs>\n     <path d=\"M 31.78125 66.40625  Q 24.171875 66.40625 20.328125 58.90625  Q 16.5 51.421875 16.5 36.375  Q 16.5 21.390625 20.328125 13.890625  Q 24.171875 6.390625 31.78125 6.390625  Q 39.453125 6.390625 43.28125 13.890625  Q 47.125 21.390625 47.125 36.375  Q 47.125 51.421875 43.28125 58.90625  Q 39.453125 66.40625 31.78125 66.40625  z M 31.78125 74.21875  Q 44.046875 74.21875 50.515625 64.515625  Q 56.984375 54.828125 56.984375 36.375  Q 56.984375 17.96875 50.515625 8.265625  Q 44.046875 -1.421875 31.78125 -1.421875  Q 19.53125 -1.421875 13.0625 8.265625  Q 6.59375 17.96875 6.59375 36.375  Q 6.59375 54.828125 13.0625 64.515625  Q 19.53125 74.21875 31.78125 74.21875  z \" id=\"DejaVuSans-48\" />\n    </defs>\n    <g style=\"fill:#444443;\" transform=\"translate(29.064207 83.105799)scale(0.09 -0.09)\">\n     <use xlink:href=\"#DejaVuSans-48\" />\n    </g>\n   </g>\n  </g>\n </g>\n</svg></g>\n\n<g class=\"edge\" id=\"edge68\">\n<title>node50-&gt;leaf52</title>\n<path d=\"M1542.067,-109.433C1550.2225,-101.2775 1564.7073,-86.7927 1578.1673,-73.3327\" fill=\"none\" stroke=\"#444443\" stroke-width=\".3\" />\n<polygon fill=\"#444443\" points=\"1579.3619,-74.118 1581.2004,-70.2996 1577.382,-72.1381 1579.3619,-74.118\" stroke=\"#444443\" stroke-width=\".3\" />\n</g>\n\n<g class=\"node\" id=\"node54\">\n<title>leaf53</title>\n<polygon fill=\"none\" points=\"1616.5,-131 1594.5,-131 1594.5,-101 1616.5,-101 1616.5,-131\" stroke=\"#444443\" stroke-width=\"0\" />\n<svg height=\"22px\" preserveAspectRatio=\"xMinYMin meet\" version=\"1.1\" viewBox=\"0 0 18.971719 29.467064\" width=\"14px\" x=\"1598.5\" y=\"-127\">\n <defs>\n  <style type=\"text/css\">\n*{stroke-linecap:butt;stroke-linejoin:round;}\n  </style>\n </defs>\n <g id=\"figure_1\">\n  <g id=\"patch_1\">\n   <path d=\"M 0 29.467064  L 18.971719 29.467064  L 18.971719 0  L 0 0  z \" style=\"fill:#ffffff;\" />\n  </g>\n  <g id=\"axes_1\">\n   <g id=\"patch_2\">\n    <path d=\"M 14.619859 5.134  C 14.619859 4.459809 14.487059 3.792174 14.229057 3.169303  C 13.971055 2.546432 13.59287 1.980439 13.116146 1.503714  C 12.639421 1.026989 12.073427 0.648804 11.450556 0.390802  C 10.827685 0.132801 10.16005 -0 9.485859 -0  C 8.811669 -0 8.144034 0.132801 7.521163 0.390802  C 6.898292 0.648804 6.332298 1.026989 5.855573 1.503714  C 5.378848 1.980439 5.000663 2.546432 4.742662 3.169303  C 4.48466 3.792174 4.351859 4.459809 4.351859 5.134  C 4.351859 5.808191 4.48466 6.475826 4.742662 7.098697  C 5.000663 7.721568 5.378848 8.287561 5.855573 8.764286  C 6.332298 9.241011 6.898292 9.619196 7.521163 9.877198  C 8.144034 10.135199 8.811669 10.268 9.485859 10.268  C 10.16005 10.268 10.827685 10.135199 11.450556 9.877198  C 12.073427 9.619196 12.639421 9.241011 13.116146 8.764286  C 13.59287 8.287561 13.971055 7.721568 14.229057 7.098697  C 14.487059 6.475826 14.619859 5.808191 14.619859 5.134  M 9.485859 5.134  M 14.619859 5.134  z \" style=\"fill:#a1dab4;stroke:#444443;stroke-linejoin:miter;stroke-width:0.5;\" />\n   </g>\n   <g id=\"text_1\">\n    \n    <defs>\n     <path d=\"M 54.890625 33.015625  L 54.890625 0  L 45.90625 0  L 45.90625 32.71875  Q 45.90625 40.484375 42.875 44.328125  Q 39.84375 48.1875 33.796875 48.1875  Q 26.515625 48.1875 22.3125 43.546875  Q 18.109375 38.921875 18.109375 30.90625  L 18.109375 0  L 9.078125 0  L 9.078125 54.6875  L 18.109375 54.6875  L 18.109375 46.1875  Q 21.34375 51.125 25.703125 53.5625  Q 30.078125 56 35.796875 56  Q 45.21875 56 50.046875 50.171875  Q 54.890625 44.34375 54.890625 33.015625  z \" id=\"DejaVuSans-110\" />\n     <path d=\"M 10.59375 45.40625  L 73.1875 45.40625  L 73.1875 37.203125  L 10.59375 37.203125  z M 10.59375 25.484375  L 73.1875 25.484375  L 73.1875 17.1875  L 10.59375 17.1875  z \" id=\"DejaVuSans-61\" />\n     <path d=\"M 12.40625 8.296875  L 28.515625 8.296875  L 28.515625 63.921875  L 10.984375 60.40625  L 10.984375 69.390625  L 28.421875 72.90625  L 38.28125 72.90625  L 38.28125 8.296875  L 54.390625 8.296875  L 54.390625 0  L 12.40625 0  z \" id=\"DejaVuSans-49\" />\n    </defs>\n    <g style=\"fill:#444443;\" transform=\"translate(0 17.517314)scale(0.09 -0.09)\">\n     <use xlink:href=\"#DejaVuSans-110\" />\n     <use x=\"63.378906\" xlink:href=\"#DejaVuSans-61\" />\n     <use x=\"147.167969\" xlink:href=\"#DejaVuSans-49\" />\n    </g>\n    \n    <g style=\"fill:#444443;\" transform=\"translate(6.622734 27.595345)scale(0.09 -0.09)\">\n     <use xlink:href=\"#DejaVuSans-49\" />\n    </g>\n   </g>\n  </g>\n </g>\n</svg></g>\n\n\n<g class=\"node\" id=\"node24\">\n<title>node49</title>\n<text fill=\"#444443\" font-family=\"Helvetica,sans-Serif\" font-size=\"12.00\" text-anchor=\"start\" x=\"1386.5\" y=\"-186.4\">&#36890;&#31639;&#25903;&#25173;&#38989;@1178.68</text>\n</g>\n\n<g class=\"edge\" id=\"edge70\">\n<title>node49-&gt;node50</title>\n<path d=\"M1452.5756,-182.9774C1468.7244,-169.9342 1505.0531,-140.5917 1523.8065,-125.4448\" fill=\"none\" stroke=\"#444443\" stroke-width=\".3\" />\n<polygon fill=\"#444443\" points=\"1525.0795,-126.2162 1527.3116,-122.6137 1523.3202,-124.0379 1525.0795,-126.2162\" stroke=\"#444443\" stroke-width=\".3\" />\n</g>\n\n<g class=\"edge\" id=\"edge71\">\n<title>node49-&gt;leaf53</title>\n<path d=\"M1458.7877,-182.9774C1488.9849,-169.1917 1559.0656,-137.1983 1590.1629,-123.0017\" fill=\"none\" stroke=\"#444443\" stroke-width=\".3\" />\n<polygon fill=\"#444443\" points=\"1591.0513,-124.1352 1594.1086,-121.2004 1589.8884,-121.5881 1591.0513,-124.1352\" stroke=\"#444443\" stroke-width=\".3\" />\n</g>\n\n<g class=\"node\" id=\"node55\">\n<title>leaf54</title>\n<polygon fill=\"none\" points=\"1583,-231 1516,-231 1516,-148 1583,-148 1583,-231\" stroke=\"#444443\" stroke-width=\"0\" />\n<svg height=\"75px\" preserveAspectRatio=\"xMinYMin meet\" version=\"1.1\" viewBox=\"0 0 78.52 100.449144\" width=\"59px\" x=\"1520.5\" y=\"-226.5\">\n <defs>\n  <style type=\"text/css\">\n*{stroke-linecap:butt;stroke-linejoin:round;}\n  </style>\n </defs>\n <g id=\"figure_1\">\n  <g id=\"patch_1\">\n   <path d=\"M -0 100.449144  L 78.52 100.449144  L 78.52 -0  L -0 -0  z \" style=\"fill:#ffffff;\" />\n  </g>\n  <g id=\"axes_1\">\n   <g id=\"patch_2\">\n    <path d=\"M 78.52 39.26  C 78.52 34.104424 77.504464 28.99898 75.53151 24.235848  C 73.558557 19.472717 70.666555 15.14453 67.021012 11.498988  C 63.37547 7.853445 59.047283 4.961443 54.284152 2.98849  C 49.52102 1.015536 44.415576 0 39.26 0  C 34.104424 0 28.99898 1.015536 24.235848 2.98849  C 19.472717 4.961443 15.14453 7.853445 11.498988 11.498988  C 7.853445 15.14453 4.961443 19.472717 2.98849 24.235848  C 1.015536 28.99898 0 34.104424 0 39.26  C 0 44.415576 1.015536 49.52102 2.98849 54.284152  C 4.961443 59.047283 7.853445 63.37547 11.498988 67.021012  C 15.14453 70.666555 19.472717 73.558557 24.235848 75.53151  C 28.99898 77.504464 34.104424 78.52 39.26 78.52  C 44.415576 78.52 49.52102 77.504464 54.284152 75.53151  C 59.047283 73.558557 63.37547 70.666555 67.021012 67.021012  C 70.666555 63.37547 73.558557 59.047283 75.53151 54.284152  C 77.504464 49.52102 78.52 44.415576 78.52 39.26  M 39.26 39.26  M 78.52 39.26  z \" style=\"fill:#fefebb;stroke:#444443;stroke-linejoin:miter;stroke-width:0.5;\" />\n   </g>\n   <g id=\"text_1\">\n    \n    <defs>\n     <path d=\"M 54.890625 33.015625  L 54.890625 0  L 45.90625 0  L 45.90625 32.71875  Q 45.90625 40.484375 42.875 44.328125  Q 39.84375 48.1875 33.796875 48.1875  Q 26.515625 48.1875 22.3125 43.546875  Q 18.109375 38.921875 18.109375 30.90625  L 18.109375 0  L 9.078125 0  L 9.078125 54.6875  L 18.109375 54.6875  L 18.109375 46.1875  Q 21.34375 51.125 25.703125 53.5625  Q 30.078125 56 35.796875 56  Q 45.21875 56 50.046875 50.171875  Q 54.890625 44.34375 54.890625 33.015625  z \" id=\"DejaVuSans-110\" />\n     <path d=\"M 10.59375 45.40625  L 73.1875 45.40625  L 73.1875 37.203125  L 10.59375 37.203125  z M 10.59375 25.484375  L 73.1875 25.484375  L 73.1875 17.1875  L 10.59375 17.1875  z \" id=\"DejaVuSans-61\" />\n     <path d=\"M 19.1875 8.296875  L 53.609375 8.296875  L 53.609375 0  L 7.328125 0  L 7.328125 8.296875  Q 12.9375 14.109375 22.625 23.890625  Q 32.328125 33.6875 34.8125 36.53125  Q 39.546875 41.84375 41.421875 45.53125  Q 43.3125 49.21875 43.3125 52.78125  Q 43.3125 58.59375 39.234375 62.25  Q 35.15625 65.921875 28.609375 65.921875  Q 23.96875 65.921875 18.8125 64.3125  Q 13.671875 62.703125 7.8125 59.421875  L 7.8125 69.390625  Q 13.765625 71.78125 18.9375 73  Q 24.125 74.21875 28.421875 74.21875  Q 39.75 74.21875 46.484375 68.546875  Q 53.21875 62.890625 53.21875 53.421875  Q 53.21875 48.921875 51.53125 44.890625  Q 49.859375 40.875 45.40625 35.40625  Q 44.1875 33.984375 37.640625 27.21875  Q 31.109375 20.453125 19.1875 8.296875  z \" id=\"DejaVuSans-50\" />\n     <path d=\"M 12.40625 8.296875  L 28.515625 8.296875  L 28.515625 63.921875  L 10.984375 60.40625  L 10.984375 69.390625  L 28.421875 72.90625  L 38.28125 72.90625  L 38.28125 8.296875  L 54.390625 8.296875  L 54.390625 0  L 12.40625 0  z \" id=\"DejaVuSans-49\" />\n     <path d=\"M 31.78125 34.625  Q 24.75 34.625 20.71875 30.859375  Q 16.703125 27.09375 16.703125 20.515625  Q 16.703125 13.921875 20.71875 10.15625  Q 24.75 6.390625 31.78125 6.390625  Q 38.8125 6.390625 42.859375 10.171875  Q 46.921875 13.96875 46.921875 20.515625  Q 46.921875 27.09375 42.890625 30.859375  Q 38.875 34.625 31.78125 34.625  z M 21.921875 38.8125  Q 15.578125 40.375 12.03125 44.71875  Q 8.5 49.078125 8.5 55.328125  Q 8.5 64.0625 14.71875 69.140625  Q 20.953125 74.21875 31.78125 74.21875  Q 42.671875 74.21875 48.875 69.140625  Q 55.078125 64.0625 55.078125 55.328125  Q 55.078125 49.078125 51.53125 44.71875  Q 48 40.375 41.703125 38.8125  Q 48.828125 37.15625 52.796875 32.3125  Q 56.78125 27.484375 56.78125 20.515625  Q 56.78125 9.90625 50.3125 4.234375  Q 43.84375 -1.421875 31.78125 -1.421875  Q 19.734375 -1.421875 13.25 4.234375  Q 6.78125 9.90625 6.78125 20.515625  Q 6.78125 27.484375 10.78125 32.3125  Q 14.796875 37.15625 21.921875 38.8125  z M 18.3125 54.390625  Q 18.3125 48.734375 21.84375 45.5625  Q 25.390625 42.390625 31.78125 42.390625  Q 38.140625 42.390625 41.71875 45.5625  Q 45.3125 48.734375 45.3125 54.390625  Q 45.3125 60.0625 41.71875 63.234375  Q 38.140625 66.40625 31.78125 66.40625  Q 25.390625 66.40625 21.84375 63.234375  Q 18.3125 60.0625 18.3125 54.390625  z \" id=\"DejaVuSans-56\" />\n    </defs>\n    <g style=\"fill:#444443;\" transform=\"translate(24.047891 88.499394)scale(0.09 -0.09)\">\n     <use xlink:href=\"#DejaVuSans-110\" />\n     <use x=\"63.378906\" xlink:href=\"#DejaVuSans-61\" />\n     <use x=\"147.167969\" xlink:href=\"#DejaVuSans-50\" />\n     <use x=\"210.791016\" xlink:href=\"#DejaVuSans-49\" />\n     <use x=\"274.414062\" xlink:href=\"#DejaVuSans-56\" />\n    </g>\n    \n    <defs>\n     <path d=\"M 31.78125 66.40625  Q 24.171875 66.40625 20.328125 58.90625  Q 16.5 51.421875 16.5 36.375  Q 16.5 21.390625 20.328125 13.890625  Q 24.171875 6.390625 31.78125 6.390625  Q 39.453125 6.390625 43.28125 13.890625  Q 47.125 21.390625 47.125 36.375  Q 47.125 51.421875 43.28125 58.90625  Q 39.453125 66.40625 31.78125 66.40625  z M 31.78125 74.21875  Q 44.046875 74.21875 50.515625 64.515625  Q 56.984375 54.828125 56.984375 36.375  Q 56.984375 17.96875 50.515625 8.265625  Q 44.046875 -1.421875 31.78125 -1.421875  Q 19.53125 -1.421875 13.0625 8.265625  Q 6.59375 17.96875 6.59375 36.375  Q 6.59375 54.828125 13.0625 64.515625  Q 19.53125 74.21875 31.78125 74.21875  z \" id=\"DejaVuSans-48\" />\n    </defs>\n    <g style=\"fill:#444443;\" transform=\"translate(36.396875 98.577425)scale(0.09 -0.09)\">\n     <use xlink:href=\"#DejaVuSans-48\" />\n    </g>\n   </g>\n  </g>\n </g>\n</svg></g>\n\n\n<g class=\"edge\" id=\"edge73\">\n<title>node48-&gt;node49</title>\n<path d=\"M1397.1719,-247.5439C1406.6252,-235.9502 1425.6312,-212.641 1436.4612,-199.3589\" fill=\"none\" stroke=\"#444443\" stroke-width=\".3\" />\n<polygon fill=\"#444443\" points=\"1437.5849,-200.1961 1439.0277,-196.2113 1435.4149,-198.4267 1437.5849,-200.1961\" stroke=\"#444443\" stroke-width=\".3\" />\n</g>\n\n<g class=\"edge\" id=\"edge74\">\n<title>node48-&gt;leaf54</title>\n<path d=\"M1407.5194,-247.9097C1431.7946,-237.9231 1478.5839,-218.6743 1511.8091,-205.0058\" fill=\"none\" stroke=\"#444443\" stroke-width=\".3\" />\n<polygon fill=\"#444443\" points=\"1512.6247,-206.1841 1515.7913,-203.3675 1511.5594,-203.5947 1512.6247,-206.1841\" stroke=\"#444443\" stroke-width=\".3\" />\n</g>\n\n<g class=\"edge\" id=\"edge76\">\n<title>node32-&gt;node33</title>\n<path d=\"M1108.7081,-277.9904C1129.0952,-273.2857 1156.6824,-266.9195 1177.9947,-262.0012\" fill=\"none\" stroke=\"#444443\" stroke-width=\".3\" />\n<polygon fill=\"#444443\" points=\"1178.3153,-263.3641 1181.8981,-261.1004 1177.6857,-260.6358 1178.3153,-263.3641\" stroke=\"#444443\" stroke-width=\".3\" />\n</g>\n\n<g class=\"edge\" id=\"edge77\">\n<title>node32-&gt;node48</title>\n<path d=\"M1147.9824,-277.9904C1201.8699,-272.7923 1276.7851,-265.5657 1329.2474,-260.5051\" fill=\"none\" stroke=\"#444443\" stroke-width=\".3\" />\n<polygon fill=\"#444443\" points=\"1329.4541,-261.8917 1333.3012,-260.114 1329.1852,-259.1047 1329.4541,-261.8917\" stroke=\"#444443\" stroke-width=\".3\" />\n</g>\n\n<g class=\"node\" id=\"node27\">\n<title>node0</title>\n<text fill=\"#444443\" font-family=\"Helvetica,sans-Serif\" font-size=\"12.00\" text-anchor=\"start\" x=\"895\" y=\"-341.9\">&#21033;&#29992;&#26376;&#25968;@16.50</text>\n</g>\n\n<g class=\"edge\" id=\"edge79\">\n<title>node0-&gt;node1</title>\n<path d=\"M931.7438,-338.2943C917.5514,-327.4254 889.5013,-305.944 873.4742,-293.6701\" fill=\"none\" stroke=\"#444443\" stroke-width=\".3\" />\n<polygon fill=\"#444443\" points=\"874.0823,-292.3724 870.0553,-291.0518 872.3798,-294.5954 874.0823,-292.3724\" stroke=\"#444443\" stroke-width=\".3\" />\n<text fill=\"#000000\" font-family=\"Times,serif\" font-size=\"14.00\" text-anchor=\"start\" x=\"899.5\" y=\"-302.8\">&lt;</text>\n</g>\n\n<g class=\"edge\" id=\"edge80\">\n<title>node0-&gt;node32</title>\n<path d=\"M955.749,-338.4103C981.4168,-327.3181 1033.1967,-304.9418 1061.301,-292.7967\" fill=\"none\" stroke=\"#444443\" stroke-width=\".3\" />\n<polygon fill=\"#444443\" points=\"1062.1534,-293.9535 1065.2698,-291.0816 1061.0426,-291.3833 1062.1534,-293.9535\" stroke=\"#444443\" stroke-width=\".3\" />\n<text fill=\"#000000\" font-family=\"Times,serif\" font-size=\"14.00\" text-anchor=\"start\" x=\"1043.5\" y=\"-302.8\">&#8805;</text>\n</g>\n\n\n\n\n\n\n\n\n\n\n\n\n\n\n<g class=\"node\" id=\"node56\">\n<title>legend</title>\n<polygon fill=\"none\" points=\"1039.5,-368 993.5,-368 993.5,-322 1039.5,-322 1039.5,-368\" stroke=\"#000000\" stroke-width=\"0\" />\n<svg height=\"42px\" preserveAspectRatio=\"xMinYMin meet\" version=\"1.1\" viewBox=\"0 0 55.8 55.1125\" width=\"42px\" x=\"995.5\" y=\"-366\">\n <defs>\n  <style type=\"text/css\">\n*{stroke-linecap:butt;stroke-linejoin:round;}\n  </style>\n </defs>\n <g id=\"figure_1\">\n  <g id=\"patch_1\">\n   <path d=\"M 0 55.1125  L 55.8 55.1125  L 55.8 0  L 0 0  z \" style=\"fill:#ffffff;\" />\n  </g>\n  <g id=\"axes_1\">\n   <g id=\"legend_1\">\n    <g id=\"patch_2\">\n     <path d=\"M 4.310156 55.1125  L 51.489844 55.1125  Q 53.489844 55.1125 53.489844 53.1125  L 53.489844 2  Q 53.489844 -0 51.489844 -0  L 4.310156 -0  Q 2.310156 -0 2.310156 2  L 2.310156 53.1125  Q 2.310156 55.1125 4.310156 55.1125  z \" style=\"fill:#ffffff;opacity:0.8;stroke:#444443;stroke-linejoin:miter;stroke-width:0.5;\" />\n    </g>\n    <g id=\"text_1\">\n     \n     <defs>\n      <path d=\"M 27.484375 70.21875  L 27.484375 54.6875  L 45.515625 54.6875  L 45.515625 42.1875  L 27.484375 42.1875  L 27.484375 19  Q 27.484375 15.1875 29 13.84375  Q 30.515625 12.5 35.015625 12.5  L 44 12.5  L 44 0  L 29 0  Q 18.65625 0 14.328125 4.3125  Q 10.015625 8.640625 10.015625 19  L 10.015625 42.1875  L 1.3125 42.1875  L 1.3125 54.6875  L 10.015625 54.6875  L 10.015625 70.21875  z \" id=\"DejaVuSans-Bold-116\" />\n      <path d=\"M 32.90625 24.609375  Q 27.4375 24.609375 24.671875 22.75  Q 21.921875 20.90625 21.921875 17.28125  Q 21.921875 13.96875 24.140625 12.078125  Q 26.375 10.203125 30.328125 10.203125  Q 35.25 10.203125 38.625 13.734375  Q 42 17.28125 42 22.609375  L 42 24.609375  z M 59.625 31.203125  L 59.625 0  L 42 0  L 42 8.109375  Q 38.484375 3.125 34.078125 0.84375  Q 29.6875 -1.421875 23.390625 -1.421875  Q 14.890625 -1.421875 9.59375 3.53125  Q 4.296875 8.5 4.296875 16.40625  Q 4.296875 26.03125 10.90625 30.515625  Q 17.53125 35.015625 31.6875 35.015625  L 42 35.015625  L 42 36.375  Q 42 40.53125 38.71875 42.453125  Q 35.453125 44.390625 28.515625 44.390625  Q 22.90625 44.390625 18.0625 43.265625  Q 13.234375 42.140625 9.078125 39.890625  L 9.078125 53.21875  Q 14.703125 54.59375 20.359375 55.296875  Q 26.03125 56 31.6875 56  Q 46.484375 56 53.046875 50.171875  Q 59.625 44.34375 59.625 31.203125  z \" id=\"DejaVuSans-Bold-97\" />\n      <path d=\"M 49.03125 39.796875  Q 46.734375 40.875 44.453125 41.375  Q 42.1875 41.890625 39.890625 41.890625  Q 33.15625 41.890625 29.515625 37.5625  Q 25.875 33.25 25.875 25.203125  L 25.875 0  L 8.40625 0  L 8.40625 54.6875  L 25.875 54.6875  L 25.875 45.703125  Q 29.25 51.078125 33.609375 53.53125  Q 37.984375 56 44.09375 56  Q 44.96875 56 45.984375 55.921875  Q 47.015625 55.859375 48.96875 55.609375  z \" id=\"DejaVuSans-Bold-114\" />\n      <path d=\"M 45.609375 9.28125  Q 42 4.5 37.640625 2.25  Q 33.296875 0 27.59375 0  Q 17.578125 0 11.03125 7.875  Q 4.5 15.765625 4.5 27.984375  Q 4.5 40.234375 11.03125 48.0625  Q 17.578125 55.90625 27.59375 55.90625  Q 33.296875 55.90625 37.640625 53.65625  Q 42 51.421875 45.609375 46.578125  L 45.609375 54.6875  L 63.1875 54.6875  L 63.1875 5.515625  Q 63.1875 -7.671875 54.859375 -14.625  Q 46.53125 -21.578125 30.71875 -21.578125  Q 25.59375 -21.578125 20.796875 -20.796875  Q 16.015625 -20.015625 11.1875 -18.40625  L 11.1875 -4.78125  Q 15.765625 -7.421875 20.15625 -8.71875  Q 24.5625 -10.015625 29 -10.015625  Q 37.59375 -10.015625 41.59375 -6.25  Q 45.609375 -2.484375 45.609375 5.515625  z M 34.078125 43.3125  Q 28.65625 43.3125 25.625 39.296875  Q 22.609375 35.296875 22.609375 27.984375  Q 22.609375 20.453125 25.53125 16.578125  Q 28.46875 12.703125 34.078125 12.703125  Q 39.546875 12.703125 42.578125 16.703125  Q 45.609375 20.703125 45.609375 27.984375  Q 45.609375 35.296875 42.578125 39.296875  Q 39.546875 43.3125 34.078125 43.3125  z \" id=\"DejaVuSans-Bold-103\" />\n      <path d=\"M 62.984375 27.484375  L 62.984375 22.515625  L 22.125 22.515625  Q 22.75 16.359375 26.5625 13.28125  Q 30.375 10.203125 37.203125 10.203125  Q 42.71875 10.203125 48.5 11.84375  Q 54.296875 13.484375 60.40625 16.796875  L 60.40625 3.328125  Q 54.203125 0.984375 48 -0.21875  Q 41.796875 -1.421875 35.59375 -1.421875  Q 20.75 -1.421875 12.515625 6.125  Q 4.296875 13.671875 4.296875 27.296875  Q 4.296875 40.671875 12.375 48.328125  Q 20.453125 56 34.625 56  Q 47.515625 56 55.25 48.234375  Q 62.984375 40.484375 62.984375 27.484375  z M 45.015625 33.296875  Q 45.015625 38.28125 42.109375 41.328125  Q 39.203125 44.390625 34.515625 44.390625  Q 29.4375 44.390625 26.265625 41.53125  Q 23.09375 38.671875 22.3125 33.296875  z \" id=\"DejaVuSans-Bold-101\" />\n     </defs>\n     <g style=\"fill:#444443;\" transform=\"translate(10.310156 15.598437)scale(0.1 -0.1)\">\n      <use xlink:href=\"#DejaVuSans-Bold-116\" />\n      <use x=\"47.802734\" xlink:href=\"#DejaVuSans-Bold-97\" />\n      <use x=\"115.283203\" xlink:href=\"#DejaVuSans-Bold-114\" />\n      <use x=\"164.599609\" xlink:href=\"#DejaVuSans-Bold-103\" />\n      <use x=\"236.181641\" xlink:href=\"#DejaVuSans-Bold-101\" />\n      <use x=\"304.003906\" xlink:href=\"#DejaVuSans-Bold-116\" />\n     </g>\n    </g>\n    <g id=\"patch_3\">\n     <path d=\"M 12.96875 30.354687  L 32.96875 30.354687  L 32.96875 23.354687  L 12.96875 23.354687  z \" style=\"fill:#fefebb;stroke:#444443;stroke-linejoin:miter;stroke-width:0.4;\" />\n    </g>\n    <g id=\"text_2\">\n     \n     <defs>\n      <path d=\"M 31.78125 66.40625  Q 24.171875 66.40625 20.328125 58.90625  Q 16.5 51.421875 16.5 36.375  Q 16.5 21.390625 20.328125 13.890625  Q 24.171875 6.390625 31.78125 6.390625  Q 39.453125 6.390625 43.28125 13.890625  Q 47.125 21.390625 47.125 36.375  Q 47.125 51.421875 43.28125 58.90625  Q 39.453125 66.40625 31.78125 66.40625  z M 31.78125 74.21875  Q 44.046875 74.21875 50.515625 64.515625  Q 56.984375 54.828125 56.984375 36.375  Q 56.984375 17.96875 50.515625 8.265625  Q 44.046875 -1.421875 31.78125 -1.421875  Q 19.53125 -1.421875 13.0625 8.265625  Q 6.59375 17.96875 6.59375 36.375  Q 6.59375 54.828125 13.0625 64.515625  Q 19.53125 74.21875 31.78125 74.21875  z \" id=\"DejaVuSans-48\" />\n     </defs>\n     <g style=\"fill:#444443;\" transform=\"translate(36.46875 30.354687)scale(0.1 -0.1)\">\n      <use xlink:href=\"#DejaVuSans-48\" />\n     </g>\n    </g>\n    <g id=\"patch_4\">\n     <path d=\"M 12.96875 45.032812  L 32.96875 45.032812  L 32.96875 38.032812  L 12.96875 38.032812  z \" style=\"fill:#a1dab4;stroke:#444443;stroke-linejoin:miter;stroke-width:0.4;\" />\n    </g>\n    <g id=\"text_3\">\n     \n     <defs>\n      <path d=\"M 12.40625 8.296875  L 28.515625 8.296875  L 28.515625 63.921875  L 10.984375 60.40625  L 10.984375 69.390625  L 28.421875 72.90625  L 38.28125 72.90625  L 38.28125 8.296875  L 54.390625 8.296875  L 54.390625 0  L 12.40625 0  z \" id=\"DejaVuSans-49\" />\n     </defs>\n     <g style=\"fill:#444443;\" transform=\"translate(36.46875 45.032812)scale(0.1 -0.1)\">\n      <use xlink:href=\"#DejaVuSans-49\" />\n     </g>\n    </g>\n   </g>\n  </g>\n </g>\n</svg></g>\n</g>\n</svg>"
          },
          "metadata": {
            "tags": []
          }
        }
      ]
    },
    {
      "cell_type": "code",
      "metadata": {
        "id": "cJYoOgdcpFUY",
        "colab_type": "code",
        "colab": {
          "base_uri": "https://localhost:8080/",
          "height": 34
        },
        "outputId": "709eef5e-4b8c-4f5f-e4cc-b0c9036c4a89"
      },
      "source": [
        "# ここはイベント当日に参加者にベタ打ちしてもらう\n",
        "display_conpetition_result()"
      ],
      "execution_count": 70,
      "outputs": [
        {
          "output_type": "stream",
          "text": [
            "最終正解率：72.20%\n"
          ],
          "name": "stdout"
        }
      ]
    },
    {
      "cell_type": "code",
      "metadata": {
        "id": "hequzNeCqBK2",
        "colab_type": "code",
        "colab": {}
      },
      "source": [
        ""
      ],
      "execution_count": 0,
      "outputs": []
    }
  ]
}