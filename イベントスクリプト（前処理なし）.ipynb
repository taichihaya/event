{
  "nbformat": 4,
  "nbformat_minor": 0,
  "metadata": {
    "colab": {
      "name": "イベントスクリプト（前処理なし）.ipynb",
      "provenance": [],
      "collapsed_sections": [],
      "toc_visible": true,
      "include_colab_link": true
    },
    "kernelspec": {
      "name": "python3",
      "display_name": "Python 3"
    },
    "widgets": {
      "application/vnd.jupyter.widget-state+json": {
        "c374862712d844e78aee48a5e84dafb9": {
          "model_module": "@jupyter-widgets/controls",
          "model_name": "VBoxModel",
          "state": {
            "_view_name": "VBoxView",
            "_dom_classes": [],
            "_model_name": "VBoxModel",
            "_view_module": "@jupyter-widgets/controls",
            "_model_module_version": "1.5.0",
            "_view_count": null,
            "_view_module_version": "1.5.0",
            "box_style": "",
            "layout": "IPY_MODEL_c0b1d4387d1f493fb70a544f5b5e4759",
            "_model_module": "@jupyter-widgets/controls",
            "children": [
              "IPY_MODEL_3bb3ade8ec9d4fdeb8485ef6f3e146b9",
              "IPY_MODEL_f605b738bb4541749aad68c374eaa7f9"
            ]
          }
        },
        "c0b1d4387d1f493fb70a544f5b5e4759": {
          "model_module": "@jupyter-widgets/base",
          "model_name": "LayoutModel",
          "state": {
            "_view_name": "LayoutView",
            "grid_template_rows": null,
            "right": null,
            "justify_content": null,
            "_view_module": "@jupyter-widgets/base",
            "overflow": null,
            "_model_module_version": "1.2.0",
            "_view_count": null,
            "flex_flow": null,
            "width": null,
            "min_width": null,
            "border": null,
            "align_items": null,
            "bottom": null,
            "_model_module": "@jupyter-widgets/base",
            "top": null,
            "grid_column": null,
            "overflow_y": null,
            "overflow_x": null,
            "grid_auto_flow": null,
            "grid_area": null,
            "grid_template_columns": null,
            "flex": null,
            "_model_name": "LayoutModel",
            "justify_items": null,
            "grid_row": null,
            "max_height": null,
            "align_content": null,
            "visibility": null,
            "align_self": null,
            "height": null,
            "min_height": null,
            "padding": null,
            "grid_auto_rows": null,
            "grid_gap": null,
            "max_width": null,
            "order": null,
            "_view_module_version": "1.2.0",
            "grid_template_areas": null,
            "object_position": null,
            "object_fit": null,
            "grid_auto_columns": null,
            "margin": null,
            "display": null,
            "left": null
          }
        },
        "3bb3ade8ec9d4fdeb8485ef6f3e146b9": {
          "model_module": "@jupyter-widgets/controls",
          "model_name": "VBoxModel",
          "state": {
            "_view_name": "VBoxView",
            "_dom_classes": [],
            "_model_name": "VBoxModel",
            "_view_module": "@jupyter-widgets/controls",
            "_model_module_version": "1.5.0",
            "_view_count": null,
            "_view_module_version": "1.5.0",
            "box_style": "",
            "layout": "IPY_MODEL_b4e857f1f2214b4ba130f671ce8f0eb4",
            "_model_module": "@jupyter-widgets/controls",
            "children": [
              "IPY_MODEL_badb64fecdc84319a9e0f1ae65bed6df",
              "IPY_MODEL_4165a28417c04c71af4e80325dee989f",
              "IPY_MODEL_a9a2c44c0d6c45f8a69dc6caa1da9922",
              "IPY_MODEL_eb0017ab8da34ce195a2c1bf0b94c2a7",
              "IPY_MODEL_0dddb8df6f7c4cf4b716cb4b7524ec24"
            ]
          }
        },
        "f605b738bb4541749aad68c374eaa7f9": {
          "model_module": "@jupyter-widgets/controls",
          "model_name": "IntSliderModel",
          "state": {
            "_view_name": "IntSliderView",
            "style": "IPY_MODEL_1e1b08e8933e429ea69b30366092bb53",
            "_dom_classes": [],
            "description": "木の深さ",
            "step": 1,
            "_model_name": "IntSliderModel",
            "orientation": "horizontal",
            "max": 8,
            "_view_module": "@jupyter-widgets/controls",
            "_model_module_version": "1.5.0",
            "value": 2,
            "_view_count": null,
            "disabled": false,
            "_view_module_version": "1.5.0",
            "min": 2,
            "continuous_update": true,
            "readout_format": "d",
            "description_tooltip": null,
            "readout": true,
            "_model_module": "@jupyter-widgets/controls",
            "layout": "IPY_MODEL_d11dd0125eb6474c9fec6397ffea94e0"
          }
        },
        "b4e857f1f2214b4ba130f671ce8f0eb4": {
          "model_module": "@jupyter-widgets/base",
          "model_name": "LayoutModel",
          "state": {
            "_view_name": "LayoutView",
            "grid_template_rows": null,
            "right": null,
            "justify_content": null,
            "_view_module": "@jupyter-widgets/base",
            "overflow": null,
            "_model_module_version": "1.2.0",
            "_view_count": null,
            "flex_flow": null,
            "width": null,
            "min_width": null,
            "border": null,
            "align_items": null,
            "bottom": null,
            "_model_module": "@jupyter-widgets/base",
            "top": null,
            "grid_column": null,
            "overflow_y": null,
            "overflow_x": null,
            "grid_auto_flow": null,
            "grid_area": null,
            "grid_template_columns": null,
            "flex": null,
            "_model_name": "LayoutModel",
            "justify_items": null,
            "grid_row": null,
            "max_height": null,
            "align_content": null,
            "visibility": null,
            "align_self": null,
            "height": null,
            "min_height": null,
            "padding": null,
            "grid_auto_rows": null,
            "grid_gap": null,
            "max_width": null,
            "order": null,
            "_view_module_version": "1.2.0",
            "grid_template_areas": null,
            "object_position": null,
            "object_fit": null,
            "grid_auto_columns": null,
            "margin": null,
            "display": null,
            "left": null
          }
        },
        "badb64fecdc84319a9e0f1ae65bed6df": {
          "model_module": "@jupyter-widgets/controls",
          "model_name": "DropdownModel",
          "state": {
            "_options_labels": [
              "性別",
              "年齢区分",
              "婚姻有無",
              "扶養家族",
              "利用月数",
              "電話ｻｰﾋﾞｽ",
              "回線数",
              "ｲﾝﾀｰﾈｯﾄｻｰﾋﾞｽ",
              "ｾｷｭﾘﾃｨｻｰﾋﾞｽ",
              "ﾊﾞｯｸｱｯﾌﾟｻｰﾋﾞｽ",
              "機器予防ｻｰﾋﾞｽ",
              "ﾃｸﾆｶﾙｻﾎﾟｰﾄ",
              "ｽﾄﾘｰﾐﾝｸﾞｻｰﾋﾞｽ(TV)",
              "ｽﾄﾘｰﾐﾝｸﾞｻｰﾋﾞｽ(映画)",
              "契約形態",
              "請求書",
              "支払方法",
              "月額支払額",
              "通算支払額"
            ],
            "_view_name": "DropdownView",
            "style": "IPY_MODEL_21ee4d80e0754a9f8b126b52a93ac3d9",
            "_dom_classes": [],
            "description": "変数1:",
            "_model_name": "DropdownModel",
            "index": 0,
            "_view_module": "@jupyter-widgets/controls",
            "_model_module_version": "1.5.0",
            "_view_count": null,
            "disabled": false,
            "_view_module_version": "1.5.0",
            "description_tooltip": null,
            "_model_module": "@jupyter-widgets/controls",
            "layout": "IPY_MODEL_36f4336570424179be92774061885095"
          }
        },
        "4165a28417c04c71af4e80325dee989f": {
          "model_module": "@jupyter-widgets/controls",
          "model_name": "DropdownModel",
          "state": {
            "_options_labels": [
              "性別",
              "年齢区分",
              "婚姻有無",
              "扶養家族",
              "利用月数",
              "電話ｻｰﾋﾞｽ",
              "回線数",
              "ｲﾝﾀｰﾈｯﾄｻｰﾋﾞｽ",
              "ｾｷｭﾘﾃｨｻｰﾋﾞｽ",
              "ﾊﾞｯｸｱｯﾌﾟｻｰﾋﾞｽ",
              "機器予防ｻｰﾋﾞｽ",
              "ﾃｸﾆｶﾙｻﾎﾟｰﾄ",
              "ｽﾄﾘｰﾐﾝｸﾞｻｰﾋﾞｽ(TV)",
              "ｽﾄﾘｰﾐﾝｸﾞｻｰﾋﾞｽ(映画)",
              "契約形態",
              "請求書",
              "支払方法",
              "月額支払額",
              "通算支払額"
            ],
            "_view_name": "DropdownView",
            "style": "IPY_MODEL_27dba8814b32450186d432834805119e",
            "_dom_classes": [],
            "description": "変数2:",
            "_model_name": "DropdownModel",
            "index": 14,
            "_view_module": "@jupyter-widgets/controls",
            "_model_module_version": "1.5.0",
            "_view_count": null,
            "disabled": false,
            "_view_module_version": "1.5.0",
            "description_tooltip": null,
            "_model_module": "@jupyter-widgets/controls",
            "layout": "IPY_MODEL_8cbf9e234b6747e884f893906b030537"
          }
        },
        "a9a2c44c0d6c45f8a69dc6caa1da9922": {
          "model_module": "@jupyter-widgets/controls",
          "model_name": "DropdownModel",
          "state": {
            "_options_labels": [
              "性別",
              "年齢区分",
              "婚姻有無",
              "扶養家族",
              "利用月数",
              "電話ｻｰﾋﾞｽ",
              "回線数",
              "ｲﾝﾀｰﾈｯﾄｻｰﾋﾞｽ",
              "ｾｷｭﾘﾃｨｻｰﾋﾞｽ",
              "ﾊﾞｯｸｱｯﾌﾟｻｰﾋﾞｽ",
              "機器予防ｻｰﾋﾞｽ",
              "ﾃｸﾆｶﾙｻﾎﾟｰﾄ",
              "ｽﾄﾘｰﾐﾝｸﾞｻｰﾋﾞｽ(TV)",
              "ｽﾄﾘｰﾐﾝｸﾞｻｰﾋﾞｽ(映画)",
              "契約形態",
              "請求書",
              "支払方法",
              "月額支払額",
              "通算支払額"
            ],
            "_view_name": "DropdownView",
            "style": "IPY_MODEL_3bdb47b784c84713bf99205e319362f7",
            "_dom_classes": [],
            "description": "変数3:",
            "_model_name": "DropdownModel",
            "index": 12,
            "_view_module": "@jupyter-widgets/controls",
            "_model_module_version": "1.5.0",
            "_view_count": null,
            "disabled": false,
            "_view_module_version": "1.5.0",
            "description_tooltip": null,
            "_model_module": "@jupyter-widgets/controls",
            "layout": "IPY_MODEL_70aa594380c84797ba7c24c0bee67f6d"
          }
        },
        "eb0017ab8da34ce195a2c1bf0b94c2a7": {
          "model_module": "@jupyter-widgets/controls",
          "model_name": "DropdownModel",
          "state": {
            "_options_labels": [
              "性別",
              "年齢区分",
              "婚姻有無",
              "扶養家族",
              "利用月数",
              "電話ｻｰﾋﾞｽ",
              "回線数",
              "ｲﾝﾀｰﾈｯﾄｻｰﾋﾞｽ",
              "ｾｷｭﾘﾃｨｻｰﾋﾞｽ",
              "ﾊﾞｯｸｱｯﾌﾟｻｰﾋﾞｽ",
              "機器予防ｻｰﾋﾞｽ",
              "ﾃｸﾆｶﾙｻﾎﾟｰﾄ",
              "ｽﾄﾘｰﾐﾝｸﾞｻｰﾋﾞｽ(TV)",
              "ｽﾄﾘｰﾐﾝｸﾞｻｰﾋﾞｽ(映画)",
              "契約形態",
              "請求書",
              "支払方法",
              "月額支払額",
              "通算支払額"
            ],
            "_view_name": "DropdownView",
            "style": "IPY_MODEL_707ee2e23e6a479c98e575786d9b791e",
            "_dom_classes": [],
            "description": "変数4:",
            "_model_name": "DropdownModel",
            "index": 18,
            "_view_module": "@jupyter-widgets/controls",
            "_model_module_version": "1.5.0",
            "_view_count": null,
            "disabled": false,
            "_view_module_version": "1.5.0",
            "description_tooltip": null,
            "_model_module": "@jupyter-widgets/controls",
            "layout": "IPY_MODEL_1e3622e08b3240cab80bc41e5d1b4f3e"
          }
        },
        "0dddb8df6f7c4cf4b716cb4b7524ec24": {
          "model_module": "@jupyter-widgets/controls",
          "model_name": "DropdownModel",
          "state": {
            "_options_labels": [
              "性別",
              "年齢区分",
              "婚姻有無",
              "扶養家族",
              "利用月数",
              "電話ｻｰﾋﾞｽ",
              "回線数",
              "ｲﾝﾀｰﾈｯﾄｻｰﾋﾞｽ",
              "ｾｷｭﾘﾃｨｻｰﾋﾞｽ",
              "ﾊﾞｯｸｱｯﾌﾟｻｰﾋﾞｽ",
              "機器予防ｻｰﾋﾞｽ",
              "ﾃｸﾆｶﾙｻﾎﾟｰﾄ",
              "ｽﾄﾘｰﾐﾝｸﾞｻｰﾋﾞｽ(TV)",
              "ｽﾄﾘｰﾐﾝｸﾞｻｰﾋﾞｽ(映画)",
              "契約形態",
              "請求書",
              "支払方法",
              "月額支払額",
              "通算支払額"
            ],
            "_view_name": "DropdownView",
            "style": "IPY_MODEL_7aebd5797aa54a62968c589b9ce938c4",
            "_dom_classes": [],
            "description": "変数5:",
            "_model_name": "DropdownModel",
            "index": 17,
            "_view_module": "@jupyter-widgets/controls",
            "_model_module_version": "1.5.0",
            "_view_count": null,
            "disabled": false,
            "_view_module_version": "1.5.0",
            "description_tooltip": null,
            "_model_module": "@jupyter-widgets/controls",
            "layout": "IPY_MODEL_6c7340b9196d44bea197f6472d4cf0d5"
          }
        },
        "1e1b08e8933e429ea69b30366092bb53": {
          "model_module": "@jupyter-widgets/controls",
          "model_name": "SliderStyleModel",
          "state": {
            "_view_name": "StyleView",
            "handle_color": null,
            "_model_name": "SliderStyleModel",
            "description_width": "",
            "_view_module": "@jupyter-widgets/base",
            "_model_module_version": "1.5.0",
            "_view_count": null,
            "_view_module_version": "1.2.0",
            "_model_module": "@jupyter-widgets/controls"
          }
        },
        "d11dd0125eb6474c9fec6397ffea94e0": {
          "model_module": "@jupyter-widgets/base",
          "model_name": "LayoutModel",
          "state": {
            "_view_name": "LayoutView",
            "grid_template_rows": null,
            "right": null,
            "justify_content": null,
            "_view_module": "@jupyter-widgets/base",
            "overflow": null,
            "_model_module_version": "1.2.0",
            "_view_count": null,
            "flex_flow": null,
            "width": null,
            "min_width": null,
            "border": null,
            "align_items": null,
            "bottom": null,
            "_model_module": "@jupyter-widgets/base",
            "top": null,
            "grid_column": null,
            "overflow_y": null,
            "overflow_x": null,
            "grid_auto_flow": null,
            "grid_area": null,
            "grid_template_columns": null,
            "flex": null,
            "_model_name": "LayoutModel",
            "justify_items": null,
            "grid_row": null,
            "max_height": null,
            "align_content": null,
            "visibility": null,
            "align_self": null,
            "height": null,
            "min_height": null,
            "padding": null,
            "grid_auto_rows": null,
            "grid_gap": null,
            "max_width": null,
            "order": null,
            "_view_module_version": "1.2.0",
            "grid_template_areas": null,
            "object_position": null,
            "object_fit": null,
            "grid_auto_columns": null,
            "margin": null,
            "display": null,
            "left": null
          }
        },
        "21ee4d80e0754a9f8b126b52a93ac3d9": {
          "model_module": "@jupyter-widgets/controls",
          "model_name": "DescriptionStyleModel",
          "state": {
            "_view_name": "StyleView",
            "_model_name": "DescriptionStyleModel",
            "description_width": "",
            "_view_module": "@jupyter-widgets/base",
            "_model_module_version": "1.5.0",
            "_view_count": null,
            "_view_module_version": "1.2.0",
            "_model_module": "@jupyter-widgets/controls"
          }
        },
        "36f4336570424179be92774061885095": {
          "model_module": "@jupyter-widgets/base",
          "model_name": "LayoutModel",
          "state": {
            "_view_name": "LayoutView",
            "grid_template_rows": null,
            "right": null,
            "justify_content": null,
            "_view_module": "@jupyter-widgets/base",
            "overflow": null,
            "_model_module_version": "1.2.0",
            "_view_count": null,
            "flex_flow": null,
            "width": null,
            "min_width": null,
            "border": null,
            "align_items": null,
            "bottom": null,
            "_model_module": "@jupyter-widgets/base",
            "top": null,
            "grid_column": null,
            "overflow_y": null,
            "overflow_x": null,
            "grid_auto_flow": null,
            "grid_area": null,
            "grid_template_columns": null,
            "flex": null,
            "_model_name": "LayoutModel",
            "justify_items": null,
            "grid_row": null,
            "max_height": null,
            "align_content": null,
            "visibility": null,
            "align_self": null,
            "height": null,
            "min_height": null,
            "padding": null,
            "grid_auto_rows": null,
            "grid_gap": null,
            "max_width": null,
            "order": null,
            "_view_module_version": "1.2.0",
            "grid_template_areas": null,
            "object_position": null,
            "object_fit": null,
            "grid_auto_columns": null,
            "margin": null,
            "display": null,
            "left": null
          }
        },
        "27dba8814b32450186d432834805119e": {
          "model_module": "@jupyter-widgets/controls",
          "model_name": "DescriptionStyleModel",
          "state": {
            "_view_name": "StyleView",
            "_model_name": "DescriptionStyleModel",
            "description_width": "",
            "_view_module": "@jupyter-widgets/base",
            "_model_module_version": "1.5.0",
            "_view_count": null,
            "_view_module_version": "1.2.0",
            "_model_module": "@jupyter-widgets/controls"
          }
        },
        "8cbf9e234b6747e884f893906b030537": {
          "model_module": "@jupyter-widgets/base",
          "model_name": "LayoutModel",
          "state": {
            "_view_name": "LayoutView",
            "grid_template_rows": null,
            "right": null,
            "justify_content": null,
            "_view_module": "@jupyter-widgets/base",
            "overflow": null,
            "_model_module_version": "1.2.0",
            "_view_count": null,
            "flex_flow": null,
            "width": null,
            "min_width": null,
            "border": null,
            "align_items": null,
            "bottom": null,
            "_model_module": "@jupyter-widgets/base",
            "top": null,
            "grid_column": null,
            "overflow_y": null,
            "overflow_x": null,
            "grid_auto_flow": null,
            "grid_area": null,
            "grid_template_columns": null,
            "flex": null,
            "_model_name": "LayoutModel",
            "justify_items": null,
            "grid_row": null,
            "max_height": null,
            "align_content": null,
            "visibility": null,
            "align_self": null,
            "height": null,
            "min_height": null,
            "padding": null,
            "grid_auto_rows": null,
            "grid_gap": null,
            "max_width": null,
            "order": null,
            "_view_module_version": "1.2.0",
            "grid_template_areas": null,
            "object_position": null,
            "object_fit": null,
            "grid_auto_columns": null,
            "margin": null,
            "display": null,
            "left": null
          }
        },
        "3bdb47b784c84713bf99205e319362f7": {
          "model_module": "@jupyter-widgets/controls",
          "model_name": "DescriptionStyleModel",
          "state": {
            "_view_name": "StyleView",
            "_model_name": "DescriptionStyleModel",
            "description_width": "",
            "_view_module": "@jupyter-widgets/base",
            "_model_module_version": "1.5.0",
            "_view_count": null,
            "_view_module_version": "1.2.0",
            "_model_module": "@jupyter-widgets/controls"
          }
        },
        "70aa594380c84797ba7c24c0bee67f6d": {
          "model_module": "@jupyter-widgets/base",
          "model_name": "LayoutModel",
          "state": {
            "_view_name": "LayoutView",
            "grid_template_rows": null,
            "right": null,
            "justify_content": null,
            "_view_module": "@jupyter-widgets/base",
            "overflow": null,
            "_model_module_version": "1.2.0",
            "_view_count": null,
            "flex_flow": null,
            "width": null,
            "min_width": null,
            "border": null,
            "align_items": null,
            "bottom": null,
            "_model_module": "@jupyter-widgets/base",
            "top": null,
            "grid_column": null,
            "overflow_y": null,
            "overflow_x": null,
            "grid_auto_flow": null,
            "grid_area": null,
            "grid_template_columns": null,
            "flex": null,
            "_model_name": "LayoutModel",
            "justify_items": null,
            "grid_row": null,
            "max_height": null,
            "align_content": null,
            "visibility": null,
            "align_self": null,
            "height": null,
            "min_height": null,
            "padding": null,
            "grid_auto_rows": null,
            "grid_gap": null,
            "max_width": null,
            "order": null,
            "_view_module_version": "1.2.0",
            "grid_template_areas": null,
            "object_position": null,
            "object_fit": null,
            "grid_auto_columns": null,
            "margin": null,
            "display": null,
            "left": null
          }
        },
        "707ee2e23e6a479c98e575786d9b791e": {
          "model_module": "@jupyter-widgets/controls",
          "model_name": "DescriptionStyleModel",
          "state": {
            "_view_name": "StyleView",
            "_model_name": "DescriptionStyleModel",
            "description_width": "",
            "_view_module": "@jupyter-widgets/base",
            "_model_module_version": "1.5.0",
            "_view_count": null,
            "_view_module_version": "1.2.0",
            "_model_module": "@jupyter-widgets/controls"
          }
        },
        "1e3622e08b3240cab80bc41e5d1b4f3e": {
          "model_module": "@jupyter-widgets/base",
          "model_name": "LayoutModel",
          "state": {
            "_view_name": "LayoutView",
            "grid_template_rows": null,
            "right": null,
            "justify_content": null,
            "_view_module": "@jupyter-widgets/base",
            "overflow": null,
            "_model_module_version": "1.2.0",
            "_view_count": null,
            "flex_flow": null,
            "width": null,
            "min_width": null,
            "border": null,
            "align_items": null,
            "bottom": null,
            "_model_module": "@jupyter-widgets/base",
            "top": null,
            "grid_column": null,
            "overflow_y": null,
            "overflow_x": null,
            "grid_auto_flow": null,
            "grid_area": null,
            "grid_template_columns": null,
            "flex": null,
            "_model_name": "LayoutModel",
            "justify_items": null,
            "grid_row": null,
            "max_height": null,
            "align_content": null,
            "visibility": null,
            "align_self": null,
            "height": null,
            "min_height": null,
            "padding": null,
            "grid_auto_rows": null,
            "grid_gap": null,
            "max_width": null,
            "order": null,
            "_view_module_version": "1.2.0",
            "grid_template_areas": null,
            "object_position": null,
            "object_fit": null,
            "grid_auto_columns": null,
            "margin": null,
            "display": null,
            "left": null
          }
        },
        "7aebd5797aa54a62968c589b9ce938c4": {
          "model_module": "@jupyter-widgets/controls",
          "model_name": "DescriptionStyleModel",
          "state": {
            "_view_name": "StyleView",
            "_model_name": "DescriptionStyleModel",
            "description_width": "",
            "_view_module": "@jupyter-widgets/base",
            "_model_module_version": "1.5.0",
            "_view_count": null,
            "_view_module_version": "1.2.0",
            "_model_module": "@jupyter-widgets/controls"
          }
        },
        "6c7340b9196d44bea197f6472d4cf0d5": {
          "model_module": "@jupyter-widgets/base",
          "model_name": "LayoutModel",
          "state": {
            "_view_name": "LayoutView",
            "grid_template_rows": null,
            "right": null,
            "justify_content": null,
            "_view_module": "@jupyter-widgets/base",
            "overflow": null,
            "_model_module_version": "1.2.0",
            "_view_count": null,
            "flex_flow": null,
            "width": null,
            "min_width": null,
            "border": null,
            "align_items": null,
            "bottom": null,
            "_model_module": "@jupyter-widgets/base",
            "top": null,
            "grid_column": null,
            "overflow_y": null,
            "overflow_x": null,
            "grid_auto_flow": null,
            "grid_area": null,
            "grid_template_columns": null,
            "flex": null,
            "_model_name": "LayoutModel",
            "justify_items": null,
            "grid_row": null,
            "max_height": null,
            "align_content": null,
            "visibility": null,
            "align_self": null,
            "height": null,
            "min_height": null,
            "padding": null,
            "grid_auto_rows": null,
            "grid_gap": null,
            "max_width": null,
            "order": null,
            "_view_module_version": "1.2.0",
            "grid_template_areas": null,
            "object_position": null,
            "object_fit": null,
            "grid_auto_columns": null,
            "margin": null,
            "display": null,
            "left": null
          }
        }
      }
    },
    "accelerator": "GPU"
  },
  "cells": [
    {
      "cell_type": "markdown",
      "metadata": {
        "id": "view-in-github",
        "colab_type": "text"
      },
      "source": [
        "<a href=\"https://colab.research.google.com/github/taichihaya/event/blob/master/%E3%82%A4%E3%83%99%E3%83%B3%E3%83%88%E3%82%B9%E3%82%AF%E3%83%AA%E3%83%97%E3%83%88%EF%BC%88%E5%89%8D%E5%87%A6%E7%90%86%E3%81%AA%E3%81%97%EF%BC%89.ipynb\" target=\"_parent\"><img src=\"https://colab.research.google.com/assets/colab-badge.svg\" alt=\"Open In Colab\"/></a>"
      ]
    },
    {
      "cell_type": "markdown",
      "metadata": {
        "id": "Wgwt4m2N-ttD",
        "colab_type": "text"
      },
      "source": [
        "# **１．使用する言語・ツール**\n",
        "### tableau  \n",
        "データを可視化するときに使用するツールで、比較的容易に、美しく可視化できるのが特徴です。  \n",
        "今回、解約に関する基礎集計はtableauを使用します。\n",
        "\n",
        "### Python  \n",
        "機械学習や統計分析でよく使用されるプログラミング言語です。<br>\n",
        "今回、予測モデルの作成はPythonを使用します。\n",
        "\n",
        "### jupyter notebook  \n",
        "Pythonで作成したプログラムを実行、結果を記録しながらデータ分析を進めるためのツールです。 \n",
        "### Google Colaboratory  \n",
        "jupyter notebook を設定不要で、インターネット環境があれば無料で利用できるサービスです。\n"
      ]
    },
    {
      "cell_type": "markdown",
      "metadata": {
        "id": "ttzTbfhVY5cn",
        "colab_type": "text"
      },
      "source": [
        "# **２．解約に関する基礎集計**  \n",
        "tableauで作成したダッシュボードを用意しているので、URLにアクセスしてください。  \n",
        "https://public.tableau.com/profile/taichi.hayakawa#!/vizhome/teleco0104/1"
      ]
    },
    {
      "cell_type": "markdown",
      "metadata": {
        "id": "azeVGNb9XGIJ",
        "colab_type": "text"
      },
      "source": [
        "# **３．予測モデルの作成**"
      ]
    },
    {
      "cell_type": "markdown",
      "metadata": {
        "id": "Zl7EpbCZQZ_W",
        "colab_type": "text"
      },
      "source": [
        "## **3-1．データ取り込み、モデル作成準備**\n",
        "セルにカーソルを合わせて「Shift+Enter」を押してください  \n",
        "（ここは特に説明はせず、ただ実行してもらう想定）\n"
      ]
    },
    {
      "cell_type": "code",
      "metadata": {
        "id": "QyAaTPcNOMC0",
        "colab_type": "code",
        "colab": {}
      },
      "source": [
        "###### 日本語フォントを使用できるようにする ######\n",
        "!apt-get -y install fonts-ipafont-gothic\n",
        "!rm /root/.cache/matplotlib/fontlist-v310.json\n",
        "\n",
        "###### ライブラリのインストール ######\n",
        "!pip install dtreeviz\n",
        "import pandas as pd\n",
        "import ipywidgets as widgets\n",
        "from ipywidgets import HBox, VBox\n",
        "from IPython.display import display\n",
        "%matplotlib inline\n",
        "from sklearn.model_selection import train_test_split\n",
        "from sklearn.tree import DecisionTreeClassifier\n",
        "from dtreeviz.trees import dtreeviz\n",
        "import warnings\n",
        "warnings.filterwarnings(\"ignore\")\n",
        "\n",
        "###### データの取り込み ######\n",
        "modeling_data_url = 'https://raw.githubusercontent.com/taichihaya/event/master/modeling_data.csv'\n",
        "modeling_data = pd.read_csv(modeling_data_url, error_bad_lines=False)\n",
        "\n",
        "\n",
        "###### モデルの作成、結果の可視化 ######\n",
        "def display_result():\n",
        "  # データを選択した変数に絞る\n",
        "  selected_data = modeling_data[[dropdown1.value,dropdown2.value,dropdown3.value,dropdown4.value,dropdown5.value]]\n",
        "  # 訓練用、テスト用に分割\n",
        "  X_train, X_test, y_train, y_test = train_test_split(selected_data,modeling_data['解約'], random_state=123)\n",
        "  # 学習\n",
        "  clf = DecisionTreeClassifier(max_depth=parameter.value)\n",
        "  clf.fit(X_train, y_train)\n",
        "\n",
        "  # 正解率の算出\n",
        "  print('訓練データの正解率：{:.2%}'.format(clf.score(X_train, y_train)))\n",
        "  print('テストデータの正解率：{:.2%}'.format(clf.score(X_test, y_test)))\n",
        "\n",
        "  viz = dtreeviz(clf,X_train,y_train,target_name='target',\n",
        "                feature_names=selected_data.columns.to_list(),\n",
        "                class_names=[0,1],fontname='IPAGothic',\n",
        "                scale=1.0,label_fontsize=14,ticks_fontsize=14,fancy=False) \n",
        "  display(viz)\n",
        "\n",
        "###### 変数・パラメータ選択に使用するドロップダウン、スライダーの作成 ######\n",
        "\n",
        "# IDと正解ラベルは変数の選択肢から外す\n",
        "col = [e for e in modeling_data.columns if e != 'ID' and e != '解約']\n",
        "\n",
        "# 変数選択用ドロップダウンの作成\n",
        "dropdown1 = widgets.Dropdown(options=col,description='変数1:')\n",
        "dropdown2 = widgets.Dropdown(options=col,description='変数2:')\n",
        "dropdown3 = widgets.Dropdown(options=col,description='変数3:')\n",
        "dropdown4 = widgets.Dropdown(options=col,description='変数4:')\n",
        "dropdown5 = widgets.Dropdown(options=col,description='変数5:')\n",
        "variables = VBox(children=[dropdown1,dropdown2,dropdown3,dropdown4,dropdown5])\n",
        "\n",
        "# パラメータ設定用スライダーの作成\n",
        "parameter = widgets.IntSlider(min=2,max=8,description='木の深さ')\n",
        "\n",
        "\n",
        "###### コンペ正解率確認用 ######\n",
        "def display_competition_result():\n",
        "  competition_data_url = 'https://raw.githubusercontent.com/taichihaya/event/master/competition_data.csv'\n",
        "  competition_data = pd.read_csv(competition_data_url, error_bad_lines=False)\n",
        "  # 選択した変数のデータフレームの作成\n",
        "  selected_data = modeling_data[[dropdown1.value,dropdown2.value,dropdown3.value,dropdown4.value,dropdown5.value]]\n",
        "  # 訓練用、テスト用に分割\n",
        "  X_train, X_test, y_train, y_test = train_test_split(selected_data,modeling_data['解約'], random_state=11)\n",
        "  # 学習\n",
        "  clf = DecisionTreeClassifier(max_depth=parameter.value)\n",
        "  clf.fit(X_train, y_train)\n",
        "\n",
        "  # 選択した変数のデータフレームの作成\n",
        "  competition_X = competition_data[[dropdown1.value,dropdown2.value,dropdown3.value,dropdown4.value,dropdown5.value]]\n",
        "  competition_y = competition_data['解約']\n",
        "\n",
        "  print('最終正解率：{:.2%}'.format(clf.score(competition_X, competition_y)))\n",
        "\n",
        "# 実行結果を削除\n",
        "from IPython.display import clear_output\n",
        "clear_output()"
      ],
      "execution_count": 0,
      "outputs": []
    },
    {
      "cell_type": "markdown",
      "metadata": {
        "id": "LHZcMuGGXRPZ",
        "colab_type": "text"
      },
      "source": [
        "## 3-2．変数、パラメータの選択\n",
        "下のセルを「Shift+Enter」で実行した後、使用する変数とパラメータを設定してください  \n",
        "※実行するのは最初の1回のみでOK"
      ]
    },
    {
      "cell_type": "code",
      "metadata": {
        "id": "FVxKePuBN3ey",
        "colab_type": "code",
        "outputId": "541670a4-0ee9-4aa7-a684-d3aa1d17e7d4",
        "colab": {
          "base_uri": "https://localhost:8080/",
          "height": 209,
          "referenced_widgets": [
            "c374862712d844e78aee48a5e84dafb9",
            "c0b1d4387d1f493fb70a544f5b5e4759",
            "3bb3ade8ec9d4fdeb8485ef6f3e146b9",
            "f605b738bb4541749aad68c374eaa7f9",
            "b4e857f1f2214b4ba130f671ce8f0eb4",
            "badb64fecdc84319a9e0f1ae65bed6df",
            "4165a28417c04c71af4e80325dee989f",
            "a9a2c44c0d6c45f8a69dc6caa1da9922",
            "eb0017ab8da34ce195a2c1bf0b94c2a7",
            "0dddb8df6f7c4cf4b716cb4b7524ec24",
            "1e1b08e8933e429ea69b30366092bb53",
            "d11dd0125eb6474c9fec6397ffea94e0",
            "21ee4d80e0754a9f8b126b52a93ac3d9",
            "36f4336570424179be92774061885095",
            "27dba8814b32450186d432834805119e",
            "8cbf9e234b6747e884f893906b030537",
            "3bdb47b784c84713bf99205e319362f7",
            "70aa594380c84797ba7c24c0bee67f6d",
            "707ee2e23e6a479c98e575786d9b791e",
            "1e3622e08b3240cab80bc41e5d1b4f3e",
            "7aebd5797aa54a62968c589b9ce938c4",
            "6c7340b9196d44bea197f6472d4cf0d5"
          ]
        }
      },
      "source": [
        "# 表示\n",
        "VBox(children=[variables,parameter])"
      ],
      "execution_count": 0,
      "outputs": [
        {
          "output_type": "display_data",
          "data": {
            "application/vnd.jupyter.widget-view+json": {
              "model_id": "c374862712d844e78aee48a5e84dafb9",
              "version_minor": 0,
              "version_major": 2
            },
            "text/plain": [
              "VBox(children=(VBox(children=(Dropdown(description='変数1:', options=('性別', '年齢区分', '婚姻有無', '扶養家族', '利用月数', '電話ｻ…"
            ]
          },
          "metadata": {
            "tags": []
          }
        }
      ]
    },
    {
      "cell_type": "markdown",
      "metadata": {
        "id": "C_Sda0qeXc8B",
        "colab_type": "text"
      },
      "source": [
        "## 3-3．結果の表示\n",
        "変数とパラメータを設定したあと、下記のセルを「Shift+Enter」で実行してください。  \n",
        "作成された決定木と、モデルの正解率が出力されます。  \n",
        "様々な変数・パラメータの組み合わせを試して、正解率の高いモデルを目指しましょう！"
      ]
    },
    {
      "cell_type": "code",
      "metadata": {
        "id": "GSPyB59pTIz_",
        "colab_type": "code",
        "outputId": "438352cf-fb14-407f-b5bc-85d44c88df8b",
        "colab": {
          "base_uri": "https://localhost:8080/",
          "height": 280
        }
      },
      "source": [
        "display_result()"
      ],
      "execution_count": 0,
      "outputs": [
        {
          "output_type": "stream",
          "text": [
            "訓練データの正解率：75.02%\n",
            "テストデータの正解率：75.91%\n"
          ],
          "name": "stdout"
        },
        {
          "output_type": "stream",
          "text": [
            "findfont: Font family ['Arial'] not found. Falling back to DejaVu Sans.\n"
          ],
          "name": "stderr"
        },
        {
          "output_type": "display_data",
          "data": {
            "text/plain": [
              "<dtreeviz.trees.DTreeViz at 0x7f912ea39908>"
            ],
            "image/svg+xml": "<svg xmlns=\"http://www.w3.org/2000/svg\" xmlns:xlink=\"http://www.w3.org/1999/xlink\" height=\"207.0\" viewBox=\"0.0 0.0 326.5 207.0\" width=\"327.0\">\n<g class=\"graph\" id=\"graph0\" transform=\"scale(1.0 1.0) rotate(0) translate(4 203)\">\n<title>G</title>\n<polygon fill=\"#ffffff\" points=\"-4,4 -4,-203 322.5,-203 322.5,4 -4,4\" stroke=\"transparent\" />\n<g class=\"cluster\" id=\"clust4\">\n<title>cluster_legend</title>\n</g>\n\n<g class=\"node\" id=\"node1\">\n<title>node1</title>\n<text fill=\"#444443\" font-family=\"Helvetica,sans-Serif\" font-size=\"12.00\" text-anchor=\"start\" x=\"46.5\" y=\"-104.4\">&#26376;&#38989;&#25903;&#25173;&#38989;@68.62</text>\n</g>\n\n<g class=\"node\" id=\"node2\">\n<title>node4</title>\n<text fill=\"#444443\" font-family=\"Helvetica,sans-Serif\" font-size=\"12.00\" text-anchor=\"start\" x=\"163.5\" y=\"-104.4\">&#26376;&#38989;&#25903;&#25173;&#38989;@93.67</text>\n</g>\n\n\n<g class=\"node\" id=\"node4\">\n<title>leaf2</title>\n<polygon fill=\"none\" points=\"68,-84 0,-84 0,0 68,0 68,-84\" stroke=\"#444443\" stroke-width=\"0\" />\n<svg height=\"76px\" preserveAspectRatio=\"xMinYMin meet\" version=\"1.1\" viewBox=\"0 0 79.184719 101.0209\" width=\"60px\" x=\"4\" y=\"-80\">\n <defs>\n  <style type=\"text/css\">\n*{stroke-linecap:butt;stroke-linejoin:round;}\n  </style>\n </defs>\n <g id=\"figure_1\">\n  <g id=\"patch_1\">\n   <path d=\"M 0 101.0209  L 79.184719 101.0209  L 79.184719 0  L 0 0  z \" style=\"fill:#ffffff;\" />\n  </g>\n  <g id=\"axes_1\">\n   <g id=\"patch_2\">\n    <path d=\"M 79.184719 39.831756  C 79.184719 32.453511 77.104796 25.222583 73.184556 18.971966  C 69.264315 12.721349 63.660304 7.700648 57.018095 4.48824  C 50.375886 1.275833 42.960723 0 35.626822 0.807716  C 28.292922 1.615432 21.333148 4.474443 15.549258 9.055393  C 9.765367 13.636344 5.388327 19.756304 2.922367 26.710263  C 0.456407 33.664222 0 41.174487 1.605723 48.375886  C 3.211446 55.577286 6.815178 62.182246 12.001775 67.429886  C 17.188371 72.677525 23.750715 76.35829 30.932834 78.048161  L 39.924719 39.831756  L 79.184719 39.831756  z \" style=\"fill:#fefebb;stroke:#444443;stroke-linejoin:miter;stroke-width:0.5;\" />\n   </g>\n   <g id=\"patch_3\">\n    <path d=\"M 30.932834 78.048161  C 36.695437 79.404036 42.690777 79.43911 48.468849 78.150752  C 54.246922 76.862393 59.659452 74.283663 64.30018 70.608119  C 68.940908 66.932574 72.690746 62.254535 75.268235 56.925132  C 77.845723 51.595728 79.184719 45.751721 79.184719 39.831756  L 39.924719 39.831756  L 30.932834 78.048161  z \" style=\"fill:#a1dab4;stroke:#444443;stroke-linejoin:miter;stroke-width:0.5;\" />\n   </g>\n   <g id=\"text_1\">\n    \n    <defs>\n     <path d=\"M 54.890625 33.015625  L 54.890625 0  L 45.90625 0  L 45.90625 32.71875  Q 45.90625 40.484375 42.875 44.328125  Q 39.84375 48.1875 33.796875 48.1875  Q 26.515625 48.1875 22.3125 43.546875  Q 18.109375 38.921875 18.109375 30.90625  L 18.109375 0  L 9.078125 0  L 9.078125 54.6875  L 18.109375 54.6875  L 18.109375 46.1875  Q 21.34375 51.125 25.703125 53.5625  Q 30.078125 56 35.796875 56  Q 45.21875 56 50.046875 50.171875  Q 54.890625 44.34375 54.890625 33.015625  z \" id=\"DejaVuSans-110\" />\n     <path d=\"M 10.59375 45.40625  L 73.1875 45.40625  L 73.1875 37.203125  L 10.59375 37.203125  z M 10.59375 25.484375  L 73.1875 25.484375  L 73.1875 17.1875  L 10.59375 17.1875  z \" id=\"DejaVuSans-61\" />\n     <path d=\"M 12.40625 8.296875  L 28.515625 8.296875  L 28.515625 63.921875  L 10.984375 60.40625  L 10.984375 69.390625  L 28.421875 72.90625  L 38.28125 72.90625  L 38.28125 8.296875  L 54.390625 8.296875  L 54.390625 0  L 12.40625 0  z \" id=\"DejaVuSans-49\" />\n     <path d=\"M 31.78125 66.40625  Q 24.171875 66.40625 20.328125 58.90625  Q 16.5 51.421875 16.5 36.375  Q 16.5 21.390625 20.328125 13.890625  Q 24.171875 6.390625 31.78125 6.390625  Q 39.453125 6.390625 43.28125 13.890625  Q 47.125 21.390625 47.125 36.375  Q 47.125 51.421875 43.28125 58.90625  Q 39.453125 66.40625 31.78125 66.40625  z M 31.78125 74.21875  Q 44.046875 74.21875 50.515625 64.515625  Q 56.984375 54.828125 56.984375 36.375  Q 56.984375 17.96875 50.515625 8.265625  Q 44.046875 -1.421875 31.78125 -1.421875  Q 19.53125 -1.421875 13.0625 8.265625  Q 6.59375 17.96875 6.59375 36.375  Q 6.59375 54.828125 13.0625 64.515625  Q 19.53125 74.21875 31.78125 74.21875  z \" id=\"DejaVuSans-48\" />\n     <path d=\"M 8.203125 72.90625  L 55.078125 72.90625  L 55.078125 68.703125  L 28.609375 0  L 18.3125 0  L 43.21875 64.59375  L 8.203125 64.59375  z \" id=\"DejaVuSans-55\" />\n     <path d=\"M 37.796875 64.3125  L 12.890625 25.390625  L 37.796875 25.390625  z M 35.203125 72.90625  L 47.609375 72.90625  L 47.609375 25.390625  L 58.015625 25.390625  L 58.015625 17.1875  L 47.609375 17.1875  L 47.609375 0  L 37.796875 0  L 37.796875 17.1875  L 4.890625 17.1875  L 4.890625 26.703125  z \" id=\"DejaVuSans-52\" />\n    </defs>\n    <g style=\"fill:#444443;\" transform=\"translate(21.849484 89.07115)scale(0.09 -0.09)\">\n     <use xlink:href=\"#DejaVuSans-110\" />\n     <use x=\"63.378906\" xlink:href=\"#DejaVuSans-61\" />\n     <use x=\"147.167969\" xlink:href=\"#DejaVuSans-49\" />\n     <use x=\"210.791016\" xlink:href=\"#DejaVuSans-48\" />\n     <use x=\"274.414062\" xlink:href=\"#DejaVuSans-55\" />\n     <use x=\"338.037109\" xlink:href=\"#DejaVuSans-52\" />\n    </g>\n    \n    <g style=\"fill:#444443;\" transform=\"translate(37.061594 99.149181)scale(0.09 -0.09)\">\n     <use xlink:href=\"#DejaVuSans-48\" />\n    </g>\n   </g>\n  </g>\n </g>\n</svg></g>\n\n<g class=\"edge\" id=\"edge1\">\n<title>node1-&gt;leaf2</title>\n<path d=\"M91.6295,-100.9801C86.5608,-95.7927 79.0164,-88.0714 71.0435,-79.9117\" fill=\"none\" stroke=\"#444443\" stroke-width=\".3\" />\n<polygon fill=\"#444443\" points=\"71.8873,-78.7721 68.0905,-76.8895 69.8846,-80.7289 71.8873,-78.7721\" stroke=\"#444443\" stroke-width=\".3\" />\n</g>\n\n<g class=\"node\" id=\"node5\">\n<title>leaf3</title>\n<polygon fill=\"none\" points=\"148.5,-84 81.5,-84 81.5,0 148.5,0 148.5,-84\" stroke=\"#444443\" stroke-width=\"0\" />\n<svg height=\"76px\" preserveAspectRatio=\"xMinYMin meet\" version=\"1.1\" viewBox=\"0 0 78.887627 101.061699\" width=\"59px\" x=\"86\" y=\"-80\">\n <defs>\n  <style type=\"text/css\">\n*{stroke-linecap:butt;stroke-linejoin:round;}\n  </style>\n </defs>\n <g id=\"figure_1\">\n  <g id=\"patch_1\">\n   <path d=\"M -0 101.061699  L 78.887627 101.061699  L 78.887627 -0  L -0 -0  z \" style=\"fill:#ffffff;\" />\n  </g>\n  <g id=\"axes_1\">\n   <g id=\"patch_2\">\n    <path d=\"M 78.887626 39.872555  C 78.887626 29.952843 75.128047 20.392608 68.371101 13.130075  C 61.614154 5.867543 52.349566 1.429084 42.455622 0.714542  C 32.561678 0 22.755466 3.061164 15.02508 9.27742  C 7.294694 15.493675 2.200412 24.414484 0.775041 34.231256  L 39.627626 39.872555  L 78.887626 39.872555  z \" style=\"fill:#fefebb;stroke:#444443;stroke-linejoin:miter;stroke-width:0.5;\" />\n   </g>\n   <g id=\"patch_3\">\n    <path d=\"M 0.775041 34.231256  C 0 39.569094 0.333234 45.009829 1.753901 50.213184  C 3.174569 55.41654 5.652422 60.271731 9.032491 64.475103  C 12.41256 68.678475 16.622879 72.140534 21.400126 74.644755  C 26.177372 77.148975 31.419833 78.64204 36.799633 79.030569  C 42.179433 79.419099 47.582031 78.69482 52.669535 76.903032  C 57.757039 75.111244 62.421132 72.290095 66.37011 68.616027  C 70.319088 64.941958 73.468873 60.493196 75.622471 55.547974  C 77.776069 50.602751 78.887627 45.26636 78.887626 39.872548  L 39.627626 39.872555  L 0.775041 34.231256  z \" style=\"fill:#a1dab4;stroke:#444443;stroke-linejoin:miter;stroke-width:0.5;\" />\n   </g>\n   <g id=\"text_1\">\n    \n    <defs>\n     <path d=\"M 54.890625 33.015625  L 54.890625 0  L 45.90625 0  L 45.90625 32.71875  Q 45.90625 40.484375 42.875 44.328125  Q 39.84375 48.1875 33.796875 48.1875  Q 26.515625 48.1875 22.3125 43.546875  Q 18.109375 38.921875 18.109375 30.90625  L 18.109375 0  L 9.078125 0  L 9.078125 54.6875  L 18.109375 54.6875  L 18.109375 46.1875  Q 21.34375 51.125 25.703125 53.5625  Q 30.078125 56 35.796875 56  Q 45.21875 56 50.046875 50.171875  Q 54.890625 44.34375 54.890625 33.015625  z \" id=\"DejaVuSans-110\" />\n     <path d=\"M 10.59375 45.40625  L 73.1875 45.40625  L 73.1875 37.203125  L 10.59375 37.203125  z M 10.59375 25.484375  L 73.1875 25.484375  L 73.1875 17.1875  L 10.59375 17.1875  z \" id=\"DejaVuSans-61\" />\n     <path d=\"M 12.40625 8.296875  L 28.515625 8.296875  L 28.515625 63.921875  L 10.984375 60.40625  L 10.984375 69.390625  L 28.421875 72.90625  L 38.28125 72.90625  L 38.28125 8.296875  L 54.390625 8.296875  L 54.390625 0  L 12.40625 0  z \" id=\"DejaVuSans-49\" />\n     <path d=\"M 37.796875 64.3125  L 12.890625 25.390625  L 37.796875 25.390625  z M 35.203125 72.90625  L 47.609375 72.90625  L 47.609375 25.390625  L 58.015625 25.390625  L 58.015625 17.1875  L 47.609375 17.1875  L 47.609375 0  L 37.796875 0  L 37.796875 17.1875  L 4.890625 17.1875  L 4.890625 26.703125  z \" id=\"DejaVuSans-52\" />\n     <path d=\"M 40.578125 39.3125  Q 47.65625 37.796875 51.625 33  Q 55.609375 28.21875 55.609375 21.1875  Q 55.609375 10.40625 48.1875 4.484375  Q 40.765625 -1.421875 27.09375 -1.421875  Q 22.515625 -1.421875 17.65625 -0.515625  Q 12.796875 0.390625 7.625 2.203125  L 7.625 11.71875  Q 11.71875 9.328125 16.59375 8.109375  Q 21.484375 6.890625 26.8125 6.890625  Q 36.078125 6.890625 40.9375 10.546875  Q 45.796875 14.203125 45.796875 21.1875  Q 45.796875 27.640625 41.28125 31.265625  Q 36.765625 34.90625 28.71875 34.90625  L 20.21875 34.90625  L 20.21875 43.015625  L 29.109375 43.015625  Q 36.375 43.015625 40.234375 45.921875  Q 44.09375 48.828125 44.09375 54.296875  Q 44.09375 59.90625 40.109375 62.90625  Q 36.140625 65.921875 28.71875 65.921875  Q 24.65625 65.921875 20.015625 65.03125  Q 15.375 64.15625 9.8125 62.3125  L 9.8125 71.09375  Q 15.4375 72.65625 20.34375 73.4375  Q 25.25 74.21875 29.59375 74.21875  Q 40.828125 74.21875 47.359375 69.109375  Q 53.90625 64.015625 53.90625 55.328125  Q 53.90625 49.265625 50.4375 45.09375  Q 46.96875 40.921875 40.578125 39.3125  z \" id=\"DejaVuSans-51\" />\n     <path d=\"M 31.78125 34.625  Q 24.75 34.625 20.71875 30.859375  Q 16.703125 27.09375 16.703125 20.515625  Q 16.703125 13.921875 20.71875 10.15625  Q 24.75 6.390625 31.78125 6.390625  Q 38.8125 6.390625 42.859375 10.171875  Q 46.921875 13.96875 46.921875 20.515625  Q 46.921875 27.09375 42.890625 30.859375  Q 38.875 34.625 31.78125 34.625  z M 21.921875 38.8125  Q 15.578125 40.375 12.03125 44.71875  Q 8.5 49.078125 8.5 55.328125  Q 8.5 64.0625 14.71875 69.140625  Q 20.953125 74.21875 31.78125 74.21875  Q 42.671875 74.21875 48.875 69.140625  Q 55.078125 64.0625 55.078125 55.328125  Q 55.078125 49.078125 51.53125 44.71875  Q 48 40.375 41.703125 38.8125  Q 48.828125 37.15625 52.796875 32.3125  Q 56.78125 27.484375 56.78125 20.515625  Q 56.78125 9.90625 50.3125 4.234375  Q 43.84375 -1.421875 31.78125 -1.421875  Q 19.734375 -1.421875 13.25 4.234375  Q 6.78125 9.90625 6.78125 20.515625  Q 6.78125 27.484375 10.78125 32.3125  Q 14.796875 37.15625 21.921875 38.8125  z M 18.3125 54.390625  Q 18.3125 48.734375 21.84375 45.5625  Q 25.390625 42.390625 31.78125 42.390625  Q 38.140625 42.390625 41.71875 45.5625  Q 45.3125 48.734375 45.3125 54.390625  Q 45.3125 60.0625 41.71875 63.234375  Q 38.140625 66.40625 31.78125 66.40625  Q 25.390625 66.40625 21.84375 63.234375  Q 18.3125 60.0625 18.3125 54.390625  z \" id=\"DejaVuSans-56\" />\n    </defs>\n    <g style=\"fill:#444443;\" transform=\"translate(21.552391 89.111949)scale(0.09 -0.09)\">\n     <use xlink:href=\"#DejaVuSans-110\" />\n     <use x=\"63.378906\" xlink:href=\"#DejaVuSans-61\" />\n     <use x=\"147.167969\" xlink:href=\"#DejaVuSans-49\" />\n     <use x=\"210.791016\" xlink:href=\"#DejaVuSans-52\" />\n     <use x=\"274.414062\" xlink:href=\"#DejaVuSans-51\" />\n     <use x=\"338.037109\" xlink:href=\"#DejaVuSans-56\" />\n    </g>\n    \n    <g style=\"fill:#444443;\" transform=\"translate(36.764501 99.18998)scale(0.09 -0.09)\">\n     <use xlink:href=\"#DejaVuSans-49\" />\n    </g>\n   </g>\n  </g>\n </g>\n</svg></g>\n\n<g class=\"edge\" id=\"edge2\">\n<title>node1-&gt;leaf3</title>\n<path d=\"M99.6922,-100.9801C100.5756,-97.5765 101.7421,-93.0819 103.0381,-88.0884\" fill=\"none\" stroke=\"#444443\" stroke-width=\".3\" />\n<polygon fill=\"#444443\" points=\"104.4021,-88.4058 104.0519,-84.1823 101.6919,-87.7023 104.4021,-88.4058\" stroke=\"#444443\" stroke-width=\".3\" />\n</g>\n\n<g class=\"node\" id=\"node6\">\n<title>leaf5</title>\n<polygon fill=\"none\" points=\"237.5,-83.5 170.5,-83.5 170.5,-.5 237.5,-.5 237.5,-83.5\" stroke=\"#444443\" stroke-width=\"0\" />\n<svg height=\"75px\" preserveAspectRatio=\"xMinYMin meet\" version=\"1.1\" viewBox=\"0 0 78.831135 100.675713\" width=\"59px\" x=\"175\" y=\"-79\">\n <defs>\n  <style type=\"text/css\">\n*{stroke-linecap:butt;stroke-linejoin:round;}\n  </style>\n </defs>\n <g id=\"figure_1\">\n  <g id=\"patch_1\">\n   <path d=\"M -0 100.675713  L 78.831135 100.675713  L 78.831135 -0  L -0 -0  z \" style=\"fill:#ffffff;\" />\n  </g>\n  <g id=\"axes_1\">\n   <g id=\"patch_2\">\n    <path d=\"M 78.831135 39.486569  C 78.831135 34.529031 77.892119 29.616057 76.063838 25.007957  C 74.235558 20.399858 71.550885 16.17948 68.152062 12.570436  C 64.753239 8.961393 60.701375 6.028569 56.211151 3.927359  C 51.720928 1.826148 46.873075 0.594328 41.924451 0.297164  C 36.975826 0 32.015401 0.642835 27.305996 2.19161  C 22.596592 3.740385 18.222879 6.167254 14.416593 9.343633  C 10.610308 12.520011 7.439882 16.388791 5.073297 20.74499  C 2.706713 25.101189 1.186518 29.866487 0.593259 34.788401  C 0 39.710315 0.344343 44.700354 1.608042 49.494126  C 2.871742 54.287899 5.032079 58.799218 7.97459 62.789058  C 10.917102 66.778897 14.588884 70.175524 18.795393 72.798971  C 23.001901 75.422419 27.667508 77.225521 32.54501 78.112741  C 37.422513 78.999962 42.424219 78.955351 47.28512 77.981271  C 52.146021 77.007191 56.778724 75.121155 60.937768 72.423093  C 65.096813 69.725031 68.707425 66.263451 71.578301 62.22176  C 74.449177 58.18007 76.528702 53.630934 77.706694 48.815383  L 39.571135 39.486569  L 78.831135 39.486569  z \" style=\"fill:#fefebb;stroke:#444443;stroke-linejoin:miter;stroke-width:0.5;\" />\n   </g>\n   <g id=\"patch_3\">\n    <path d=\"M 77.706694 48.815383  C 78.07982 47.29007 78.361097 45.743744 78.549011 44.18474  C 78.736924 42.625736 78.831135 41.056862 78.831135 39.486574  L 39.571135 39.486569  L 77.706694 48.815383  z \" style=\"fill:#a1dab4;stroke:#444443;stroke-linejoin:miter;stroke-width:0.5;\" />\n   </g>\n   <g id=\"text_1\">\n    \n    <defs>\n     <path d=\"M 54.890625 33.015625  L 54.890625 0  L 45.90625 0  L 45.90625 32.71875  Q 45.90625 40.484375 42.875 44.328125  Q 39.84375 48.1875 33.796875 48.1875  Q 26.515625 48.1875 22.3125 43.546875  Q 18.109375 38.921875 18.109375 30.90625  L 18.109375 0  L 9.078125 0  L 9.078125 54.6875  L 18.109375 54.6875  L 18.109375 46.1875  Q 21.34375 51.125 25.703125 53.5625  Q 30.078125 56 35.796875 56  Q 45.21875 56 50.046875 50.171875  Q 54.890625 44.34375 54.890625 33.015625  z \" id=\"DejaVuSans-110\" />\n     <path d=\"M 10.59375 45.40625  L 73.1875 45.40625  L 73.1875 37.203125  L 10.59375 37.203125  z M 10.59375 25.484375  L 73.1875 25.484375  L 73.1875 17.1875  L 10.59375 17.1875  z \" id=\"DejaVuSans-61\" />\n     <path d=\"M 12.40625 8.296875  L 28.515625 8.296875  L 28.515625 63.921875  L 10.984375 60.40625  L 10.984375 69.390625  L 28.421875 72.90625  L 38.28125 72.90625  L 38.28125 8.296875  L 54.390625 8.296875  L 54.390625 0  L 12.40625 0  z \" id=\"DejaVuSans-49\" />\n     <path d=\"M 10.796875 72.90625  L 49.515625 72.90625  L 49.515625 64.59375  L 19.828125 64.59375  L 19.828125 46.734375  Q 21.96875 47.46875 24.109375 47.828125  Q 26.265625 48.1875 28.421875 48.1875  Q 40.625 48.1875 47.75 41.5  Q 54.890625 34.8125 54.890625 23.390625  Q 54.890625 11.625 47.5625 5.09375  Q 40.234375 -1.421875 26.90625 -1.421875  Q 22.3125 -1.421875 17.546875 -0.640625  Q 12.796875 0.140625 7.71875 1.703125  L 7.71875 11.625  Q 12.109375 9.234375 16.796875 8.0625  Q 21.484375 6.890625 26.703125 6.890625  Q 35.15625 6.890625 40.078125 11.328125  Q 45.015625 15.765625 45.015625 23.390625  Q 45.015625 31 40.078125 35.4375  Q 35.15625 39.890625 26.703125 39.890625  Q 22.75 39.890625 18.8125 39.015625  Q 14.890625 38.140625 10.796875 36.28125  z \" id=\"DejaVuSans-53\" />\n     <path d=\"M 10.984375 1.515625  L 10.984375 10.5  Q 14.703125 8.734375 18.5 7.8125  Q 22.3125 6.890625 25.984375 6.890625  Q 35.75 6.890625 40.890625 13.453125  Q 46.046875 20.015625 46.78125 33.40625  Q 43.953125 29.203125 39.59375 26.953125  Q 35.25 24.703125 29.984375 24.703125  Q 19.046875 24.703125 12.671875 31.3125  Q 6.296875 37.9375 6.296875 49.421875  Q 6.296875 60.640625 12.9375 67.421875  Q 19.578125 74.21875 30.609375 74.21875  Q 43.265625 74.21875 49.921875 64.515625  Q 56.59375 54.828125 56.59375 36.375  Q 56.59375 19.140625 48.40625 8.859375  Q 40.234375 -1.421875 26.421875 -1.421875  Q 22.703125 -1.421875 18.890625 -0.6875  Q 15.09375 0.046875 10.984375 1.515625  z M 30.609375 32.421875  Q 37.25 32.421875 41.125 36.953125  Q 45.015625 41.5 45.015625 49.421875  Q 45.015625 57.28125 41.125 61.84375  Q 37.25 66.40625 30.609375 66.40625  Q 23.96875 66.40625 20.09375 61.84375  Q 16.21875 57.28125 16.21875 49.421875  Q 16.21875 41.5 20.09375 36.953125  Q 23.96875 32.421875 30.609375 32.421875  z \" id=\"DejaVuSans-57\" />\n    </defs>\n    <g style=\"fill:#444443;\" transform=\"translate(21.495901 88.725963)scale(0.09 -0.09)\">\n     <use xlink:href=\"#DejaVuSans-110\" />\n     <use x=\"63.378906\" xlink:href=\"#DejaVuSans-61\" />\n     <use x=\"147.167969\" xlink:href=\"#DejaVuSans-49\" />\n     <use x=\"210.791016\" xlink:href=\"#DejaVuSans-53\" />\n     <use x=\"274.414062\" xlink:href=\"#DejaVuSans-49\" />\n     <use x=\"338.037109\" xlink:href=\"#DejaVuSans-57\" />\n    </g>\n    \n    <defs>\n     <path d=\"M 31.78125 66.40625  Q 24.171875 66.40625 20.328125 58.90625  Q 16.5 51.421875 16.5 36.375  Q 16.5 21.390625 20.328125 13.890625  Q 24.171875 6.390625 31.78125 6.390625  Q 39.453125 6.390625 43.28125 13.890625  Q 47.125 21.390625 47.125 36.375  Q 47.125 51.421875 43.28125 58.90625  Q 39.453125 66.40625 31.78125 66.40625  z M 31.78125 74.21875  Q 44.046875 74.21875 50.515625 64.515625  Q 56.984375 54.828125 56.984375 36.375  Q 56.984375 17.96875 50.515625 8.265625  Q 44.046875 -1.421875 31.78125 -1.421875  Q 19.53125 -1.421875 13.0625 8.265625  Q 6.59375 17.96875 6.59375 36.375  Q 6.59375 54.828125 13.0625 64.515625  Q 19.53125 74.21875 31.78125 74.21875  z \" id=\"DejaVuSans-48\" />\n    </defs>\n    <g style=\"fill:#444443;\" transform=\"translate(36.70801 98.803994)scale(0.09 -0.09)\">\n     <use xlink:href=\"#DejaVuSans-48\" />\n    </g>\n   </g>\n  </g>\n </g>\n</svg></g>\n\n<g class=\"edge\" id=\"edge4\">\n<title>node4-&gt;leaf5</title>\n<path d=\"M213.9051,-100.9801C213.3161,-97.4733 212.5327,-92.8085 211.6636,-87.6331\" fill=\"none\" stroke=\"#444443\" stroke-width=\".3\" />\n<polygon fill=\"#444443\" points=\"213.0272,-87.2994 210.984,-83.5866 210.2659,-87.7632 213.0272,-87.2994\" stroke=\"#444443\" stroke-width=\".3\" />\n</g>\n\n<g class=\"node\" id=\"node7\">\n<title>leaf6</title>\n<polygon fill=\"none\" points=\"318.5,-83.5 251.5,-83.5 251.5,-.5 318.5,-.5 318.5,-83.5\" stroke=\"#444443\" stroke-width=\"0\" />\n<svg height=\"75px\" preserveAspectRatio=\"xMinYMin meet\" version=\"1.1\" viewBox=\"0 0 78.711364 100.668477\" width=\"59px\" x=\"256\" y=\"-79\">\n <defs>\n  <style type=\"text/css\">\n*{stroke-linecap:butt;stroke-linejoin:round;}\n  </style>\n </defs>\n <g id=\"figure_1\">\n  <g id=\"patch_1\">\n   <path d=\"M 0 100.668477  L 78.711364 100.668477  L 78.711364 0  L 0 0  z \" style=\"fill:#ffffff;\" />\n  </g>\n  <g id=\"axes_1\">\n   <g id=\"patch_2\">\n    <path d=\"M 78.711364 39.479334  C 78.711364 35.151057 77.995598 30.852422 76.59308 26.757678  C 75.190562 22.662934 73.120503 18.828167 70.466814 15.408823  C 67.813125 11.989479 64.612153 9.032392 60.993654 6.65743  C 57.375154 4.282468 53.388689 2.522162 49.195853 1.447866  C 45.003018 0.37357 40.661241 0 36.34652 0.342298  C 32.031799 0.684596 27.803234 1.738074 23.832232 3.460029  C 19.86123 5.181983 16.202183 7.548828 13.003413 10.464622  C 9.804643 13.380416 7.109964 16.80522 5.028607 20.600209  C 2.947249 24.395197 1.507723 28.508388 0.768378 32.773051  C 0.029034 37.037715 0 41.395436 0.682452 45.669573  C 1.364904 49.943709 2.749495 54.075717 4.7801 57.898102  C 6.810704 61.720487 9.459509 65.180894 12.619142 68.139052  C 15.778776 71.097211 19.40596 73.512602 23.353664 75.287317  C 27.301369 77.062032 31.515521 78.171762 35.825298 78.571523  C 40.135074 78.971284 44.481444 78.6556 48.688222 77.637269  C 52.895 76.618938 56.904567 74.911907 60.554392 72.585373  L 39.451364 39.479334  L 78.711364 39.479334  z \" style=\"fill:#fefebb;stroke:#444443;stroke-linejoin:miter;stroke-width:0.5;\" />\n   </g>\n   <g id=\"patch_3\">\n    <path d=\"M 60.554392 72.585373  C 66.119149 69.038188 70.700748 64.144544 73.87412 58.358462  C 77.047491 52.57238 78.711363 46.07851 78.711364 39.479341  L 39.451364 39.479334  L 60.554392 72.585373  z \" style=\"fill:#a1dab4;stroke:#444443;stroke-linejoin:miter;stroke-width:0.5;\" />\n   </g>\n   <g id=\"text_1\">\n    \n    <defs>\n     <path d=\"M 54.890625 33.015625  L 54.890625 0  L 45.90625 0  L 45.90625 32.71875  Q 45.90625 40.484375 42.875 44.328125  Q 39.84375 48.1875 33.796875 48.1875  Q 26.515625 48.1875 22.3125 43.546875  Q 18.109375 38.921875 18.109375 30.90625  L 18.109375 0  L 9.078125 0  L 9.078125 54.6875  L 18.109375 54.6875  L 18.109375 46.1875  Q 21.34375 51.125 25.703125 53.5625  Q 30.078125 56 35.796875 56  Q 45.21875 56 50.046875 50.171875  Q 54.890625 44.34375 54.890625 33.015625  z \" id=\"DejaVuSans-110\" />\n     <path d=\"M 10.59375 45.40625  L 73.1875 45.40625  L 73.1875 37.203125  L 10.59375 37.203125  z M 10.59375 25.484375  L 73.1875 25.484375  L 73.1875 17.1875  L 10.59375 17.1875  z \" id=\"DejaVuSans-61\" />\n     <path d=\"M 10.796875 72.90625  L 49.515625 72.90625  L 49.515625 64.59375  L 19.828125 64.59375  L 19.828125 46.734375  Q 21.96875 47.46875 24.109375 47.828125  Q 26.265625 48.1875 28.421875 48.1875  Q 40.625 48.1875 47.75 41.5  Q 54.890625 34.8125 54.890625 23.390625  Q 54.890625 11.625 47.5625 5.09375  Q 40.234375 -1.421875 26.90625 -1.421875  Q 22.3125 -1.421875 17.546875 -0.640625  Q 12.796875 0.140625 7.71875 1.703125  L 7.71875 11.625  Q 12.109375 9.234375 16.796875 8.0625  Q 21.484375 6.890625 26.703125 6.890625  Q 35.15625 6.890625 40.078125 11.328125  Q 45.015625 15.765625 45.015625 23.390625  Q 45.015625 31 40.078125 35.4375  Q 35.15625 39.890625 26.703125 39.890625  Q 22.75 39.890625 18.8125 39.015625  Q 14.890625 38.140625 10.796875 36.28125  z \" id=\"DejaVuSans-53\" />\n     <path d=\"M 31.78125 66.40625  Q 24.171875 66.40625 20.328125 58.90625  Q 16.5 51.421875 16.5 36.375  Q 16.5 21.390625 20.328125 13.890625  Q 24.171875 6.390625 31.78125 6.390625  Q 39.453125 6.390625 43.28125 13.890625  Q 47.125 21.390625 47.125 36.375  Q 47.125 51.421875 43.28125 58.90625  Q 39.453125 66.40625 31.78125 66.40625  z M 31.78125 74.21875  Q 44.046875 74.21875 50.515625 64.515625  Q 56.984375 54.828125 56.984375 36.375  Q 56.984375 17.96875 50.515625 8.265625  Q 44.046875 -1.421875 31.78125 -1.421875  Q 19.53125 -1.421875 13.0625 8.265625  Q 6.59375 17.96875 6.59375 36.375  Q 6.59375 54.828125 13.0625 64.515625  Q 19.53125 74.21875 31.78125 74.21875  z \" id=\"DejaVuSans-48\" />\n     <path d=\"M 12.40625 8.296875  L 28.515625 8.296875  L 28.515625 63.921875  L 10.984375 60.40625  L 10.984375 69.390625  L 28.421875 72.90625  L 38.28125 72.90625  L 38.28125 8.296875  L 54.390625 8.296875  L 54.390625 0  L 12.40625 0  z \" id=\"DejaVuSans-49\" />\n    </defs>\n    <g style=\"fill:#444443;\" transform=\"translate(24.239255 88.718727)scale(0.09 -0.09)\">\n     <use xlink:href=\"#DejaVuSans-110\" />\n     <use x=\"63.378906\" xlink:href=\"#DejaVuSans-61\" />\n     <use x=\"147.167969\" xlink:href=\"#DejaVuSans-53\" />\n     <use x=\"210.791016\" xlink:href=\"#DejaVuSans-48\" />\n     <use x=\"274.414062\" xlink:href=\"#DejaVuSans-49\" />\n    </g>\n    \n    <g style=\"fill:#444443;\" transform=\"translate(36.588239 98.796759)scale(0.09 -0.09)\">\n     <use xlink:href=\"#DejaVuSans-48\" />\n    </g>\n   </g>\n  </g>\n </g>\n</svg></g>\n\n<g class=\"edge\" id=\"edge5\">\n<title>node4-&gt;leaf6</title>\n<path d=\"M221.9678,-100.9801C228.2983,-95.0566 238.1599,-85.829 248.2182,-76.4173\" fill=\"none\" stroke=\"#444443\" stroke-width=\".3\" />\n<polygon fill=\"#444443\" points=\"249.3781,-77.2493 251.3423,-73.494 247.465,-75.2047 249.3781,-77.2493\" stroke=\"#444443\" stroke-width=\".3\" />\n</g>\n\n<g class=\"node\" id=\"node3\">\n<title>node0</title>\n<text fill=\"#444443\" font-family=\"Helvetica,sans-Serif\" font-size=\"12.00\" text-anchor=\"start\" x=\"114\" y=\"-164.9\">&#22865;&#32004;&#24418;&#24907;@0.50</text>\n</g>\n\n<g class=\"edge\" id=\"edge7\">\n<title>node0-&gt;node1</title>\n<path d=\"M149.3467,-161.0599C139.0327,-150.3014 119.1501,-129.5617 107.382,-117.2864\" fill=\"none\" stroke=\"#444443\" stroke-width=\".3\" />\n<polygon fill=\"#444443\" points=\"108.3545,-116.2778 104.5757,-114.3592 106.3333,-118.2155 108.3545,-116.2778\" stroke=\"#444443\" stroke-width=\".3\" />\n<text fill=\"#000000\" font-family=\"Times,serif\" font-size=\"14.00\" text-anchor=\"start\" x=\"126\" y=\"-125.8\">&lt;</text>\n</g>\n\n<g class=\"edge\" id=\"edge8\">\n<title>node0-&gt;node4</title>\n<path d=\"M162.7681,-161.0599C173.2598,-150.3014 193.4852,-129.5617 205.4562,-117.2864\" fill=\"none\" stroke=\"#444443\" stroke-width=\".3\" />\n<polygon fill=\"#444443\" points=\"206.5205,-118.2004 208.3109,-114.3592 204.5158,-116.2455 206.5205,-118.2004\" stroke=\"#444443\" stroke-width=\".3\" />\n<text fill=\"#000000\" font-family=\"Times,serif\" font-size=\"14.00\" text-anchor=\"start\" x=\"200\" y=\"-125.8\">&#8805;</text>\n</g>\n\n\n\n<g class=\"node\" id=\"node8\">\n<title>legend</title>\n<polygon fill=\"none\" points=\"251,-191 205,-191 205,-145 251,-145 251,-191\" stroke=\"#000000\" stroke-width=\"0\" />\n<svg height=\"42px\" preserveAspectRatio=\"xMinYMin meet\" version=\"1.1\" viewBox=\"0 0 55.8 55.1125\" width=\"42px\" x=\"207\" y=\"-189\">\n <defs>\n  <style type=\"text/css\">\n*{stroke-linecap:butt;stroke-linejoin:round;}\n  </style>\n </defs>\n <g id=\"figure_1\">\n  <g id=\"patch_1\">\n   <path d=\"M 0 55.1125  L 55.8 55.1125  L 55.8 0  L 0 0  z \" style=\"fill:#ffffff;\" />\n  </g>\n  <g id=\"axes_1\">\n   <g id=\"legend_1\">\n    <g id=\"patch_2\">\n     <path d=\"M 4.310156 55.1125  L 51.489844 55.1125  Q 53.489844 55.1125 53.489844 53.1125  L 53.489844 2  Q 53.489844 -0 51.489844 -0  L 4.310156 -0  Q 2.310156 -0 2.310156 2  L 2.310156 53.1125  Q 2.310156 55.1125 4.310156 55.1125  z \" style=\"fill:#ffffff;opacity:0.8;stroke:#444443;stroke-linejoin:miter;stroke-width:0.5;\" />\n    </g>\n    <g id=\"text_1\">\n     \n     <defs>\n      <path d=\"M 27.484375 70.21875  L 27.484375 54.6875  L 45.515625 54.6875  L 45.515625 42.1875  L 27.484375 42.1875  L 27.484375 19  Q 27.484375 15.1875 29 13.84375  Q 30.515625 12.5 35.015625 12.5  L 44 12.5  L 44 0  L 29 0  Q 18.65625 0 14.328125 4.3125  Q 10.015625 8.640625 10.015625 19  L 10.015625 42.1875  L 1.3125 42.1875  L 1.3125 54.6875  L 10.015625 54.6875  L 10.015625 70.21875  z \" id=\"DejaVuSans-Bold-116\" />\n      <path d=\"M 32.90625 24.609375  Q 27.4375 24.609375 24.671875 22.75  Q 21.921875 20.90625 21.921875 17.28125  Q 21.921875 13.96875 24.140625 12.078125  Q 26.375 10.203125 30.328125 10.203125  Q 35.25 10.203125 38.625 13.734375  Q 42 17.28125 42 22.609375  L 42 24.609375  z M 59.625 31.203125  L 59.625 0  L 42 0  L 42 8.109375  Q 38.484375 3.125 34.078125 0.84375  Q 29.6875 -1.421875 23.390625 -1.421875  Q 14.890625 -1.421875 9.59375 3.53125  Q 4.296875 8.5 4.296875 16.40625  Q 4.296875 26.03125 10.90625 30.515625  Q 17.53125 35.015625 31.6875 35.015625  L 42 35.015625  L 42 36.375  Q 42 40.53125 38.71875 42.453125  Q 35.453125 44.390625 28.515625 44.390625  Q 22.90625 44.390625 18.0625 43.265625  Q 13.234375 42.140625 9.078125 39.890625  L 9.078125 53.21875  Q 14.703125 54.59375 20.359375 55.296875  Q 26.03125 56 31.6875 56  Q 46.484375 56 53.046875 50.171875  Q 59.625 44.34375 59.625 31.203125  z \" id=\"DejaVuSans-Bold-97\" />\n      <path d=\"M 49.03125 39.796875  Q 46.734375 40.875 44.453125 41.375  Q 42.1875 41.890625 39.890625 41.890625  Q 33.15625 41.890625 29.515625 37.5625  Q 25.875 33.25 25.875 25.203125  L 25.875 0  L 8.40625 0  L 8.40625 54.6875  L 25.875 54.6875  L 25.875 45.703125  Q 29.25 51.078125 33.609375 53.53125  Q 37.984375 56 44.09375 56  Q 44.96875 56 45.984375 55.921875  Q 47.015625 55.859375 48.96875 55.609375  z \" id=\"DejaVuSans-Bold-114\" />\n      <path d=\"M 45.609375 9.28125  Q 42 4.5 37.640625 2.25  Q 33.296875 0 27.59375 0  Q 17.578125 0 11.03125 7.875  Q 4.5 15.765625 4.5 27.984375  Q 4.5 40.234375 11.03125 48.0625  Q 17.578125 55.90625 27.59375 55.90625  Q 33.296875 55.90625 37.640625 53.65625  Q 42 51.421875 45.609375 46.578125  L 45.609375 54.6875  L 63.1875 54.6875  L 63.1875 5.515625  Q 63.1875 -7.671875 54.859375 -14.625  Q 46.53125 -21.578125 30.71875 -21.578125  Q 25.59375 -21.578125 20.796875 -20.796875  Q 16.015625 -20.015625 11.1875 -18.40625  L 11.1875 -4.78125  Q 15.765625 -7.421875 20.15625 -8.71875  Q 24.5625 -10.015625 29 -10.015625  Q 37.59375 -10.015625 41.59375 -6.25  Q 45.609375 -2.484375 45.609375 5.515625  z M 34.078125 43.3125  Q 28.65625 43.3125 25.625 39.296875  Q 22.609375 35.296875 22.609375 27.984375  Q 22.609375 20.453125 25.53125 16.578125  Q 28.46875 12.703125 34.078125 12.703125  Q 39.546875 12.703125 42.578125 16.703125  Q 45.609375 20.703125 45.609375 27.984375  Q 45.609375 35.296875 42.578125 39.296875  Q 39.546875 43.3125 34.078125 43.3125  z \" id=\"DejaVuSans-Bold-103\" />\n      <path d=\"M 62.984375 27.484375  L 62.984375 22.515625  L 22.125 22.515625  Q 22.75 16.359375 26.5625 13.28125  Q 30.375 10.203125 37.203125 10.203125  Q 42.71875 10.203125 48.5 11.84375  Q 54.296875 13.484375 60.40625 16.796875  L 60.40625 3.328125  Q 54.203125 0.984375 48 -0.21875  Q 41.796875 -1.421875 35.59375 -1.421875  Q 20.75 -1.421875 12.515625 6.125  Q 4.296875 13.671875 4.296875 27.296875  Q 4.296875 40.671875 12.375 48.328125  Q 20.453125 56 34.625 56  Q 47.515625 56 55.25 48.234375  Q 62.984375 40.484375 62.984375 27.484375  z M 45.015625 33.296875  Q 45.015625 38.28125 42.109375 41.328125  Q 39.203125 44.390625 34.515625 44.390625  Q 29.4375 44.390625 26.265625 41.53125  Q 23.09375 38.671875 22.3125 33.296875  z \" id=\"DejaVuSans-Bold-101\" />\n     </defs>\n     <g style=\"fill:#444443;\" transform=\"translate(10.310156 15.598437)scale(0.1 -0.1)\">\n      <use xlink:href=\"#DejaVuSans-Bold-116\" />\n      <use x=\"47.802734\" xlink:href=\"#DejaVuSans-Bold-97\" />\n      <use x=\"115.283203\" xlink:href=\"#DejaVuSans-Bold-114\" />\n      <use x=\"164.599609\" xlink:href=\"#DejaVuSans-Bold-103\" />\n      <use x=\"236.181641\" xlink:href=\"#DejaVuSans-Bold-101\" />\n      <use x=\"304.003906\" xlink:href=\"#DejaVuSans-Bold-116\" />\n     </g>\n    </g>\n    <g id=\"patch_3\">\n     <path d=\"M 12.96875 30.354687  L 32.96875 30.354687  L 32.96875 23.354687  L 12.96875 23.354687  z \" style=\"fill:#fefebb;stroke:#444443;stroke-linejoin:miter;stroke-width:0.4;\" />\n    </g>\n    <g id=\"text_2\">\n     \n     <defs>\n      <path d=\"M 31.78125 66.40625  Q 24.171875 66.40625 20.328125 58.90625  Q 16.5 51.421875 16.5 36.375  Q 16.5 21.390625 20.328125 13.890625  Q 24.171875 6.390625 31.78125 6.390625  Q 39.453125 6.390625 43.28125 13.890625  Q 47.125 21.390625 47.125 36.375  Q 47.125 51.421875 43.28125 58.90625  Q 39.453125 66.40625 31.78125 66.40625  z M 31.78125 74.21875  Q 44.046875 74.21875 50.515625 64.515625  Q 56.984375 54.828125 56.984375 36.375  Q 56.984375 17.96875 50.515625 8.265625  Q 44.046875 -1.421875 31.78125 -1.421875  Q 19.53125 -1.421875 13.0625 8.265625  Q 6.59375 17.96875 6.59375 36.375  Q 6.59375 54.828125 13.0625 64.515625  Q 19.53125 74.21875 31.78125 74.21875  z \" id=\"DejaVuSans-48\" />\n     </defs>\n     <g style=\"fill:#444443;\" transform=\"translate(36.46875 30.354687)scale(0.1 -0.1)\">\n      <use xlink:href=\"#DejaVuSans-48\" />\n     </g>\n    </g>\n    <g id=\"patch_4\">\n     <path d=\"M 12.96875 45.032812  L 32.96875 45.032812  L 32.96875 38.032812  L 12.96875 38.032812  z \" style=\"fill:#a1dab4;stroke:#444443;stroke-linejoin:miter;stroke-width:0.4;\" />\n    </g>\n    <g id=\"text_3\">\n     \n     <defs>\n      <path d=\"M 12.40625 8.296875  L 28.515625 8.296875  L 28.515625 63.921875  L 10.984375 60.40625  L 10.984375 69.390625  L 28.421875 72.90625  L 38.28125 72.90625  L 38.28125 8.296875  L 54.390625 8.296875  L 54.390625 0  L 12.40625 0  z \" id=\"DejaVuSans-49\" />\n     </defs>\n     <g style=\"fill:#444443;\" transform=\"translate(36.46875 45.032812)scale(0.1 -0.1)\">\n      <use xlink:href=\"#DejaVuSans-49\" />\n     </g>\n    </g>\n   </g>\n  </g>\n </g>\n</svg></g>\n</g>\n</svg>"
          },
          "metadata": {
            "tags": []
          }
        }
      ]
    },
    {
      "cell_type": "markdown",
      "metadata": {
        "id": "t6lssUx2o8fY",
        "colab_type": "text"
      },
      "source": [
        "各グループのチューニング終了後、下記コマンドをベタ打ちしてもらう  \n",
        "⇒グループごとに最終正解率を発表  \n",
        "の流れを想定。コマンドはパワポのスライドを用意する予定  \n",
        "（「display_competition_result()と入力してください」的なもの）"
      ]
    },
    {
      "cell_type": "code",
      "metadata": {
        "id": "cJYoOgdcpFUY",
        "colab_type": "code",
        "outputId": "9b19b0ce-c008-4f88-e682-80d515ebbba1",
        "colab": {
          "base_uri": "https://localhost:8080/",
          "height": 34
        }
      },
      "source": [
        "# ここはイベント当日に参加者にベタ打ちしてもらう\n",
        "display_competition_result()"
      ],
      "execution_count": 0,
      "outputs": [
        {
          "output_type": "stream",
          "text": [
            "最終正解率：77.70%\n"
          ],
          "name": "stdout"
        }
      ]
    }
  ]
}